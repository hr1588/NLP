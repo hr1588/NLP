{
  "nbformat": 4,
  "nbformat_minor": 0,
  "metadata": {
    "colab": {
      "provenance": [],
      "authorship_tag": "ABX9TyPipyKovmhuINZrZo/3jmoc",
      "include_colab_link": true
    },
    "kernelspec": {
      "name": "python3",
      "display_name": "Python 3"
    },
    "language_info": {
      "name": "python"
    }
  },
  "cells": [
    {
      "cell_type": "markdown",
      "metadata": {
        "id": "view-in-github",
        "colab_type": "text"
      },
      "source": [
        "<a href=\"https://colab.research.google.com/github/hr1588/NLP/blob/main/kaggle_nlp.ipynb\" target=\"_parent\"><img src=\"https://colab.research.google.com/assets/colab-badge.svg\" alt=\"Open In Colab\"/></a>"
      ]
    },
    {
      "cell_type": "markdown",
      "source": [
        "# kaggle api로 data load"
      ],
      "metadata": {
        "id": "L4Ul1WhplID6"
      }
    },
    {
      "cell_type": "code",
      "execution_count": 1,
      "metadata": {
        "id": "RuQ-4bKH1HnT"
      },
      "outputs": [],
      "source": [
        "!pip install -q kaggle"
      ]
    },
    {
      "cell_type": "code",
      "source": [
        "!mkdir -p ~/.kaggle"
      ],
      "metadata": {
        "id": "SS_Jwz6I1LGc"
      },
      "execution_count": 2,
      "outputs": []
    },
    {
      "cell_type": "code",
      "source": [
        "from google.colab import files\n",
        "upload = files.upload()"
      ],
      "metadata": {
        "colab": {
          "base_uri": "https://localhost:8080/",
          "height": 77
        },
        "id": "9UXBAkYf1RrU",
        "outputId": "755f0cd7-4ee9-46ba-d0c7-4a2a9929e13e"
      },
      "execution_count": 3,
      "outputs": [
        {
          "output_type": "display_data",
          "data": {
            "text/plain": [
              "<IPython.core.display.HTML object>"
            ],
            "text/html": [
              "\n",
              "     <input type=\"file\" id=\"files-07c59fcd-d0ea-40f2-a268-afe767c37d6e\" name=\"files[]\" multiple disabled\n",
              "        style=\"border:none\" />\n",
              "     <output id=\"result-07c59fcd-d0ea-40f2-a268-afe767c37d6e\">\n",
              "      Upload widget is only available when the cell has been executed in the\n",
              "      current browser session. Please rerun this cell to enable.\n",
              "      </output>\n",
              "      <script>// Copyright 2017 Google LLC\n",
              "//\n",
              "// Licensed under the Apache License, Version 2.0 (the \"License\");\n",
              "// you may not use this file except in compliance with the License.\n",
              "// You may obtain a copy of the License at\n",
              "//\n",
              "//      http://www.apache.org/licenses/LICENSE-2.0\n",
              "//\n",
              "// Unless required by applicable law or agreed to in writing, software\n",
              "// distributed under the License is distributed on an \"AS IS\" BASIS,\n",
              "// WITHOUT WARRANTIES OR CONDITIONS OF ANY KIND, either express or implied.\n",
              "// See the License for the specific language governing permissions and\n",
              "// limitations under the License.\n",
              "\n",
              "/**\n",
              " * @fileoverview Helpers for google.colab Python module.\n",
              " */\n",
              "(function(scope) {\n",
              "function span(text, styleAttributes = {}) {\n",
              "  const element = document.createElement('span');\n",
              "  element.textContent = text;\n",
              "  for (const key of Object.keys(styleAttributes)) {\n",
              "    element.style[key] = styleAttributes[key];\n",
              "  }\n",
              "  return element;\n",
              "}\n",
              "\n",
              "// Max number of bytes which will be uploaded at a time.\n",
              "const MAX_PAYLOAD_SIZE = 100 * 1024;\n",
              "\n",
              "function _uploadFiles(inputId, outputId) {\n",
              "  const steps = uploadFilesStep(inputId, outputId);\n",
              "  const outputElement = document.getElementById(outputId);\n",
              "  // Cache steps on the outputElement to make it available for the next call\n",
              "  // to uploadFilesContinue from Python.\n",
              "  outputElement.steps = steps;\n",
              "\n",
              "  return _uploadFilesContinue(outputId);\n",
              "}\n",
              "\n",
              "// This is roughly an async generator (not supported in the browser yet),\n",
              "// where there are multiple asynchronous steps and the Python side is going\n",
              "// to poll for completion of each step.\n",
              "// This uses a Promise to block the python side on completion of each step,\n",
              "// then passes the result of the previous step as the input to the next step.\n",
              "function _uploadFilesContinue(outputId) {\n",
              "  const outputElement = document.getElementById(outputId);\n",
              "  const steps = outputElement.steps;\n",
              "\n",
              "  const next = steps.next(outputElement.lastPromiseValue);\n",
              "  return Promise.resolve(next.value.promise).then((value) => {\n",
              "    // Cache the last promise value to make it available to the next\n",
              "    // step of the generator.\n",
              "    outputElement.lastPromiseValue = value;\n",
              "    return next.value.response;\n",
              "  });\n",
              "}\n",
              "\n",
              "/**\n",
              " * Generator function which is called between each async step of the upload\n",
              " * process.\n",
              " * @param {string} inputId Element ID of the input file picker element.\n",
              " * @param {string} outputId Element ID of the output display.\n",
              " * @return {!Iterable<!Object>} Iterable of next steps.\n",
              " */\n",
              "function* uploadFilesStep(inputId, outputId) {\n",
              "  const inputElement = document.getElementById(inputId);\n",
              "  inputElement.disabled = false;\n",
              "\n",
              "  const outputElement = document.getElementById(outputId);\n",
              "  outputElement.innerHTML = '';\n",
              "\n",
              "  const pickedPromise = new Promise((resolve) => {\n",
              "    inputElement.addEventListener('change', (e) => {\n",
              "      resolve(e.target.files);\n",
              "    });\n",
              "  });\n",
              "\n",
              "  const cancel = document.createElement('button');\n",
              "  inputElement.parentElement.appendChild(cancel);\n",
              "  cancel.textContent = 'Cancel upload';\n",
              "  const cancelPromise = new Promise((resolve) => {\n",
              "    cancel.onclick = () => {\n",
              "      resolve(null);\n",
              "    };\n",
              "  });\n",
              "\n",
              "  // Wait for the user to pick the files.\n",
              "  const files = yield {\n",
              "    promise: Promise.race([pickedPromise, cancelPromise]),\n",
              "    response: {\n",
              "      action: 'starting',\n",
              "    }\n",
              "  };\n",
              "\n",
              "  cancel.remove();\n",
              "\n",
              "  // Disable the input element since further picks are not allowed.\n",
              "  inputElement.disabled = true;\n",
              "\n",
              "  if (!files) {\n",
              "    return {\n",
              "      response: {\n",
              "        action: 'complete',\n",
              "      }\n",
              "    };\n",
              "  }\n",
              "\n",
              "  for (const file of files) {\n",
              "    const li = document.createElement('li');\n",
              "    li.append(span(file.name, {fontWeight: 'bold'}));\n",
              "    li.append(span(\n",
              "        `(${file.type || 'n/a'}) - ${file.size} bytes, ` +\n",
              "        `last modified: ${\n",
              "            file.lastModifiedDate ? file.lastModifiedDate.toLocaleDateString() :\n",
              "                                    'n/a'} - `));\n",
              "    const percent = span('0% done');\n",
              "    li.appendChild(percent);\n",
              "\n",
              "    outputElement.appendChild(li);\n",
              "\n",
              "    const fileDataPromise = new Promise((resolve) => {\n",
              "      const reader = new FileReader();\n",
              "      reader.onload = (e) => {\n",
              "        resolve(e.target.result);\n",
              "      };\n",
              "      reader.readAsArrayBuffer(file);\n",
              "    });\n",
              "    // Wait for the data to be ready.\n",
              "    let fileData = yield {\n",
              "      promise: fileDataPromise,\n",
              "      response: {\n",
              "        action: 'continue',\n",
              "      }\n",
              "    };\n",
              "\n",
              "    // Use a chunked sending to avoid message size limits. See b/62115660.\n",
              "    let position = 0;\n",
              "    do {\n",
              "      const length = Math.min(fileData.byteLength - position, MAX_PAYLOAD_SIZE);\n",
              "      const chunk = new Uint8Array(fileData, position, length);\n",
              "      position += length;\n",
              "\n",
              "      const base64 = btoa(String.fromCharCode.apply(null, chunk));\n",
              "      yield {\n",
              "        response: {\n",
              "          action: 'append',\n",
              "          file: file.name,\n",
              "          data: base64,\n",
              "        },\n",
              "      };\n",
              "\n",
              "      let percentDone = fileData.byteLength === 0 ?\n",
              "          100 :\n",
              "          Math.round((position / fileData.byteLength) * 100);\n",
              "      percent.textContent = `${percentDone}% done`;\n",
              "\n",
              "    } while (position < fileData.byteLength);\n",
              "  }\n",
              "\n",
              "  // All done.\n",
              "  yield {\n",
              "    response: {\n",
              "      action: 'complete',\n",
              "    }\n",
              "  };\n",
              "}\n",
              "\n",
              "scope.google = scope.google || {};\n",
              "scope.google.colab = scope.google.colab || {};\n",
              "scope.google.colab._files = {\n",
              "  _uploadFiles,\n",
              "  _uploadFilesContinue,\n",
              "};\n",
              "})(self);\n",
              "</script> "
            ]
          },
          "metadata": {}
        },
        {
          "output_type": "stream",
          "name": "stdout",
          "text": [
            "Saving kaggle.json to kaggle.json\n"
          ]
        }
      ]
    },
    {
      "cell_type": "code",
      "source": [
        "!cp kaggle.json ~/.kaggle/"
      ],
      "metadata": {
        "id": "STiRpV0H1n0Y"
      },
      "execution_count": 4,
      "outputs": []
    },
    {
      "cell_type": "code",
      "source": [
        "! chmod 600 /root/.kaggle/kaggle.json"
      ],
      "metadata": {
        "id": "31bWyiMh1rP_"
      },
      "execution_count": 5,
      "outputs": []
    },
    {
      "cell_type": "code",
      "source": [
        "!kaggle competitions download -c learning-equality-curriculum-recommendations"
      ],
      "metadata": {
        "colab": {
          "base_uri": "https://localhost:8080/"
        },
        "id": "DeS7ULtU1Xbx",
        "outputId": "4f3c9c12-0d6b-4bc0-c224-573be223514b"
      },
      "execution_count": 6,
      "outputs": [
        {
          "output_type": "stream",
          "name": "stdout",
          "text": [
            "Downloading learning-equality-curriculum-recommendations.zip to /content\n",
            " 94% 239M/254M [00:01<00:00, 161MB/s]\n",
            "100% 254M/254M [00:01<00:00, 165MB/s]\n"
          ]
        }
      ]
    },
    {
      "cell_type": "code",
      "source": [
        "!unzip -q /content/learning-equality-curriculum-recommendations.zip"
      ],
      "metadata": {
        "id": "dEhHGkIM1l-S"
      },
      "execution_count": 7,
      "outputs": []
    },
    {
      "cell_type": "code",
      "source": [
        "import os\n",
        "import json\n",
        "import matplotlib\n",
        "import numpy as np\n",
        "import pandas as pd\n",
        "import seaborn as sns\n",
        "import matplotlib.pyplot as plt\n",
        "from tqdm.notebook import tqdm\n",
        "matplotlib.rcParams['figure.figsize'] = (12, 8)"
      ],
      "metadata": {
        "id": "c_Ezcxdd2K1l"
      },
      "execution_count": 12,
      "outputs": []
    },
    {
      "cell_type": "code",
      "source": [
        "topics = pd.read_csv(\"topics.csv\")\n",
        "content = pd.read_csv(\"content.csv\")\n",
        "correlations = pd.read_csv(\"correlations.csv\")"
      ],
      "metadata": {
        "id": "kKVjJruXk6hO"
      },
      "execution_count": 9,
      "outputs": []
    },
    {
      "cell_type": "markdown",
      "source": [
        "# Topics"
      ],
      "metadata": {
        "id": "Gq3-q_PglL1E"
      }
    },
    {
      "cell_type": "code",
      "source": [
        "topics"
      ],
      "metadata": {
        "id": "ttSgiDM88aNw",
        "colab": {
          "base_uri": "https://localhost:8080/",
          "height": 520
        },
        "outputId": "888b6327-33e9-44dd-ce1f-6a7c1ab58632"
      },
      "execution_count": 10,
      "outputs": [
        {
          "output_type": "execute_result",
          "data": {
            "text/plain": [
              "                   id                                              title  \\\n",
              "0      t_00004da3a1b2                         Откриването на резисторите   \n",
              "1      t_000095e03056             Unit 3.3 Enlargements and Similarities   \n",
              "2      t_00068291e9a4                    Entradas e saídas de uma função   \n",
              "3      t_00069b63a70a                                        Transcripts   \n",
              "4      t_0006d41a73a8  Графики на експоненциални функции (Алгебра 2 н...   \n",
              "...               ...                                                ...   \n",
              "76967  t_fffb0bf2801d                             4.3 Graph of functions   \n",
              "76968  t_fffbe1d5d43c                   Inscribed shapes problem solving   \n",
              "76969  t_fffe14f1be1e                                          Lección 7   \n",
              "76970  t_fffe811a6da9  تحديد العلاقة بين الإحداثيّات القطبية والإحداث...   \n",
              "76971  t_fffe88835149  Formation of shadows and eclipses (umbra and p...   \n",
              "\n",
              "                                             description channel category  \\\n",
              "0      Изследване на материали, които предизвикват на...  000cf7   source   \n",
              "1                                                    NaN  b3f329  aligned   \n",
              "2                   Entenda um pouco mais sobre funções.  8e286a   source   \n",
              "3                                                    NaN  6e3ba4   source   \n",
              "4      Научи повече за графиките на сложните показате...  000cf7   source   \n",
              "...                                                  ...     ...      ...   \n",
              "76967                                                NaN  e77b55  aligned   \n",
              "76968  Use properties of inscribed angles to prove pr...  0c929f   source   \n",
              "76969                                                NaN  6e90a7  aligned   \n",
              "76970                           5b9e5ca86571f90499ea987f  9fd860   source   \n",
              "76971                                                NaN  c7ca13  aligned   \n",
              "\n",
              "       level language          parent  has_content  \n",
              "0          4       bg  t_16e29365b50d         True  \n",
              "1          2       en  t_aa32fb6252dc        False  \n",
              "2          4       pt  t_d14b6c2a2b70         True  \n",
              "3          3       en  t_4054df11a74e         True  \n",
              "4          4       bg  t_e2452e21d252         True  \n",
              "...      ...      ...             ...          ...  \n",
              "76967      4       en  t_676e6a1a4dc7        False  \n",
              "76968      4       sw  t_50145b9bab3f         True  \n",
              "76969      6       es  t_d448c707984d         True  \n",
              "76970      2       ar  t_5b4f3ba4eb7d         True  \n",
              "76971      4       en  t_988923176459        False  \n",
              "\n",
              "[76972 rows x 9 columns]"
            ],
            "text/html": [
              "\n",
              "  <div id=\"df-775007ec-6da3-41ad-8acf-dad6a8d83884\">\n",
              "    <div class=\"colab-df-container\">\n",
              "      <div>\n",
              "<style scoped>\n",
              "    .dataframe tbody tr th:only-of-type {\n",
              "        vertical-align: middle;\n",
              "    }\n",
              "\n",
              "    .dataframe tbody tr th {\n",
              "        vertical-align: top;\n",
              "    }\n",
              "\n",
              "    .dataframe thead th {\n",
              "        text-align: right;\n",
              "    }\n",
              "</style>\n",
              "<table border=\"1\" class=\"dataframe\">\n",
              "  <thead>\n",
              "    <tr style=\"text-align: right;\">\n",
              "      <th></th>\n",
              "      <th>id</th>\n",
              "      <th>title</th>\n",
              "      <th>description</th>\n",
              "      <th>channel</th>\n",
              "      <th>category</th>\n",
              "      <th>level</th>\n",
              "      <th>language</th>\n",
              "      <th>parent</th>\n",
              "      <th>has_content</th>\n",
              "    </tr>\n",
              "  </thead>\n",
              "  <tbody>\n",
              "    <tr>\n",
              "      <th>0</th>\n",
              "      <td>t_00004da3a1b2</td>\n",
              "      <td>Откриването на резисторите</td>\n",
              "      <td>Изследване на материали, които предизвикват на...</td>\n",
              "      <td>000cf7</td>\n",
              "      <td>source</td>\n",
              "      <td>4</td>\n",
              "      <td>bg</td>\n",
              "      <td>t_16e29365b50d</td>\n",
              "      <td>True</td>\n",
              "    </tr>\n",
              "    <tr>\n",
              "      <th>1</th>\n",
              "      <td>t_000095e03056</td>\n",
              "      <td>Unit 3.3 Enlargements and Similarities</td>\n",
              "      <td>NaN</td>\n",
              "      <td>b3f329</td>\n",
              "      <td>aligned</td>\n",
              "      <td>2</td>\n",
              "      <td>en</td>\n",
              "      <td>t_aa32fb6252dc</td>\n",
              "      <td>False</td>\n",
              "    </tr>\n",
              "    <tr>\n",
              "      <th>2</th>\n",
              "      <td>t_00068291e9a4</td>\n",
              "      <td>Entradas e saídas de uma função</td>\n",
              "      <td>Entenda um pouco mais sobre funções.</td>\n",
              "      <td>8e286a</td>\n",
              "      <td>source</td>\n",
              "      <td>4</td>\n",
              "      <td>pt</td>\n",
              "      <td>t_d14b6c2a2b70</td>\n",
              "      <td>True</td>\n",
              "    </tr>\n",
              "    <tr>\n",
              "      <th>3</th>\n",
              "      <td>t_00069b63a70a</td>\n",
              "      <td>Transcripts</td>\n",
              "      <td>NaN</td>\n",
              "      <td>6e3ba4</td>\n",
              "      <td>source</td>\n",
              "      <td>3</td>\n",
              "      <td>en</td>\n",
              "      <td>t_4054df11a74e</td>\n",
              "      <td>True</td>\n",
              "    </tr>\n",
              "    <tr>\n",
              "      <th>4</th>\n",
              "      <td>t_0006d41a73a8</td>\n",
              "      <td>Графики на експоненциални функции (Алгебра 2 н...</td>\n",
              "      <td>Научи повече за графиките на сложните показате...</td>\n",
              "      <td>000cf7</td>\n",
              "      <td>source</td>\n",
              "      <td>4</td>\n",
              "      <td>bg</td>\n",
              "      <td>t_e2452e21d252</td>\n",
              "      <td>True</td>\n",
              "    </tr>\n",
              "    <tr>\n",
              "      <th>...</th>\n",
              "      <td>...</td>\n",
              "      <td>...</td>\n",
              "      <td>...</td>\n",
              "      <td>...</td>\n",
              "      <td>...</td>\n",
              "      <td>...</td>\n",
              "      <td>...</td>\n",
              "      <td>...</td>\n",
              "      <td>...</td>\n",
              "    </tr>\n",
              "    <tr>\n",
              "      <th>76967</th>\n",
              "      <td>t_fffb0bf2801d</td>\n",
              "      <td>4.3 Graph of functions</td>\n",
              "      <td>NaN</td>\n",
              "      <td>e77b55</td>\n",
              "      <td>aligned</td>\n",
              "      <td>4</td>\n",
              "      <td>en</td>\n",
              "      <td>t_676e6a1a4dc7</td>\n",
              "      <td>False</td>\n",
              "    </tr>\n",
              "    <tr>\n",
              "      <th>76968</th>\n",
              "      <td>t_fffbe1d5d43c</td>\n",
              "      <td>Inscribed shapes problem solving</td>\n",
              "      <td>Use properties of inscribed angles to prove pr...</td>\n",
              "      <td>0c929f</td>\n",
              "      <td>source</td>\n",
              "      <td>4</td>\n",
              "      <td>sw</td>\n",
              "      <td>t_50145b9bab3f</td>\n",
              "      <td>True</td>\n",
              "    </tr>\n",
              "    <tr>\n",
              "      <th>76969</th>\n",
              "      <td>t_fffe14f1be1e</td>\n",
              "      <td>Lección 7</td>\n",
              "      <td>NaN</td>\n",
              "      <td>6e90a7</td>\n",
              "      <td>aligned</td>\n",
              "      <td>6</td>\n",
              "      <td>es</td>\n",
              "      <td>t_d448c707984d</td>\n",
              "      <td>True</td>\n",
              "    </tr>\n",
              "    <tr>\n",
              "      <th>76970</th>\n",
              "      <td>t_fffe811a6da9</td>\n",
              "      <td>تحديد العلاقة بين الإحداثيّات القطبية والإحداث...</td>\n",
              "      <td>5b9e5ca86571f90499ea987f</td>\n",
              "      <td>9fd860</td>\n",
              "      <td>source</td>\n",
              "      <td>2</td>\n",
              "      <td>ar</td>\n",
              "      <td>t_5b4f3ba4eb7d</td>\n",
              "      <td>True</td>\n",
              "    </tr>\n",
              "    <tr>\n",
              "      <th>76971</th>\n",
              "      <td>t_fffe88835149</td>\n",
              "      <td>Formation of shadows and eclipses (umbra and p...</td>\n",
              "      <td>NaN</td>\n",
              "      <td>c7ca13</td>\n",
              "      <td>aligned</td>\n",
              "      <td>4</td>\n",
              "      <td>en</td>\n",
              "      <td>t_988923176459</td>\n",
              "      <td>False</td>\n",
              "    </tr>\n",
              "  </tbody>\n",
              "</table>\n",
              "<p>76972 rows × 9 columns</p>\n",
              "</div>\n",
              "      <button class=\"colab-df-convert\" onclick=\"convertToInteractive('df-775007ec-6da3-41ad-8acf-dad6a8d83884')\"\n",
              "              title=\"Convert this dataframe to an interactive table.\"\n",
              "              style=\"display:none;\">\n",
              "        \n",
              "  <svg xmlns=\"http://www.w3.org/2000/svg\" height=\"24px\"viewBox=\"0 0 24 24\"\n",
              "       width=\"24px\">\n",
              "    <path d=\"M0 0h24v24H0V0z\" fill=\"none\"/>\n",
              "    <path d=\"M18.56 5.44l.94 2.06.94-2.06 2.06-.94-2.06-.94-.94-2.06-.94 2.06-2.06.94zm-11 1L8.5 8.5l.94-2.06 2.06-.94-2.06-.94L8.5 2.5l-.94 2.06-2.06.94zm10 10l.94 2.06.94-2.06 2.06-.94-2.06-.94-.94-2.06-.94 2.06-2.06.94z\"/><path d=\"M17.41 7.96l-1.37-1.37c-.4-.4-.92-.59-1.43-.59-.52 0-1.04.2-1.43.59L10.3 9.45l-7.72 7.72c-.78.78-.78 2.05 0 2.83L4 21.41c.39.39.9.59 1.41.59.51 0 1.02-.2 1.41-.59l7.78-7.78 2.81-2.81c.8-.78.8-2.07 0-2.86zM5.41 20L4 18.59l7.72-7.72 1.47 1.35L5.41 20z\"/>\n",
              "  </svg>\n",
              "      </button>\n",
              "      \n",
              "  <style>\n",
              "    .colab-df-container {\n",
              "      display:flex;\n",
              "      flex-wrap:wrap;\n",
              "      gap: 12px;\n",
              "    }\n",
              "\n",
              "    .colab-df-convert {\n",
              "      background-color: #E8F0FE;\n",
              "      border: none;\n",
              "      border-radius: 50%;\n",
              "      cursor: pointer;\n",
              "      display: none;\n",
              "      fill: #1967D2;\n",
              "      height: 32px;\n",
              "      padding: 0 0 0 0;\n",
              "      width: 32px;\n",
              "    }\n",
              "\n",
              "    .colab-df-convert:hover {\n",
              "      background-color: #E2EBFA;\n",
              "      box-shadow: 0px 1px 2px rgba(60, 64, 67, 0.3), 0px 1px 3px 1px rgba(60, 64, 67, 0.15);\n",
              "      fill: #174EA6;\n",
              "    }\n",
              "\n",
              "    [theme=dark] .colab-df-convert {\n",
              "      background-color: #3B4455;\n",
              "      fill: #D2E3FC;\n",
              "    }\n",
              "\n",
              "    [theme=dark] .colab-df-convert:hover {\n",
              "      background-color: #434B5C;\n",
              "      box-shadow: 0px 1px 3px 1px rgba(0, 0, 0, 0.15);\n",
              "      filter: drop-shadow(0px 1px 2px rgba(0, 0, 0, 0.3));\n",
              "      fill: #FFFFFF;\n",
              "    }\n",
              "  </style>\n",
              "\n",
              "      <script>\n",
              "        const buttonEl =\n",
              "          document.querySelector('#df-775007ec-6da3-41ad-8acf-dad6a8d83884 button.colab-df-convert');\n",
              "        buttonEl.style.display =\n",
              "          google.colab.kernel.accessAllowed ? 'block' : 'none';\n",
              "\n",
              "        async function convertToInteractive(key) {\n",
              "          const element = document.querySelector('#df-775007ec-6da3-41ad-8acf-dad6a8d83884');\n",
              "          const dataTable =\n",
              "            await google.colab.kernel.invokeFunction('convertToInteractive',\n",
              "                                                     [key], {});\n",
              "          if (!dataTable) return;\n",
              "\n",
              "          const docLinkHtml = 'Like what you see? Visit the ' +\n",
              "            '<a target=\"_blank\" href=https://colab.research.google.com/notebooks/data_table.ipynb>data table notebook</a>'\n",
              "            + ' to learn more about interactive tables.';\n",
              "          element.innerHTML = '';\n",
              "          dataTable['output_type'] = 'display_data';\n",
              "          await google.colab.output.renderOutput(dataTable, element);\n",
              "          const docLink = document.createElement('div');\n",
              "          docLink.innerHTML = docLinkHtml;\n",
              "          element.appendChild(docLink);\n",
              "        }\n",
              "      </script>\n",
              "    </div>\n",
              "  </div>\n",
              "  "
            ]
          },
          "metadata": {},
          "execution_count": 10
        }
      ]
    },
    {
      "cell_type": "code",
      "source": [
        "topics.isnull().sum()"
      ],
      "metadata": {
        "colab": {
          "base_uri": "https://localhost:8080/"
        },
        "id": "d-X-zemwuq-5",
        "outputId": "34347f7f-b755-4173-c8a4-1e158a0bdead"
      },
      "execution_count": 47,
      "outputs": [
        {
          "output_type": "execute_result",
          "data": {
            "text/plain": [
              "id                 0\n",
              "title              2\n",
              "description    42019\n",
              "channel            0\n",
              "category           0\n",
              "level              0\n",
              "language           0\n",
              "parent           171\n",
              "has_content        0\n",
              "dtype: int64"
            ]
          },
          "metadata": {},
          "execution_count": 47
        }
      ]
    },
    {
      "cell_type": "markdown",
      "source": [
        "## title + description"
      ],
      "metadata": {
        "id": "UmNCz3sqodHc"
      }
    },
    {
      "cell_type": "code",
      "source": [
        "def title_description(df):\n",
        "    texts = df['title'].fillna('') + ' ' + df['description'].fillna('')\n",
        "    title_len = np.clip(texts.apply(lambda x : len(x.strip().split(' '))), 0, 100) \n",
        "    # 전달받은 숫자를 최소값 또는 최대값 사이의 값인지 체크, 더 크거나 작은경우 지정한 값으로 변경\n",
        "    sns.histplot(title_len)\n",
        "    plt.title('Number of words per title+description, clipped at 100')\n",
        "    plt.show()"
      ],
      "metadata": {
        "id": "iV5e3tJnswP0"
      },
      "execution_count": 42,
      "outputs": []
    },
    {
      "cell_type": "code",
      "source": [
        "title_description(topics)"
      ],
      "metadata": {
        "id": "j693wAvo3sYi",
        "colab": {
          "base_uri": "https://localhost:8080/",
          "height": 499
        },
        "outputId": "40ccde35-a5a2-4c74-9b10-6f50a2924023"
      },
      "execution_count": 43,
      "outputs": [
        {
          "output_type": "display_data",
          "data": {
            "text/plain": [
              "<Figure size 864x576 with 1 Axes>"
            ],
            "image/png": "[encoded data removed]"
          },
          "metadata": {
            "needs_background": "light"
          }
        }
      ]
    },
    {
      "cell_type": "markdown",
      "source": [
        "## source"
      ],
      "metadata": {
        "id": "C8c7-J2yofmg"
      }
    },
    {
      "cell_type": "code",
      "source": [
        "sns.countplot(x = 'category', data = topics)"
      ],
      "metadata": {
        "colab": {
          "base_uri": "https://localhost:8080/",
          "height": 515
        },
        "id": "Cd1Z3KhlnIu9",
        "outputId": "5a6f3cf3-7ab0-4423-ee4f-6a612b773ca4"
      },
      "execution_count": 14,
      "outputs": [
        {
          "output_type": "execute_result",
          "data": {
            "text/plain": [
              "<matplotlib.axes._subplots.AxesSubplot at 0x7f6223885190>"
            ]
          },
          "metadata": {},
          "execution_count": 14
        },
        {
          "output_type": "display_data",
          "data": {
            "text/plain": [
              "<Figure size 864x576 with 1 Axes>"
            ],
            "image/png": "[encoded data removed]"
          },
          "metadata": {
            "needs_background": "light"
          }
        }
      ]
    },
    {
      "cell_type": "markdown",
      "source": [
        "## language"
      ],
      "metadata": {
        "id": "WuHZe3pxohcH"
      }
    },
    {
      "cell_type": "code",
      "source": [
        "sns.countplot(x = 'language', data = topics, order = topics['language'].value_counts().index)\n",
        "plt.title('language')\n",
        "plt.show()"
      ],
      "metadata": {
        "colab": {
          "base_uri": "https://localhost:8080/",
          "height": 513
        },
        "id": "G0ZuTqQYnsvN",
        "outputId": "628ed793-f3e3-4915-93b0-8a2923b959a5"
      },
      "execution_count": 19,
      "outputs": [
        {
          "output_type": "display_data",
          "data": {
            "text/plain": [
              "<Figure size 864x576 with 1 Axes>"
            ],
            "image/png": "[encoded data removed]"
          },
          "metadata": {
            "needs_background": "light"
          }
        }
      ]
    },
    {
      "cell_type": "markdown",
      "source": [
        "## channels"
      ],
      "metadata": {
        "id": "9wbNyaLmojhV"
      }
    },
    {
      "cell_type": "code",
      "source": [
        "print(\"number of channels :\", len(topics['channel'].unique()))\n",
        "\n",
        "agg = topics.groupby('channel').agg(lambda x : len(list(x)))['id']\n",
        "sns.boxplot(x = agg)\n",
        "plt.show()"
      ],
      "metadata": {
        "colab": {
          "base_uri": "https://localhost:8080/",
          "height": 515
        },
        "id": "q0sL8nO6pfvF",
        "outputId": "397f9aed-43e1-4237-9e9c-258dc77e674f"
      },
      "execution_count": 38,
      "outputs": [
        {
          "output_type": "stream",
          "name": "stdout",
          "text": [
            "number of channels : 171\n"
          ]
        },
        {
          "output_type": "display_data",
          "data": {
            "text/plain": [
              "<Figure size 864x576 with 1 Axes>"
            ],
            "image/png": "[encoded data removed]"
          },
          "metadata": {
            "needs_background": "light"
          }
        }
      ]
    },
    {
      "cell_type": "code",
      "source": [
        "print('min : ',np.min(agg))\n",
        "print('25% : ',np.percentile(agg, 25))\n",
        "print('median : ',np.median(agg))\n",
        "print('mean : ', round(np.mean(agg),1))\n",
        "print('75% : ',np.percentile(agg, 75))\n",
        "print('max : ',np.max(agg))"
      ],
      "metadata": {
        "colab": {
          "base_uri": "https://localhost:8080/"
        },
        "id": "1qA_5DSTz2mp",
        "outputId": "ce8b50d3-50ee-41ed-dab8-cfa941d691bf"
      },
      "execution_count": 79,
      "outputs": [
        {
          "output_type": "stream",
          "name": "stdout",
          "text": [
            "min :  1\n",
            "25% :  61.0\n",
            "median :  136.0\n",
            "mean :  450.1\n",
            "75% :  411.0\n",
            "max :  5770\n"
          ]
        }
      ]
    },
    {
      "cell_type": "code",
      "source": [
        "sns.kdeplot(agg) # 커널 밀도 추정, histplot 등을 smooth 하게 표현, https://darkpgmr.tistory.com/147\n",
        "\n",
        "plt.title(f'Channel Distribution (median = {np.median(agg)})')\n",
        "\n",
        "d1 = int(np.percentile(agg, 10))\n",
        "plt.axvline(d1, c = 'red')\n",
        "\n",
        "d2 = int(np.percentile(agg,50))\n",
        "plt.axvline(d2, c = 'red')\n",
        "\n",
        "d3 = int(np.percentile(agg,90))\n",
        "plt.axvline(d3, c = 'red')\n",
        "\n",
        "print(f\"10-90 % : {d1} ~ {d3}\")\n",
        "plt.show()"
      ],
      "metadata": {
        "colab": {
          "base_uri": "https://localhost:8080/",
          "height": 531
        },
        "id": "Vph_NYzKoRS4",
        "outputId": "a9a9757b-5726-4fae-89db-c1ae34fe12e5"
      },
      "execution_count": 46,
      "outputs": [
        {
          "output_type": "stream",
          "name": "stdout",
          "text": [
            "10-90 % : 29 ~ 1106\n"
          ]
        },
        {
          "output_type": "display_data",
          "data": {
            "text/plain": [
              "<Figure size 864x576 with 1 Axes>"
            ],
            "image/png": "[encoded data removed]"
          },
          "metadata": {
            "needs_background": "light"
          }
        }
      ]
    },
    {
      "cell_type": "markdown",
      "source": [
        "## Tree ?"
      ],
      "metadata": {
        "id": "a1sBGu7urjUH"
      }
    },
    {
      "cell_type": "code",
      "source": [
        "tree = topics[topics[\"channel\"] == \"000cf7\"].sort_values('level').reset_index(drop = True)\n",
        "tree"
      ],
      "metadata": {
        "colab": {
          "base_uri": "https://localhost:8080/",
          "height": 572
        },
        "id": "K9yFQV2koz6y",
        "outputId": "2dcc4ad4-359d-436b-f26e-b9354efda639"
      },
      "execution_count": 40,
      "outputs": [
        {
          "output_type": "execute_result",
          "data": {
            "text/plain": [
              "                  id                                              title  \\\n",
              "0     t_bcf10c48c68b                      Khan Academy (български език)   \n",
              "1     t_afd8db5e4f44                                         Математика   \n",
              "2     t_a739dfbb9780                                  Хуманитарни науки   \n",
              "3     t_ff2df4ca09e5                                  Физика (България)   \n",
              "4     t_a8d3be502f0b                              Математика (България)   \n",
              "...              ...                                                ...   \n",
              "2862  t_5adfd62b5a6b  Въведение в точкови диаграми (диаграми на разс...   \n",
              "2863  t_5af060145876                   Умножение по метода на решетката   \n",
              "2864  t_5af2a0098cd9              Линейни неравенства с едно неизвестно   \n",
              "2865  t_5b21a2fb4200                           Химични връзки и реакции   \n",
              "2866  t_ffeb82366ca2  Скорост, производителност и други отношения (п...   \n",
              "\n",
              "                                            description channel category  \\\n",
              "0                                                   NaN  000cf7   source   \n",
              "1                                                   NaN  000cf7   source   \n",
              "2     Красота. Война. Религия. Общество. Език. Човеш...  000cf7   source   \n",
              "3                                                   NaN  000cf7   source   \n",
              "4                                                   NaN  000cf7   source   \n",
              "...                                                 ...     ...      ...   \n",
              "2862  Нека разгледаме основите на построяването на т...  000cf7   source   \n",
              "2863  Научи се да умножаваш и по друг нетрадиционен ...  000cf7   source   \n",
              "2864  В този урок ще научиш как се решават по-сложни...  000cf7   source   \n",
              "2865  Научи как атомите взаимодействат помежду си и ...  000cf7   source   \n",
              "2866  В този урок ще разбереш как се намира отношени...  000cf7   source   \n",
              "\n",
              "      level language          parent  has_content  \n",
              "0         0       bg             NaN        False  \n",
              "1         1       bg  t_bcf10c48c68b        False  \n",
              "2         1       bg  t_bcf10c48c68b        False  \n",
              "3         1       bg  t_bcf10c48c68b        False  \n",
              "4         1       bg  t_bcf10c48c68b        False  \n",
              "...     ...      ...             ...          ...  \n",
              "2862      4       bg  t_991faa34ed2c         True  \n",
              "2863      4       bg  t_4d110c968d2b         True  \n",
              "2864      4       bg  t_d850b10cbe33         True  \n",
              "2865      4       bg  t_d432b564bb67         True  \n",
              "2866      4       bg  t_07beaad80edb         True  \n",
              "\n",
              "[2867 rows x 9 columns]"
            ],
            "text/html": [
              "\n",
              "  <div id=\"df-a55d62dc-5458-45cf-ae28-46bc6287d4dd\">\n",
              "    <div class=\"colab-df-container\">\n",
              "      <div>\n",
              "<style scoped>\n",
              "    .dataframe tbody tr th:only-of-type {\n",
              "        vertical-align: middle;\n",
              "    }\n",
              "\n",
              "    .dataframe tbody tr th {\n",
              "        vertical-align: top;\n",
              "    }\n",
              "\n",
              "    .dataframe thead th {\n",
              "        text-align: right;\n",
              "    }\n",
              "</style>\n",
              "<table border=\"1\" class=\"dataframe\">\n",
              "  <thead>\n",
              "    <tr style=\"text-align: right;\">\n",
              "      <th></th>\n",
              "      <th>id</th>\n",
              "      <th>title</th>\n",
              "      <th>description</th>\n",
              "      <th>channel</th>\n",
              "      <th>category</th>\n",
              "      <th>level</th>\n",
              "      <th>language</th>\n",
              "      <th>parent</th>\n",
              "      <th>has_content</th>\n",
              "    </tr>\n",
              "  </thead>\n",
              "  <tbody>\n",
              "    <tr>\n",
              "      <th>0</th>\n",
              "      <td>t_bcf10c48c68b</td>\n",
              "      <td>Khan Academy (български език)</td>\n",
              "      <td>NaN</td>\n",
              "      <td>000cf7</td>\n",
              "      <td>source</td>\n",
              "      <td>0</td>\n",
              "      <td>bg</td>\n",
              "      <td>NaN</td>\n",
              "      <td>False</td>\n",
              "    </tr>\n",
              "    <tr>\n",
              "      <th>1</th>\n",
              "      <td>t_afd8db5e4f44</td>\n",
              "      <td>Математика</td>\n",
              "      <td>NaN</td>\n",
              "      <td>000cf7</td>\n",
              "      <td>source</td>\n",
              "      <td>1</td>\n",
              "      <td>bg</td>\n",
              "      <td>t_bcf10c48c68b</td>\n",
              "      <td>False</td>\n",
              "    </tr>\n",
              "    <tr>\n",
              "      <th>2</th>\n",
              "      <td>t_a739dfbb9780</td>\n",
              "      <td>Хуманитарни науки</td>\n",
              "      <td>Красота. Война. Религия. Общество. Език. Човеш...</td>\n",
              "      <td>000cf7</td>\n",
              "      <td>source</td>\n",
              "      <td>1</td>\n",
              "      <td>bg</td>\n",
              "      <td>t_bcf10c48c68b</td>\n",
              "      <td>False</td>\n",
              "    </tr>\n",
              "    <tr>\n",
              "      <th>3</th>\n",
              "      <td>t_ff2df4ca09e5</td>\n",
              "      <td>Физика (България)</td>\n",
              "      <td>NaN</td>\n",
              "      <td>000cf7</td>\n",
              "      <td>source</td>\n",
              "      <td>1</td>\n",
              "      <td>bg</td>\n",
              "      <td>t_bcf10c48c68b</td>\n",
              "      <td>False</td>\n",
              "    </tr>\n",
              "    <tr>\n",
              "      <th>4</th>\n",
              "      <td>t_a8d3be502f0b</td>\n",
              "      <td>Математика (България)</td>\n",
              "      <td>NaN</td>\n",
              "      <td>000cf7</td>\n",
              "      <td>source</td>\n",
              "      <td>1</td>\n",
              "      <td>bg</td>\n",
              "      <td>t_bcf10c48c68b</td>\n",
              "      <td>False</td>\n",
              "    </tr>\n",
              "    <tr>\n",
              "      <th>...</th>\n",
              "      <td>...</td>\n",
              "      <td>...</td>\n",
              "      <td>...</td>\n",
              "      <td>...</td>\n",
              "      <td>...</td>\n",
              "      <td>...</td>\n",
              "      <td>...</td>\n",
              "      <td>...</td>\n",
              "      <td>...</td>\n",
              "    </tr>\n",
              "    <tr>\n",
              "      <th>2862</th>\n",
              "      <td>t_5adfd62b5a6b</td>\n",
              "      <td>Въведение в точкови диаграми (диаграми на разс...</td>\n",
              "      <td>Нека разгледаме основите на построяването на т...</td>\n",
              "      <td>000cf7</td>\n",
              "      <td>source</td>\n",
              "      <td>4</td>\n",
              "      <td>bg</td>\n",
              "      <td>t_991faa34ed2c</td>\n",
              "      <td>True</td>\n",
              "    </tr>\n",
              "    <tr>\n",
              "      <th>2863</th>\n",
              "      <td>t_5af060145876</td>\n",
              "      <td>Умножение по метода на решетката</td>\n",
              "      <td>Научи се да умножаваш и по друг нетрадиционен ...</td>\n",
              "      <td>000cf7</td>\n",
              "      <td>source</td>\n",
              "      <td>4</td>\n",
              "      <td>bg</td>\n",
              "      <td>t_4d110c968d2b</td>\n",
              "      <td>True</td>\n",
              "    </tr>\n",
              "    <tr>\n",
              "      <th>2864</th>\n",
              "      <td>t_5af2a0098cd9</td>\n",
              "      <td>Линейни неравенства с едно неизвестно</td>\n",
              "      <td>В този урок ще научиш как се решават по-сложни...</td>\n",
              "      <td>000cf7</td>\n",
              "      <td>source</td>\n",
              "      <td>4</td>\n",
              "      <td>bg</td>\n",
              "      <td>t_d850b10cbe33</td>\n",
              "      <td>True</td>\n",
              "    </tr>\n",
              "    <tr>\n",
              "      <th>2865</th>\n",
              "      <td>t_5b21a2fb4200</td>\n",
              "      <td>Химични връзки и реакции</td>\n",
              "      <td>Научи как атомите взаимодействат помежду си и ...</td>\n",
              "      <td>000cf7</td>\n",
              "      <td>source</td>\n",
              "      <td>4</td>\n",
              "      <td>bg</td>\n",
              "      <td>t_d432b564bb67</td>\n",
              "      <td>True</td>\n",
              "    </tr>\n",
              "    <tr>\n",
              "      <th>2866</th>\n",
              "      <td>t_ffeb82366ca2</td>\n",
              "      <td>Скорост, производителност и други отношения (п...</td>\n",
              "      <td>В този урок ще разбереш как се намира отношени...</td>\n",
              "      <td>000cf7</td>\n",
              "      <td>source</td>\n",
              "      <td>4</td>\n",
              "      <td>bg</td>\n",
              "      <td>t_07beaad80edb</td>\n",
              "      <td>True</td>\n",
              "    </tr>\n",
              "  </tbody>\n",
              "</table>\n",
              "<p>2867 rows × 9 columns</p>\n",
              "</div>\n",
              "      <button class=\"colab-df-convert\" onclick=\"convertToInteractive('df-a55d62dc-5458-45cf-ae28-46bc6287d4dd')\"\n",
              "              title=\"Convert this dataframe to an interactive table.\"\n",
              "              style=\"display:none;\">\n",
              "        \n",
              "  <svg xmlns=\"http://www.w3.org/2000/svg\" height=\"24px\"viewBox=\"0 0 24 24\"\n",
              "       width=\"24px\">\n",
              "    <path d=\"M0 0h24v24H0V0z\" fill=\"none\"/>\n",
              "    <path d=\"M18.56 5.44l.94 2.06.94-2.06 2.06-.94-2.06-.94-.94-2.06-.94 2.06-2.06.94zm-11 1L8.5 8.5l.94-2.06 2.06-.94-2.06-.94L8.5 2.5l-.94 2.06-2.06.94zm10 10l.94 2.06.94-2.06 2.06-.94-2.06-.94-.94-2.06-.94 2.06-2.06.94z\"/><path d=\"M17.41 7.96l-1.37-1.37c-.4-.4-.92-.59-1.43-.59-.52 0-1.04.2-1.43.59L10.3 9.45l-7.72 7.72c-.78.78-.78 2.05 0 2.83L4 21.41c.39.39.9.59 1.41.59.51 0 1.02-.2 1.41-.59l7.78-7.78 2.81-2.81c.8-.78.8-2.07 0-2.86zM5.41 20L4 18.59l7.72-7.72 1.47 1.35L5.41 20z\"/>\n",
              "  </svg>\n",
              "      </button>\n",
              "      \n",
              "  <style>\n",
              "    .colab-df-container {\n",
              "      display:flex;\n",
              "      flex-wrap:wrap;\n",
              "      gap: 12px;\n",
              "    }\n",
              "\n",
              "    .colab-df-convert {\n",
              "      background-color: #E8F0FE;\n",
              "      border: none;\n",
              "      border-radius: 50%;\n",
              "      cursor: pointer;\n",
              "      display: none;\n",
              "      fill: #1967D2;\n",
              "      height: 32px;\n",
              "      padding: 0 0 0 0;\n",
              "      width: 32px;\n",
              "    }\n",
              "\n",
              "    .colab-df-convert:hover {\n",
              "      background-color: #E2EBFA;\n",
              "      box-shadow: 0px 1px 2px rgba(60, 64, 67, 0.3), 0px 1px 3px 1px rgba(60, 64, 67, 0.15);\n",
              "      fill: #174EA6;\n",
              "    }\n",
              "\n",
              "    [theme=dark] .colab-df-convert {\n",
              "      background-color: #3B4455;\n",
              "      fill: #D2E3FC;\n",
              "    }\n",
              "\n",
              "    [theme=dark] .colab-df-convert:hover {\n",
              "      background-color: #434B5C;\n",
              "      box-shadow: 0px 1px 3px 1px rgba(0, 0, 0, 0.15);\n",
              "      filter: drop-shadow(0px 1px 2px rgba(0, 0, 0, 0.3));\n",
              "      fill: #FFFFFF;\n",
              "    }\n",
              "  </style>\n",
              "\n",
              "      <script>\n",
              "        const buttonEl =\n",
              "          document.querySelector('#df-a55d62dc-5458-45cf-ae28-46bc6287d4dd button.colab-df-convert');\n",
              "        buttonEl.style.display =\n",
              "          google.colab.kernel.accessAllowed ? 'block' : 'none';\n",
              "\n",
              "        async function convertToInteractive(key) {\n",
              "          const element = document.querySelector('#df-a55d62dc-5458-45cf-ae28-46bc6287d4dd');\n",
              "          const dataTable =\n",
              "            await google.colab.kernel.invokeFunction('convertToInteractive',\n",
              "                                                     [key], {});\n",
              "          if (!dataTable) return;\n",
              "\n",
              "          const docLinkHtml = 'Like what you see? Visit the ' +\n",
              "            '<a target=\"_blank\" href=https://colab.research.google.com/notebooks/data_table.ipynb>data table notebook</a>'\n",
              "            + ' to learn more about interactive tables.';\n",
              "          element.innerHTML = '';\n",
              "          dataTable['output_type'] = 'display_data';\n",
              "          await google.colab.output.renderOutput(dataTable, element);\n",
              "          const docLink = document.createElement('div');\n",
              "          docLink.innerHTML = docLinkHtml;\n",
              "          element.appendChild(docLink);\n",
              "        }\n",
              "      </script>\n",
              "    </div>\n",
              "  </div>\n",
              "  "
            ]
          },
          "metadata": {},
          "execution_count": 40
        }
      ]
    },
    {
      "cell_type": "markdown",
      "source": [
        "- 하나의 채널안의 tree 구조를 확인"
      ],
      "metadata": {
        "id": "Lal8kP2Fw53Y"
      }
    },
    {
      "cell_type": "code",
      "source": [],
      "metadata": {
        "id": "L3scdbwwwZVL"
      },
      "execution_count": 55,
      "outputs": []
    },
    {
      "cell_type": "markdown",
      "source": [
        "# content"
      ],
      "metadata": {
        "id": "C_4FE0ERw3sR"
      }
    },
    {
      "cell_type": "code",
      "source": [
        "content"
      ],
      "metadata": {
        "colab": {
          "base_uri": "https://localhost:8080/",
          "height": 589
        },
        "id": "1nq8rTTxsa2P",
        "outputId": "2585ce40-214a-43cf-800f-7d6dcb62ff8e"
      },
      "execution_count": 41,
      "outputs": [
        {
          "output_type": "execute_result",
          "data": {
            "text/plain": [
              "                    id                                             title  \\\n",
              "0       c_00002381196d  Sumar números de varios dígitos: 48,029+233,930    \n",
              "1       c_000087304a9e                    Trovare i fattori di un numero   \n",
              "2       c_0000ad142ddb                           Sumar curvas de demanda   \n",
              "3       c_0000c03adc8d                               Nado de aproximação   \n",
              "4       c_00016694ea2a                  geometry-m3-topic-a-overview.pdf   \n",
              "...                ...                                               ...   \n",
              "154042  c_fffcbdd4de8b                                  2. 12: Diffusion   \n",
              "154043  c_fffe15a2d069                      Sommare facendo gruppi da 10   \n",
              "154044  c_fffed7b0d13a                            Introdução à subtração   \n",
              "154045  c_ffff04ba7ac7                                      SA of a Cone   \n",
              "154046  c_ffffe5254266                                          The Jats   \n",
              "\n",
              "                                              description      kind  \\\n",
              "0       Suma 48,029+233,930 mediante el algoritmo está...     video   \n",
              "1                         Sal trova i fattori di 120.\\n\\n     video   \n",
              "2                       Cómo añadir curvas de demanda\\n\\n     video   \n",
              "3       Neste vídeo você vai aprender o nado de aproxi...  document   \n",
              "4                        geometry-m3-topic-a-overview.pdf  document   \n",
              "...                                                   ...       ...   \n",
              "154042                                                NaN     html5   \n",
              "154043  Sal somma 5+68 spezzando il 5 in un 2 e un 3.\\n\\n     video   \n",
              "154044  Sal fala sobre o que significa subtrair. Os ex...     video   \n",
              "154045                                                NaN     video   \n",
              "154046                                                NaN     video   \n",
              "\n",
              "                                                     text language  \\\n",
              "0                                                     NaN       es   \n",
              "1                                                     NaN       it   \n",
              "2                                                     NaN       es   \n",
              "3       \\nNado de aproximação\\nSaber nadar nas ondas ...       pt   \n",
              "4       Estándares Comunes del Estado de Nueva York\\n\\...       es   \n",
              "...                                                   ...      ...   \n",
              "154042  What will eventually happen to these dyes?\\n\\n...       en   \n",
              "154043                                                NaN       it   \n",
              "154044                                                NaN       pt   \n",
              "154045                                                NaN       en   \n",
              "154046                                                NaN       en   \n",
              "\n",
              "        copyright_holder      license  \n",
              "0                    NaN          NaN  \n",
              "1                    NaN          NaN  \n",
              "2                    NaN          NaN  \n",
              "3       Sikana Education  CC BY-NC-ND  \n",
              "4              Engage NY  CC BY-NC-SA  \n",
              "...                  ...          ...  \n",
              "154042    CSU and Merlot  CC BY-NC-SA  \n",
              "154043               NaN          NaN  \n",
              "154044               NaN          NaN  \n",
              "154045               NaN          NaN  \n",
              "154046               NaN          NaN  \n",
              "\n",
              "[154047 rows x 8 columns]"
            ],
            "text/html": [
              "\n",
              "  <div id=\"df-165e0b49-7ac3-4a0a-8d09-751914317b06\">\n",
              "    <div class=\"colab-df-container\">\n",
              "      <div>\n",
              "<style scoped>\n",
              "    .dataframe tbody tr th:only-of-type {\n",
              "        vertical-align: middle;\n",
              "    }\n",
              "\n",
              "    .dataframe tbody tr th {\n",
              "        vertical-align: top;\n",
              "    }\n",
              "\n",
              "    .dataframe thead th {\n",
              "        text-align: right;\n",
              "    }\n",
              "</style>\n",
              "<table border=\"1\" class=\"dataframe\">\n",
              "  <thead>\n",
              "    <tr style=\"text-align: right;\">\n",
              "      <th></th>\n",
              "      <th>id</th>\n",
              "      <th>title</th>\n",
              "      <th>description</th>\n",
              "      <th>kind</th>\n",
              "      <th>text</th>\n",
              "      <th>language</th>\n",
              "      <th>copyright_holder</th>\n",
              "      <th>license</th>\n",
              "    </tr>\n",
              "  </thead>\n",
              "  <tbody>\n",
              "    <tr>\n",
              "      <th>0</th>\n",
              "      <td>c_00002381196d</td>\n",
              "      <td>Sumar números de varios dígitos: 48,029+233,930</td>\n",
              "      <td>Suma 48,029+233,930 mediante el algoritmo está...</td>\n",
              "      <td>video</td>\n",
              "      <td>NaN</td>\n",
              "      <td>es</td>\n",
              "      <td>NaN</td>\n",
              "      <td>NaN</td>\n",
              "    </tr>\n",
              "    <tr>\n",
              "      <th>1</th>\n",
              "      <td>c_000087304a9e</td>\n",
              "      <td>Trovare i fattori di un numero</td>\n",
              "      <td>Sal trova i fattori di 120.\\n\\n</td>\n",
              "      <td>video</td>\n",
              "      <td>NaN</td>\n",
              "      <td>it</td>\n",
              "      <td>NaN</td>\n",
              "      <td>NaN</td>\n",
              "    </tr>\n",
              "    <tr>\n",
              "      <th>2</th>\n",
              "      <td>c_0000ad142ddb</td>\n",
              "      <td>Sumar curvas de demanda</td>\n",
              "      <td>Cómo añadir curvas de demanda\\n\\n</td>\n",
              "      <td>video</td>\n",
              "      <td>NaN</td>\n",
              "      <td>es</td>\n",
              "      <td>NaN</td>\n",
              "      <td>NaN</td>\n",
              "    </tr>\n",
              "    <tr>\n",
              "      <th>3</th>\n",
              "      <td>c_0000c03adc8d</td>\n",
              "      <td>Nado de aproximação</td>\n",
              "      <td>Neste vídeo você vai aprender o nado de aproxi...</td>\n",
              "      <td>document</td>\n",
              "      <td>\\nNado de aproximação\\nSaber nadar nas ondas ...</td>\n",
              "      <td>pt</td>\n",
              "      <td>Sikana Education</td>\n",
              "      <td>CC BY-NC-ND</td>\n",
              "    </tr>\n",
              "    <tr>\n",
              "      <th>4</th>\n",
              "      <td>c_00016694ea2a</td>\n",
              "      <td>geometry-m3-topic-a-overview.pdf</td>\n",
              "      <td>geometry-m3-topic-a-overview.pdf</td>\n",
              "      <td>document</td>\n",
              "      <td>Estándares Comunes del Estado de Nueva York\\n\\...</td>\n",
              "      <td>es</td>\n",
              "      <td>Engage NY</td>\n",
              "      <td>CC BY-NC-SA</td>\n",
              "    </tr>\n",
              "    <tr>\n",
              "      <th>...</th>\n",
              "      <td>...</td>\n",
              "      <td>...</td>\n",
              "      <td>...</td>\n",
              "      <td>...</td>\n",
              "      <td>...</td>\n",
              "      <td>...</td>\n",
              "      <td>...</td>\n",
              "      <td>...</td>\n",
              "    </tr>\n",
              "    <tr>\n",
              "      <th>154042</th>\n",
              "      <td>c_fffcbdd4de8b</td>\n",
              "      <td>2. 12: Diffusion</td>\n",
              "      <td>NaN</td>\n",
              "      <td>html5</td>\n",
              "      <td>What will eventually happen to these dyes?\\n\\n...</td>\n",
              "      <td>en</td>\n",
              "      <td>CSU and Merlot</td>\n",
              "      <td>CC BY-NC-SA</td>\n",
              "    </tr>\n",
              "    <tr>\n",
              "      <th>154043</th>\n",
              "      <td>c_fffe15a2d069</td>\n",
              "      <td>Sommare facendo gruppi da 10</td>\n",
              "      <td>Sal somma 5+68 spezzando il 5 in un 2 e un 3.\\n\\n</td>\n",
              "      <td>video</td>\n",
              "      <td>NaN</td>\n",
              "      <td>it</td>\n",
              "      <td>NaN</td>\n",
              "      <td>NaN</td>\n",
              "    </tr>\n",
              "    <tr>\n",
              "      <th>154044</th>\n",
              "      <td>c_fffed7b0d13a</td>\n",
              "      <td>Introdução à subtração</td>\n",
              "      <td>Sal fala sobre o que significa subtrair. Os ex...</td>\n",
              "      <td>video</td>\n",
              "      <td>NaN</td>\n",
              "      <td>pt</td>\n",
              "      <td>NaN</td>\n",
              "      <td>NaN</td>\n",
              "    </tr>\n",
              "    <tr>\n",
              "      <th>154045</th>\n",
              "      <td>c_ffff04ba7ac7</td>\n",
              "      <td>SA of a Cone</td>\n",
              "      <td>NaN</td>\n",
              "      <td>video</td>\n",
              "      <td>NaN</td>\n",
              "      <td>en</td>\n",
              "      <td>NaN</td>\n",
              "      <td>NaN</td>\n",
              "    </tr>\n",
              "    <tr>\n",
              "      <th>154046</th>\n",
              "      <td>c_ffffe5254266</td>\n",
              "      <td>The Jats</td>\n",
              "      <td>NaN</td>\n",
              "      <td>video</td>\n",
              "      <td>NaN</td>\n",
              "      <td>en</td>\n",
              "      <td>NaN</td>\n",
              "      <td>NaN</td>\n",
              "    </tr>\n",
              "  </tbody>\n",
              "</table>\n",
              "<p>154047 rows × 8 columns</p>\n",
              "</div>\n",
              "      <button class=\"colab-df-convert\" onclick=\"convertToInteractive('df-165e0b49-7ac3-4a0a-8d09-751914317b06')\"\n",
              "              title=\"Convert this dataframe to an interactive table.\"\n",
              "              style=\"display:none;\">\n",
              "        \n",
              "  <svg xmlns=\"http://www.w3.org/2000/svg\" height=\"24px\"viewBox=\"0 0 24 24\"\n",
              "       width=\"24px\">\n",
              "    <path d=\"M0 0h24v24H0V0z\" fill=\"none\"/>\n",
              "    <path d=\"M18.56 5.44l.94 2.06.94-2.06 2.06-.94-2.06-.94-.94-2.06-.94 2.06-2.06.94zm-11 1L8.5 8.5l.94-2.06 2.06-.94-2.06-.94L8.5 2.5l-.94 2.06-2.06.94zm10 10l.94 2.06.94-2.06 2.06-.94-2.06-.94-.94-2.06-.94 2.06-2.06.94z\"/><path d=\"M17.41 7.96l-1.37-1.37c-.4-.4-.92-.59-1.43-.59-.52 0-1.04.2-1.43.59L10.3 9.45l-7.72 7.72c-.78.78-.78 2.05 0 2.83L4 21.41c.39.39.9.59 1.41.59.51 0 1.02-.2 1.41-.59l7.78-7.78 2.81-2.81c.8-.78.8-2.07 0-2.86zM5.41 20L4 18.59l7.72-7.72 1.47 1.35L5.41 20z\"/>\n",
              "  </svg>\n",
              "      </button>\n",
              "      \n",
              "  <style>\n",
              "    .colab-df-container {\n",
              "      display:flex;\n",
              "      flex-wrap:wrap;\n",
              "      gap: 12px;\n",
              "    }\n",
              "\n",
              "    .colab-df-convert {\n",
              "      background-color: #E8F0FE;\n",
              "      border: none;\n",
              "      border-radius: 50%;\n",
              "      cursor: pointer;\n",
              "      display: none;\n",
              "      fill: #1967D2;\n",
              "      height: 32px;\n",
              "      padding: 0 0 0 0;\n",
              "      width: 32px;\n",
              "    }\n",
              "\n",
              "    .colab-df-convert:hover {\n",
              "      background-color: #E2EBFA;\n",
              "      box-shadow: 0px 1px 2px rgba(60, 64, 67, 0.3), 0px 1px 3px 1px rgba(60, 64, 67, 0.15);\n",
              "      fill: #174EA6;\n",
              "    }\n",
              "\n",
              "    [theme=dark] .colab-df-convert {\n",
              "      background-color: #3B4455;\n",
              "      fill: #D2E3FC;\n",
              "    }\n",
              "\n",
              "    [theme=dark] .colab-df-convert:hover {\n",
              "      background-color: #434B5C;\n",
              "      box-shadow: 0px 1px 3px 1px rgba(0, 0, 0, 0.15);\n",
              "      filter: drop-shadow(0px 1px 2px rgba(0, 0, 0, 0.3));\n",
              "      fill: #FFFFFF;\n",
              "    }\n",
              "  </style>\n",
              "\n",
              "      <script>\n",
              "        const buttonEl =\n",
              "          document.querySelector('#df-165e0b49-7ac3-4a0a-8d09-751914317b06 button.colab-df-convert');\n",
              "        buttonEl.style.display =\n",
              "          google.colab.kernel.accessAllowed ? 'block' : 'none';\n",
              "\n",
              "        async function convertToInteractive(key) {\n",
              "          const element = document.querySelector('#df-165e0b49-7ac3-4a0a-8d09-751914317b06');\n",
              "          const dataTable =\n",
              "            await google.colab.kernel.invokeFunction('convertToInteractive',\n",
              "                                                     [key], {});\n",
              "          if (!dataTable) return;\n",
              "\n",
              "          const docLinkHtml = 'Like what you see? Visit the ' +\n",
              "            '<a target=\"_blank\" href=https://colab.research.google.com/notebooks/data_table.ipynb>data table notebook</a>'\n",
              "            + ' to learn more about interactive tables.';\n",
              "          element.innerHTML = '';\n",
              "          dataTable['output_type'] = 'display_data';\n",
              "          await google.colab.output.renderOutput(dataTable, element);\n",
              "          const docLink = document.createElement('div');\n",
              "          docLink.innerHTML = docLinkHtml;\n",
              "          element.appendChild(docLink);\n",
              "        }\n",
              "      </script>\n",
              "    </div>\n",
              "  </div>\n",
              "  "
            ]
          },
          "metadata": {},
          "execution_count": 41
        }
      ]
    },
    {
      "cell_type": "code",
      "source": [
        "content.isnull().sum()"
      ],
      "metadata": {
        "colab": {
          "base_uri": "https://localhost:8080/"
        },
        "id": "gLCQU2wvxP05",
        "outputId": "55b8e2c2-2ad8-42f8-b9c1-c859b8342584"
      },
      "execution_count": 59,
      "outputs": [
        {
          "output_type": "execute_result",
          "data": {
            "text/plain": [
              "id                      0\n",
              "title                   9\n",
              "description         64591\n",
              "kind                    0\n",
              "text                80012\n",
              "language                0\n",
              "copyright_holder    82226\n",
              "license             80012\n",
              "dtype: int64"
            ]
          },
          "metadata": {},
          "execution_count": 59
        }
      ]
    },
    {
      "cell_type": "markdown",
      "source": [
        "## title_description"
      ],
      "metadata": {
        "id": "bloQ8Fd-xS0E"
      }
    },
    {
      "cell_type": "code",
      "source": [
        "title_description(content)"
      ],
      "metadata": {
        "colab": {
          "base_uri": "https://localhost:8080/",
          "height": 499
        },
        "id": "uKsBmcMEsqEO",
        "outputId": "8c608291-0783-402f-d766-5f528327bb1b"
      },
      "execution_count": 44,
      "outputs": [
        {
          "output_type": "display_data",
          "data": {
            "text/plain": [
              "<Figure size 864x576 with 1 Axes>"
            ],
            "image/png": "[encoded data removed]"
          },
          "metadata": {
            "needs_background": "light"
          }
        }
      ]
    },
    {
      "cell_type": "markdown",
      "source": [
        "## language"
      ],
      "metadata": {
        "id": "kURyrPtwxVKs"
      }
    },
    {
      "cell_type": "code",
      "source": [
        "sns.countplot(x = 'language', data = content, order = content['language'].value_counts().index)\n",
        "plt.title('language')\n",
        "plt.show()"
      ],
      "metadata": {
        "colab": {
          "base_uri": "https://localhost:8080/",
          "height": 513
        },
        "id": "DDXGF3x6sZku",
        "outputId": "9cbafb91-ad30-4470-fb51-66f22632b086"
      },
      "execution_count": 58,
      "outputs": [
        {
          "output_type": "display_data",
          "data": {
            "text/plain": [
              "<Figure size 864x576 with 1 Axes>"
            ],
            "image/png": "[encoded data removed]"
          },
          "metadata": {
            "needs_background": "light"
          }
        }
      ]
    },
    {
      "cell_type": "markdown",
      "source": [
        "## kind & text"
      ],
      "metadata": {
        "id": "A806f3mExJbs"
      }
    },
    {
      "cell_type": "code",
      "source": [
        "content['has_text'] = ~content['text'].isna()\n",
        "sns.countplot(x = \"kind\", hue = \"has_text\", data = content)"
      ],
      "metadata": {
        "colab": {
          "base_uri": "https://localhost:8080/",
          "height": 515
        },
        "id": "0t_Deq_Bn1UJ",
        "outputId": "90d446e3-5f41-4daa-a47f-efd7fddf9964"
      },
      "execution_count": 60,
      "outputs": [
        {
          "output_type": "execute_result",
          "data": {
            "text/plain": [
              "<matplotlib.axes._subplots.AxesSubplot at 0x7f621ca3cd60>"
            ]
          },
          "metadata": {},
          "execution_count": 60
        },
        {
          "output_type": "display_data",
          "data": {
            "text/plain": [
              "<Figure size 864x576 with 1 Axes>"
            ],
            "image/png": "[encoded data removed]"
          },
          "metadata": {
            "needs_background": "light"
          }
        }
      ]
    },
    {
      "cell_type": "code",
      "source": [],
      "metadata": {
        "id": "Yz05VT7dxee6"
      },
      "execution_count": null,
      "outputs": []
    },
    {
      "cell_type": "markdown",
      "source": [
        "# topics & content 비교"
      ],
      "metadata": {
        "id": "TbN_5KJtxl0Y"
      }
    },
    {
      "cell_type": "code",
      "source": [
        "topic_texts = topics['title'].fillna('') + ' ' + topics['description'].fillna('')\n",
        "topic_len = np.clip(topic_texts.apply(lambda x : len(x.strip().split(' '))), 0, 100) \n",
        "\n",
        "content_texts = content['title'].fillna('') + ' ' + content['description'].fillna('')\n",
        "content_len = np.clip(content_texts.apply(lambda x : len(x.strip().split(' '))), 0, 100) "
      ],
      "metadata": {
        "id": "EWGGki7sykvk"
      },
      "execution_count": 65,
      "outputs": []
    },
    {
      "cell_type": "code",
      "source": [
        "fig, ax = plt.subplots(ncols=2)\n",
        "\n",
        "sns.histplot(topic_len, ax = ax[0])\n",
        "sns.histplot(content_len, ax = ax[1])\n",
        "\n",
        "ax[0].set_title('Topics')\n",
        "ax[1].set_title('Content')\n",
        "\n",
        "plt.show()"
      ],
      "metadata": {
        "colab": {
          "base_uri": "https://localhost:8080/",
          "height": 499
        },
        "id": "wMuLxZ2Kxo48",
        "outputId": "a259beba-1689-4156-8821-5d9895bde758"
      },
      "execution_count": 70,
      "outputs": [
        {
          "output_type": "display_data",
          "data": {
            "text/plain": [
              "<Figure size 864x576 with 2 Axes>"
            ],
            "image/png": "[encoded data removed]"
          },
          "metadata": {
            "needs_background": "light"
          }
        }
      ]
    },
    {
      "cell_type": "code",
      "source": [
        "fig = plt.figure(figsize = (16,10))\n",
        "\n",
        "sns.countplot(x = 'language', data = topics, order = topics['language'].value_counts().index, ax = ax[0])\n",
        "sns.countplot(x = 'language', data = content, order = content['language'].value_counts().index, ax = ax[1])\n",
        "plt.show()"
      ],
      "metadata": {
        "colab": {
          "base_uri": "https://localhost:8080/",
          "height": 515
        },
        "id": "VLPjEBRNzPiJ",
        "outputId": "20afda9b-2cd5-47e1-9104-6b0992a53334"
      },
      "execution_count": 73,
      "outputs": [
        {
          "output_type": "display_data",
          "data": {
            "text/plain": [
              "<Figure size 1152x720 with 0 Axes>"
            ]
          },
          "metadata": {}
        },
        {
          "output_type": "display_data",
          "data": {
            "text/plain": [
              "<Figure size 864x576 with 2 Axes>"
            ],
            "image/png": "[encoded data removed]"
          },
          "metadata": {
            "needs_background": "light"
          }
        }
      ]
    },
    {
      "cell_type": "code",
      "source": [],
      "metadata": {
        "id": "F5zORyIUzb-S"
      },
      "execution_count": null,
      "outputs": []
    },
    {
      "cell_type": "markdown",
      "source": [
        "# correlations"
      ],
      "metadata": {
        "id": "owuqChVhxhx4"
      }
    },
    {
      "cell_type": "code",
      "source": [
        "correlations"
      ],
      "metadata": {
        "colab": {
          "base_uri": "https://localhost:8080/",
          "height": 424
        },
        "id": "2K7piSOWxjB8",
        "outputId": "b4d7756b-a309-4a15-bd85-df68bfc48b66"
      },
      "execution_count": 61,
      "outputs": [
        {
          "output_type": "execute_result",
          "data": {
            "text/plain": [
              "             topic_id                                        content_ids\n",
              "0      t_00004da3a1b2  c_1108dd0c7a5d c_376c5a8eb028 c_5bc0e1e2cba0 c...\n",
              "1      t_00068291e9a4  c_639ea2ef9c95 c_89ce9367be10 c_ac1672cdcd2c c...\n",
              "2      t_00069b63a70a                                     c_11a1dc0bfb99\n",
              "3      t_0006d41a73a8  c_0c6473c3480d c_1c57a1316568 c_5e375cf14c47 c...\n",
              "4      t_0008768bdee6       c_34e1424229b4 c_7d1a964d66d5 c_aab93ee667f4\n",
              "...               ...                                                ...\n",
              "61512  t_fff830472691                      c_61fb63326e5d c_8f224e321c87\n",
              "61513  t_fff9e5407d13  c_026db653a269 c_0fb048a6412c c_20de77522603 c...\n",
              "61514  t_fffbe1d5d43c                      c_46f852a49c08 c_6659207b25d5\n",
              "61515  t_fffe14f1be1e                                     c_cece166bad6a\n",
              "61516  t_fffe811a6da9                                     c_92b8fad372ee\n",
              "\n",
              "[61517 rows x 2 columns]"
            ],
            "text/html": [
              "\n",
              "  <div id=\"df-2aa6f594-b576-4ba4-b652-245fb8f6516e\">\n",
              "    <div class=\"colab-df-container\">\n",
              "      <div>\n",
              "<style scoped>\n",
              "    .dataframe tbody tr th:only-of-type {\n",
              "        vertical-align: middle;\n",
              "    }\n",
              "\n",
              "    .dataframe tbody tr th {\n",
              "        vertical-align: top;\n",
              "    }\n",
              "\n",
              "    .dataframe thead th {\n",
              "        text-align: right;\n",
              "    }\n",
              "</style>\n",
              "<table border=\"1\" class=\"dataframe\">\n",
              "  <thead>\n",
              "    <tr style=\"text-align: right;\">\n",
              "      <th></th>\n",
              "      <th>topic_id</th>\n",
              "      <th>content_ids</th>\n",
              "    </tr>\n",
              "  </thead>\n",
              "  <tbody>\n",
              "    <tr>\n",
              "      <th>0</th>\n",
              "      <td>t_00004da3a1b2</td>\n",
              "      <td>c_1108dd0c7a5d c_376c5a8eb028 c_5bc0e1e2cba0 c...</td>\n",
              "    </tr>\n",
              "    <tr>\n",
              "      <th>1</th>\n",
              "      <td>t_00068291e9a4</td>\n",
              "      <td>c_639ea2ef9c95 c_89ce9367be10 c_ac1672cdcd2c c...</td>\n",
              "    </tr>\n",
              "    <tr>\n",
              "      <th>2</th>\n",
              "      <td>t_00069b63a70a</td>\n",
              "      <td>c_11a1dc0bfb99</td>\n",
              "    </tr>\n",
              "    <tr>\n",
              "      <th>3</th>\n",
              "      <td>t_0006d41a73a8</td>\n",
              "      <td>c_0c6473c3480d c_1c57a1316568 c_5e375cf14c47 c...</td>\n",
              "    </tr>\n",
              "    <tr>\n",
              "      <th>4</th>\n",
              "      <td>t_0008768bdee6</td>\n",
              "      <td>c_34e1424229b4 c_7d1a964d66d5 c_aab93ee667f4</td>\n",
              "    </tr>\n",
              "    <tr>\n",
              "      <th>...</th>\n",
              "      <td>...</td>\n",
              "      <td>...</td>\n",
              "    </tr>\n",
              "    <tr>\n",
              "      <th>61512</th>\n",
              "      <td>t_fff830472691</td>\n",
              "      <td>c_61fb63326e5d c_8f224e321c87</td>\n",
              "    </tr>\n",
              "    <tr>\n",
              "      <th>61513</th>\n",
              "      <td>t_fff9e5407d13</td>\n",
              "      <td>c_026db653a269 c_0fb048a6412c c_20de77522603 c...</td>\n",
              "    </tr>\n",
              "    <tr>\n",
              "      <th>61514</th>\n",
              "      <td>t_fffbe1d5d43c</td>\n",
              "      <td>c_46f852a49c08 c_6659207b25d5</td>\n",
              "    </tr>\n",
              "    <tr>\n",
              "      <th>61515</th>\n",
              "      <td>t_fffe14f1be1e</td>\n",
              "      <td>c_cece166bad6a</td>\n",
              "    </tr>\n",
              "    <tr>\n",
              "      <th>61516</th>\n",
              "      <td>t_fffe811a6da9</td>\n",
              "      <td>c_92b8fad372ee</td>\n",
              "    </tr>\n",
              "  </tbody>\n",
              "</table>\n",
              "<p>61517 rows × 2 columns</p>\n",
              "</div>\n",
              "      <button class=\"colab-df-convert\" onclick=\"convertToInteractive('df-2aa6f594-b576-4ba4-b652-245fb8f6516e')\"\n",
              "              title=\"Convert this dataframe to an interactive table.\"\n",
              "              style=\"display:none;\">\n",
              "        \n",
              "  <svg xmlns=\"http://www.w3.org/2000/svg\" height=\"24px\"viewBox=\"0 0 24 24\"\n",
              "       width=\"24px\">\n",
              "    <path d=\"M0 0h24v24H0V0z\" fill=\"none\"/>\n",
              "    <path d=\"M18.56 5.44l.94 2.06.94-2.06 2.06-.94-2.06-.94-.94-2.06-.94 2.06-2.06.94zm-11 1L8.5 8.5l.94-2.06 2.06-.94-2.06-.94L8.5 2.5l-.94 2.06-2.06.94zm10 10l.94 2.06.94-2.06 2.06-.94-2.06-.94-.94-2.06-.94 2.06-2.06.94z\"/><path d=\"M17.41 7.96l-1.37-1.37c-.4-.4-.92-.59-1.43-.59-.52 0-1.04.2-1.43.59L10.3 9.45l-7.72 7.72c-.78.78-.78 2.05 0 2.83L4 21.41c.39.39.9.59 1.41.59.51 0 1.02-.2 1.41-.59l7.78-7.78 2.81-2.81c.8-.78.8-2.07 0-2.86zM5.41 20L4 18.59l7.72-7.72 1.47 1.35L5.41 20z\"/>\n",
              "  </svg>\n",
              "      </button>\n",
              "      \n",
              "  <style>\n",
              "    .colab-df-container {\n",
              "      display:flex;\n",
              "      flex-wrap:wrap;\n",
              "      gap: 12px;\n",
              "    }\n",
              "\n",
              "    .colab-df-convert {\n",
              "      background-color: #E8F0FE;\n",
              "      border: none;\n",
              "      border-radius: 50%;\n",
              "      cursor: pointer;\n",
              "      display: none;\n",
              "      fill: #1967D2;\n",
              "      height: 32px;\n",
              "      padding: 0 0 0 0;\n",
              "      width: 32px;\n",
              "    }\n",
              "\n",
              "    .colab-df-convert:hover {\n",
              "      background-color: #E2EBFA;\n",
              "      box-shadow: 0px 1px 2px rgba(60, 64, 67, 0.3), 0px 1px 3px 1px rgba(60, 64, 67, 0.15);\n",
              "      fill: #174EA6;\n",
              "    }\n",
              "\n",
              "    [theme=dark] .colab-df-convert {\n",
              "      background-color: #3B4455;\n",
              "      fill: #D2E3FC;\n",
              "    }\n",
              "\n",
              "    [theme=dark] .colab-df-convert:hover {\n",
              "      background-color: #434B5C;\n",
              "      box-shadow: 0px 1px 3px 1px rgba(0, 0, 0, 0.15);\n",
              "      filter: drop-shadow(0px 1px 2px rgba(0, 0, 0, 0.3));\n",
              "      fill: #FFFFFF;\n",
              "    }\n",
              "  </style>\n",
              "\n",
              "      <script>\n",
              "        const buttonEl =\n",
              "          document.querySelector('#df-2aa6f594-b576-4ba4-b652-245fb8f6516e button.colab-df-convert');\n",
              "        buttonEl.style.display =\n",
              "          google.colab.kernel.accessAllowed ? 'block' : 'none';\n",
              "\n",
              "        async function convertToInteractive(key) {\n",
              "          const element = document.querySelector('#df-2aa6f594-b576-4ba4-b652-245fb8f6516e');\n",
              "          const dataTable =\n",
              "            await google.colab.kernel.invokeFunction('convertToInteractive',\n",
              "                                                     [key], {});\n",
              "          if (!dataTable) return;\n",
              "\n",
              "          const docLinkHtml = 'Like what you see? Visit the ' +\n",
              "            '<a target=\"_blank\" href=https://colab.research.google.com/notebooks/data_table.ipynb>data table notebook</a>'\n",
              "            + ' to learn more about interactive tables.';\n",
              "          element.innerHTML = '';\n",
              "          dataTable['output_type'] = 'display_data';\n",
              "          await google.colab.output.renderOutput(dataTable, element);\n",
              "          const docLink = document.createElement('div');\n",
              "          docLink.innerHTML = docLinkHtml;\n",
              "          element.appendChild(docLink);\n",
              "        }\n",
              "      </script>\n",
              "    </div>\n",
              "  </div>\n",
              "  "
            ]
          },
          "metadata": {},
          "execution_count": 61
        }
      ]
    },
    {
      "cell_type": "code",
      "source": [
        "correlations.isnull().sum()"
      ],
      "metadata": {
        "colab": {
          "base_uri": "https://localhost:8080/"
        },
        "id": "R6aK8QYfxqh6",
        "outputId": "4505664b-381e-438c-ada3-bdecfb014c7d"
      },
      "execution_count": 62,
      "outputs": [
        {
          "output_type": "execute_result",
          "data": {
            "text/plain": [
              "topic_id       0\n",
              "content_ids    0\n",
              "dtype: int64"
            ]
          },
          "metadata": {},
          "execution_count": 62
        }
      ]
    },
    {
      "cell_type": "code",
      "source": [
        "num_corr = correlations['content_ids'].apply(lambda x : len(x.split(' ')))\n",
        "\n",
        "print('Total number of correlations :', num_corr.sum())\n",
        "print('Average number of correlations per topic :', np.round(num_corr.mean(), 1))\n",
        "print('Minimum number of correlations per topic :', num_corr.min())\n",
        "print('Maximum number of correlations per topic :', num_corr.max())"
      ],
      "metadata": {
        "colab": {
          "base_uri": "https://localhost:8080/"
        },
        "id": "i2Dzd6p3xsbu",
        "outputId": "3371c65d-b7b6-4fea-cb02-a0d356ce778c"
      },
      "execution_count": 63,
      "outputs": [
        {
          "output_type": "stream",
          "name": "stdout",
          "text": [
            "Total number of correlations : 279919\n",
            "Average number of correlations per topic : 4.6\n",
            "Minimum number of correlations per topic : 1\n",
            "Maximum number of correlations per topic : 293\n"
          ]
        }
      ]
    },
    {
      "cell_type": "code",
      "source": [
        "sns.countplot(x = np.clip(num_corr, 0, 30))"
      ],
      "metadata": {
        "colab": {
          "base_uri": "https://localhost:8080/",
          "height": 516
        },
        "id": "gPNz57_Xx8hq",
        "outputId": "b38589a2-e811-43b8-a547-f70d4aa7ab33"
      },
      "execution_count": 64,
      "outputs": [
        {
          "output_type": "execute_result",
          "data": {
            "text/plain": [
              "<matplotlib.axes._subplots.AxesSubplot at 0x7f621d864850>"
            ]
          },
          "metadata": {},
          "execution_count": 64
        },
        {
          "output_type": "display_data",
          "data": {
            "text/plain": [
              "<Figure size 864x576 with 1 Axes>"
            ],
            "image/png": "[encoded data removed]"
          },
          "metadata": {
            "needs_background": "light"
          }
        }
      ]
    },
    {
      "cell_type": "code",
      "source": [],
      "metadata": {
        "id": "8qxORtKcyBsh"
      },
      "execution_count": null,
      "outputs": []
    }
  ]
}