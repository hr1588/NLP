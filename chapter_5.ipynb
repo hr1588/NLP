{
  "nbformat": 4,
  "nbformat_minor": 0,
  "metadata": {
    "colab": {
      "provenance": [],
      "authorship_tag": "ABX9TyMoD16x9WgWityFBi1REJGj",
      "include_colab_link": true
    },
    "kernelspec": {
      "name": "python3",
      "display_name": "Python 3"
    },
    "language_info": {
      "name": "python"
    },
    "accelerator": "GPU",
    "gpuClass": "standard",
    "widgets": {
      "application/vnd.jupyter.widget-state+json": {
        "51715150cf7643f7a7f8816b0ea3be90": {
          "model_module": "@jupyter-widgets/controls",
          "model_name": "HBoxModel",
          "model_module_version": "1.5.0",
          "state": {
            "_dom_classes": [],
            "_model_module": "@jupyter-widgets/controls",
            "_model_module_version": "1.5.0",
            "_model_name": "HBoxModel",
            "_view_count": null,
            "_view_module": "@jupyter-widgets/controls",
            "_view_module_version": "1.5.0",
            "_view_name": "HBoxView",
            "box_style": "",
            "children": [
              "IPY_MODEL_2dc9df9d85f2495ca7b73af9c628899a",
              "IPY_MODEL_846ce1e1847647dfab290be0aa454805",
              "IPY_MODEL_328aaa741d6d4a27ab328d378c49180b"
            ],
            "layout": "IPY_MODEL_e643403df53449118dc7f1bf2c642cc0"
          }
        },
        "2dc9df9d85f2495ca7b73af9c628899a": {
          "model_module": "@jupyter-widgets/controls",
          "model_name": "HTMLModel",
          "model_module_version": "1.5.0",
          "state": {
            "_dom_classes": [],
            "_model_module": "@jupyter-widgets/controls",
            "_model_module_version": "1.5.0",
            "_model_name": "HTMLModel",
            "_view_count": null,
            "_view_module": "@jupyter-widgets/controls",
            "_view_module_version": "1.5.0",
            "_view_name": "HTMLView",
            "description": "",
            "description_tooltip": null,
            "layout": "IPY_MODEL_31d13d335f6e4eec97b29acdf7fcf25c",
            "placeholder": "​",
            "style": "IPY_MODEL_0ad92033076041cebcd4e91430244cc8",
            "value": "Downloading (…)lve/main/config.json: 100%"
          }
        },
        "846ce1e1847647dfab290be0aa454805": {
          "model_module": "@jupyter-widgets/controls",
          "model_name": "FloatProgressModel",
          "model_module_version": "1.5.0",
          "state": {
            "_dom_classes": [],
            "_model_module": "@jupyter-widgets/controls",
            "_model_module_version": "1.5.0",
            "_model_name": "FloatProgressModel",
            "_view_count": null,
            "_view_module": "@jupyter-widgets/controls",
            "_view_module_version": "1.5.0",
            "_view_name": "ProgressView",
            "bar_style": "success",
            "description": "",
            "description_tooltip": null,
            "layout": "IPY_MODEL_c49e12efb03c43a3b2fbf32213cd8aaf",
            "max": 665,
            "min": 0,
            "orientation": "horizontal",
            "style": "IPY_MODEL_b222ba4fc79047808a14aa47f553f36b",
            "value": 665
          }
        },
        "328aaa741d6d4a27ab328d378c49180b": {
          "model_module": "@jupyter-widgets/controls",
          "model_name": "HTMLModel",
          "model_module_version": "1.5.0",
          "state": {
            "_dom_classes": [],
            "_model_module": "@jupyter-widgets/controls",
            "_model_module_version": "1.5.0",
            "_model_name": "HTMLModel",
            "_view_count": null,
            "_view_module": "@jupyter-widgets/controls",
            "_view_module_version": "1.5.0",
            "_view_name": "HTMLView",
            "description": "",
            "description_tooltip": null,
            "layout": "IPY_MODEL_f2c1e4a96a704486bcfb5549503084a2",
            "placeholder": "​",
            "style": "IPY_MODEL_a4facf8fc72e4770a226a5520b3edae2",
            "value": " 665/665 [00:00&lt;00:00, 9.52kB/s]"
          }
        },
        "e643403df53449118dc7f1bf2c642cc0": {
          "model_module": "@jupyter-widgets/base",
          "model_name": "LayoutModel",
          "model_module_version": "1.2.0",
          "state": {
            "_model_module": "@jupyter-widgets/base",
            "_model_module_version": "1.2.0",
            "_model_name": "LayoutModel",
            "_view_count": null,
            "_view_module": "@jupyter-widgets/base",
            "_view_module_version": "1.2.0",
            "_view_name": "LayoutView",
            "align_content": null,
            "align_items": null,
            "align_self": null,
            "border": null,
            "bottom": null,
            "display": null,
            "flex": null,
            "flex_flow": null,
            "grid_area": null,
            "grid_auto_columns": null,
            "grid_auto_flow": null,
            "grid_auto_rows": null,
            "grid_column": null,
            "grid_gap": null,
            "grid_row": null,
            "grid_template_areas": null,
            "grid_template_columns": null,
            "grid_template_rows": null,
            "height": null,
            "justify_content": null,
            "justify_items": null,
            "left": null,
            "margin": null,
            "max_height": null,
            "max_width": null,
            "min_height": null,
            "min_width": null,
            "object_fit": null,
            "object_position": null,
            "order": null,
            "overflow": null,
            "overflow_x": null,
            "overflow_y": null,
            "padding": null,
            "right": null,
            "top": null,
            "visibility": null,
            "width": null
          }
        },
        "31d13d335f6e4eec97b29acdf7fcf25c": {
          "model_module": "@jupyter-widgets/base",
          "model_name": "LayoutModel",
          "model_module_version": "1.2.0",
          "state": {
            "_model_module": "@jupyter-widgets/base",
            "_model_module_version": "1.2.0",
            "_model_name": "LayoutModel",
            "_view_count": null,
            "_view_module": "@jupyter-widgets/base",
            "_view_module_version": "1.2.0",
            "_view_name": "LayoutView",
            "align_content": null,
            "align_items": null,
            "align_self": null,
            "border": null,
            "bottom": null,
            "display": null,
            "flex": null,
            "flex_flow": null,
            "grid_area": null,
            "grid_auto_columns": null,
            "grid_auto_flow": null,
            "grid_auto_rows": null,
            "grid_column": null,
            "grid_gap": null,
            "grid_row": null,
            "grid_template_areas": null,
            "grid_template_columns": null,
            "grid_template_rows": null,
            "height": null,
            "justify_content": null,
            "justify_items": null,
            "left": null,
            "margin": null,
            "max_height": null,
            "max_width": null,
            "min_height": null,
            "min_width": null,
            "object_fit": null,
            "object_position": null,
            "order": null,
            "overflow": null,
            "overflow_x": null,
            "overflow_y": null,
            "padding": null,
            "right": null,
            "top": null,
            "visibility": null,
            "width": null
          }
        },
        "0ad92033076041cebcd4e91430244cc8": {
          "model_module": "@jupyter-widgets/controls",
          "model_name": "DescriptionStyleModel",
          "model_module_version": "1.5.0",
          "state": {
            "_model_module": "@jupyter-widgets/controls",
            "_model_module_version": "1.5.0",
            "_model_name": "DescriptionStyleModel",
            "_view_count": null,
            "_view_module": "@jupyter-widgets/base",
            "_view_module_version": "1.2.0",
            "_view_name": "StyleView",
            "description_width": ""
          }
        },
        "c49e12efb03c43a3b2fbf32213cd8aaf": {
          "model_module": "@jupyter-widgets/base",
          "model_name": "LayoutModel",
          "model_module_version": "1.2.0",
          "state": {
            "_model_module": "@jupyter-widgets/base",
            "_model_module_version": "1.2.0",
            "_model_name": "LayoutModel",
            "_view_count": null,
            "_view_module": "@jupyter-widgets/base",
            "_view_module_version": "1.2.0",
            "_view_name": "LayoutView",
            "align_content": null,
            "align_items": null,
            "align_self": null,
            "border": null,
            "bottom": null,
            "display": null,
            "flex": null,
            "flex_flow": null,
            "grid_area": null,
            "grid_auto_columns": null,
            "grid_auto_flow": null,
            "grid_auto_rows": null,
            "grid_column": null,
            "grid_gap": null,
            "grid_row": null,
            "grid_template_areas": null,
            "grid_template_columns": null,
            "grid_template_rows": null,
            "height": null,
            "justify_content": null,
            "justify_items": null,
            "left": null,
            "margin": null,
            "max_height": null,
            "max_width": null,
            "min_height": null,
            "min_width": null,
            "object_fit": null,
            "object_position": null,
            "order": null,
            "overflow": null,
            "overflow_x": null,
            "overflow_y": null,
            "padding": null,
            "right": null,
            "top": null,
            "visibility": null,
            "width": null
          }
        },
        "b222ba4fc79047808a14aa47f553f36b": {
          "model_module": "@jupyter-widgets/controls",
          "model_name": "ProgressStyleModel",
          "model_module_version": "1.5.0",
          "state": {
            "_model_module": "@jupyter-widgets/controls",
            "_model_module_version": "1.5.0",
            "_model_name": "ProgressStyleModel",
            "_view_count": null,
            "_view_module": "@jupyter-widgets/base",
            "_view_module_version": "1.2.0",
            "_view_name": "StyleView",
            "bar_color": null,
            "description_width": ""
          }
        },
        "f2c1e4a96a704486bcfb5549503084a2": {
          "model_module": "@jupyter-widgets/base",
          "model_name": "LayoutModel",
          "model_module_version": "1.2.0",
          "state": {
            "_model_module": "@jupyter-widgets/base",
            "_model_module_version": "1.2.0",
            "_model_name": "LayoutModel",
            "_view_count": null,
            "_view_module": "@jupyter-widgets/base",
            "_view_module_version": "1.2.0",
            "_view_name": "LayoutView",
            "align_content": null,
            "align_items": null,
            "align_self": null,
            "border": null,
            "bottom": null,
            "display": null,
            "flex": null,
            "flex_flow": null,
            "grid_area": null,
            "grid_auto_columns": null,
            "grid_auto_flow": null,
            "grid_auto_rows": null,
            "grid_column": null,
            "grid_gap": null,
            "grid_row": null,
            "grid_template_areas": null,
            "grid_template_columns": null,
            "grid_template_rows": null,
            "height": null,
            "justify_content": null,
            "justify_items": null,
            "left": null,
            "margin": null,
            "max_height": null,
            "max_width": null,
            "min_height": null,
            "min_width": null,
            "object_fit": null,
            "object_position": null,
            "order": null,
            "overflow": null,
            "overflow_x": null,
            "overflow_y": null,
            "padding": null,
            "right": null,
            "top": null,
            "visibility": null,
            "width": null
          }
        },
        "a4facf8fc72e4770a226a5520b3edae2": {
          "model_module": "@jupyter-widgets/controls",
          "model_name": "DescriptionStyleModel",
          "model_module_version": "1.5.0",
          "state": {
            "_model_module": "@jupyter-widgets/controls",
            "_model_module_version": "1.5.0",
            "_model_name": "DescriptionStyleModel",
            "_view_count": null,
            "_view_module": "@jupyter-widgets/base",
            "_view_module_version": "1.2.0",
            "_view_name": "StyleView",
            "description_width": ""
          }
        },
        "ace9c1709e3741749fe604d5d0e91bac": {
          "model_module": "@jupyter-widgets/controls",
          "model_name": "HBoxModel",
          "model_module_version": "1.5.0",
          "state": {
            "_dom_classes": [],
            "_model_module": "@jupyter-widgets/controls",
            "_model_module_version": "1.5.0",
            "_model_name": "HBoxModel",
            "_view_count": null,
            "_view_module": "@jupyter-widgets/controls",
            "_view_module_version": "1.5.0",
            "_view_name": "HBoxView",
            "box_style": "",
            "children": [
              "IPY_MODEL_498d6caeb7ff499092b0afd4b0510200",
              "IPY_MODEL_e2d3b324c52443d69fb946de45bddef0",
              "IPY_MODEL_9e5de79e5bc846cab2a707a85573dccc"
            ],
            "layout": "IPY_MODEL_2ae3429fff58487c9cee87cad60383d5"
          }
        },
        "498d6caeb7ff499092b0afd4b0510200": {
          "model_module": "@jupyter-widgets/controls",
          "model_name": "HTMLModel",
          "model_module_version": "1.5.0",
          "state": {
            "_dom_classes": [],
            "_model_module": "@jupyter-widgets/controls",
            "_model_module_version": "1.5.0",
            "_model_name": "HTMLModel",
            "_view_count": null,
            "_view_module": "@jupyter-widgets/controls",
            "_view_module_version": "1.5.0",
            "_view_name": "HTMLView",
            "description": "",
            "description_tooltip": null,
            "layout": "IPY_MODEL_c80fc047f1ec4f2ebd2cd35e1107a290",
            "placeholder": "​",
            "style": "IPY_MODEL_258979b062ed44aea449b0e129f12a74",
            "value": "Downloading (…)olve/main/vocab.json: 100%"
          }
        },
        "e2d3b324c52443d69fb946de45bddef0": {
          "model_module": "@jupyter-widgets/controls",
          "model_name": "FloatProgressModel",
          "model_module_version": "1.5.0",
          "state": {
            "_dom_classes": [],
            "_model_module": "@jupyter-widgets/controls",
            "_model_module_version": "1.5.0",
            "_model_name": "FloatProgressModel",
            "_view_count": null,
            "_view_module": "@jupyter-widgets/controls",
            "_view_module_version": "1.5.0",
            "_view_name": "ProgressView",
            "bar_style": "success",
            "description": "",
            "description_tooltip": null,
            "layout": "IPY_MODEL_41a9c2c01f9741b9921f7367586c8987",
            "max": 1042301,
            "min": 0,
            "orientation": "horizontal",
            "style": "IPY_MODEL_d1a37ee7f0e14867ac12dc28239ca1c5",
            "value": 1042301
          }
        },
        "9e5de79e5bc846cab2a707a85573dccc": {
          "model_module": "@jupyter-widgets/controls",
          "model_name": "HTMLModel",
          "model_module_version": "1.5.0",
          "state": {
            "_dom_classes": [],
            "_model_module": "@jupyter-widgets/controls",
            "_model_module_version": "1.5.0",
            "_model_name": "HTMLModel",
            "_view_count": null,
            "_view_module": "@jupyter-widgets/controls",
            "_view_module_version": "1.5.0",
            "_view_name": "HTMLView",
            "description": "",
            "description_tooltip": null,
            "layout": "IPY_MODEL_121f841ba8674a72afce31dd175895b8",
            "placeholder": "​",
            "style": "IPY_MODEL_ea79bef37d224a9f800e80679143460e",
            "value": " 1.04M/1.04M [00:00&lt;00:00, 7.44MB/s]"
          }
        },
        "2ae3429fff58487c9cee87cad60383d5": {
          "model_module": "@jupyter-widgets/base",
          "model_name": "LayoutModel",
          "model_module_version": "1.2.0",
          "state": {
            "_model_module": "@jupyter-widgets/base",
            "_model_module_version": "1.2.0",
            "_model_name": "LayoutModel",
            "_view_count": null,
            "_view_module": "@jupyter-widgets/base",
            "_view_module_version": "1.2.0",
            "_view_name": "LayoutView",
            "align_content": null,
            "align_items": null,
            "align_self": null,
            "border": null,
            "bottom": null,
            "display": null,
            "flex": null,
            "flex_flow": null,
            "grid_area": null,
            "grid_auto_columns": null,
            "grid_auto_flow": null,
            "grid_auto_rows": null,
            "grid_column": null,
            "grid_gap": null,
            "grid_row": null,
            "grid_template_areas": null,
            "grid_template_columns": null,
            "grid_template_rows": null,
            "height": null,
            "justify_content": null,
            "justify_items": null,
            "left": null,
            "margin": null,
            "max_height": null,
            "max_width": null,
            "min_height": null,
            "min_width": null,
            "object_fit": null,
            "object_position": null,
            "order": null,
            "overflow": null,
            "overflow_x": null,
            "overflow_y": null,
            "padding": null,
            "right": null,
            "top": null,
            "visibility": null,
            "width": null
          }
        },
        "c80fc047f1ec4f2ebd2cd35e1107a290": {
          "model_module": "@jupyter-widgets/base",
          "model_name": "LayoutModel",
          "model_module_version": "1.2.0",
          "state": {
            "_model_module": "@jupyter-widgets/base",
            "_model_module_version": "1.2.0",
            "_model_name": "LayoutModel",
            "_view_count": null,
            "_view_module": "@jupyter-widgets/base",
            "_view_module_version": "1.2.0",
            "_view_name": "LayoutView",
            "align_content": null,
            "align_items": null,
            "align_self": null,
            "border": null,
            "bottom": null,
            "display": null,
            "flex": null,
            "flex_flow": null,
            "grid_area": null,
            "grid_auto_columns": null,
            "grid_auto_flow": null,
            "grid_auto_rows": null,
            "grid_column": null,
            "grid_gap": null,
            "grid_row": null,
            "grid_template_areas": null,
            "grid_template_columns": null,
            "grid_template_rows": null,
            "height": null,
            "justify_content": null,
            "justify_items": null,
            "left": null,
            "margin": null,
            "max_height": null,
            "max_width": null,
            "min_height": null,
            "min_width": null,
            "object_fit": null,
            "object_position": null,
            "order": null,
            "overflow": null,
            "overflow_x": null,
            "overflow_y": null,
            "padding": null,
            "right": null,
            "top": null,
            "visibility": null,
            "width": null
          }
        },
        "258979b062ed44aea449b0e129f12a74": {
          "model_module": "@jupyter-widgets/controls",
          "model_name": "DescriptionStyleModel",
          "model_module_version": "1.5.0",
          "state": {
            "_model_module": "@jupyter-widgets/controls",
            "_model_module_version": "1.5.0",
            "_model_name": "DescriptionStyleModel",
            "_view_count": null,
            "_view_module": "@jupyter-widgets/base",
            "_view_module_version": "1.2.0",
            "_view_name": "StyleView",
            "description_width": ""
          }
        },
        "41a9c2c01f9741b9921f7367586c8987": {
          "model_module": "@jupyter-widgets/base",
          "model_name": "LayoutModel",
          "model_module_version": "1.2.0",
          "state": {
            "_model_module": "@jupyter-widgets/base",
            "_model_module_version": "1.2.0",
            "_model_name": "LayoutModel",
            "_view_count": null,
            "_view_module": "@jupyter-widgets/base",
            "_view_module_version": "1.2.0",
            "_view_name": "LayoutView",
            "align_content": null,
            "align_items": null,
            "align_self": null,
            "border": null,
            "bottom": null,
            "display": null,
            "flex": null,
            "flex_flow": null,
            "grid_area": null,
            "grid_auto_columns": null,
            "grid_auto_flow": null,
            "grid_auto_rows": null,
            "grid_column": null,
            "grid_gap": null,
            "grid_row": null,
            "grid_template_areas": null,
            "grid_template_columns": null,
            "grid_template_rows": null,
            "height": null,
            "justify_content": null,
            "justify_items": null,
            "left": null,
            "margin": null,
            "max_height": null,
            "max_width": null,
            "min_height": null,
            "min_width": null,
            "object_fit": null,
            "object_position": null,
            "order": null,
            "overflow": null,
            "overflow_x": null,
            "overflow_y": null,
            "padding": null,
            "right": null,
            "top": null,
            "visibility": null,
            "width": null
          }
        },
        "d1a37ee7f0e14867ac12dc28239ca1c5": {
          "model_module": "@jupyter-widgets/controls",
          "model_name": "ProgressStyleModel",
          "model_module_version": "1.5.0",
          "state": {
            "_model_module": "@jupyter-widgets/controls",
            "_model_module_version": "1.5.0",
            "_model_name": "ProgressStyleModel",
            "_view_count": null,
            "_view_module": "@jupyter-widgets/base",
            "_view_module_version": "1.2.0",
            "_view_name": "StyleView",
            "bar_color": null,
            "description_width": ""
          }
        },
        "121f841ba8674a72afce31dd175895b8": {
          "model_module": "@jupyter-widgets/base",
          "model_name": "LayoutModel",
          "model_module_version": "1.2.0",
          "state": {
            "_model_module": "@jupyter-widgets/base",
            "_model_module_version": "1.2.0",
            "_model_name": "LayoutModel",
            "_view_count": null,
            "_view_module": "@jupyter-widgets/base",
            "_view_module_version": "1.2.0",
            "_view_name": "LayoutView",
            "align_content": null,
            "align_items": null,
            "align_self": null,
            "border": null,
            "bottom": null,
            "display": null,
            "flex": null,
            "flex_flow": null,
            "grid_area": null,
            "grid_auto_columns": null,
            "grid_auto_flow": null,
            "grid_auto_rows": null,
            "grid_column": null,
            "grid_gap": null,
            "grid_row": null,
            "grid_template_areas": null,
            "grid_template_columns": null,
            "grid_template_rows": null,
            "height": null,
            "justify_content": null,
            "justify_items": null,
            "left": null,
            "margin": null,
            "max_height": null,
            "max_width": null,
            "min_height": null,
            "min_width": null,
            "object_fit": null,
            "object_position": null,
            "order": null,
            "overflow": null,
            "overflow_x": null,
            "overflow_y": null,
            "padding": null,
            "right": null,
            "top": null,
            "visibility": null,
            "width": null
          }
        },
        "ea79bef37d224a9f800e80679143460e": {
          "model_module": "@jupyter-widgets/controls",
          "model_name": "DescriptionStyleModel",
          "model_module_version": "1.5.0",
          "state": {
            "_model_module": "@jupyter-widgets/controls",
            "_model_module_version": "1.5.0",
            "_model_name": "DescriptionStyleModel",
            "_view_count": null,
            "_view_module": "@jupyter-widgets/base",
            "_view_module_version": "1.2.0",
            "_view_name": "StyleView",
            "description_width": ""
          }
        },
        "c3fb15fb1ca04e1e8f5fc14135092b9d": {
          "model_module": "@jupyter-widgets/controls",
          "model_name": "HBoxModel",
          "model_module_version": "1.5.0",
          "state": {
            "_dom_classes": [],
            "_model_module": "@jupyter-widgets/controls",
            "_model_module_version": "1.5.0",
            "_model_name": "HBoxModel",
            "_view_count": null,
            "_view_module": "@jupyter-widgets/controls",
            "_view_module_version": "1.5.0",
            "_view_name": "HBoxView",
            "box_style": "",
            "children": [
              "IPY_MODEL_4051797095ab46dba91f9dde13967831",
              "IPY_MODEL_ce2eff0f823249b494d06077c17416a6",
              "IPY_MODEL_9f3261f6362442828fe44f3e1eee14bb"
            ],
            "layout": "IPY_MODEL_a6ddcab158424800922a6a70f03282c7"
          }
        },
        "4051797095ab46dba91f9dde13967831": {
          "model_module": "@jupyter-widgets/controls",
          "model_name": "HTMLModel",
          "model_module_version": "1.5.0",
          "state": {
            "_dom_classes": [],
            "_model_module": "@jupyter-widgets/controls",
            "_model_module_version": "1.5.0",
            "_model_name": "HTMLModel",
            "_view_count": null,
            "_view_module": "@jupyter-widgets/controls",
            "_view_module_version": "1.5.0",
            "_view_name": "HTMLView",
            "description": "",
            "description_tooltip": null,
            "layout": "IPY_MODEL_cfcec7df6a1949f5a6323cc5fed88e9e",
            "placeholder": "​",
            "style": "IPY_MODEL_f46e3bb2a4a442b199a399aebb0de471",
            "value": "Downloading (…)olve/main/merges.txt: 100%"
          }
        },
        "ce2eff0f823249b494d06077c17416a6": {
          "model_module": "@jupyter-widgets/controls",
          "model_name": "FloatProgressModel",
          "model_module_version": "1.5.0",
          "state": {
            "_dom_classes": [],
            "_model_module": "@jupyter-widgets/controls",
            "_model_module_version": "1.5.0",
            "_model_name": "FloatProgressModel",
            "_view_count": null,
            "_view_module": "@jupyter-widgets/controls",
            "_view_module_version": "1.5.0",
            "_view_name": "ProgressView",
            "bar_style": "success",
            "description": "",
            "description_tooltip": null,
            "layout": "IPY_MODEL_5cc47cc2cbc2454aa5802a5beff37791",
            "max": 456318,
            "min": 0,
            "orientation": "horizontal",
            "style": "IPY_MODEL_3d42e2f98cbb481badde19f6ae67a057",
            "value": 456318
          }
        },
        "9f3261f6362442828fe44f3e1eee14bb": {
          "model_module": "@jupyter-widgets/controls",
          "model_name": "HTMLModel",
          "model_module_version": "1.5.0",
          "state": {
            "_dom_classes": [],
            "_model_module": "@jupyter-widgets/controls",
            "_model_module_version": "1.5.0",
            "_model_name": "HTMLModel",
            "_view_count": null,
            "_view_module": "@jupyter-widgets/controls",
            "_view_module_version": "1.5.0",
            "_view_name": "HTMLView",
            "description": "",
            "description_tooltip": null,
            "layout": "IPY_MODEL_aa5cb5ce835240b283ac9db3ea6fe42b",
            "placeholder": "​",
            "style": "IPY_MODEL_374d32c618314799a80561177f637d94",
            "value": " 456k/456k [00:00&lt;00:00, 3.78MB/s]"
          }
        },
        "a6ddcab158424800922a6a70f03282c7": {
          "model_module": "@jupyter-widgets/base",
          "model_name": "LayoutModel",
          "model_module_version": "1.2.0",
          "state": {
            "_model_module": "@jupyter-widgets/base",
            "_model_module_version": "1.2.0",
            "_model_name": "LayoutModel",
            "_view_count": null,
            "_view_module": "@jupyter-widgets/base",
            "_view_module_version": "1.2.0",
            "_view_name": "LayoutView",
            "align_content": null,
            "align_items": null,
            "align_self": null,
            "border": null,
            "bottom": null,
            "display": null,
            "flex": null,
            "flex_flow": null,
            "grid_area": null,
            "grid_auto_columns": null,
            "grid_auto_flow": null,
            "grid_auto_rows": null,
            "grid_column": null,
            "grid_gap": null,
            "grid_row": null,
            "grid_template_areas": null,
            "grid_template_columns": null,
            "grid_template_rows": null,
            "height": null,
            "justify_content": null,
            "justify_items": null,
            "left": null,
            "margin": null,
            "max_height": null,
            "max_width": null,
            "min_height": null,
            "min_width": null,
            "object_fit": null,
            "object_position": null,
            "order": null,
            "overflow": null,
            "overflow_x": null,
            "overflow_y": null,
            "padding": null,
            "right": null,
            "top": null,
            "visibility": null,
            "width": null
          }
        },
        "cfcec7df6a1949f5a6323cc5fed88e9e": {
          "model_module": "@jupyter-widgets/base",
          "model_name": "LayoutModel",
          "model_module_version": "1.2.0",
          "state": {
            "_model_module": "@jupyter-widgets/base",
            "_model_module_version": "1.2.0",
            "_model_name": "LayoutModel",
            "_view_count": null,
            "_view_module": "@jupyter-widgets/base",
            "_view_module_version": "1.2.0",
            "_view_name": "LayoutView",
            "align_content": null,
            "align_items": null,
            "align_self": null,
            "border": null,
            "bottom": null,
            "display": null,
            "flex": null,
            "flex_flow": null,
            "grid_area": null,
            "grid_auto_columns": null,
            "grid_auto_flow": null,
            "grid_auto_rows": null,
            "grid_column": null,
            "grid_gap": null,
            "grid_row": null,
            "grid_template_areas": null,
            "grid_template_columns": null,
            "grid_template_rows": null,
            "height": null,
            "justify_content": null,
            "justify_items": null,
            "left": null,
            "margin": null,
            "max_height": null,
            "max_width": null,
            "min_height": null,
            "min_width": null,
            "object_fit": null,
            "object_position": null,
            "order": null,
            "overflow": null,
            "overflow_x": null,
            "overflow_y": null,
            "padding": null,
            "right": null,
            "top": null,
            "visibility": null,
            "width": null
          }
        },
        "f46e3bb2a4a442b199a399aebb0de471": {
          "model_module": "@jupyter-widgets/controls",
          "model_name": "DescriptionStyleModel",
          "model_module_version": "1.5.0",
          "state": {
            "_model_module": "@jupyter-widgets/controls",
            "_model_module_version": "1.5.0",
            "_model_name": "DescriptionStyleModel",
            "_view_count": null,
            "_view_module": "@jupyter-widgets/base",
            "_view_module_version": "1.2.0",
            "_view_name": "StyleView",
            "description_width": ""
          }
        },
        "5cc47cc2cbc2454aa5802a5beff37791": {
          "model_module": "@jupyter-widgets/base",
          "model_name": "LayoutModel",
          "model_module_version": "1.2.0",
          "state": {
            "_model_module": "@jupyter-widgets/base",
            "_model_module_version": "1.2.0",
            "_model_name": "LayoutModel",
            "_view_count": null,
            "_view_module": "@jupyter-widgets/base",
            "_view_module_version": "1.2.0",
            "_view_name": "LayoutView",
            "align_content": null,
            "align_items": null,
            "align_self": null,
            "border": null,
            "bottom": null,
            "display": null,
            "flex": null,
            "flex_flow": null,
            "grid_area": null,
            "grid_auto_columns": null,
            "grid_auto_flow": null,
            "grid_auto_rows": null,
            "grid_column": null,
            "grid_gap": null,
            "grid_row": null,
            "grid_template_areas": null,
            "grid_template_columns": null,
            "grid_template_rows": null,
            "height": null,
            "justify_content": null,
            "justify_items": null,
            "left": null,
            "margin": null,
            "max_height": null,
            "max_width": null,
            "min_height": null,
            "min_width": null,
            "object_fit": null,
            "object_position": null,
            "order": null,
            "overflow": null,
            "overflow_x": null,
            "overflow_y": null,
            "padding": null,
            "right": null,
            "top": null,
            "visibility": null,
            "width": null
          }
        },
        "3d42e2f98cbb481badde19f6ae67a057": {
          "model_module": "@jupyter-widgets/controls",
          "model_name": "ProgressStyleModel",
          "model_module_version": "1.5.0",
          "state": {
            "_model_module": "@jupyter-widgets/controls",
            "_model_module_version": "1.5.0",
            "_model_name": "ProgressStyleModel",
            "_view_count": null,
            "_view_module": "@jupyter-widgets/base",
            "_view_module_version": "1.2.0",
            "_view_name": "StyleView",
            "bar_color": null,
            "description_width": ""
          }
        },
        "aa5cb5ce835240b283ac9db3ea6fe42b": {
          "model_module": "@jupyter-widgets/base",
          "model_name": "LayoutModel",
          "model_module_version": "1.2.0",
          "state": {
            "_model_module": "@jupyter-widgets/base",
            "_model_module_version": "1.2.0",
            "_model_name": "LayoutModel",
            "_view_count": null,
            "_view_module": "@jupyter-widgets/base",
            "_view_module_version": "1.2.0",
            "_view_name": "LayoutView",
            "align_content": null,
            "align_items": null,
            "align_self": null,
            "border": null,
            "bottom": null,
            "display": null,
            "flex": null,
            "flex_flow": null,
            "grid_area": null,
            "grid_auto_columns": null,
            "grid_auto_flow": null,
            "grid_auto_rows": null,
            "grid_column": null,
            "grid_gap": null,
            "grid_row": null,
            "grid_template_areas": null,
            "grid_template_columns": null,
            "grid_template_rows": null,
            "height": null,
            "justify_content": null,
            "justify_items": null,
            "left": null,
            "margin": null,
            "max_height": null,
            "max_width": null,
            "min_height": null,
            "min_width": null,
            "object_fit": null,
            "object_position": null,
            "order": null,
            "overflow": null,
            "overflow_x": null,
            "overflow_y": null,
            "padding": null,
            "right": null,
            "top": null,
            "visibility": null,
            "width": null
          }
        },
        "374d32c618314799a80561177f637d94": {
          "model_module": "@jupyter-widgets/controls",
          "model_name": "DescriptionStyleModel",
          "model_module_version": "1.5.0",
          "state": {
            "_model_module": "@jupyter-widgets/controls",
            "_model_module_version": "1.5.0",
            "_model_name": "DescriptionStyleModel",
            "_view_count": null,
            "_view_module": "@jupyter-widgets/base",
            "_view_module_version": "1.2.0",
            "_view_name": "StyleView",
            "description_width": ""
          }
        },
        "faade1cd1a8246899b85179dfa70e6ad": {
          "model_module": "@jupyter-widgets/controls",
          "model_name": "HBoxModel",
          "model_module_version": "1.5.0",
          "state": {
            "_dom_classes": [],
            "_model_module": "@jupyter-widgets/controls",
            "_model_module_version": "1.5.0",
            "_model_name": "HBoxModel",
            "_view_count": null,
            "_view_module": "@jupyter-widgets/controls",
            "_view_module_version": "1.5.0",
            "_view_name": "HBoxView",
            "box_style": "",
            "children": [
              "IPY_MODEL_f41cefb28fdc45e8b8b6552c9b8480c2",
              "IPY_MODEL_e4d1a911a496442e89ee19cbc16301c0",
              "IPY_MODEL_5576f331a1b648dba59fe81e0b7b35e5"
            ],
            "layout": "IPY_MODEL_62295de1266f4620b3b3ea47cbb8ab95"
          }
        },
        "f41cefb28fdc45e8b8b6552c9b8480c2": {
          "model_module": "@jupyter-widgets/controls",
          "model_name": "HTMLModel",
          "model_module_version": "1.5.0",
          "state": {
            "_dom_classes": [],
            "_model_module": "@jupyter-widgets/controls",
            "_model_module_version": "1.5.0",
            "_model_name": "HTMLModel",
            "_view_count": null,
            "_view_module": "@jupyter-widgets/controls",
            "_view_module_version": "1.5.0",
            "_view_name": "HTMLView",
            "description": "",
            "description_tooltip": null,
            "layout": "IPY_MODEL_6101b6bf223045808a1965967dbc299d",
            "placeholder": "​",
            "style": "IPY_MODEL_deadfe030a1c403c887326389252985e",
            "value": "Downloading (…)/main/tokenizer.json: 100%"
          }
        },
        "e4d1a911a496442e89ee19cbc16301c0": {
          "model_module": "@jupyter-widgets/controls",
          "model_name": "FloatProgressModel",
          "model_module_version": "1.5.0",
          "state": {
            "_dom_classes": [],
            "_model_module": "@jupyter-widgets/controls",
            "_model_module_version": "1.5.0",
            "_model_name": "FloatProgressModel",
            "_view_count": null,
            "_view_module": "@jupyter-widgets/controls",
            "_view_module_version": "1.5.0",
            "_view_name": "ProgressView",
            "bar_style": "success",
            "description": "",
            "description_tooltip": null,
            "layout": "IPY_MODEL_4db275c77ed843d69819f425b5839fe1",
            "max": 1355256,
            "min": 0,
            "orientation": "horizontal",
            "style": "IPY_MODEL_c5653a5c17604605adfd02a4218cd595",
            "value": 1355256
          }
        },
        "5576f331a1b648dba59fe81e0b7b35e5": {
          "model_module": "@jupyter-widgets/controls",
          "model_name": "HTMLModel",
          "model_module_version": "1.5.0",
          "state": {
            "_dom_classes": [],
            "_model_module": "@jupyter-widgets/controls",
            "_model_module_version": "1.5.0",
            "_model_name": "HTMLModel",
            "_view_count": null,
            "_view_module": "@jupyter-widgets/controls",
            "_view_module_version": "1.5.0",
            "_view_name": "HTMLView",
            "description": "",
            "description_tooltip": null,
            "layout": "IPY_MODEL_800d8b7d767349d7b73fa428ad02bbcd",
            "placeholder": "​",
            "style": "IPY_MODEL_10e16749839a453e80b8d2f6e5e40a25",
            "value": " 1.36M/1.36M [00:00&lt;00:00, 10.0MB/s]"
          }
        },
        "62295de1266f4620b3b3ea47cbb8ab95": {
          "model_module": "@jupyter-widgets/base",
          "model_name": "LayoutModel",
          "model_module_version": "1.2.0",
          "state": {
            "_model_module": "@jupyter-widgets/base",
            "_model_module_version": "1.2.0",
            "_model_name": "LayoutModel",
            "_view_count": null,
            "_view_module": "@jupyter-widgets/base",
            "_view_module_version": "1.2.0",
            "_view_name": "LayoutView",
            "align_content": null,
            "align_items": null,
            "align_self": null,
            "border": null,
            "bottom": null,
            "display": null,
            "flex": null,
            "flex_flow": null,
            "grid_area": null,
            "grid_auto_columns": null,
            "grid_auto_flow": null,
            "grid_auto_rows": null,
            "grid_column": null,
            "grid_gap": null,
            "grid_row": null,
            "grid_template_areas": null,
            "grid_template_columns": null,
            "grid_template_rows": null,
            "height": null,
            "justify_content": null,
            "justify_items": null,
            "left": null,
            "margin": null,
            "max_height": null,
            "max_width": null,
            "min_height": null,
            "min_width": null,
            "object_fit": null,
            "object_position": null,
            "order": null,
            "overflow": null,
            "overflow_x": null,
            "overflow_y": null,
            "padding": null,
            "right": null,
            "top": null,
            "visibility": null,
            "width": null
          }
        },
        "6101b6bf223045808a1965967dbc299d": {
          "model_module": "@jupyter-widgets/base",
          "model_name": "LayoutModel",
          "model_module_version": "1.2.0",
          "state": {
            "_model_module": "@jupyter-widgets/base",
            "_model_module_version": "1.2.0",
            "_model_name": "LayoutModel",
            "_view_count": null,
            "_view_module": "@jupyter-widgets/base",
            "_view_module_version": "1.2.0",
            "_view_name": "LayoutView",
            "align_content": null,
            "align_items": null,
            "align_self": null,
            "border": null,
            "bottom": null,
            "display": null,
            "flex": null,
            "flex_flow": null,
            "grid_area": null,
            "grid_auto_columns": null,
            "grid_auto_flow": null,
            "grid_auto_rows": null,
            "grid_column": null,
            "grid_gap": null,
            "grid_row": null,
            "grid_template_areas": null,
            "grid_template_columns": null,
            "grid_template_rows": null,
            "height": null,
            "justify_content": null,
            "justify_items": null,
            "left": null,
            "margin": null,
            "max_height": null,
            "max_width": null,
            "min_height": null,
            "min_width": null,
            "object_fit": null,
            "object_position": null,
            "order": null,
            "overflow": null,
            "overflow_x": null,
            "overflow_y": null,
            "padding": null,
            "right": null,
            "top": null,
            "visibility": null,
            "width": null
          }
        },
        "deadfe030a1c403c887326389252985e": {
          "model_module": "@jupyter-widgets/controls",
          "model_name": "DescriptionStyleModel",
          "model_module_version": "1.5.0",
          "state": {
            "_model_module": "@jupyter-widgets/controls",
            "_model_module_version": "1.5.0",
            "_model_name": "DescriptionStyleModel",
            "_view_count": null,
            "_view_module": "@jupyter-widgets/base",
            "_view_module_version": "1.2.0",
            "_view_name": "StyleView",
            "description_width": ""
          }
        },
        "4db275c77ed843d69819f425b5839fe1": {
          "model_module": "@jupyter-widgets/base",
          "model_name": "LayoutModel",
          "model_module_version": "1.2.0",
          "state": {
            "_model_module": "@jupyter-widgets/base",
            "_model_module_version": "1.2.0",
            "_model_name": "LayoutModel",
            "_view_count": null,
            "_view_module": "@jupyter-widgets/base",
            "_view_module_version": "1.2.0",
            "_view_name": "LayoutView",
            "align_content": null,
            "align_items": null,
            "align_self": null,
            "border": null,
            "bottom": null,
            "display": null,
            "flex": null,
            "flex_flow": null,
            "grid_area": null,
            "grid_auto_columns": null,
            "grid_auto_flow": null,
            "grid_auto_rows": null,
            "grid_column": null,
            "grid_gap": null,
            "grid_row": null,
            "grid_template_areas": null,
            "grid_template_columns": null,
            "grid_template_rows": null,
            "height": null,
            "justify_content": null,
            "justify_items": null,
            "left": null,
            "margin": null,
            "max_height": null,
            "max_width": null,
            "min_height": null,
            "min_width": null,
            "object_fit": null,
            "object_position": null,
            "order": null,
            "overflow": null,
            "overflow_x": null,
            "overflow_y": null,
            "padding": null,
            "right": null,
            "top": null,
            "visibility": null,
            "width": null
          }
        },
        "c5653a5c17604605adfd02a4218cd595": {
          "model_module": "@jupyter-widgets/controls",
          "model_name": "ProgressStyleModel",
          "model_module_version": "1.5.0",
          "state": {
            "_model_module": "@jupyter-widgets/controls",
            "_model_module_version": "1.5.0",
            "_model_name": "ProgressStyleModel",
            "_view_count": null,
            "_view_module": "@jupyter-widgets/base",
            "_view_module_version": "1.2.0",
            "_view_name": "StyleView",
            "bar_color": null,
            "description_width": ""
          }
        },
        "800d8b7d767349d7b73fa428ad02bbcd": {
          "model_module": "@jupyter-widgets/base",
          "model_name": "LayoutModel",
          "model_module_version": "1.2.0",
          "state": {
            "_model_module": "@jupyter-widgets/base",
            "_model_module_version": "1.2.0",
            "_model_name": "LayoutModel",
            "_view_count": null,
            "_view_module": "@jupyter-widgets/base",
            "_view_module_version": "1.2.0",
            "_view_name": "LayoutView",
            "align_content": null,
            "align_items": null,
            "align_self": null,
            "border": null,
            "bottom": null,
            "display": null,
            "flex": null,
            "flex_flow": null,
            "grid_area": null,
            "grid_auto_columns": null,
            "grid_auto_flow": null,
            "grid_auto_rows": null,
            "grid_column": null,
            "grid_gap": null,
            "grid_row": null,
            "grid_template_areas": null,
            "grid_template_columns": null,
            "grid_template_rows": null,
            "height": null,
            "justify_content": null,
            "justify_items": null,
            "left": null,
            "margin": null,
            "max_height": null,
            "max_width": null,
            "min_height": null,
            "min_width": null,
            "object_fit": null,
            "object_position": null,
            "order": null,
            "overflow": null,
            "overflow_x": null,
            "overflow_y": null,
            "padding": null,
            "right": null,
            "top": null,
            "visibility": null,
            "width": null
          }
        },
        "10e16749839a453e80b8d2f6e5e40a25": {
          "model_module": "@jupyter-widgets/controls",
          "model_name": "DescriptionStyleModel",
          "model_module_version": "1.5.0",
          "state": {
            "_model_module": "@jupyter-widgets/controls",
            "_model_module_version": "1.5.0",
            "_model_name": "DescriptionStyleModel",
            "_view_count": null,
            "_view_module": "@jupyter-widgets/base",
            "_view_module_version": "1.2.0",
            "_view_name": "StyleView",
            "description_width": ""
          }
        },
        "222582e6e60645c4b63b4032e4622096": {
          "model_module": "@jupyter-widgets/controls",
          "model_name": "HBoxModel",
          "model_module_version": "1.5.0",
          "state": {
            "_dom_classes": [],
            "_model_module": "@jupyter-widgets/controls",
            "_model_module_version": "1.5.0",
            "_model_name": "HBoxModel",
            "_view_count": null,
            "_view_module": "@jupyter-widgets/controls",
            "_view_module_version": "1.5.0",
            "_view_name": "HBoxView",
            "box_style": "",
            "children": [
              "IPY_MODEL_f738f89064b042f888220940260ea137",
              "IPY_MODEL_39047350a2f84355adcf551b5b442b18",
              "IPY_MODEL_9a1ac10526ff45e38ef77b3b53e5dbff"
            ],
            "layout": "IPY_MODEL_a0b9c9c3e0c846e59381a592500f0469"
          }
        },
        "f738f89064b042f888220940260ea137": {
          "model_module": "@jupyter-widgets/controls",
          "model_name": "HTMLModel",
          "model_module_version": "1.5.0",
          "state": {
            "_dom_classes": [],
            "_model_module": "@jupyter-widgets/controls",
            "_model_module_version": "1.5.0",
            "_model_name": "HTMLModel",
            "_view_count": null,
            "_view_module": "@jupyter-widgets/controls",
            "_view_module_version": "1.5.0",
            "_view_name": "HTMLView",
            "description": "",
            "description_tooltip": null,
            "layout": "IPY_MODEL_76e72796595a405095d1a1e725f7fbf7",
            "placeholder": "​",
            "style": "IPY_MODEL_a41e1661dcd14b29b2cd6c9f3fadf067",
            "value": "Downloading pytorch_model.bin: 100%"
          }
        },
        "39047350a2f84355adcf551b5b442b18": {
          "model_module": "@jupyter-widgets/controls",
          "model_name": "FloatProgressModel",
          "model_module_version": "1.5.0",
          "state": {
            "_dom_classes": [],
            "_model_module": "@jupyter-widgets/controls",
            "_model_module_version": "1.5.0",
            "_model_name": "FloatProgressModel",
            "_view_count": null,
            "_view_module": "@jupyter-widgets/controls",
            "_view_module_version": "1.5.0",
            "_view_name": "ProgressView",
            "bar_style": "success",
            "description": "",
            "description_tooltip": null,
            "layout": "IPY_MODEL_6debf41f7c7843b6a02cb0c2067fbf52",
            "max": 548118077,
            "min": 0,
            "orientation": "horizontal",
            "style": "IPY_MODEL_f9b7b6d54a284e108cd415f4ede8a6ba",
            "value": 548118077
          }
        },
        "9a1ac10526ff45e38ef77b3b53e5dbff": {
          "model_module": "@jupyter-widgets/controls",
          "model_name": "HTMLModel",
          "model_module_version": "1.5.0",
          "state": {
            "_dom_classes": [],
            "_model_module": "@jupyter-widgets/controls",
            "_model_module_version": "1.5.0",
            "_model_name": "HTMLModel",
            "_view_count": null,
            "_view_module": "@jupyter-widgets/controls",
            "_view_module_version": "1.5.0",
            "_view_name": "HTMLView",
            "description": "",
            "description_tooltip": null,
            "layout": "IPY_MODEL_670465b2ced441f0b640d1e81c08e0ac",
            "placeholder": "​",
            "style": "IPY_MODEL_12b3c0c32bb043a4adfd0627d467f897",
            "value": " 548M/548M [00:05&lt;00:00, 122MB/s]"
          }
        },
        "a0b9c9c3e0c846e59381a592500f0469": {
          "model_module": "@jupyter-widgets/base",
          "model_name": "LayoutModel",
          "model_module_version": "1.2.0",
          "state": {
            "_model_module": "@jupyter-widgets/base",
            "_model_module_version": "1.2.0",
            "_model_name": "LayoutModel",
            "_view_count": null,
            "_view_module": "@jupyter-widgets/base",
            "_view_module_version": "1.2.0",
            "_view_name": "LayoutView",
            "align_content": null,
            "align_items": null,
            "align_self": null,
            "border": null,
            "bottom": null,
            "display": null,
            "flex": null,
            "flex_flow": null,
            "grid_area": null,
            "grid_auto_columns": null,
            "grid_auto_flow": null,
            "grid_auto_rows": null,
            "grid_column": null,
            "grid_gap": null,
            "grid_row": null,
            "grid_template_areas": null,
            "grid_template_columns": null,
            "grid_template_rows": null,
            "height": null,
            "justify_content": null,
            "justify_items": null,
            "left": null,
            "margin": null,
            "max_height": null,
            "max_width": null,
            "min_height": null,
            "min_width": null,
            "object_fit": null,
            "object_position": null,
            "order": null,
            "overflow": null,
            "overflow_x": null,
            "overflow_y": null,
            "padding": null,
            "right": null,
            "top": null,
            "visibility": null,
            "width": null
          }
        },
        "76e72796595a405095d1a1e725f7fbf7": {
          "model_module": "@jupyter-widgets/base",
          "model_name": "LayoutModel",
          "model_module_version": "1.2.0",
          "state": {
            "_model_module": "@jupyter-widgets/base",
            "_model_module_version": "1.2.0",
            "_model_name": "LayoutModel",
            "_view_count": null,
            "_view_module": "@jupyter-widgets/base",
            "_view_module_version": "1.2.0",
            "_view_name": "LayoutView",
            "align_content": null,
            "align_items": null,
            "align_self": null,
            "border": null,
            "bottom": null,
            "display": null,
            "flex": null,
            "flex_flow": null,
            "grid_area": null,
            "grid_auto_columns": null,
            "grid_auto_flow": null,
            "grid_auto_rows": null,
            "grid_column": null,
            "grid_gap": null,
            "grid_row": null,
            "grid_template_areas": null,
            "grid_template_columns": null,
            "grid_template_rows": null,
            "height": null,
            "justify_content": null,
            "justify_items": null,
            "left": null,
            "margin": null,
            "max_height": null,
            "max_width": null,
            "min_height": null,
            "min_width": null,
            "object_fit": null,
            "object_position": null,
            "order": null,
            "overflow": null,
            "overflow_x": null,
            "overflow_y": null,
            "padding": null,
            "right": null,
            "top": null,
            "visibility": null,
            "width": null
          }
        },
        "a41e1661dcd14b29b2cd6c9f3fadf067": {
          "model_module": "@jupyter-widgets/controls",
          "model_name": "DescriptionStyleModel",
          "model_module_version": "1.5.0",
          "state": {
            "_model_module": "@jupyter-widgets/controls",
            "_model_module_version": "1.5.0",
            "_model_name": "DescriptionStyleModel",
            "_view_count": null,
            "_view_module": "@jupyter-widgets/base",
            "_view_module_version": "1.2.0",
            "_view_name": "StyleView",
            "description_width": ""
          }
        },
        "6debf41f7c7843b6a02cb0c2067fbf52": {
          "model_module": "@jupyter-widgets/base",
          "model_name": "LayoutModel",
          "model_module_version": "1.2.0",
          "state": {
            "_model_module": "@jupyter-widgets/base",
            "_model_module_version": "1.2.0",
            "_model_name": "LayoutModel",
            "_view_count": null,
            "_view_module": "@jupyter-widgets/base",
            "_view_module_version": "1.2.0",
            "_view_name": "LayoutView",
            "align_content": null,
            "align_items": null,
            "align_self": null,
            "border": null,
            "bottom": null,
            "display": null,
            "flex": null,
            "flex_flow": null,
            "grid_area": null,
            "grid_auto_columns": null,
            "grid_auto_flow": null,
            "grid_auto_rows": null,
            "grid_column": null,
            "grid_gap": null,
            "grid_row": null,
            "grid_template_areas": null,
            "grid_template_columns": null,
            "grid_template_rows": null,
            "height": null,
            "justify_content": null,
            "justify_items": null,
            "left": null,
            "margin": null,
            "max_height": null,
            "max_width": null,
            "min_height": null,
            "min_width": null,
            "object_fit": null,
            "object_position": null,
            "order": null,
            "overflow": null,
            "overflow_x": null,
            "overflow_y": null,
            "padding": null,
            "right": null,
            "top": null,
            "visibility": null,
            "width": null
          }
        },
        "f9b7b6d54a284e108cd415f4ede8a6ba": {
          "model_module": "@jupyter-widgets/controls",
          "model_name": "ProgressStyleModel",
          "model_module_version": "1.5.0",
          "state": {
            "_model_module": "@jupyter-widgets/controls",
            "_model_module_version": "1.5.0",
            "_model_name": "ProgressStyleModel",
            "_view_count": null,
            "_view_module": "@jupyter-widgets/base",
            "_view_module_version": "1.2.0",
            "_view_name": "StyleView",
            "bar_color": null,
            "description_width": ""
          }
        },
        "670465b2ced441f0b640d1e81c08e0ac": {
          "model_module": "@jupyter-widgets/base",
          "model_name": "LayoutModel",
          "model_module_version": "1.2.0",
          "state": {
            "_model_module": "@jupyter-widgets/base",
            "_model_module_version": "1.2.0",
            "_model_name": "LayoutModel",
            "_view_count": null,
            "_view_module": "@jupyter-widgets/base",
            "_view_module_version": "1.2.0",
            "_view_name": "LayoutView",
            "align_content": null,
            "align_items": null,
            "align_self": null,
            "border": null,
            "bottom": null,
            "display": null,
            "flex": null,
            "flex_flow": null,
            "grid_area": null,
            "grid_auto_columns": null,
            "grid_auto_flow": null,
            "grid_auto_rows": null,
            "grid_column": null,
            "grid_gap": null,
            "grid_row": null,
            "grid_template_areas": null,
            "grid_template_columns": null,
            "grid_template_rows": null,
            "height": null,
            "justify_content": null,
            "justify_items": null,
            "left": null,
            "margin": null,
            "max_height": null,
            "max_width": null,
            "min_height": null,
            "min_width": null,
            "object_fit": null,
            "object_position": null,
            "order": null,
            "overflow": null,
            "overflow_x": null,
            "overflow_y": null,
            "padding": null,
            "right": null,
            "top": null,
            "visibility": null,
            "width": null
          }
        },
        "12b3c0c32bb043a4adfd0627d467f897": {
          "model_module": "@jupyter-widgets/controls",
          "model_name": "DescriptionStyleModel",
          "model_module_version": "1.5.0",
          "state": {
            "_model_module": "@jupyter-widgets/controls",
            "_model_module_version": "1.5.0",
            "_model_name": "DescriptionStyleModel",
            "_view_count": null,
            "_view_module": "@jupyter-widgets/base",
            "_view_module_version": "1.2.0",
            "_view_name": "StyleView",
            "description_width": ""
          }
        },
        "e0a09f3a75174787887d85259bf9dece": {
          "model_module": "@jupyter-widgets/controls",
          "model_name": "HBoxModel",
          "model_module_version": "1.5.0",
          "state": {
            "_dom_classes": [],
            "_model_module": "@jupyter-widgets/controls",
            "_model_module_version": "1.5.0",
            "_model_name": "HBoxModel",
            "_view_count": null,
            "_view_module": "@jupyter-widgets/controls",
            "_view_module_version": "1.5.0",
            "_view_name": "HBoxView",
            "box_style": "",
            "children": [
              "IPY_MODEL_c0ead0b526c24dd7889474d7a331f598",
              "IPY_MODEL_37300553aa464f0897f93b6952570bfa",
              "IPY_MODEL_8daccafeb86447b58dcb644f81c1c3c9"
            ],
            "layout": "IPY_MODEL_9c30756b3db543969cd85adc4d14e73b"
          }
        },
        "c0ead0b526c24dd7889474d7a331f598": {
          "model_module": "@jupyter-widgets/controls",
          "model_name": "HTMLModel",
          "model_module_version": "1.5.0",
          "state": {
            "_dom_classes": [],
            "_model_module": "@jupyter-widgets/controls",
            "_model_module_version": "1.5.0",
            "_model_name": "HTMLModel",
            "_view_count": null,
            "_view_module": "@jupyter-widgets/controls",
            "_view_module_version": "1.5.0",
            "_view_name": "HTMLView",
            "description": "",
            "description_tooltip": null,
            "layout": "IPY_MODEL_568a4433c57d4b6a896ef066f25f3087",
            "placeholder": "​",
            "style": "IPY_MODEL_02684e7ea5354f6480679039b9a7e13c",
            "value": "Downloading (…)neration_config.json: 100%"
          }
        },
        "37300553aa464f0897f93b6952570bfa": {
          "model_module": "@jupyter-widgets/controls",
          "model_name": "FloatProgressModel",
          "model_module_version": "1.5.0",
          "state": {
            "_dom_classes": [],
            "_model_module": "@jupyter-widgets/controls",
            "_model_module_version": "1.5.0",
            "_model_name": "FloatProgressModel",
            "_view_count": null,
            "_view_module": "@jupyter-widgets/controls",
            "_view_module_version": "1.5.0",
            "_view_name": "ProgressView",
            "bar_style": "success",
            "description": "",
            "description_tooltip": null,
            "layout": "IPY_MODEL_9eb8d6918f2246dd854541392edaec32",
            "max": 124,
            "min": 0,
            "orientation": "horizontal",
            "style": "IPY_MODEL_9b12740b1b3341fdbeb0986589eda312",
            "value": 124
          }
        },
        "8daccafeb86447b58dcb644f81c1c3c9": {
          "model_module": "@jupyter-widgets/controls",
          "model_name": "HTMLModel",
          "model_module_version": "1.5.0",
          "state": {
            "_dom_classes": [],
            "_model_module": "@jupyter-widgets/controls",
            "_model_module_version": "1.5.0",
            "_model_name": "HTMLModel",
            "_view_count": null,
            "_view_module": "@jupyter-widgets/controls",
            "_view_module_version": "1.5.0",
            "_view_name": "HTMLView",
            "description": "",
            "description_tooltip": null,
            "layout": "IPY_MODEL_7d4419e8590c4b00a78c2b1b09e00288",
            "placeholder": "​",
            "style": "IPY_MODEL_a8de86dc75ef4e6fa5dc5bf1cc2c623c",
            "value": " 124/124 [00:00&lt;00:00, 4.31kB/s]"
          }
        },
        "9c30756b3db543969cd85adc4d14e73b": {
          "model_module": "@jupyter-widgets/base",
          "model_name": "LayoutModel",
          "model_module_version": "1.2.0",
          "state": {
            "_model_module": "@jupyter-widgets/base",
            "_model_module_version": "1.2.0",
            "_model_name": "LayoutModel",
            "_view_count": null,
            "_view_module": "@jupyter-widgets/base",
            "_view_module_version": "1.2.0",
            "_view_name": "LayoutView",
            "align_content": null,
            "align_items": null,
            "align_self": null,
            "border": null,
            "bottom": null,
            "display": null,
            "flex": null,
            "flex_flow": null,
            "grid_area": null,
            "grid_auto_columns": null,
            "grid_auto_flow": null,
            "grid_auto_rows": null,
            "grid_column": null,
            "grid_gap": null,
            "grid_row": null,
            "grid_template_areas": null,
            "grid_template_columns": null,
            "grid_template_rows": null,
            "height": null,
            "justify_content": null,
            "justify_items": null,
            "left": null,
            "margin": null,
            "max_height": null,
            "max_width": null,
            "min_height": null,
            "min_width": null,
            "object_fit": null,
            "object_position": null,
            "order": null,
            "overflow": null,
            "overflow_x": null,
            "overflow_y": null,
            "padding": null,
            "right": null,
            "top": null,
            "visibility": null,
            "width": null
          }
        },
        "568a4433c57d4b6a896ef066f25f3087": {
          "model_module": "@jupyter-widgets/base",
          "model_name": "LayoutModel",
          "model_module_version": "1.2.0",
          "state": {
            "_model_module": "@jupyter-widgets/base",
            "_model_module_version": "1.2.0",
            "_model_name": "LayoutModel",
            "_view_count": null,
            "_view_module": "@jupyter-widgets/base",
            "_view_module_version": "1.2.0",
            "_view_name": "LayoutView",
            "align_content": null,
            "align_items": null,
            "align_self": null,
            "border": null,
            "bottom": null,
            "display": null,
            "flex": null,
            "flex_flow": null,
            "grid_area": null,
            "grid_auto_columns": null,
            "grid_auto_flow": null,
            "grid_auto_rows": null,
            "grid_column": null,
            "grid_gap": null,
            "grid_row": null,
            "grid_template_areas": null,
            "grid_template_columns": null,
            "grid_template_rows": null,
            "height": null,
            "justify_content": null,
            "justify_items": null,
            "left": null,
            "margin": null,
            "max_height": null,
            "max_width": null,
            "min_height": null,
            "min_width": null,
            "object_fit": null,
            "object_position": null,
            "order": null,
            "overflow": null,
            "overflow_x": null,
            "overflow_y": null,
            "padding": null,
            "right": null,
            "top": null,
            "visibility": null,
            "width": null
          }
        },
        "02684e7ea5354f6480679039b9a7e13c": {
          "model_module": "@jupyter-widgets/controls",
          "model_name": "DescriptionStyleModel",
          "model_module_version": "1.5.0",
          "state": {
            "_model_module": "@jupyter-widgets/controls",
            "_model_module_version": "1.5.0",
            "_model_name": "DescriptionStyleModel",
            "_view_count": null,
            "_view_module": "@jupyter-widgets/base",
            "_view_module_version": "1.2.0",
            "_view_name": "StyleView",
            "description_width": ""
          }
        },
        "9eb8d6918f2246dd854541392edaec32": {
          "model_module": "@jupyter-widgets/base",
          "model_name": "LayoutModel",
          "model_module_version": "1.2.0",
          "state": {
            "_model_module": "@jupyter-widgets/base",
            "_model_module_version": "1.2.0",
            "_model_name": "LayoutModel",
            "_view_count": null,
            "_view_module": "@jupyter-widgets/base",
            "_view_module_version": "1.2.0",
            "_view_name": "LayoutView",
            "align_content": null,
            "align_items": null,
            "align_self": null,
            "border": null,
            "bottom": null,
            "display": null,
            "flex": null,
            "flex_flow": null,
            "grid_area": null,
            "grid_auto_columns": null,
            "grid_auto_flow": null,
            "grid_auto_rows": null,
            "grid_column": null,
            "grid_gap": null,
            "grid_row": null,
            "grid_template_areas": null,
            "grid_template_columns": null,
            "grid_template_rows": null,
            "height": null,
            "justify_content": null,
            "justify_items": null,
            "left": null,
            "margin": null,
            "max_height": null,
            "max_width": null,
            "min_height": null,
            "min_width": null,
            "object_fit": null,
            "object_position": null,
            "order": null,
            "overflow": null,
            "overflow_x": null,
            "overflow_y": null,
            "padding": null,
            "right": null,
            "top": null,
            "visibility": null,
            "width": null
          }
        },
        "9b12740b1b3341fdbeb0986589eda312": {
          "model_module": "@jupyter-widgets/controls",
          "model_name": "ProgressStyleModel",
          "model_module_version": "1.5.0",
          "state": {
            "_model_module": "@jupyter-widgets/controls",
            "_model_module_version": "1.5.0",
            "_model_name": "ProgressStyleModel",
            "_view_count": null,
            "_view_module": "@jupyter-widgets/base",
            "_view_module_version": "1.2.0",
            "_view_name": "StyleView",
            "bar_color": null,
            "description_width": ""
          }
        },
        "7d4419e8590c4b00a78c2b1b09e00288": {
          "model_module": "@jupyter-widgets/base",
          "model_name": "LayoutModel",
          "model_module_version": "1.2.0",
          "state": {
            "_model_module": "@jupyter-widgets/base",
            "_model_module_version": "1.2.0",
            "_model_name": "LayoutModel",
            "_view_count": null,
            "_view_module": "@jupyter-widgets/base",
            "_view_module_version": "1.2.0",
            "_view_name": "LayoutView",
            "align_content": null,
            "align_items": null,
            "align_self": null,
            "border": null,
            "bottom": null,
            "display": null,
            "flex": null,
            "flex_flow": null,
            "grid_area": null,
            "grid_auto_columns": null,
            "grid_auto_flow": null,
            "grid_auto_rows": null,
            "grid_column": null,
            "grid_gap": null,
            "grid_row": null,
            "grid_template_areas": null,
            "grid_template_columns": null,
            "grid_template_rows": null,
            "height": null,
            "justify_content": null,
            "justify_items": null,
            "left": null,
            "margin": null,
            "max_height": null,
            "max_width": null,
            "min_height": null,
            "min_width": null,
            "object_fit": null,
            "object_position": null,
            "order": null,
            "overflow": null,
            "overflow_x": null,
            "overflow_y": null,
            "padding": null,
            "right": null,
            "top": null,
            "visibility": null,
            "width": null
          }
        },
        "a8de86dc75ef4e6fa5dc5bf1cc2c623c": {
          "model_module": "@jupyter-widgets/controls",
          "model_name": "DescriptionStyleModel",
          "model_module_version": "1.5.0",
          "state": {
            "_model_module": "@jupyter-widgets/controls",
            "_model_module_version": "1.5.0",
            "_model_name": "DescriptionStyleModel",
            "_view_count": null,
            "_view_module": "@jupyter-widgets/base",
            "_view_module_version": "1.2.0",
            "_view_name": "StyleView",
            "description_width": ""
          }
        }
      }
    }
  },
  "cells": [
    {
      "cell_type": "markdown",
      "metadata": {
        "id": "view-in-github",
        "colab_type": "text"
      },
      "source": [
        "<a href=\"https://colab.research.google.com/github/hr1588/NLP/blob/main/chapter_5.ipynb\" target=\"_parent\"><img src=\"https://colab.research.google.com/assets/colab-badge.svg\" alt=\"Open In Colab\"/></a>"
      ]
    },
    {
      "cell_type": "code",
      "execution_count": 1,
      "metadata": {
        "colab": {
          "base_uri": "https://localhost:8080/"
        },
        "id": "W_MXc-Aw7Aje",
        "outputId": "2ae571bc-1e5c-42ea-ad72-c49a36a4bb86"
      },
      "outputs": [
        {
          "output_type": "stream",
          "name": "stdout",
          "text": [
            "Cloning into 'nlp-with-transformers'...\n",
            "remote: Enumerating objects: 588, done.\u001b[K\n",
            "remote: Counting objects: 100% (19/19), done.\u001b[K\n",
            "remote: Compressing objects: 100% (18/18), done.\u001b[K\n",
            "remote: Total 588 (delta 5), reused 3 (delta 1), pack-reused 569\u001b[K\n",
            "Receiving objects: 100% (588/588), 57.41 MiB | 20.10 MiB/s, done.\n",
            "Resolving deltas: 100% (293/293), done.\n",
            "/content/nlp-with-transformers\n",
            "⏳ Installing base requirements ...\n",
            "✅ Base requirements installed!\n",
            "Using transformers v4.26.1\n",
            "Using datasets v2.10.1\n",
            "Using accelerate v0.17.1\n",
            "Using sentencepiece v0.1.97\n"
          ]
        }
      ],
      "source": [
        "!git clone https://github.com/rickiepark/nlp-with-transformers.git\n",
        "%cd nlp-with-transformers\n",
        "from install import *\n",
        "install_requirements(chapter=5)"
      ]
    },
    {
      "cell_type": "markdown",
      "source": [
        "# 그리디 서치 디코딩"
      ],
      "metadata": {
        "id": "f5wl2_Lx-fzj"
      }
    },
    {
      "cell_type": "code",
      "source": [
        "import torch\n",
        "from transformers import AutoTokenizer, AutoModelForCausalLM\n",
        "\n",
        "device = \"cuda\" if torch.cuda.is_available() else \"cpu\"\n",
        "\n",
        "model_name = \"gpt2\"\n",
        "\n",
        "tokenizer = AutoTokenizer.from_pretrained(model_name)\n",
        "model = AutoModelForCausalLM.from_pretrained(model_name).to(device)"
      ],
      "metadata": {
        "colab": {
          "base_uri": "https://localhost:8080/",
          "height": 209,
          "referenced_widgets": [
            "51715150cf7643f7a7f8816b0ea3be90",
            "2dc9df9d85f2495ca7b73af9c628899a",
            "846ce1e1847647dfab290be0aa454805",
            "328aaa741d6d4a27ab328d378c49180b",
            "e643403df53449118dc7f1bf2c642cc0",
            "31d13d335f6e4eec97b29acdf7fcf25c",
            "0ad92033076041cebcd4e91430244cc8",
            "c49e12efb03c43a3b2fbf32213cd8aaf",
            "b222ba4fc79047808a14aa47f553f36b",
            "f2c1e4a96a704486bcfb5549503084a2",
            "a4facf8fc72e4770a226a5520b3edae2",
            "ace9c1709e3741749fe604d5d0e91bac",
            "498d6caeb7ff499092b0afd4b0510200",
            "e2d3b324c52443d69fb946de45bddef0",
            "9e5de79e5bc846cab2a707a85573dccc",
            "2ae3429fff58487c9cee87cad60383d5",
            "c80fc047f1ec4f2ebd2cd35e1107a290",
            "258979b062ed44aea449b0e129f12a74",
            "41a9c2c01f9741b9921f7367586c8987",
            "d1a37ee7f0e14867ac12dc28239ca1c5",
            "121f841ba8674a72afce31dd175895b8",
            "ea79bef37d224a9f800e80679143460e",
            "c3fb15fb1ca04e1e8f5fc14135092b9d",
            "4051797095ab46dba91f9dde13967831",
            "ce2eff0f823249b494d06077c17416a6",
            "9f3261f6362442828fe44f3e1eee14bb",
            "a6ddcab158424800922a6a70f03282c7",
            "cfcec7df6a1949f5a6323cc5fed88e9e",
            "f46e3bb2a4a442b199a399aebb0de471",
            "5cc47cc2cbc2454aa5802a5beff37791",
            "3d42e2f98cbb481badde19f6ae67a057",
            "aa5cb5ce835240b283ac9db3ea6fe42b",
            "374d32c618314799a80561177f637d94",
            "faade1cd1a8246899b85179dfa70e6ad",
            "f41cefb28fdc45e8b8b6552c9b8480c2",
            "e4d1a911a496442e89ee19cbc16301c0",
            "5576f331a1b648dba59fe81e0b7b35e5",
            "62295de1266f4620b3b3ea47cbb8ab95",
            "6101b6bf223045808a1965967dbc299d",
            "deadfe030a1c403c887326389252985e",
            "4db275c77ed843d69819f425b5839fe1",
            "c5653a5c17604605adfd02a4218cd595",
            "800d8b7d767349d7b73fa428ad02bbcd",
            "10e16749839a453e80b8d2f6e5e40a25",
            "222582e6e60645c4b63b4032e4622096",
            "f738f89064b042f888220940260ea137",
            "39047350a2f84355adcf551b5b442b18",
            "9a1ac10526ff45e38ef77b3b53e5dbff",
            "a0b9c9c3e0c846e59381a592500f0469",
            "76e72796595a405095d1a1e725f7fbf7",
            "a41e1661dcd14b29b2cd6c9f3fadf067",
            "6debf41f7c7843b6a02cb0c2067fbf52",
            "f9b7b6d54a284e108cd415f4ede8a6ba",
            "670465b2ced441f0b640d1e81c08e0ac",
            "12b3c0c32bb043a4adfd0627d467f897",
            "e0a09f3a75174787887d85259bf9dece",
            "c0ead0b526c24dd7889474d7a331f598",
            "37300553aa464f0897f93b6952570bfa",
            "8daccafeb86447b58dcb644f81c1c3c9",
            "9c30756b3db543969cd85adc4d14e73b",
            "568a4433c57d4b6a896ef066f25f3087",
            "02684e7ea5354f6480679039b9a7e13c",
            "9eb8d6918f2246dd854541392edaec32",
            "9b12740b1b3341fdbeb0986589eda312",
            "7d4419e8590c4b00a78c2b1b09e00288",
            "a8de86dc75ef4e6fa5dc5bf1cc2c623c"
          ]
        },
        "id": "PFVgCCH87TDv",
        "outputId": "0c728280-6a55-4556-b482-3a8070aebf57"
      },
      "execution_count": 3,
      "outputs": [
        {
          "output_type": "display_data",
          "data": {
            "text/plain": [
              "Downloading (…)lve/main/config.json:   0%|          | 0.00/665 [00:00<?, ?B/s]"
            ],
            "application/vnd.jupyter.widget-view+json": {
              "version_major": 2,
              "version_minor": 0,
              "model_id": "51715150cf7643f7a7f8816b0ea3be90"
            }
          },
          "metadata": {}
        },
        {
          "output_type": "display_data",
          "data": {
            "text/plain": [
              "Downloading (…)olve/main/vocab.json:   0%|          | 0.00/1.04M [00:00<?, ?B/s]"
            ],
            "application/vnd.jupyter.widget-view+json": {
              "version_major": 2,
              "version_minor": 0,
              "model_id": "ace9c1709e3741749fe604d5d0e91bac"
            }
          },
          "metadata": {}
        },
        {
          "output_type": "display_data",
          "data": {
            "text/plain": [
              "Downloading (…)olve/main/merges.txt:   0%|          | 0.00/456k [00:00<?, ?B/s]"
            ],
            "application/vnd.jupyter.widget-view+json": {
              "version_major": 2,
              "version_minor": 0,
              "model_id": "c3fb15fb1ca04e1e8f5fc14135092b9d"
            }
          },
          "metadata": {}
        },
        {
          "output_type": "display_data",
          "data": {
            "text/plain": [
              "Downloading (…)/main/tokenizer.json:   0%|          | 0.00/1.36M [00:00<?, ?B/s]"
            ],
            "application/vnd.jupyter.widget-view+json": {
              "version_major": 2,
              "version_minor": 0,
              "model_id": "faade1cd1a8246899b85179dfa70e6ad"
            }
          },
          "metadata": {}
        },
        {
          "output_type": "display_data",
          "data": {
            "text/plain": [
              "Downloading pytorch_model.bin:   0%|          | 0.00/548M [00:00<?, ?B/s]"
            ],
            "application/vnd.jupyter.widget-view+json": {
              "version_major": 2,
              "version_minor": 0,
              "model_id": "222582e6e60645c4b63b4032e4622096"
            }
          },
          "metadata": {}
        },
        {
          "output_type": "display_data",
          "data": {
            "text/plain": [
              "Downloading (…)neration_config.json:   0%|          | 0.00/124 [00:00<?, ?B/s]"
            ],
            "application/vnd.jupyter.widget-view+json": {
              "version_major": 2,
              "version_minor": 0,
              "model_id": "e0a09f3a75174787887d85259bf9dece"
            }
          },
          "metadata": {}
        }
      ]
    },
    {
      "cell_type": "code",
      "source": [
        "import pandas as pd\n",
        "\n",
        "input_txt = 'Transformers are the'\n",
        "input_ids = tokenizer(input_txt, return_tensors = 'pt')['input_ids'].to(device)\n",
        "iterations = []\n",
        "n_steps = 8\n",
        "choices_per_step = 5"
      ],
      "metadata": {
        "id": "4CQ9no5F7wvI"
      },
      "execution_count": 4,
      "outputs": []
    },
    {
      "cell_type": "code",
      "source": [
        "input_ids"
      ],
      "metadata": {
        "colab": {
          "base_uri": "https://localhost:8080/"
        },
        "id": "dTVFu_Dv8M8n",
        "outputId": "ff385d04-40a9-4e2e-dcad-cb47543ce421"
      },
      "execution_count": 5,
      "outputs": [
        {
          "output_type": "execute_result",
          "data": {
            "text/plain": [
              "tensor([[41762,   364,   389,   262]], device='cuda:0')"
            ]
          },
          "metadata": {},
          "execution_count": 5
        }
      ]
    },
    {
      "cell_type": "code",
      "source": [
        "tokenizer.decode(input_ids[0])"
      ],
      "metadata": {
        "colab": {
          "base_uri": "https://localhost:8080/",
          "height": 35
        },
        "id": "DHi1Rmso8cQR",
        "outputId": "e5cafb53-ab8c-4615-86ed-2c071fc5d81c"
      },
      "execution_count": 6,
      "outputs": [
        {
          "output_type": "execute_result",
          "data": {
            "text/plain": [
              "'Transformers are the'"
            ],
            "application/vnd.google.colaboratory.intrinsic+json": {
              "type": "string"
            }
          },
          "metadata": {},
          "execution_count": 6
        }
      ]
    },
    {
      "cell_type": "code",
      "source": [
        "with torch.no_grad():\n",
        "    for _ in range(n_steps):\n",
        "        iteration = dict()\n",
        "        iteration['input'] = tokenizer.decode(input_ids[0])\n",
        "        output = model(input_ids = input_ids)\n",
        "        # 첫 번째 배치의 마지막 토큰의 로짓을 선택에 softmax 적용\n",
        "        next_token_logits = output.logits[0,-1,:]\n",
        "        next_token_probs = torch.softmax(next_token_logits, dim=-1)\n",
        "        sorted_ids = torch.argsort(next_token_probs, dim=-1, descending=True)\n",
        "        # 가장 높은 확률의 토큰을 저장\n",
        "        for choice_idx in range(choices_per_step):\n",
        "            token_id = sorted_ids[choice_idx]\n",
        "            token_prob = next_token_probs[token_id].cpu().numpy()\n",
        "            token_choice = (\n",
        "                f\"{tokenizer.decode(token_id)} ({100 * token_prob:.2f}%)\"\n",
        "            )\n",
        "            iteration[f\"Choice {choice_idx+1}\"] = token_choice\n",
        "        # 예측한 다음 토큰을 입력에 추가\n",
        "        input_ids = torch.cat([input_ids, sorted_ids[None, 0, None]], dim=-1)\n",
        "        iterations.append(iteration)\n",
        "        \n",
        "pd.DataFrame(iterations)\n"
      ],
      "metadata": {
        "colab": {
          "base_uri": "https://localhost:8080/",
          "height": 300
        },
        "id": "8GWj_m6H8OL4",
        "outputId": "f9c02454-5139-4d59-d2e3-ab9bf99d79c4"
      },
      "execution_count": 7,
      "outputs": [
        {
          "output_type": "execute_result",
          "data": {
            "text/plain": [
              "                                               input           Choice 1  \\\n",
              "0                               Transformers are the       most (9.76%)   \n",
              "1                          Transformers are the most    common (22.90%)   \n",
              "2                   Transformers are the most common      type (15.06%)   \n",
              "3              Transformers are the most common type        of (83.13%)   \n",
              "4           Transformers are the most common type of   particle (1.55%)   \n",
              "5  Transformers are the most common type of particle         . (14.26%)   \n",
              "6  Transformers are the most common type of parti...      They (17.48%)   \n",
              "7  Transformers are the most common type of parti...       are (38.78%)   \n",
              "\n",
              "            Choice 2            Choice 3          Choice 4  \\\n",
              "0       same (2.94%)        only (2.87%)      best (2.38%)   \n",
              "1   powerful (6.88%)   important (6.32%)   popular (3.95%)   \n",
              "2      types (3.31%)        form (1.91%)       way (1.89%)   \n",
              "3         in (3.16%)           . (1.92%)         , (1.63%)   \n",
              "4     object (1.02%)       light (0.71%)    energy (0.67%)   \n",
              "5        in (11.57%)       that (10.19%)         , (9.57%)   \n",
              "6        \\n (15.19%)         The (7.06%)     These (3.09%)   \n",
              "7       have (8.14%)         can (7.98%)       're (5.04%)   \n",
              "\n",
              "               Choice 5  \n",
              "0         first (1.77%)  \n",
              "1      commonly (2.14%)  \n",
              "2           and (1.49%)  \n",
              "3           for (0.88%)  \n",
              "4       objects (0.66%)  \n",
              "5   accelerator (5.81%)  \n",
              "6            In (3.07%)  \n",
              "7       consist (1.57%)  "
            ],
            "text/html": [
              "\n",
              "  <div id=\"df-1f96d7df-9abc-4d4a-ac67-63da118ca0ce\">\n",
              "    <div class=\"colab-df-container\">\n",
              "      <div>\n",
              "<style scoped>\n",
              "    .dataframe tbody tr th:only-of-type {\n",
              "        vertical-align: middle;\n",
              "    }\n",
              "\n",
              "    .dataframe tbody tr th {\n",
              "        vertical-align: top;\n",
              "    }\n",
              "\n",
              "    .dataframe thead th {\n",
              "        text-align: right;\n",
              "    }\n",
              "</style>\n",
              "<table border=\"1\" class=\"dataframe\">\n",
              "  <thead>\n",
              "    <tr style=\"text-align: right;\">\n",
              "      <th></th>\n",
              "      <th>input</th>\n",
              "      <th>Choice 1</th>\n",
              "      <th>Choice 2</th>\n",
              "      <th>Choice 3</th>\n",
              "      <th>Choice 4</th>\n",
              "      <th>Choice 5</th>\n",
              "    </tr>\n",
              "  </thead>\n",
              "  <tbody>\n",
              "    <tr>\n",
              "      <th>0</th>\n",
              "      <td>Transformers are the</td>\n",
              "      <td>most (9.76%)</td>\n",
              "      <td>same (2.94%)</td>\n",
              "      <td>only (2.87%)</td>\n",
              "      <td>best (2.38%)</td>\n",
              "      <td>first (1.77%)</td>\n",
              "    </tr>\n",
              "    <tr>\n",
              "      <th>1</th>\n",
              "      <td>Transformers are the most</td>\n",
              "      <td>common (22.90%)</td>\n",
              "      <td>powerful (6.88%)</td>\n",
              "      <td>important (6.32%)</td>\n",
              "      <td>popular (3.95%)</td>\n",
              "      <td>commonly (2.14%)</td>\n",
              "    </tr>\n",
              "    <tr>\n",
              "      <th>2</th>\n",
              "      <td>Transformers are the most common</td>\n",
              "      <td>type (15.06%)</td>\n",
              "      <td>types (3.31%)</td>\n",
              "      <td>form (1.91%)</td>\n",
              "      <td>way (1.89%)</td>\n",
              "      <td>and (1.49%)</td>\n",
              "    </tr>\n",
              "    <tr>\n",
              "      <th>3</th>\n",
              "      <td>Transformers are the most common type</td>\n",
              "      <td>of (83.13%)</td>\n",
              "      <td>in (3.16%)</td>\n",
              "      <td>. (1.92%)</td>\n",
              "      <td>, (1.63%)</td>\n",
              "      <td>for (0.88%)</td>\n",
              "    </tr>\n",
              "    <tr>\n",
              "      <th>4</th>\n",
              "      <td>Transformers are the most common type of</td>\n",
              "      <td>particle (1.55%)</td>\n",
              "      <td>object (1.02%)</td>\n",
              "      <td>light (0.71%)</td>\n",
              "      <td>energy (0.67%)</td>\n",
              "      <td>objects (0.66%)</td>\n",
              "    </tr>\n",
              "    <tr>\n",
              "      <th>5</th>\n",
              "      <td>Transformers are the most common type of particle</td>\n",
              "      <td>. (14.26%)</td>\n",
              "      <td>in (11.57%)</td>\n",
              "      <td>that (10.19%)</td>\n",
              "      <td>, (9.57%)</td>\n",
              "      <td>accelerator (5.81%)</td>\n",
              "    </tr>\n",
              "    <tr>\n",
              "      <th>6</th>\n",
              "      <td>Transformers are the most common type of parti...</td>\n",
              "      <td>They (17.48%)</td>\n",
              "      <td>\\n (15.19%)</td>\n",
              "      <td>The (7.06%)</td>\n",
              "      <td>These (3.09%)</td>\n",
              "      <td>In (3.07%)</td>\n",
              "    </tr>\n",
              "    <tr>\n",
              "      <th>7</th>\n",
              "      <td>Transformers are the most common type of parti...</td>\n",
              "      <td>are (38.78%)</td>\n",
              "      <td>have (8.14%)</td>\n",
              "      <td>can (7.98%)</td>\n",
              "      <td>'re (5.04%)</td>\n",
              "      <td>consist (1.57%)</td>\n",
              "    </tr>\n",
              "  </tbody>\n",
              "</table>\n",
              "</div>\n",
              "      <button class=\"colab-df-convert\" onclick=\"convertToInteractive('df-1f96d7df-9abc-4d4a-ac67-63da118ca0ce')\"\n",
              "              title=\"Convert this dataframe to an interactive table.\"\n",
              "              style=\"display:none;\">\n",
              "        \n",
              "  <svg xmlns=\"http://www.w3.org/2000/svg\" height=\"24px\"viewBox=\"0 0 24 24\"\n",
              "       width=\"24px\">\n",
              "    <path d=\"M0 0h24v24H0V0z\" fill=\"none\"/>\n",
              "    <path d=\"M18.56 5.44l.94 2.06.94-2.06 2.06-.94-2.06-.94-.94-2.06-.94 2.06-2.06.94zm-11 1L8.5 8.5l.94-2.06 2.06-.94-2.06-.94L8.5 2.5l-.94 2.06-2.06.94zm10 10l.94 2.06.94-2.06 2.06-.94-2.06-.94-.94-2.06-.94 2.06-2.06.94z\"/><path d=\"M17.41 7.96l-1.37-1.37c-.4-.4-.92-.59-1.43-.59-.52 0-1.04.2-1.43.59L10.3 9.45l-7.72 7.72c-.78.78-.78 2.05 0 2.83L4 21.41c.39.39.9.59 1.41.59.51 0 1.02-.2 1.41-.59l7.78-7.78 2.81-2.81c.8-.78.8-2.07 0-2.86zM5.41 20L4 18.59l7.72-7.72 1.47 1.35L5.41 20z\"/>\n",
              "  </svg>\n",
              "      </button>\n",
              "      \n",
              "  <style>\n",
              "    .colab-df-container {\n",
              "      display:flex;\n",
              "      flex-wrap:wrap;\n",
              "      gap: 12px;\n",
              "    }\n",
              "\n",
              "    .colab-df-convert {\n",
              "      background-color: #E8F0FE;\n",
              "      border: none;\n",
              "      border-radius: 50%;\n",
              "      cursor: pointer;\n",
              "      display: none;\n",
              "      fill: #1967D2;\n",
              "      height: 32px;\n",
              "      padding: 0 0 0 0;\n",
              "      width: 32px;\n",
              "    }\n",
              "\n",
              "    .colab-df-convert:hover {\n",
              "      background-color: #E2EBFA;\n",
              "      box-shadow: 0px 1px 2px rgba(60, 64, 67, 0.3), 0px 1px 3px 1px rgba(60, 64, 67, 0.15);\n",
              "      fill: #174EA6;\n",
              "    }\n",
              "\n",
              "    [theme=dark] .colab-df-convert {\n",
              "      background-color: #3B4455;\n",
              "      fill: #D2E3FC;\n",
              "    }\n",
              "\n",
              "    [theme=dark] .colab-df-convert:hover {\n",
              "      background-color: #434B5C;\n",
              "      box-shadow: 0px 1px 3px 1px rgba(0, 0, 0, 0.15);\n",
              "      filter: drop-shadow(0px 1px 2px rgba(0, 0, 0, 0.3));\n",
              "      fill: #FFFFFF;\n",
              "    }\n",
              "  </style>\n",
              "\n",
              "      <script>\n",
              "        const buttonEl =\n",
              "          document.querySelector('#df-1f96d7df-9abc-4d4a-ac67-63da118ca0ce button.colab-df-convert');\n",
              "        buttonEl.style.display =\n",
              "          google.colab.kernel.accessAllowed ? 'block' : 'none';\n",
              "\n",
              "        async function convertToInteractive(key) {\n",
              "          const element = document.querySelector('#df-1f96d7df-9abc-4d4a-ac67-63da118ca0ce');\n",
              "          const dataTable =\n",
              "            await google.colab.kernel.invokeFunction('convertToInteractive',\n",
              "                                                     [key], {});\n",
              "          if (!dataTable) return;\n",
              "\n",
              "          const docLinkHtml = 'Like what you see? Visit the ' +\n",
              "            '<a target=\"_blank\" href=https://colab.research.google.com/notebooks/data_table.ipynb>data table notebook</a>'\n",
              "            + ' to learn more about interactive tables.';\n",
              "          element.innerHTML = '';\n",
              "          dataTable['output_type'] = 'display_data';\n",
              "          await google.colab.output.renderOutput(dataTable, element);\n",
              "          const docLink = document.createElement('div');\n",
              "          docLink.innerHTML = docLinkHtml;\n",
              "          element.appendChild(docLink);\n",
              "        }\n",
              "      </script>\n",
              "    </div>\n",
              "  </div>\n",
              "  "
            ]
          },
          "metadata": {},
          "execution_count": 7
        }
      ]
    },
    {
      "cell_type": "code",
      "source": [
        "next_token_logits"
      ],
      "metadata": {
        "colab": {
          "base_uri": "https://localhost:8080/"
        },
        "id": "e-m7nVp39EaL",
        "outputId": "6daeddb2-330f-488f-9dc1-05796b8c7042"
      },
      "execution_count": 11,
      "outputs": [
        {
          "output_type": "execute_result",
          "data": {
            "text/plain": [
              "tensor([-128.7654, -127.9221, -130.6394,  ..., -138.0312, -130.7539,\n",
              "        -128.6092], device='cuda:0')"
            ]
          },
          "metadata": {},
          "execution_count": 11
        }
      ]
    },
    {
      "cell_type": "code",
      "source": [
        "next_token_logits.shape # gpt2의 \"vocab_size\": 50257"
      ],
      "metadata": {
        "colab": {
          "base_uri": "https://localhost:8080/"
        },
        "id": "ZHtsXyx48-if",
        "outputId": "5f7156fe-7f06-4966-83f1-cab0d53a7c9c"
      },
      "execution_count": 10,
      "outputs": [
        {
          "output_type": "execute_result",
          "data": {
            "text/plain": [
              "torch.Size([50257])"
            ]
          },
          "metadata": {},
          "execution_count": 10
        }
      ]
    },
    {
      "cell_type": "code",
      "source": [
        "next_token_probs"
      ],
      "metadata": {
        "colab": {
          "base_uri": "https://localhost:8080/"
        },
        "id": "_DKo8vhe8_T2",
        "outputId": "fb8c1af8-e2dd-40b1-d6e0-0b86ccf6366e"
      },
      "execution_count": 9,
      "outputs": [
        {
          "output_type": "execute_result",
          "data": {
            "text/plain": [
              "tensor([6.8795e-07, 1.5988e-06, 1.0560e-07,  ..., 6.5080e-11, 9.4177e-08,\n",
              "        8.0427e-07], device='cuda:0')"
            ]
          },
          "metadata": {},
          "execution_count": 9
        }
      ]
    },
    {
      "cell_type": "code",
      "source": [
        "next_token_probs.shape"
      ],
      "metadata": {
        "colab": {
          "base_uri": "https://localhost:8080/"
        },
        "id": "zREn7M5m9G52",
        "outputId": "37aaaa4e-aeaf-4d07-8004-23261dc35dbc"
      },
      "execution_count": 12,
      "outputs": [
        {
          "output_type": "execute_result",
          "data": {
            "text/plain": [
              "torch.Size([50257])"
            ]
          },
          "metadata": {},
          "execution_count": 12
        }
      ]
    },
    {
      "cell_type": "code",
      "source": [
        "input_ids = tokenizer(input_txt, return_tensors = 'pt')['input_ids'].to(device)\n",
        "output = model.generate(input_ids, max_new_tokens = n_steps, do_sample = False) # 샘플링 전략 사용"
      ],
      "metadata": {
        "id": "gkvVvsRu9I13"
      },
      "execution_count": 21,
      "outputs": []
    },
    {
      "cell_type": "code",
      "source": [
        "output"
      ],
      "metadata": {
        "colab": {
          "base_uri": "https://localhost:8080/"
        },
        "id": "12GjvTE09hro",
        "outputId": "31b898c5-3e3d-4b6f-bb89-6bcbd0c29d9e"
      },
      "execution_count": 22,
      "outputs": [
        {
          "output_type": "execute_result",
          "data": {
            "text/plain": [
              "tensor([[41762,   364,   389,   262,   749,  2219,  2099,   286, 18758,    13,\n",
              "          1119,   389]], device='cuda:0')"
            ]
          },
          "metadata": {},
          "execution_count": 22
        }
      ]
    },
    {
      "cell_type": "code",
      "source": [
        "tokenizer.decode(output[0])"
      ],
      "metadata": {
        "colab": {
          "base_uri": "https://localhost:8080/",
          "height": 35
        },
        "id": "FYb4Ti3F9vjQ",
        "outputId": "e4e576b2-e784-4c2d-9f9d-2c73b48d8d2d"
      },
      "execution_count": 23,
      "outputs": [
        {
          "output_type": "execute_result",
          "data": {
            "text/plain": [
              "'Transformers are the most common type of particle. They are'"
            ],
            "application/vnd.google.colaboratory.intrinsic+json": {
              "type": "string"
            }
          },
          "metadata": {},
          "execution_count": 23
        }
      ]
    },
    {
      "cell_type": "code",
      "source": [
        "max_length = 128\n",
        "input_txt = \"\"\"In a shocking finding, scientist discovered \\\n",
        "a herd of unicorns living in a remote, previously unexplored \\\n",
        "valley, in the Andes Mountains. Even more surprising to the \\\n",
        "researchers was the fact that the unicorns spoke perfect English.\\n\\n\n",
        "\"\"\"\n",
        "input_ids = tokenizer(input_txt, return_tensors=\"pt\")[\"input_ids\"].to(device)\n",
        "output_greedy = model.generate(input_ids, max_length=max_length, \n",
        "                               do_sample=False)\n",
        "print(tokenizer.decode(output_greedy[0]))"
      ],
      "metadata": {
        "colab": {
          "base_uri": "https://localhost:8080/"
        },
        "id": "ZuJPftBk-SuD",
        "outputId": "2fbc2adb-0a6c-4a4c-ff8c-8b7aa409cc73"
      },
      "execution_count": 24,
      "outputs": [
        {
          "output_type": "stream",
          "name": "stdout",
          "text": [
            "In a shocking finding, scientist discovered a herd of unicorns living in a\n",
            "remote, previously unexplored valley, in the Andes Mountains. Even more\n",
            "surprising to the researchers was the fact that the unicorns spoke perfect\n",
            "English.\n",
            "\n",
            "\n",
            "\"The unicorns were very intelligent, and they were very intelligent,\" said Dr.\n",
            "David S. Siegel, a professor of anthropology at the University of California,\n",
            "Berkeley. \"They were very intelligent, and they were very intelligent, and they\n",
            "were very intelligent, and they were very intelligent, and they were very\n",
            "intelligent, and they were very intelligent, and they were very intelligent, and\n",
            "they were very\n"
          ]
        }
      ]
    },
    {
      "cell_type": "markdown",
      "source": [
        "# 빔 서치 디코딩"
      ],
      "metadata": {
        "id": "2an7Chyd-htn"
      }
    },
    {
      "cell_type": "code",
      "source": [
        "0.5 ** 1024"
      ],
      "metadata": {
        "colab": {
          "base_uri": "https://localhost:8080/"
        },
        "id": "hjN2f6TE-UZI",
        "outputId": "3576df58-6316-49a0-fad6-f28befdeed02"
      },
      "execution_count": 25,
      "outputs": [
        {
          "output_type": "execute_result",
          "data": {
            "text/plain": [
              "5.562684646268003e-309"
            ]
          },
          "metadata": {},
          "execution_count": 25
        }
      ]
    },
    {
      "cell_type": "code",
      "source": [
        "import numpy as np\n",
        "\n",
        "sum([np.log(0.5)] * 1024)"
      ],
      "metadata": {
        "colab": {
          "base_uri": "https://localhost:8080/"
        },
        "id": "vdWwEO2O-mF4",
        "outputId": "a27e35c9-3cd0-4bda-99e2-5df78775b5b8"
      },
      "execution_count": 26,
      "outputs": [
        {
          "output_type": "execute_result",
          "data": {
            "text/plain": [
              "-709.7827128933695"
            ]
          },
          "metadata": {},
          "execution_count": 26
        }
      ]
    },
    {
      "cell_type": "code",
      "source": [
        "import torch.nn.functional as F\n",
        "\n",
        "def log_probs_from_logits(logits, labels):\n",
        "    logp = F.log_softmax(logits, dim=-1)\n",
        "    logp_label = torch.gather(logp, 2, labels.unsqueeze(2)).squeeze(-1)\n",
        "    return logp_label"
      ],
      "metadata": {
        "id": "GuDji-_7-oTA"
      },
      "execution_count": 27,
      "outputs": []
    },
    {
      "cell_type": "code",
      "source": [
        "def sequence_logprob(model, labels, input_len=0):\n",
        "    with torch.no_grad():\n",
        "        output = model(labels)\n",
        "        log_probs = log_probs_from_logits(\n",
        "            output.logits[:, :-1, :], labels[:, 1:])\n",
        "        seq_log_prob = torch.sum(log_probs[:, input_len:])\n",
        "    return seq_log_prob.cpu().numpy()"
      ],
      "metadata": {
        "id": "SNWISLWZ-0M_"
      },
      "execution_count": 28,
      "outputs": []
    },
    {
      "cell_type": "code",
      "source": [
        "logp = sequence_logprob(model, output_greedy, input_len=len(input_ids[0]))\n",
        "print(tokenizer.decode(output_greedy[0]))\n",
        "print(f\"\\n로그 확률: {logp:.2f}\")"
      ],
      "metadata": {
        "colab": {
          "base_uri": "https://localhost:8080/"
        },
        "id": "BHLLv38Y-2so",
        "outputId": "12c335a0-850a-42dd-eb21-5cdb8d8573c6"
      },
      "execution_count": 29,
      "outputs": [
        {
          "output_type": "stream",
          "name": "stdout",
          "text": [
            "In a shocking finding, scientist discovered a herd of unicorns living in a\n",
            "remote, previously unexplored valley, in the Andes Mountains. Even more\n",
            "surprising to the researchers was the fact that the unicorns spoke perfect\n",
            "English.\n",
            "\n",
            "\n",
            "\"The unicorns were very intelligent, and they were very intelligent,\" said Dr.\n",
            "David S. Siegel, a professor of anthropology at the University of California,\n",
            "Berkeley. \"They were very intelligent, and they were very intelligent, and they\n",
            "were very intelligent, and they were very intelligent, and they were very\n",
            "intelligent, and they were very intelligent, and they were very intelligent, and\n",
            "they were very\n",
            "\n",
            "로그 확률: -83.33\n"
          ]
        }
      ]
    },
    {
      "cell_type": "code",
      "source": [
        "output_beam = model.generate(input_ids, max_length=max_length, num_beams=4, #1보다 큰 값을 지정, 1이면 greedy와 동일\n",
        "                             do_sample=False)\n",
        "logp = sequence_logprob(model, output_beam, input_len=len(input_ids[0]))\n",
        "print(tokenizer.decode(output_beam[0]))\n",
        "print(f\"\\n로그 확률: {logp:.2f}\")"
      ],
      "metadata": {
        "colab": {
          "base_uri": "https://localhost:8080/"
        },
        "id": "aSxOPzRY-7s3",
        "outputId": "183e4272-7da5-4dd8-8288-7f2d23644e23"
      },
      "execution_count": 32,
      "outputs": [
        {
          "output_type": "stream",
          "name": "stdout",
          "text": [
            "In a shocking finding, scientist discovered a herd of unicorns living in a\n",
            "remote, previously unexplored valley, in the Andes Mountains. Even more\n",
            "surprising to the researchers was the fact that the unicorns spoke perfect\n",
            "English.\n",
            "\n",
            "\n",
            "According to the researchers, the unicorns were able to communicate with each\n",
            "other in a way that was similar to that of humans. The unicorns were able to\n",
            "communicate with each other in a way that was similar to that of humans. The\n",
            "unicorns were able to communicate with each other in a way that was similar to\n",
            "that of humans.\n",
            "\n",
            "The researchers found that the unicorns were able to communicate\n",
            "\n",
            "로그 확률: -53.20\n"
          ]
        }
      ]
    },
    {
      "cell_type": "code",
      "source": [
        "output_beam = model.generate(input_ids, max_length=max_length, num_beams=4, \n",
        "                             do_sample=False, no_repeat_ngram_size=2) # 2-gram의 어구가 반복되지 않도록 설정함\n",
        "\n",
        "logp = sequence_logprob(model, output_beam, input_len=len(input_ids[0]))\n",
        "print(tokenizer.decode(output_beam[0]))\n",
        "print(f\"\\n로그 확률: {logp:.2f}\") # n-gram 패널티를 주면 오히려 확률이 감소"
      ],
      "metadata": {
        "colab": {
          "base_uri": "https://localhost:8080/"
        },
        "id": "5R9Rpy77_rl3",
        "outputId": "905d1afd-e697-46b8-8f43-817fc1628989"
      },
      "execution_count": 34,
      "outputs": [
        {
          "output_type": "stream",
          "name": "stdout",
          "text": [
            "In a shocking finding, scientist discovered a herd of unicorns living in a\n",
            "remote, previously unexplored valley, in the Andes Mountains. Even more\n",
            "surprising to the researchers was the fact that the unicorns spoke perfect\n",
            "English.\n",
            "\n",
            "\n",
            "The researchers, from the University of California, San Diego, and the National\n",
            "Science Foundation (NSF) in Boulder, Colorado, were able to translate the words\n",
            "of the unicorn into English, which they then translated into Spanish.\n",
            "\n",
            "\"This is the first time that we have translated a word into a language other\n",
            "than English,\" said study co-author Dr. David J. Karpeles,\n",
            "\n",
            "로그 확률: -103.69\n"
          ]
        }
      ]
    },
    {
      "cell_type": "code",
      "source": [
        "output_beam = model.generate(input_ids, max_length=max_length, num_beams=4, \n",
        "    no_repeat_ngram_size=2, num_return_sequences=4, # 개수만큼의 문장을 리턴, 이때 num_beams와 파라미터가 동일해야 함.\n",
        "    early_stopping=True)\n",
        "\n",
        "logp = sequence_logprob(model, output_beam, input_len=len(input_ids[0]))\n",
        "print(tokenizer.decode(output_beam[0]))\n",
        "print(f\"\\n로그 확률: {logp:.2f}\")"
      ],
      "metadata": {
        "colab": {
          "base_uri": "https://localhost:8080/"
        },
        "id": "qzL8BTnv-mQ5",
        "outputId": "699294dc-8df8-42dd-d0c9-280cf0a8c89a"
      },
      "execution_count": 36,
      "outputs": [
        {
          "output_type": "stream",
          "name": "stdout",
          "text": [
            "In a shocking finding, scientist discovered a herd of unicorns living in a\n",
            "remote, previously unexplored valley, in the Andes Mountains. Even more\n",
            "surprising to the researchers was the fact that the unicorns spoke perfect\n",
            "English.\n",
            "\n",
            "\n",
            "The researchers, from the University of California, San Diego, and the National\n",
            "Science Foundation (NSF) in Boulder, Colorado, were able to translate the words\n",
            "of the unicorn into English, which they then translated into Spanish.\n",
            "\n",
            "\"This is the first time that we have translated a word into a language other\n",
            "than English,\" said study co-author Dr. David J. Karpeles,\n",
            "\n",
            "로그 확률: -417.31\n"
          ]
        }
      ]
    },
    {
      "cell_type": "markdown",
      "source": [
        "# 샘플링"
      ],
      "metadata": {
        "id": "Q0OkHHuTBEzA"
      }
    },
    {
      "cell_type": "code",
      "source": [
        "import matplotlib.pyplot as plt\n",
        "import numpy as np\n",
        "\n",
        "def softmax(logits, T=1):\n",
        "    e_x = np.exp(logits / T)\n",
        "    return e_x / e_x.sum()\n",
        "\n",
        "logits = np.exp(np.random.random(1000))\n",
        "sorted_logits = np.sort(logits)[::-1]\n",
        "x = np.arange(1000)\n",
        "\n",
        "for T in [0.5, 1.0, 2.0]:\n",
        "    plt.step(x, softmax(sorted_logits, T), label=f\"T={T}\")\n",
        "plt.legend(loc=\"best\")\n",
        "plt.xlabel(\"Sorted token probabilities\")\n",
        "plt.ylabel(\"Probability\")\n",
        "plt.show() # 세 개의 온도에서 랜덤하게 생성한 토큰 확률의 분포"
      ],
      "metadata": {
        "colab": {
          "base_uri": "https://localhost:8080/",
          "height": 375
        },
        "id": "6glNLHVb-mTP",
        "outputId": "be501c69-9c46-48bc-bd96-211b4c71d46f"
      },
      "execution_count": 38,
      "outputs": [
        {
          "output_type": "display_data",
          "data": {
            "text/plain": [
              "<Figure size 432x288 with 1 Axes>"
            ],
            "image/svg+xml": "<?xml version=\"1.0\" encoding=\"utf-8\" standalone=\"no\"?>\n<!DOCTYPE svg PUBLIC \"-//W3C//DTD SVG 1.1//EN\"\n  \"http://www.w3.org/Graphics/SVG/1.1/DTD/svg11.dtd\">\n<svg xmlns:xlink=\"http://www.w3.org/1999/xlink\" width=\"406.523986pt\" height=\"266.0675pt\" viewBox=\"0 0 406.523986 266.0675\" xmlns=\"http://www.w3.org/2000/svg\" version=\"1.1\">\n <metadata>\n  <rdf:RDF xmlns:dc=\"http://purl.org/dc/elements/1.1/\" xmlns:cc=\"http://creativecommons.org/ns#\" xmlns:rdf=\"http://www.w3.org/1999/02/22-rdf-syntax-ns#\">\n   <cc:Work>\n    <dc:type rdf:resource=\"http://purl.org/dc/dcmitype/StillImage\"/>\n    <dc:date>2023-03-15T02:07:07.525438</dc:date>\n    <dc:format>image/svg+xml</dc:format>\n    <dc:creator>\n     <cc:Agent>\n      <dc:title>Matplotlib v3.5.3, https://matplotlib.org/</dc:title>\n     </cc:Agent>\n    </dc:creator>\n   </cc:Work>\n  </rdf:RDF>\n </metadata>\n <defs>\n  <style type=\"text/css\">*{stroke-linejoin: round; stroke-linecap: butt}</style>\n </defs>\n <g id=\"figure_1\">\n  <g id=\"patch_1\">\n   <path d=\"M 0 266.0675 \nL 406.523986 266.0675 \nL 406.523986 0 \nL 0 0 \nL 0 266.0675 \nz\n\" style=\"fill: none\"/>\n  </g>\n  <g id=\"axes_1\">\n   <g id=\"patch_2\">\n    <path d=\"M 64.1675 224.64 \nL 398.9675 224.64 \nL 398.9675 7.2 \nL 64.1675 7.2 \nz\n\" style=\"fill: #ffffff\"/>\n   </g>\n   <g id=\"matplotlib.axis_1\">\n    <g id=\"xtick_1\">\n     <g id=\"line2d_1\">\n      <defs>\n       <path id=\"m8d31495a95\" d=\"M 0 0 \nL 0 3.5 \n\" style=\"stroke: #000000; stroke-width: 0.8\"/>\n      </defs>\n      <g>\n       <use xlink:href=\"#m8d31495a95\" x=\"79.385682\" y=\"224.64\" style=\"stroke: #000000; stroke-width: 0.8\"/>\n      </g>\n     </g>\n     <g id=\"text_1\">\n      <!-- 0 -->\n      <g transform=\"translate(75.568182 240.758125)scale(0.12 -0.12)\">\n       <defs>\n        <path id=\"DejaVuSans-30\" d=\"M 2034 4250 \nQ 1547 4250 1301 3770 \nQ 1056 3291 1056 2328 \nQ 1056 1369 1301 889 \nQ 1547 409 2034 409 \nQ 2525 409 2770 889 \nQ 3016 1369 3016 2328 \nQ 3016 3291 2770 3770 \nQ 2525 4250 2034 4250 \nz\nM 2034 4750 \nQ 2819 4750 3233 4129 \nQ 3647 3509 3647 2328 \nQ 3647 1150 3233 529 \nQ 2819 -91 2034 -91 \nQ 1250 -91 836 529 \nQ 422 1150 422 2328 \nQ 422 3509 836 4129 \nQ 1250 4750 2034 4750 \nz\n\" transform=\"scale(0.015625)\"/>\n       </defs>\n       <use xlink:href=\"#DejaVuSans-30\"/>\n      </g>\n     </g>\n    </g>\n    <g id=\"xtick_2\">\n     <g id=\"line2d_2\">\n      <g>\n       <use xlink:href=\"#m8d31495a95\" x=\"140.319343\" y=\"224.64\" style=\"stroke: #000000; stroke-width: 0.8\"/>\n      </g>\n     </g>\n     <g id=\"text_2\">\n      <!-- 200 -->\n      <g transform=\"translate(128.866843 240.758125)scale(0.12 -0.12)\">\n       <defs>\n        <path id=\"DejaVuSans-32\" d=\"M 1228 531 \nL 3431 531 \nL 3431 0 \nL 469 0 \nL 469 531 \nQ 828 903 1448 1529 \nQ 2069 2156 2228 2338 \nQ 2531 2678 2651 2914 \nQ 2772 3150 2772 3378 \nQ 2772 3750 2511 3984 \nQ 2250 4219 1831 4219 \nQ 1534 4219 1204 4116 \nQ 875 4013 500 3803 \nL 500 4441 \nQ 881 4594 1212 4672 \nQ 1544 4750 1819 4750 \nQ 2544 4750 2975 4387 \nQ 3406 4025 3406 3419 \nQ 3406 3131 3298 2873 \nQ 3191 2616 2906 2266 \nQ 2828 2175 2409 1742 \nQ 1991 1309 1228 531 \nz\n\" transform=\"scale(0.015625)\"/>\n       </defs>\n       <use xlink:href=\"#DejaVuSans-32\"/>\n       <use xlink:href=\"#DejaVuSans-30\" x=\"63.623047\"/>\n       <use xlink:href=\"#DejaVuSans-30\" x=\"127.246094\"/>\n      </g>\n     </g>\n    </g>\n    <g id=\"xtick_3\">\n     <g id=\"line2d_3\">\n      <g>\n       <use xlink:href=\"#m8d31495a95\" x=\"201.253004\" y=\"224.64\" style=\"stroke: #000000; stroke-width: 0.8\"/>\n      </g>\n     </g>\n     <g id=\"text_3\">\n      <!-- 400 -->\n      <g transform=\"translate(189.800504 240.758125)scale(0.12 -0.12)\">\n       <defs>\n        <path id=\"DejaVuSans-34\" d=\"M 2419 4116 \nL 825 1625 \nL 2419 1625 \nL 2419 4116 \nz\nM 2253 4666 \nL 3047 4666 \nL 3047 1625 \nL 3713 1625 \nL 3713 1100 \nL 3047 1100 \nL 3047 0 \nL 2419 0 \nL 2419 1100 \nL 313 1100 \nL 313 1709 \nL 2253 4666 \nz\n\" transform=\"scale(0.015625)\"/>\n       </defs>\n       <use xlink:href=\"#DejaVuSans-34\"/>\n       <use xlink:href=\"#DejaVuSans-30\" x=\"63.623047\"/>\n       <use xlink:href=\"#DejaVuSans-30\" x=\"127.246094\"/>\n      </g>\n     </g>\n    </g>\n    <g id=\"xtick_4\">\n     <g id=\"line2d_4\">\n      <g>\n       <use xlink:href=\"#m8d31495a95\" x=\"262.186665\" y=\"224.64\" style=\"stroke: #000000; stroke-width: 0.8\"/>\n      </g>\n     </g>\n     <g id=\"text_4\">\n      <!-- 600 -->\n      <g transform=\"translate(250.734165 240.758125)scale(0.12 -0.12)\">\n       <defs>\n        <path id=\"DejaVuSans-36\" d=\"M 2113 2584 \nQ 1688 2584 1439 2293 \nQ 1191 2003 1191 1497 \nQ 1191 994 1439 701 \nQ 1688 409 2113 409 \nQ 2538 409 2786 701 \nQ 3034 994 3034 1497 \nQ 3034 2003 2786 2293 \nQ 2538 2584 2113 2584 \nz\nM 3366 4563 \nL 3366 3988 \nQ 3128 4100 2886 4159 \nQ 2644 4219 2406 4219 \nQ 1781 4219 1451 3797 \nQ 1122 3375 1075 2522 \nQ 1259 2794 1537 2939 \nQ 1816 3084 2150 3084 \nQ 2853 3084 3261 2657 \nQ 3669 2231 3669 1497 \nQ 3669 778 3244 343 \nQ 2819 -91 2113 -91 \nQ 1303 -91 875 529 \nQ 447 1150 447 2328 \nQ 447 3434 972 4092 \nQ 1497 4750 2381 4750 \nQ 2619 4750 2861 4703 \nQ 3103 4656 3366 4563 \nz\n\" transform=\"scale(0.015625)\"/>\n       </defs>\n       <use xlink:href=\"#DejaVuSans-36\"/>\n       <use xlink:href=\"#DejaVuSans-30\" x=\"63.623047\"/>\n       <use xlink:href=\"#DejaVuSans-30\" x=\"127.246094\"/>\n      </g>\n     </g>\n    </g>\n    <g id=\"xtick_5\">\n     <g id=\"line2d_5\">\n      <g>\n       <use xlink:href=\"#m8d31495a95\" x=\"323.120326\" y=\"224.64\" style=\"stroke: #000000; stroke-width: 0.8\"/>\n      </g>\n     </g>\n     <g id=\"text_5\">\n      <!-- 800 -->\n      <g transform=\"translate(311.667826 240.758125)scale(0.12 -0.12)\">\n       <defs>\n        <path id=\"DejaVuSans-38\" d=\"M 2034 2216 \nQ 1584 2216 1326 1975 \nQ 1069 1734 1069 1313 \nQ 1069 891 1326 650 \nQ 1584 409 2034 409 \nQ 2484 409 2743 651 \nQ 3003 894 3003 1313 \nQ 3003 1734 2745 1975 \nQ 2488 2216 2034 2216 \nz\nM 1403 2484 \nQ 997 2584 770 2862 \nQ 544 3141 544 3541 \nQ 544 4100 942 4425 \nQ 1341 4750 2034 4750 \nQ 2731 4750 3128 4425 \nQ 3525 4100 3525 3541 \nQ 3525 3141 3298 2862 \nQ 3072 2584 2669 2484 \nQ 3125 2378 3379 2068 \nQ 3634 1759 3634 1313 \nQ 3634 634 3220 271 \nQ 2806 -91 2034 -91 \nQ 1263 -91 848 271 \nQ 434 634 434 1313 \nQ 434 1759 690 2068 \nQ 947 2378 1403 2484 \nz\nM 1172 3481 \nQ 1172 3119 1398 2916 \nQ 1625 2713 2034 2713 \nQ 2441 2713 2670 2916 \nQ 2900 3119 2900 3481 \nQ 2900 3844 2670 4047 \nQ 2441 4250 2034 4250 \nQ 1625 4250 1398 4047 \nQ 1172 3844 1172 3481 \nz\n\" transform=\"scale(0.015625)\"/>\n       </defs>\n       <use xlink:href=\"#DejaVuSans-38\"/>\n       <use xlink:href=\"#DejaVuSans-30\" x=\"63.623047\"/>\n       <use xlink:href=\"#DejaVuSans-30\" x=\"127.246094\"/>\n      </g>\n     </g>\n    </g>\n    <g id=\"xtick_6\">\n     <g id=\"line2d_6\">\n      <g>\n       <use xlink:href=\"#m8d31495a95\" x=\"384.053986\" y=\"224.64\" style=\"stroke: #000000; stroke-width: 0.8\"/>\n      </g>\n     </g>\n     <g id=\"text_6\">\n      <!-- 1000 -->\n      <g transform=\"translate(368.783986 240.758125)scale(0.12 -0.12)\">\n       <defs>\n        <path id=\"DejaVuSans-31\" d=\"M 794 531 \nL 1825 531 \nL 1825 4091 \nL 703 3866 \nL 703 4441 \nL 1819 4666 \nL 2450 4666 \nL 2450 531 \nL 3481 531 \nL 3481 0 \nL 794 0 \nL 794 531 \nz\n\" transform=\"scale(0.015625)\"/>\n       </defs>\n       <use xlink:href=\"#DejaVuSans-31\"/>\n       <use xlink:href=\"#DejaVuSans-30\" x=\"63.623047\"/>\n       <use xlink:href=\"#DejaVuSans-30\" x=\"127.246094\"/>\n       <use xlink:href=\"#DejaVuSans-30\" x=\"190.869141\"/>\n      </g>\n     </g>\n    </g>\n    <g id=\"text_7\">\n     <!-- Sorted token probabilities -->\n     <g transform=\"translate(154.235 256.371875)scale(0.12 -0.12)\">\n      <defs>\n       <path id=\"DejaVuSans-53\" d=\"M 3425 4513 \nL 3425 3897 \nQ 3066 4069 2747 4153 \nQ 2428 4238 2131 4238 \nQ 1616 4238 1336 4038 \nQ 1056 3838 1056 3469 \nQ 1056 3159 1242 3001 \nQ 1428 2844 1947 2747 \nL 2328 2669 \nQ 3034 2534 3370 2195 \nQ 3706 1856 3706 1288 \nQ 3706 609 3251 259 \nQ 2797 -91 1919 -91 \nQ 1588 -91 1214 -16 \nQ 841 59 441 206 \nL 441 856 \nQ 825 641 1194 531 \nQ 1563 422 1919 422 \nQ 2459 422 2753 634 \nQ 3047 847 3047 1241 \nQ 3047 1584 2836 1778 \nQ 2625 1972 2144 2069 \nL 1759 2144 \nQ 1053 2284 737 2584 \nQ 422 2884 422 3419 \nQ 422 4038 858 4394 \nQ 1294 4750 2059 4750 \nQ 2388 4750 2728 4690 \nQ 3069 4631 3425 4513 \nz\n\" transform=\"scale(0.015625)\"/>\n       <path id=\"DejaVuSans-6f\" d=\"M 1959 3097 \nQ 1497 3097 1228 2736 \nQ 959 2375 959 1747 \nQ 959 1119 1226 758 \nQ 1494 397 1959 397 \nQ 2419 397 2687 759 \nQ 2956 1122 2956 1747 \nQ 2956 2369 2687 2733 \nQ 2419 3097 1959 3097 \nz\nM 1959 3584 \nQ 2709 3584 3137 3096 \nQ 3566 2609 3566 1747 \nQ 3566 888 3137 398 \nQ 2709 -91 1959 -91 \nQ 1206 -91 779 398 \nQ 353 888 353 1747 \nQ 353 2609 779 3096 \nQ 1206 3584 1959 3584 \nz\n\" transform=\"scale(0.015625)\"/>\n       <path id=\"DejaVuSans-72\" d=\"M 2631 2963 \nQ 2534 3019 2420 3045 \nQ 2306 3072 2169 3072 \nQ 1681 3072 1420 2755 \nQ 1159 2438 1159 1844 \nL 1159 0 \nL 581 0 \nL 581 3500 \nL 1159 3500 \nL 1159 2956 \nQ 1341 3275 1631 3429 \nQ 1922 3584 2338 3584 \nQ 2397 3584 2469 3576 \nQ 2541 3569 2628 3553 \nL 2631 2963 \nz\n\" transform=\"scale(0.015625)\"/>\n       <path id=\"DejaVuSans-74\" d=\"M 1172 4494 \nL 1172 3500 \nL 2356 3500 \nL 2356 3053 \nL 1172 3053 \nL 1172 1153 \nQ 1172 725 1289 603 \nQ 1406 481 1766 481 \nL 2356 481 \nL 2356 0 \nL 1766 0 \nQ 1100 0 847 248 \nQ 594 497 594 1153 \nL 594 3053 \nL 172 3053 \nL 172 3500 \nL 594 3500 \nL 594 4494 \nL 1172 4494 \nz\n\" transform=\"scale(0.015625)\"/>\n       <path id=\"DejaVuSans-65\" d=\"M 3597 1894 \nL 3597 1613 \nL 953 1613 \nQ 991 1019 1311 708 \nQ 1631 397 2203 397 \nQ 2534 397 2845 478 \nQ 3156 559 3463 722 \nL 3463 178 \nQ 3153 47 2828 -22 \nQ 2503 -91 2169 -91 \nQ 1331 -91 842 396 \nQ 353 884 353 1716 \nQ 353 2575 817 3079 \nQ 1281 3584 2069 3584 \nQ 2775 3584 3186 3129 \nQ 3597 2675 3597 1894 \nz\nM 3022 2063 \nQ 3016 2534 2758 2815 \nQ 2500 3097 2075 3097 \nQ 1594 3097 1305 2825 \nQ 1016 2553 972 2059 \nL 3022 2063 \nz\n\" transform=\"scale(0.015625)\"/>\n       <path id=\"DejaVuSans-64\" d=\"M 2906 2969 \nL 2906 4863 \nL 3481 4863 \nL 3481 0 \nL 2906 0 \nL 2906 525 \nQ 2725 213 2448 61 \nQ 2172 -91 1784 -91 \nQ 1150 -91 751 415 \nQ 353 922 353 1747 \nQ 353 2572 751 3078 \nQ 1150 3584 1784 3584 \nQ 2172 3584 2448 3432 \nQ 2725 3281 2906 2969 \nz\nM 947 1747 \nQ 947 1113 1208 752 \nQ 1469 391 1925 391 \nQ 2381 391 2643 752 \nQ 2906 1113 2906 1747 \nQ 2906 2381 2643 2742 \nQ 2381 3103 1925 3103 \nQ 1469 3103 1208 2742 \nQ 947 2381 947 1747 \nz\n\" transform=\"scale(0.015625)\"/>\n       <path id=\"DejaVuSans-20\" transform=\"scale(0.015625)\"/>\n       <path id=\"DejaVuSans-6b\" d=\"M 581 4863 \nL 1159 4863 \nL 1159 1991 \nL 2875 3500 \nL 3609 3500 \nL 1753 1863 \nL 3688 0 \nL 2938 0 \nL 1159 1709 \nL 1159 0 \nL 581 0 \nL 581 4863 \nz\n\" transform=\"scale(0.015625)\"/>\n       <path id=\"DejaVuSans-6e\" d=\"M 3513 2113 \nL 3513 0 \nL 2938 0 \nL 2938 2094 \nQ 2938 2591 2744 2837 \nQ 2550 3084 2163 3084 \nQ 1697 3084 1428 2787 \nQ 1159 2491 1159 1978 \nL 1159 0 \nL 581 0 \nL 581 3500 \nL 1159 3500 \nL 1159 2956 \nQ 1366 3272 1645 3428 \nQ 1925 3584 2291 3584 \nQ 2894 3584 3203 3211 \nQ 3513 2838 3513 2113 \nz\n\" transform=\"scale(0.015625)\"/>\n       <path id=\"DejaVuSans-70\" d=\"M 1159 525 \nL 1159 -1331 \nL 581 -1331 \nL 581 3500 \nL 1159 3500 \nL 1159 2969 \nQ 1341 3281 1617 3432 \nQ 1894 3584 2278 3584 \nQ 2916 3584 3314 3078 \nQ 3713 2572 3713 1747 \nQ 3713 922 3314 415 \nQ 2916 -91 2278 -91 \nQ 1894 -91 1617 61 \nQ 1341 213 1159 525 \nz\nM 3116 1747 \nQ 3116 2381 2855 2742 \nQ 2594 3103 2138 3103 \nQ 1681 3103 1420 2742 \nQ 1159 2381 1159 1747 \nQ 1159 1113 1420 752 \nQ 1681 391 2138 391 \nQ 2594 391 2855 752 \nQ 3116 1113 3116 1747 \nz\n\" transform=\"scale(0.015625)\"/>\n       <path id=\"DejaVuSans-62\" d=\"M 3116 1747 \nQ 3116 2381 2855 2742 \nQ 2594 3103 2138 3103 \nQ 1681 3103 1420 2742 \nQ 1159 2381 1159 1747 \nQ 1159 1113 1420 752 \nQ 1681 391 2138 391 \nQ 2594 391 2855 752 \nQ 3116 1113 3116 1747 \nz\nM 1159 2969 \nQ 1341 3281 1617 3432 \nQ 1894 3584 2278 3584 \nQ 2916 3584 3314 3078 \nQ 3713 2572 3713 1747 \nQ 3713 922 3314 415 \nQ 2916 -91 2278 -91 \nQ 1894 -91 1617 61 \nQ 1341 213 1159 525 \nL 1159 0 \nL 581 0 \nL 581 4863 \nL 1159 4863 \nL 1159 2969 \nz\n\" transform=\"scale(0.015625)\"/>\n       <path id=\"DejaVuSans-61\" d=\"M 2194 1759 \nQ 1497 1759 1228 1600 \nQ 959 1441 959 1056 \nQ 959 750 1161 570 \nQ 1363 391 1709 391 \nQ 2188 391 2477 730 \nQ 2766 1069 2766 1631 \nL 2766 1759 \nL 2194 1759 \nz\nM 3341 1997 \nL 3341 0 \nL 2766 0 \nL 2766 531 \nQ 2569 213 2275 61 \nQ 1981 -91 1556 -91 \nQ 1019 -91 701 211 \nQ 384 513 384 1019 \nQ 384 1609 779 1909 \nQ 1175 2209 1959 2209 \nL 2766 2209 \nL 2766 2266 \nQ 2766 2663 2505 2880 \nQ 2244 3097 1772 3097 \nQ 1472 3097 1187 3025 \nQ 903 2953 641 2809 \nL 641 3341 \nQ 956 3463 1253 3523 \nQ 1550 3584 1831 3584 \nQ 2591 3584 2966 3190 \nQ 3341 2797 3341 1997 \nz\n\" transform=\"scale(0.015625)\"/>\n       <path id=\"DejaVuSans-69\" d=\"M 603 3500 \nL 1178 3500 \nL 1178 0 \nL 603 0 \nL 603 3500 \nz\nM 603 4863 \nL 1178 4863 \nL 1178 4134 \nL 603 4134 \nL 603 4863 \nz\n\" transform=\"scale(0.015625)\"/>\n       <path id=\"DejaVuSans-6c\" d=\"M 603 4863 \nL 1178 4863 \nL 1178 0 \nL 603 0 \nL 603 4863 \nz\n\" transform=\"scale(0.015625)\"/>\n       <path id=\"DejaVuSans-73\" d=\"M 2834 3397 \nL 2834 2853 \nQ 2591 2978 2328 3040 \nQ 2066 3103 1784 3103 \nQ 1356 3103 1142 2972 \nQ 928 2841 928 2578 \nQ 928 2378 1081 2264 \nQ 1234 2150 1697 2047 \nL 1894 2003 \nQ 2506 1872 2764 1633 \nQ 3022 1394 3022 966 \nQ 3022 478 2636 193 \nQ 2250 -91 1575 -91 \nQ 1294 -91 989 -36 \nQ 684 19 347 128 \nL 347 722 \nQ 666 556 975 473 \nQ 1284 391 1588 391 \nQ 1994 391 2212 530 \nQ 2431 669 2431 922 \nQ 2431 1156 2273 1281 \nQ 2116 1406 1581 1522 \nL 1381 1569 \nQ 847 1681 609 1914 \nQ 372 2147 372 2553 \nQ 372 3047 722 3315 \nQ 1072 3584 1716 3584 \nQ 2034 3584 2315 3537 \nQ 2597 3491 2834 3397 \nz\n\" transform=\"scale(0.015625)\"/>\n      </defs>\n      <use xlink:href=\"#DejaVuSans-53\"/>\n      <use xlink:href=\"#DejaVuSans-6f\" x=\"63.476562\"/>\n      <use xlink:href=\"#DejaVuSans-72\" x=\"124.658203\"/>\n      <use xlink:href=\"#DejaVuSans-74\" x=\"165.771484\"/>\n      <use xlink:href=\"#DejaVuSans-65\" x=\"204.980469\"/>\n      <use xlink:href=\"#DejaVuSans-64\" x=\"266.503906\"/>\n      <use xlink:href=\"#DejaVuSans-20\" x=\"329.980469\"/>\n      <use xlink:href=\"#DejaVuSans-74\" x=\"361.767578\"/>\n      <use xlink:href=\"#DejaVuSans-6f\" x=\"400.976562\"/>\n      <use xlink:href=\"#DejaVuSans-6b\" x=\"462.158203\"/>\n      <use xlink:href=\"#DejaVuSans-65\" x=\"516.443359\"/>\n      <use xlink:href=\"#DejaVuSans-6e\" x=\"577.966797\"/>\n      <use xlink:href=\"#DejaVuSans-20\" x=\"641.345703\"/>\n      <use xlink:href=\"#DejaVuSans-70\" x=\"673.132812\"/>\n      <use xlink:href=\"#DejaVuSans-72\" x=\"736.609375\"/>\n      <use xlink:href=\"#DejaVuSans-6f\" x=\"775.472656\"/>\n      <use xlink:href=\"#DejaVuSans-62\" x=\"836.654297\"/>\n      <use xlink:href=\"#DejaVuSans-61\" x=\"900.130859\"/>\n      <use xlink:href=\"#DejaVuSans-62\" x=\"961.410156\"/>\n      <use xlink:href=\"#DejaVuSans-69\" x=\"1024.886719\"/>\n      <use xlink:href=\"#DejaVuSans-6c\" x=\"1052.669922\"/>\n      <use xlink:href=\"#DejaVuSans-69\" x=\"1080.453125\"/>\n      <use xlink:href=\"#DejaVuSans-74\" x=\"1108.236328\"/>\n      <use xlink:href=\"#DejaVuSans-69\" x=\"1147.445312\"/>\n      <use xlink:href=\"#DejaVuSans-65\" x=\"1175.228516\"/>\n      <use xlink:href=\"#DejaVuSans-73\" x=\"1236.751953\"/>\n     </g>\n    </g>\n   </g>\n   <g id=\"matplotlib.axis_2\">\n    <g id=\"ytick_1\">\n     <g id=\"line2d_7\">\n      <defs>\n       <path id=\"m5896a25773\" d=\"M 0 0 \nL -3.5 0 \n\" style=\"stroke: #000000; stroke-width: 0.8\"/>\n      </defs>\n      <g>\n       <use xlink:href=\"#m5896a25773\" x=\"64.1675\" y=\"221.360566\" style=\"stroke: #000000; stroke-width: 0.8\"/>\n      </g>\n     </g>\n     <g id=\"text_8\">\n      <!-- 0.000 -->\n      <g transform=\"translate(22.81375 225.919629)scale(0.12 -0.12)\">\n       <defs>\n        <path id=\"DejaVuSans-2e\" d=\"M 684 794 \nL 1344 794 \nL 1344 0 \nL 684 0 \nL 684 794 \nz\n\" transform=\"scale(0.015625)\"/>\n       </defs>\n       <use xlink:href=\"#DejaVuSans-30\"/>\n       <use xlink:href=\"#DejaVuSans-2e\" x=\"63.623047\"/>\n       <use xlink:href=\"#DejaVuSans-30\" x=\"95.410156\"/>\n       <use xlink:href=\"#DejaVuSans-30\" x=\"159.033203\"/>\n       <use xlink:href=\"#DejaVuSans-30\" x=\"222.65625\"/>\n      </g>\n     </g>\n    </g>\n    <g id=\"ytick_2\">\n     <g id=\"line2d_8\">\n      <g>\n       <use xlink:href=\"#m5896a25773\" x=\"64.1675\" y=\"176.161365\" style=\"stroke: #000000; stroke-width: 0.8\"/>\n      </g>\n     </g>\n     <g id=\"text_9\">\n      <!-- 0.001 -->\n      <g transform=\"translate(22.81375 180.720427)scale(0.12 -0.12)\">\n       <use xlink:href=\"#DejaVuSans-30\"/>\n       <use xlink:href=\"#DejaVuSans-2e\" x=\"63.623047\"/>\n       <use xlink:href=\"#DejaVuSans-30\" x=\"95.410156\"/>\n       <use xlink:href=\"#DejaVuSans-30\" x=\"159.033203\"/>\n       <use xlink:href=\"#DejaVuSans-31\" x=\"222.65625\"/>\n      </g>\n     </g>\n    </g>\n    <g id=\"ytick_3\">\n     <g id=\"line2d_9\">\n      <g>\n       <use xlink:href=\"#m5896a25773\" x=\"64.1675\" y=\"130.962164\" style=\"stroke: #000000; stroke-width: 0.8\"/>\n      </g>\n     </g>\n     <g id=\"text_10\">\n      <!-- 0.002 -->\n      <g transform=\"translate(22.81375 135.521226)scale(0.12 -0.12)\">\n       <use xlink:href=\"#DejaVuSans-30\"/>\n       <use xlink:href=\"#DejaVuSans-2e\" x=\"63.623047\"/>\n       <use xlink:href=\"#DejaVuSans-30\" x=\"95.410156\"/>\n       <use xlink:href=\"#DejaVuSans-30\" x=\"159.033203\"/>\n       <use xlink:href=\"#DejaVuSans-32\" x=\"222.65625\"/>\n      </g>\n     </g>\n    </g>\n    <g id=\"ytick_4\">\n     <g id=\"line2d_10\">\n      <g>\n       <use xlink:href=\"#m5896a25773\" x=\"64.1675\" y=\"85.762962\" style=\"stroke: #000000; stroke-width: 0.8\"/>\n      </g>\n     </g>\n     <g id=\"text_11\">\n      <!-- 0.003 -->\n      <g transform=\"translate(22.81375 90.322025)scale(0.12 -0.12)\">\n       <defs>\n        <path id=\"DejaVuSans-33\" d=\"M 2597 2516 \nQ 3050 2419 3304 2112 \nQ 3559 1806 3559 1356 \nQ 3559 666 3084 287 \nQ 2609 -91 1734 -91 \nQ 1441 -91 1130 -33 \nQ 819 25 488 141 \nL 488 750 \nQ 750 597 1062 519 \nQ 1375 441 1716 441 \nQ 2309 441 2620 675 \nQ 2931 909 2931 1356 \nQ 2931 1769 2642 2001 \nQ 2353 2234 1838 2234 \nL 1294 2234 \nL 1294 2753 \nL 1863 2753 \nQ 2328 2753 2575 2939 \nQ 2822 3125 2822 3475 \nQ 2822 3834 2567 4026 \nQ 2313 4219 1838 4219 \nQ 1578 4219 1281 4162 \nQ 984 4106 628 3988 \nL 628 4550 \nQ 988 4650 1302 4700 \nQ 1616 4750 1894 4750 \nQ 2613 4750 3031 4423 \nQ 3450 4097 3450 3541 \nQ 3450 3153 3228 2886 \nQ 3006 2619 2597 2516 \nz\n\" transform=\"scale(0.015625)\"/>\n       </defs>\n       <use xlink:href=\"#DejaVuSans-30\"/>\n       <use xlink:href=\"#DejaVuSans-2e\" x=\"63.623047\"/>\n       <use xlink:href=\"#DejaVuSans-30\" x=\"95.410156\"/>\n       <use xlink:href=\"#DejaVuSans-30\" x=\"159.033203\"/>\n       <use xlink:href=\"#DejaVuSans-33\" x=\"222.65625\"/>\n      </g>\n     </g>\n    </g>\n    <g id=\"ytick_5\">\n     <g id=\"line2d_11\">\n      <g>\n       <use xlink:href=\"#m5896a25773\" x=\"64.1675\" y=\"40.563761\" style=\"stroke: #000000; stroke-width: 0.8\"/>\n      </g>\n     </g>\n     <g id=\"text_12\">\n      <!-- 0.004 -->\n      <g transform=\"translate(22.81375 45.122824)scale(0.12 -0.12)\">\n       <use xlink:href=\"#DejaVuSans-30\"/>\n       <use xlink:href=\"#DejaVuSans-2e\" x=\"63.623047\"/>\n       <use xlink:href=\"#DejaVuSans-30\" x=\"95.410156\"/>\n       <use xlink:href=\"#DejaVuSans-30\" x=\"159.033203\"/>\n       <use xlink:href=\"#DejaVuSans-34\" x=\"222.65625\"/>\n      </g>\n     </g>\n    </g>\n    <g id=\"text_13\">\n     <!-- Probability -->\n     <g transform=\"translate(16.318125 147.634687)rotate(-90)scale(0.12 -0.12)\">\n      <defs>\n       <path id=\"DejaVuSans-50\" d=\"M 1259 4147 \nL 1259 2394 \nL 2053 2394 \nQ 2494 2394 2734 2622 \nQ 2975 2850 2975 3272 \nQ 2975 3691 2734 3919 \nQ 2494 4147 2053 4147 \nL 1259 4147 \nz\nM 628 4666 \nL 2053 4666 \nQ 2838 4666 3239 4311 \nQ 3641 3956 3641 3272 \nQ 3641 2581 3239 2228 \nQ 2838 1875 2053 1875 \nL 1259 1875 \nL 1259 0 \nL 628 0 \nL 628 4666 \nz\n\" transform=\"scale(0.015625)\"/>\n       <path id=\"DejaVuSans-79\" d=\"M 2059 -325 \nQ 1816 -950 1584 -1140 \nQ 1353 -1331 966 -1331 \nL 506 -1331 \nL 506 -850 \nL 844 -850 \nQ 1081 -850 1212 -737 \nQ 1344 -625 1503 -206 \nL 1606 56 \nL 191 3500 \nL 800 3500 \nL 1894 763 \nL 2988 3500 \nL 3597 3500 \nL 2059 -325 \nz\n\" transform=\"scale(0.015625)\"/>\n      </defs>\n      <use xlink:href=\"#DejaVuSans-50\"/>\n      <use xlink:href=\"#DejaVuSans-72\" x=\"58.552734\"/>\n      <use xlink:href=\"#DejaVuSans-6f\" x=\"97.416016\"/>\n      <use xlink:href=\"#DejaVuSans-62\" x=\"158.597656\"/>\n      <use xlink:href=\"#DejaVuSans-61\" x=\"222.074219\"/>\n      <use xlink:href=\"#DejaVuSans-62\" x=\"283.353516\"/>\n      <use xlink:href=\"#DejaVuSans-69\" x=\"346.830078\"/>\n      <use xlink:href=\"#DejaVuSans-6c\" x=\"374.613281\"/>\n      <use xlink:href=\"#DejaVuSans-69\" x=\"402.396484\"/>\n      <use xlink:href=\"#DejaVuSans-74\" x=\"430.179688\"/>\n      <use xlink:href=\"#DejaVuSans-79\" x=\"469.388672\"/>\n     </g>\n    </g>\n   </g>\n   <g id=\"line2d_12\">\n    <path d=\"M 79.385682 17.083636 \nL 79.385682 17.436469 \nL 79.69035 17.436469 \nL 79.69035 19.50721 \nL 80.299687 19.602496 \nL 80.299687 19.722288 \nL 80.604355 19.722288 \nL 80.604355 21.933424 \nL 80.909023 21.933424 \nL 80.909023 23.781261 \nL 81.213692 23.781261 \nL 81.213692 24.811599 \nL 81.51836 24.811599 \nL 81.51836 24.991501 \nL 81.823028 24.991501 \nL 81.823028 26.270187 \nL 82.127697 26.270187 \nL 82.127697 26.712673 \nL 82.432365 26.712673 \nL 82.432365 27.066073 \nL 82.737033 27.066073 \nL 82.737033 29.265886 \nL 83.041701 29.265886 \nL 83.041701 30.055812 \nL 83.34637 30.055812 \nL 83.34637 30.181259 \nL 83.651038 30.181259 \nL 83.651038 31.460774 \nL 83.955706 31.460774 \nL 83.955706 33.202345 \nL 84.260375 33.202345 \nL 84.260375 34.341211 \nL 84.565043 34.341211 \nL 84.565043 34.550611 \nL 84.869711 34.550611 \nL 84.869711 35.619228 \nL 85.17438 35.619228 \nL 85.17438 35.858463 \nL 85.479048 35.858463 \nL 85.479048 36.214983 \nL 85.783716 36.214983 \nL 85.783716 37.840897 \nL 86.088385 37.840897 \nL 86.088385 38.821608 \nL 86.393053 38.821608 \nL 86.393053 43.032593 \nL 87.002389 43.122363 \nL 87.002389 47.043203 \nL 87.307058 47.043203 \nL 87.307058 51.102585 \nL 87.916394 51.114621 \nL 87.916394 51.956224 \nL 88.221063 51.956224 \nL 88.221063 52.936266 \nL 88.525731 52.936266 \nL 88.525731 53.100018 \nL 88.830399 53.100018 \nL 88.830399 53.245466 \nL 89.135068 53.245466 \nL 89.135068 54.273055 \nL 89.439736 54.273055 \nL 89.439736 55.15378 \nL 90.049072 55.227804 \nL 90.049072 55.572351 \nL 90.353741 55.572351 \nL 90.353741 55.822809 \nL 90.658409 55.822809 \nL 90.658409 57.091246 \nL 90.963077 57.091246 \nL 90.963077 57.679767 \nL 91.267746 57.679767 \nL 91.267746 58.131247 \nL 91.572414 58.131247 \nL 91.572414 59.128407 \nL 91.877082 59.128407 \nL 91.877082 59.733738 \nL 92.181751 59.733738 \nL 92.181751 60.081856 \nL 92.486419 60.081856 \nL 92.486419 61.288552 \nL 92.791087 61.288552 \nL 92.791087 61.804205 \nL 93.095756 61.804205 \nL 93.095756 62.186647 \nL 93.400424 62.186647 \nL 93.400424 62.492067 \nL 94.00976 62.596339 \nL 94.00976 63.519481 \nL 94.314429 63.519481 \nL 94.314429 67.195906 \nL 94.619097 67.195906 \nL 94.619097 67.369821 \nL 94.923765 67.369821 \nL 94.923765 69.880928 \nL 95.228434 69.880928 \nL 95.228434 70.358582 \nL 95.533102 70.358582 \nL 95.533102 70.769121 \nL 95.83777 70.769121 \nL 95.83777 70.938271 \nL 96.142439 70.938271 \nL 96.142439 71.48188 \nL 96.447107 71.48188 \nL 96.447107 72.307533 \nL 96.751775 72.307533 \nL 96.751775 73.714949 \nL 97.361112 73.769882 \nL 97.361112 76.33756 \nL 97.970448 76.344542 \nL 97.970448 77.389448 \nL 98.275117 77.389448 \nL 98.275117 78.156424 \nL 98.579785 78.156424 \nL 98.579785 78.424328 \nL 99.189122 78.526881 \nL 99.189122 78.730627 \nL 99.798458 78.738317 \nL 99.798458 81.330056 \nL 100.103127 81.330056 \nL 100.103127 81.544686 \nL 100.407795 81.544686 \nL 100.407795 82.280317 \nL 100.712463 82.280317 \nL 100.712463 82.452643 \nL 101.017131 82.452643 \nL 101.017131 83.843521 \nL 101.3218 83.843521 \nL 101.3218 85.07025 \nL 101.626468 85.07025 \nL 101.626468 85.600072 \nL 102.235805 85.649415 \nL 102.235805 85.846815 \nL 102.540473 85.846815 \nL 102.540473 87.050448 \nL 102.845141 87.050448 \nL 102.845141 87.725417 \nL 103.14981 87.725417 \nL 103.14981 88.361526 \nL 103.454478 88.361526 \nL 103.454478 89.228889 \nL 103.759146 89.228889 \nL 103.759146 89.849726 \nL 104.063814 89.849726 \nL 104.063814 90.281062 \nL 104.368483 90.281062 \nL 104.368483 91.203121 \nL 104.673151 91.203121 \nL 104.673151 91.52032 \nL 104.977819 91.52032 \nL 104.977819 91.678936 \nL 105.282488 91.678936 \nL 105.282488 92.522199 \nL 105.587156 92.522199 \nL 105.587156 93.99444 \nL 105.891824 93.99444 \nL 105.891824 94.286271 \nL 106.196493 94.286271 \nL 106.196493 96.062381 \nL 106.501161 96.062381 \nL 106.501161 96.486897 \nL 106.805829 96.486897 \nL 106.805829 97.104519 \nL 107.719834 97.167076 \nL 107.719834 97.346272 \nL 108.024502 97.346272 \nL 108.024502 97.643826 \nL 108.633839 97.697554 \nL 108.633839 98.374595 \nL 108.938507 98.374595 \nL 108.938507 98.630435 \nL 109.243176 98.630435 \nL 109.243176 98.997375 \nL 109.852512 99.027572 \nL 109.852512 99.377758 \nL 110.157181 99.377758 \nL 110.157181 100.164594 \nL 110.461849 100.164594 \nL 110.461849 101.481947 \nL 110.766517 101.481947 \nL 110.766517 101.838515 \nL 111.680522 101.937118 \nL 111.680522 101.961775 \nL 111.98519 101.961775 \nL 111.98519 102.451335 \nL 112.289859 102.451335 \nL 112.289859 103.09244 \nL 112.594527 103.09244 \nL 112.594527 103.399724 \nL 113.508532 103.491121 \nL 113.508532 104.174388 \nL 113.8132 104.174388 \nL 113.8132 104.587741 \nL 114.117869 104.587741 \nL 114.117869 104.737364 \nL 114.422537 104.737364 \nL 114.422537 106.666867 \nL 114.727205 106.666867 \nL 114.727205 107.112466 \nL 115.031873 107.112466 \nL 115.031873 108.252805 \nL 115.336542 108.252805 \nL 115.336542 108.659902 \nL 115.64121 108.659902 \nL 115.64121 108.803394 \nL 116.250547 108.819418 \nL 116.250547 109.876497 \nL 116.555215 109.876497 \nL 116.555215 110.087759 \nL 116.859883 110.087759 \nL 116.859883 110.666176 \nL 117.164552 110.666176 \nL 117.164552 111.19282 \nL 117.46922 111.19282 \nL 117.46922 111.581357 \nL 117.773888 111.581357 \nL 117.773888 111.806621 \nL 118.078557 111.806621 \nL 118.078557 112.531128 \nL 118.992561 112.576285 \nL 118.992561 112.81561 \nL 119.29723 112.81561 \nL 119.29723 113.197584 \nL 119.601898 113.197584 \nL 119.601898 113.438564 \nL 119.906566 113.438564 \nL 119.906566 113.817437 \nL 120.820571 113.913445 \nL 120.820571 115.28183 \nL 121.12524 115.28183 \nL 121.12524 115.487527 \nL 121.734576 115.491272 \nL 121.734576 116.328897 \nL 122.039244 116.328897 \nL 122.039244 116.884937 \nL 122.648581 116.994637 \nL 122.648581 117.552275 \nL 123.257918 117.605374 \nL 123.257918 118.448004 \nL 123.562586 118.448004 \nL 123.562586 119.647977 \nL 123.867254 119.647977 \nL 123.867254 120.70392 \nL 124.171923 120.70392 \nL 124.171923 122.140928 \nL 124.476591 122.140928 \nL 124.476591 122.323267 \nL 125.085928 122.386994 \nL 125.085928 122.536538 \nL 125.390596 122.536538 \nL 125.390596 122.731396 \nL 125.695264 122.731396 \nL 125.695264 122.93368 \nL 125.999932 122.93368 \nL 125.999932 123.723916 \nL 126.609269 123.766841 \nL 126.609269 124.068094 \nL 127.218606 124.152849 \nL 127.218606 124.678558 \nL 127.523274 124.678558 \nL 127.523274 125.23216 \nL 127.827942 125.23216 \nL 127.827942 126.018734 \nL 128.437279 126.062331 \nL 128.437279 126.270846 \nL 128.741947 126.270846 \nL 128.741947 126.48366 \nL 129.351284 126.525891 \nL 129.351284 126.776586 \nL 129.655952 126.776586 \nL 129.655952 127.199067 \nL 130.265289 127.23309 \nL 130.265289 128.065149 \nL 130.569957 128.065149 \nL 130.569957 128.419721 \nL 130.874625 128.419721 \nL 130.874625 128.653155 \nL 131.483962 128.682142 \nL 131.483962 128.765964 \nL 132.093299 128.789245 \nL 132.093299 129.034986 \nL 132.397967 129.034986 \nL 132.397967 129.256705 \nL 132.702635 129.256705 \nL 132.702635 130.197876 \nL 133.311972 130.204941 \nL 133.311972 130.650019 \nL 133.61664 130.650019 \nL 133.61664 131.308001 \nL 133.921308 131.308001 \nL 133.921308 131.649219 \nL 134.225977 131.649219 \nL 134.225977 132.113505 \nL 134.530645 132.113505 \nL 134.530645 132.931978 \nL 134.835313 132.931978 \nL 134.835313 133.743453 \nL 135.139982 133.743453 \nL 135.139982 134.487451 \nL 135.749318 134.536841 \nL 135.749318 135.104214 \nL 136.053986 135.104214 \nL 136.053986 135.228323 \nL 136.358655 135.228323 \nL 136.358655 135.529295 \nL 136.663323 135.529295 \nL 136.663323 136.065294 \nL 136.967991 136.065294 \nL 136.967991 136.186027 \nL 137.27266 136.186027 \nL 137.27266 136.54358 \nL 137.577328 136.54358 \nL 137.577328 137.253246 \nL 137.881996 137.253246 \nL 137.881996 137.541638 \nL 138.186665 137.541638 \nL 138.186665 138.257126 \nL 138.491333 138.257126 \nL 138.491333 138.477292 \nL 138.796001 138.477292 \nL 138.796001 138.812329 \nL 139.10067 138.812329 \nL 139.10067 139.317396 \nL 139.405338 139.317396 \nL 139.405338 139.510455 \nL 139.710006 139.510455 \nL 139.710006 140.000299 \nL 140.014674 140.000299 \nL 140.014674 140.574713 \nL 140.624011 140.684286 \nL 140.624011 140.881335 \nL 141.233348 140.96086 \nL 141.233348 142.216862 \nL 141.538016 142.216862 \nL 141.538016 142.385258 \nL 142.147353 142.461789 \nL 142.147353 142.814098 \nL 142.452021 142.814098 \nL 142.452021 143.043162 \nL 143.061357 143.1382 \nL 143.061357 143.871862 \nL 143.670694 143.972441 \nL 143.670694 144.003465 \nL 143.975362 144.003465 \nL 143.975362 144.287908 \nL 144.280031 144.287908 \nL 144.280031 144.903609 \nL 144.584699 144.903609 \nL 144.584699 145.124455 \nL 144.889367 145.124455 \nL 144.889367 145.691382 \nL 145.498704 145.800371 \nL 145.498704 146.317835 \nL 145.803372 146.317835 \nL 145.803372 146.635362 \nL 146.108041 146.635362 \nL 146.108041 148.219459 \nL 146.412709 148.219459 \nL 146.412709 148.347591 \nL 146.717377 148.347591 \nL 146.717377 148.503495 \nL 147.022045 148.503495 \nL 147.022045 148.807635 \nL 147.326714 148.807635 \nL 147.326714 149.855267 \nL 147.631382 149.855267 \nL 147.631382 150.137011 \nL 147.93605 150.137011 \nL 147.93605 150.274673 \nL 148.240719 150.274673 \nL 148.240719 150.411775 \nL 148.545387 150.411775 \nL 148.545387 150.598161 \nL 149.154724 150.640053 \nL 149.154724 151.230182 \nL 149.459392 151.230182 \nL 149.459392 151.505692 \nL 149.76406 151.505692 \nL 149.76406 151.867394 \nL 150.068729 151.867394 \nL 150.068729 151.990299 \nL 150.678065 152.027511 \nL 150.678065 152.120887 \nL 151.287402 152.199463 \nL 151.287402 152.294408 \nL 151.59207 152.294408 \nL 151.59207 152.449267 \nL 151.896738 152.449267 \nL 151.896738 152.777892 \nL 152.201407 152.777892 \nL 152.201407 153.720577 \nL 152.506075 153.720577 \nL 152.506075 154.040275 \nL 153.42008 154.136497 \nL 153.42008 154.879365 \nL 153.724748 154.879365 \nL 153.724748 155.132528 \nL 154.029416 155.132528 \nL 154.029416 155.901867 \nL 154.334085 155.901867 \nL 154.334085 156.498407 \nL 154.638753 156.498407 \nL 154.638753 156.784588 \nL 154.943421 156.784588 \nL 154.943421 157.532752 \nL 155.552758 157.630536 \nL 155.552758 157.815783 \nL 155.857426 157.815783 \nL 155.857426 158.587664 \nL 156.466763 158.653934 \nL 156.466763 159.018589 \nL 156.771431 159.018589 \nL 156.771431 159.44753 \nL 157.380768 159.504647 \nL 157.380768 159.699993 \nL 157.990104 159.80646 \nL 157.990104 159.867603 \nL 158.599441 159.868329 \nL 158.599441 160.012226 \nL 158.904109 160.012226 \nL 158.904109 160.840743 \nL 159.208778 160.840743 \nL 159.208778 161.19258 \nL 159.818114 161.209116 \nL 159.818114 161.311293 \nL 160.122783 161.311293 \nL 160.122783 161.671937 \nL 161.036787 161.750238 \nL 161.036787 162.119622 \nL 161.341456 162.119622 \nL 161.341456 162.687443 \nL 161.950792 162.790875 \nL 161.950792 163.481549 \nL 162.255461 163.481549 \nL 162.255461 163.850382 \nL 162.560129 163.850382 \nL 162.560129 164.106003 \nL 162.864797 164.106003 \nL 162.864797 164.290591 \nL 163.474134 164.362266 \nL 163.474134 164.495946 \nL 163.778802 164.495946 \nL 163.778802 165.298483 \nL 164.083471 165.298483 \nL 164.083471 165.919768 \nL 164.388139 165.919768 \nL 164.388139 166.17489 \nL 164.997475 166.222803 \nL 164.997475 166.844786 \nL 165.302144 166.844786 \nL 165.302144 167.442763 \nL 165.606812 167.442763 \nL 165.606812 167.87939 \nL 166.216149 167.901617 \nL 166.216149 168.120686 \nL 166.520817 168.120686 \nL 166.520817 168.935214 \nL 167.130154 169.037258 \nL 167.130154 169.154534 \nL 167.434822 169.154534 \nL 167.434822 169.550425 \nL 167.73949 169.550425 \nL 167.73949 170.130132 \nL 168.348827 170.219514 \nL 168.348827 170.244378 \nL 168.653495 170.244378 \nL 168.653495 170.672455 \nL 168.958163 170.672455 \nL 168.958163 170.880058 \nL 169.262832 170.880058 \nL 169.262832 171.11541 \nL 169.5675 171.11541 \nL 169.5675 171.252626 \nL 169.872168 171.252626 \nL 169.872168 171.442493 \nL 170.176837 171.442493 \nL 170.176837 171.949794 \nL 170.481505 171.949794 \nL 170.481505 172.1668 \nL 170.786173 172.1668 \nL 170.786173 172.349892 \nL 171.090842 172.349892 \nL 171.090842 172.661759 \nL 171.39551 172.661759 \nL 171.39551 172.925916 \nL 172.309515 172.982379 \nL 172.309515 173.039967 \nL 172.918851 173.135364 \nL 172.918851 173.259968 \nL 173.22352 173.259968 \nL 173.22352 173.416414 \nL 173.528188 173.416414 \nL 173.528188 173.738945 \nL 174.137525 173.836359 \nL 174.137525 173.96742 \nL 174.442193 173.96742 \nL 174.442193 174.226765 \nL 174.746861 174.226765 \nL 174.746861 174.70008 \nL 175.051529 174.70008 \nL 175.051529 174.83738 \nL 175.660866 174.879698 \nL 175.660866 175.224847 \nL 176.270203 175.294847 \nL 176.270203 175.348428 \nL 176.574871 175.348428 \nL 176.574871 175.678893 \nL 177.488876 175.749653 \nL 177.488876 176.009017 \nL 177.793544 176.009017 \nL 177.793544 176.179197 \nL 178.098213 176.179197 \nL 178.098213 176.332211 \nL 178.402881 176.332211 \nL 178.402881 177.322999 \nL 178.707549 177.322999 \nL 178.707549 178.06013 \nL 179.012217 178.06013 \nL 179.012217 178.223139 \nL 179.621554 178.298243 \nL 179.621554 178.428225 \nL 180.535559 178.5325 \nL 180.535559 178.645023 \nL 180.840227 178.645023 \nL 180.840227 178.760158 \nL 181.144896 178.760158 \nL 181.144896 179.017322 \nL 182.0589 179.050783 \nL 182.0589 179.206416 \nL 182.363569 179.206416 \nL 182.363569 179.884343 \nL 182.668237 179.884343 \nL 182.668237 180.111712 \nL 183.582242 180.201154 \nL 183.582242 180.414462 \nL 183.88691 180.414462 \nL 183.88691 180.661796 \nL 185.410252 180.76898 \nL 185.410252 180.795951 \nL 185.71492 180.795951 \nL 185.71492 180.919568 \nL 186.019588 180.919568 \nL 186.019588 181.213696 \nL 186.933593 181.31061 \nL 186.933593 181.366359 \nL 187.54293 181.464678 \nL 187.54293 181.914551 \nL 187.847598 181.914551 \nL 187.847598 182.031148 \nL 188.456935 182.073434 \nL 188.456935 182.225284 \nL 189.066271 182.273215 \nL 189.066271 182.337667 \nL 189.37094 182.337667 \nL 189.37094 182.455852 \nL 189.675608 182.455852 \nL 189.675608 182.910754 \nL 189.980276 182.910754 \nL 189.980276 183.137744 \nL 190.284945 183.137744 \nL 190.284945 183.254947 \nL 190.589613 183.254947 \nL 190.589613 183.487421 \nL 191.19895 183.515393 \nL 191.19895 183.715493 \nL 191.808286 183.80926 \nL 191.808286 183.900453 \nL 192.722291 184.007029 \nL 192.722291 184.092088 \nL 193.331628 184.190164 \nL 193.331628 184.594617 \nL 193.636296 184.594617 \nL 193.636296 185.004067 \nL 193.940964 185.004067 \nL 193.940964 185.438266 \nL 194.550301 185.469724 \nL 194.550301 185.832532 \nL 195.464306 185.928675 \nL 195.464306 185.998577 \nL 196.073643 186.048029 \nL 196.073643 186.149256 \nL 196.987647 186.202992 \nL 196.987647 186.314819 \nL 197.596984 186.396933 \nL 197.596984 186.466809 \nL 197.901652 186.466809 \nL 197.901652 186.96506 \nL 198.510989 186.985061 \nL 198.510989 187.194681 \nL 198.815657 187.194681 \nL 198.815657 187.316531 \nL 199.120326 187.316531 \nL 199.120326 187.432165 \nL 200.03433 187.528139 \nL 200.03433 187.748249 \nL 200.338999 187.748249 \nL 200.338999 188.038463 \nL 200.948335 188.09782 \nL 200.948335 188.313221 \nL 201.86234 188.418364 \nL 201.86234 188.485125 \nL 202.167009 188.485125 \nL 202.167009 188.609064 \nL 202.776345 188.703559 \nL 202.776345 189.159862 \nL 203.081014 189.159862 \nL 203.081014 189.309665 \nL 203.385682 189.309665 \nL 203.385682 189.473544 \nL 203.69035 189.473544 \nL 203.69035 189.693195 \nL 203.995018 189.693195 \nL 203.995018 189.843783 \nL 204.604355 189.845201 \nL 204.604355 190.059932 \nL 204.909023 190.059932 \nL 204.909023 190.267105 \nL 205.51836 190.358895 \nL 205.51836 190.476449 \nL 206.127697 190.561898 \nL 206.127697 190.652709 \nL 206.432365 190.652709 \nL 206.432365 190.76899 \nL 206.737033 190.76899 \nL 206.737033 191.104642 \nL 207.34637 191.109343 \nL 207.34637 191.260928 \nL 207.955706 191.276841 \nL 207.955706 191.45883 \nL 208.565043 191.55823 \nL 208.565043 191.692121 \nL 208.869711 191.692121 \nL 208.869711 191.842625 \nL 210.088385 191.911852 \nL 210.088385 191.988752 \nL 210.393053 191.988752 \nL 210.393053 192.291264 \nL 211.307058 192.388335 \nL 211.307058 192.45668 \nL 211.916394 192.503031 \nL 211.916394 192.610596 \nL 212.525731 192.678249 \nL 212.525731 192.944496 \nL 213.135068 192.958963 \nL 213.135068 193.136519 \nL 213.744404 193.207114 \nL 213.744404 193.338765 \nL 215.267746 193.446838 \nL 215.267746 193.526899 \nL 215.877082 193.532545 \nL 215.877082 194.005295 \nL 216.791087 194.094092 \nL 216.791087 194.224495 \nL 217.400424 194.233368 \nL 217.400424 194.361779 \nL 218.619097 194.465042 \nL 218.619097 194.508017 \nL 218.923765 194.508017 \nL 218.923765 194.697008 \nL 219.533102 194.798965 \nL 219.533102 194.867047 \nL 220.142439 194.973262 \nL 220.142439 195.094747 \nL 220.447107 195.094747 \nL 220.447107 195.369599 \nL 221.056443 195.42767 \nL 221.056443 195.629359 \nL 221.970448 195.73011 \nL 221.970448 195.948809 \nL 222.579785 196.018496 \nL 222.579785 196.074369 \nL 223.49379 196.149994 \nL 223.49379 196.185639 \nL 223.798458 196.185639 \nL 223.798458 196.425703 \nL 224.103127 196.425703 \nL 224.103127 196.58515 \nL 225.017131 196.662793 \nL 225.017131 196.759207 \nL 225.3218 196.759207 \nL 225.3218 196.87338 \nL 225.931136 196.901367 \nL 225.931136 197.117218 \nL 226.235805 197.117218 \nL 226.235805 197.403692 \nL 226.845141 197.492127 \nL 226.845141 197.541894 \nL 227.14981 197.541894 \nL 227.14981 197.796415 \nL 228.063814 197.893496 \nL 228.063814 198.028277 \nL 228.368483 198.028277 \nL 228.368483 198.146175 \nL 228.673151 198.146175 \nL 228.673151 198.327434 \nL 229.587156 198.402534 \nL 229.587156 198.474771 \nL 229.891824 198.474771 \nL 229.891824 198.642667 \nL 230.805829 198.685337 \nL 230.805829 198.942406 \nL 231.110498 198.942406 \nL 231.110498 199.070055 \nL 232.024502 199.105519 \nL 232.024502 199.228793 \nL 232.329171 199.228793 \nL 232.329171 199.374375 \nL 232.633839 199.374375 \nL 232.633839 199.50786 \nL 233.852512 199.562983 \nL 233.852512 199.72531 \nL 234.157181 199.72531 \nL 234.157181 200.003695 \nL 235.071186 200.060741 \nL 235.071186 200.388 \nL 236.289859 200.47133 \nL 236.289859 200.701404 \nL 236.594527 200.701404 \nL 236.594527 200.936791 \nL 237.8132 201.003558 \nL 237.8132 201.11985 \nL 238.422537 201.230518 \nL 238.422537 201.31233 \nL 239.336542 201.393659 \nL 239.336542 201.426334 \nL 240.250547 201.533268 \nL 240.250547 201.789636 \nL 240.859883 201.838889 \nL 240.859883 201.923367 \nL 241.164552 201.923367 \nL 241.164552 202.050281 \nL 242.687893 202.144 \nL 242.687893 202.188721 \nL 243.29723 202.240173 \nL 243.29723 202.338893 \nL 243.906566 202.43081 \nL 243.906566 202.492952 \nL 244.820571 202.6026 \nL 244.820571 202.604141 \nL 245.429908 202.709826 \nL 245.429908 202.770915 \nL 246.039244 202.828031 \nL 246.039244 202.933938 \nL 247.562586 203.013683 \nL 247.562586 203.206211 \nL 248.781259 203.297341 \nL 248.781259 203.337935 \nL 249.390596 203.366711 \nL 249.390596 203.499738 \nL 250.609269 203.603132 \nL 250.609269 203.612385 \nL 251.827942 203.66057 \nL 251.827942 203.74567 \nL 253.351284 203.821381 \nL 253.351284 203.915969 \nL 253.96062 203.977784 \nL 253.96062 204.042582 \nL 254.874625 204.128379 \nL 254.874625 204.233645 \nL 255.78863 204.336808 \nL 255.78863 204.384099 \nL 256.702635 204.49282 \nL 256.702635 204.578424 \nL 258.835313 204.667843 \nL 258.835313 204.710593 \nL 259.44465 204.738799 \nL 259.44465 204.856513 \nL 260.053986 204.958613 \nL 260.053986 204.996501 \nL 262.491333 205.093631 \nL 262.491333 205.180083 \nL 263.10067 205.214841 \nL 263.10067 205.32472 \nL 265.233348 205.402821 \nL 265.233348 205.440659 \nL 266.147353 205.550347 \nL 266.147353 205.639151 \nL 267.061357 205.735006 \nL 267.061357 205.803492 \nL 268.280031 205.909271 \nL 268.280031 206.064054 \nL 270.108041 206.169845 \nL 270.108041 206.229675 \nL 270.717377 206.24321 \nL 270.717377 206.403215 \nL 272.240719 206.484245 \nL 272.240719 206.532638 \nL 273.459392 206.64111 \nL 273.459392 206.672479 \nL 274.678065 206.773584 \nL 274.678065 206.804562 \nL 275.896738 206.859762 \nL 275.896738 206.926784 \nL 276.810743 207.024981 \nL 276.810743 207.051629 \nL 278.334085 207.140903 \nL 278.334085 207.237145 \nL 278.943421 207.283903 \nL 278.943421 207.354736 \nL 280.162095 207.453748 \nL 280.162095 207.5294 \nL 281.685436 207.627066 \nL 281.685436 207.663555 \nL 282.294773 207.73659 \nL 282.294773 207.812187 \nL 283.208778 207.918225 \nL 283.208778 207.968188 \nL 284.122783 208.050883 \nL 284.122783 208.085508 \nL 285.646124 208.194846 \nL 285.646124 208.212598 \nL 288.083471 208.310529 \nL 288.083471 208.33592 \nL 289.606812 208.42069 \nL 289.606812 208.546899 \nL 291.130154 208.623161 \nL 291.130154 208.673287 \nL 292.653495 208.765809 \nL 292.653495 208.829872 \nL 294.176837 208.917282 \nL 294.176837 208.946949 \nL 295.700178 209.056336 \nL 295.700178 209.121513 \nL 297.832856 209.231947 \nL 297.832856 209.270455 \nL 299.356198 209.378166 \nL 299.356198 209.383083 \nL 300.270203 209.477669 \nL 300.270203 209.545725 \nL 302.098213 209.647865 \nL 302.098213 209.661642 \nL 303.621554 209.741994 \nL 303.621554 209.782008 \nL 304.230891 209.796448 \nL 304.230891 209.927025 \nL 304.840227 209.987573 \nL 304.840227 210.057513 \nL 306.363569 210.150614 \nL 306.363569 210.194662 \nL 307.582242 210.295182 \nL 307.582242 210.354079 \nL 308.191579 210.458635 \nL 308.191579 210.499468 \nL 309.105584 210.583856 \nL 309.105584 210.631019 \nL 311.54293 210.71715 \nL 311.54293 210.743306 \nL 313.980276 210.852653 \nL 313.980276 210.886533 \nL 316.112955 210.995703 \nL 316.112955 211.040506 \nL 317.940964 211.139834 \nL 317.940964 211.154231 \nL 320.682979 211.236389 \nL 320.682979 211.354723 \nL 323.424994 211.441287 \nL 323.424994 211.487557 \nL 326.167009 211.57793 \nL 326.167009 211.639746 \nL 328.909023 211.731226 \nL 328.909023 211.760662 \nL 330.127697 211.847931 \nL 330.127697 211.93482 \nL 331.955706 212.035001 \nL 331.955706 212.078352 \nL 336.221063 212.181488 \nL 336.221063 212.208479 \nL 338.353741 212.31389 \nL 338.353741 212.432134 \nL 341.095756 212.510594 \nL 341.095756 212.580858 \nL 343.533102 212.684501 \nL 343.533102 212.707616 \nL 345.056443 212.800929 \nL 345.056443 212.826563 \nL 345.66578 212.862088 \nL 345.66578 212.95388 \nL 346.884453 213.039025 \nL 346.884453 213.069368 \nL 348.712463 213.144233 \nL 348.712463 213.198811 \nL 351.14981 213.278488 \nL 351.14981 213.322708 \nL 355.110498 213.428135 \nL 355.110498 213.436309 \nL 357.852512 213.541869 \nL 357.852512 213.570107 \nL 359.98519 213.6635 \nL 359.98519 213.717677 \nL 363.031873 213.827541 \nL 363.031873 213.837124 \nL 365.773888 213.942914 \nL 365.773888 213.950969 \nL 369.12524 214.045526 \nL 369.12524 214.076659 \nL 371.257918 214.170083 \nL 371.257918 214.205199 \nL 373.390596 214.281415 \nL 373.390596 214.326647 \nL 374.913937 214.434326 \nL 374.913937 214.447508 \nL 378.569957 214.551589 \nL 378.569957 214.567727 \nL 381.921308 214.675504 \nL 381.921308 214.682899 \nL 383.749318 214.756364 \nL 383.749318 214.756364 \n\" clip-path=\"url(#pd61138fc44)\" style=\"fill: none; stroke: #0071bc; stroke-width: 1.5; stroke-linecap: square\"/>\n   </g>\n   <g id=\"line2d_13\">\n    <path d=\"M 79.385682 112.429379 \nL 79.385682 112.523494 \nL 79.69035 112.523494 \nL 79.69035 113.077495 \nL 80.604355 113.135199 \nL 80.604355 113.730227 \nL 80.909023 113.730227 \nL 80.909023 114.230024 \nL 81.213692 114.230024 \nL 81.213692 114.509721 \nL 81.823028 114.558633 \nL 81.823028 114.906929 \nL 82.127697 114.906929 \nL 82.127697 115.027722 \nL 82.737033 115.124294 \nL 82.737033 115.727412 \nL 83.041701 115.727412 \nL 83.041701 115.944827 \nL 83.651038 115.979395 \nL 83.651038 116.332632 \nL 83.955706 116.332632 \nL 83.955706 116.815347 \nL 84.260375 116.815347 \nL 84.260375 117.132218 \nL 84.869711 117.190585 \nL 84.869711 117.488956 \nL 85.479048 117.555871 \nL 85.479048 117.655671 \nL 85.783716 117.655671 \nL 85.783716 118.112034 \nL 86.088385 118.112034 \nL 86.088385 118.388279 \nL 86.393053 118.388279 \nL 86.393053 119.582941 \nL 87.002389 119.608561 \nL 87.002389 120.733942 \nL 87.307058 120.733942 \nL 87.307058 121.912506 \nL 87.916394 121.916021 \nL 87.916394 122.162125 \nL 88.221063 122.162125 \nL 88.221063 122.449484 \nL 89.135068 122.540318 \nL 89.135068 122.842796 \nL 89.439736 122.842796 \nL 89.439736 123.102785 \nL 90.049072 123.124668 \nL 90.049072 123.226588 \nL 90.658409 123.300742 \nL 90.658409 123.677157 \nL 90.963077 123.677157 \nL 90.963077 123.852297 \nL 91.267746 123.852297 \nL 91.267746 123.986869 \nL 91.572414 123.986869 \nL 91.572414 124.28475 \nL 91.877082 124.28475 \nL 91.877082 124.466027 \nL 92.486419 124.570431 \nL 92.486419 124.933205 \nL 92.791087 124.933205 \nL 92.791087 125.088645 \nL 93.095756 125.088645 \nL 93.095756 125.204092 \nL 93.705092 125.296388 \nL 93.705092 125.327918 \nL 94.00976 125.327918 \nL 94.00976 125.607518 \nL 94.314429 125.607518 \nL 94.314429 126.729226 \nL 94.923765 126.782618 \nL 94.923765 127.556923 \nL 95.228434 127.556923 \nL 95.228434 127.704933 \nL 95.533102 127.704933 \nL 95.533102 127.832333 \nL 96.142439 127.884876 \nL 96.142439 128.053933 \nL 96.447107 128.053933 \nL 96.447107 128.311293 \nL 96.751775 128.311293 \nL 96.751775 128.751638 \nL 97.361112 128.768868 \nL 97.361112 129.577824 \nL 97.970448 129.580033 \nL 97.970448 129.911291 \nL 98.275117 129.911291 \nL 98.275117 130.155205 \nL 98.884453 130.240558 \nL 98.884453 130.273252 \nL 99.798458 130.340695 \nL 99.798458 131.171495 \nL 100.407795 131.24064 \nL 100.407795 131.478032 \nL 101.017131 131.533734 \nL 101.017131 131.984581 \nL 101.3218 131.984581 \nL 101.3218 132.384116 \nL 101.626468 132.384116 \nL 101.626468 132.55723 \nL 102.540473 132.637966 \nL 102.540473 133.032862 \nL 102.845141 133.032862 \nL 102.845141 133.255085 \nL 103.14981 133.255085 \nL 103.14981 133.465028 \nL 103.454478 133.465028 \nL 103.454478 133.752105 \nL 103.759146 133.752105 \nL 103.759146 133.958167 \nL 104.063814 133.958167 \nL 104.063814 134.101618 \nL 104.368483 134.101618 \nL 104.368483 134.409065 \nL 104.977819 134.515082 \nL 104.977819 134.568144 \nL 105.282488 134.568144 \nL 105.282488 134.850791 \nL 105.587156 134.850791 \nL 105.587156 135.346486 \nL 106.196493 135.445084 \nL 106.196493 136.047614 \nL 106.501161 136.047614 \nL 106.501161 136.192259 \nL 106.805829 136.192259 \nL 106.805829 136.40314 \nL 108.024502 136.485828 \nL 108.024502 136.587711 \nL 108.633839 136.606121 \nL 108.633839 136.838449 \nL 109.243176 136.926408 \nL 109.243176 137.052724 \nL 109.852512 137.063127 \nL 109.852512 137.183867 \nL 110.157181 137.183867 \nL 110.157181 137.455792 \nL 110.461849 137.455792 \nL 110.461849 137.913044 \nL 110.766517 137.913044 \nL 110.766517 138.03724 \nL 111.98519 138.080216 \nL 111.98519 138.251125 \nL 112.289859 138.251125 \nL 112.289859 138.475472 \nL 112.899195 138.583218 \nL 112.899195 138.59081 \nL 113.508532 138.615293 \nL 113.508532 138.85547 \nL 113.8132 138.85547 \nL 113.8132 139.00111 \nL 114.422537 139.053891 \nL 114.422537 139.737603 \nL 114.727205 139.737603 \nL 114.727205 139.896315 \nL 115.031873 139.896315 \nL 115.031873 140.303892 \nL 115.336542 140.303892 \nL 115.336542 140.449893 \nL 116.250547 140.507173 \nL 116.250547 140.88779 \nL 116.859883 140.964074 \nL 116.859883 141.173304 \nL 117.164552 141.173304 \nL 117.164552 141.364283 \nL 117.46922 141.364283 \nL 117.46922 141.505472 \nL 118.078557 141.587444 \nL 118.078557 141.851662 \nL 119.29723 141.955648 \nL 119.29723 142.095486 \nL 119.906566 142.183834 \nL 119.906566 142.322936 \nL 120.820571 142.358224 \nL 120.820571 142.8629 \nL 121.734576 142.940431 \nL 121.734576 143.251273 \nL 122.039244 143.251273 \nL 122.039244 143.458303 \nL 122.648581 143.499212 \nL 122.648581 143.707502 \nL 123.257918 143.727364 \nL 123.257918 144.04325 \nL 123.562586 144.04325 \nL 123.562586 144.495336 \nL 123.867254 144.495336 \nL 123.867254 144.89537 \nL 124.171923 144.89537 \nL 124.171923 145.443154 \nL 125.085928 145.537351 \nL 125.085928 145.594654 \nL 125.695264 145.669388 \nL 125.695264 145.747047 \nL 125.999932 145.747047 \nL 125.999932 146.051197 \nL 126.609269 146.067753 \nL 126.609269 146.18405 \nL 127.218606 146.216801 \nL 127.218606 146.420269 \nL 127.523274 146.420269 \nL 127.523274 146.635132 \nL 127.827942 146.635132 \nL 127.827942 146.941482 \nL 128.741947 147.03994 \nL 128.741947 147.123152 \nL 129.351284 147.139676 \nL 129.351284 147.237842 \nL 129.655952 147.237842 \nL 129.655952 147.403571 \nL 130.265289 147.416933 \nL 130.265289 147.744478 \nL 130.569957 147.744478 \nL 130.569957 147.884502 \nL 131.483962 147.988306 \nL 131.483962 148.021494 \nL 132.397967 148.12811 \nL 132.397967 148.216096 \nL 132.702635 148.216096 \nL 132.702635 148.590772 \nL 133.311972 148.593592 \nL 133.311972 148.771456 \nL 133.61664 148.771456 \nL 133.61664 149.035203 \nL 133.921308 149.035203 \nL 133.921308 149.172357 \nL 134.225977 149.172357 \nL 134.225977 149.359399 \nL 134.530645 149.359399 \nL 134.530645 149.690316 \nL 134.835313 149.690316 \nL 134.835313 150.019919 \nL 135.139982 150.019919 \nL 135.139982 150.323458 \nL 135.749318 150.343654 \nL 135.749318 150.576074 \nL 136.358655 150.627016 \nL 136.358655 150.750706 \nL 136.663323 150.750706 \nL 136.663323 150.971524 \nL 137.27266 151.021358 \nL 137.27266 151.169152 \nL 137.577328 151.169152 \nL 137.577328 151.463415 \nL 137.881996 151.463415 \nL 137.881996 151.583352 \nL 138.186665 151.583352 \nL 138.186665 151.881803 \nL 138.796001 151.973899 \nL 138.796001 152.114281 \nL 139.10067 152.114281 \nL 139.10067 152.326446 \nL 139.710006 152.407717 \nL 139.710006 152.614356 \nL 140.014674 152.614356 \nL 140.014674 152.857465 \nL 140.624011 152.903937 \nL 140.624011 152.98759 \nL 141.233348 153.021379 \nL 141.233348 153.557277 \nL 142.147353 153.662274 \nL 142.147353 153.813591 \nL 142.756689 153.912156 \nL 142.756689 153.953092 \nL 143.061357 153.953092 \nL 143.061357 154.269951 \nL 143.975362 154.326946 \nL 143.975362 154.450302 \nL 144.280031 154.450302 \nL 144.280031 154.718097 \nL 144.889367 154.814415 \nL 144.889367 155.06231 \nL 145.498704 155.110073 \nL 145.498704 155.337317 \nL 145.803372 155.337317 \nL 145.803372 155.477146 \nL 146.108041 155.477146 \nL 146.108041 156.179217 \nL 146.717377 156.236336 \nL 146.717377 156.305903 \nL 147.022045 156.305903 \nL 147.022045 156.44183 \nL 147.326714 156.44183 \nL 147.326714 156.912233 \nL 147.631382 156.912233 \nL 147.631382 157.039327 \nL 148.240719 157.101518 \nL 148.240719 157.163515 \nL 149.154724 157.266876 \nL 149.154724 157.534852 \nL 149.459392 157.534852 \nL 149.459392 157.660346 \nL 149.76406 157.660346 \nL 149.76406 157.825477 \nL 150.678065 157.898714 \nL 150.678065 157.941462 \nL 151.59207 158.020979 \nL 151.59207 158.092029 \nL 151.896738 158.092029 \nL 151.896738 158.243067 \nL 152.201407 158.243067 \nL 152.201407 158.67835 \nL 152.506075 158.67835 \nL 152.506075 158.826658 \nL 153.42008 158.871365 \nL 153.42008 159.217596 \nL 153.724748 159.217596 \nL 153.724748 159.33603 \nL 154.029416 159.33603 \nL 154.029416 159.697337 \nL 154.334085 159.697337 \nL 154.334085 159.978956 \nL 154.638753 159.978956 \nL 154.638753 160.114518 \nL 154.943421 160.114518 \nL 154.943421 160.470343 \nL 155.552758 160.517003 \nL 155.552758 160.605496 \nL 155.857426 160.605496 \nL 155.857426 160.97562 \nL 156.466763 161.007503 \nL 156.466763 161.183243 \nL 156.771431 161.183243 \nL 156.771431 161.390624 \nL 157.380768 161.418293 \nL 157.380768 161.513019 \nL 158.599441 161.594768 \nL 158.599441 161.664737 \nL 158.904109 161.664737 \nL 158.904109 162.069207 \nL 159.208778 162.069207 \nL 159.208778 162.241806 \nL 160.122783 162.300157 \nL 160.122783 162.477776 \nL 161.036787 162.516411 \nL 161.036787 162.699012 \nL 161.341456 162.699012 \nL 161.341456 162.980823 \nL 161.950792 163.032303 \nL 161.950792 163.377236 \nL 162.255461 163.377236 \nL 162.255461 163.562281 \nL 162.560129 163.562281 \nL 162.560129 163.690874 \nL 163.169466 163.783913 \nL 163.169466 163.82008 \nL 163.778802 163.887595 \nL 163.778802 164.294598 \nL 164.083471 164.294598 \nL 164.083471 164.611684 \nL 164.388139 164.611684 \nL 164.388139 164.742405 \nL 164.997475 164.766989 \nL 164.997475 165.087097 \nL 165.302144 165.087097 \nL 165.302144 165.396576 \nL 165.606812 165.396576 \nL 165.606812 165.623635 \nL 166.216149 165.635218 \nL 166.216149 165.749514 \nL 166.520817 165.749514 \nL 166.520817 166.176556 \nL 167.130154 166.230289 \nL 167.130154 166.292108 \nL 167.434822 166.292108 \nL 167.434822 166.501304 \nL 167.73949 166.501304 \nL 167.73949 166.809079 \nL 168.653495 166.869939 \nL 168.653495 167.098587 \nL 168.958163 167.098587 \nL 168.958163 167.209821 \nL 169.262832 167.209821 \nL 169.262832 167.3362 \nL 169.872168 167.410019 \nL 169.872168 167.51233 \nL 170.176837 167.51233 \nL 170.176837 167.786649 \nL 170.481505 167.786649 \nL 170.481505 167.904424 \nL 171.090842 168.003995 \nL 171.090842 168.174026 \nL 171.39551 168.174026 \nL 171.39551 168.318472 \nL 172.614183 168.380959 \nL 172.614183 168.433282 \nL 173.22352 168.501703 \nL 173.22352 168.587734 \nL 173.528188 168.587734 \nL 173.528188 168.765541 \nL 174.137525 168.819363 \nL 174.137525 168.891861 \nL 174.442193 168.891861 \nL 174.442193 169.035618 \nL 174.746861 169.035618 \nL 174.746861 169.299003 \nL 175.660866 169.399304 \nL 175.660866 169.592585 \nL 176.574871 169.661966 \nL 176.574871 169.847953 \nL 177.488876 169.887865 \nL 177.488876 170.034422 \nL 178.098213 170.130812 \nL 178.098213 170.217635 \nL 178.402881 170.217635 \nL 178.402881 170.78343 \nL 178.707549 170.78343 \nL 178.707549 171.208514 \nL 179.316886 171.303004 \nL 179.316886 171.346599 \nL 179.926222 171.422138 \nL 179.926222 171.470729 \nL 180.840227 171.548387 \nL 180.840227 171.615564 \nL 181.144896 171.615564 \nL 181.144896 171.765938 \nL 182.363569 171.8768 \nL 182.363569 172.276314 \nL 182.668237 172.276314 \nL 182.668237 172.411037 \nL 183.582242 172.464135 \nL 183.582242 172.591002 \nL 183.88691 172.591002 \nL 183.88691 172.738521 \nL 185.71492 172.818724 \nL 185.71492 172.892743 \nL 186.019588 172.892743 \nL 186.019588 173.069319 \nL 187.238262 173.161223 \nL 187.238262 173.220504 \nL 187.54293 173.220504 \nL 187.54293 173.492691 \nL 188.456935 173.589191 \nL 188.456935 173.681602 \nL 189.37094 173.75011 \nL 189.37094 173.822261 \nL 189.675608 173.822261 \nL 189.675608 174.101004 \nL 189.980276 174.101004 \nL 189.980276 174.24071 \nL 190.589613 174.313008 \nL 190.589613 174.456741 \nL 191.19895 174.474065 \nL 191.19895 174.598181 \nL 191.808286 174.656456 \nL 191.808286 174.713201 \nL 192.722291 174.779605 \nL 192.722291 174.832671 \nL 193.331628 174.893933 \nL 193.331628 175.147427 \nL 193.636296 175.147427 \nL 193.636296 175.405477 \nL 193.940964 175.405477 \nL 193.940964 175.680718 \nL 194.550301 175.700724 \nL 194.550301 175.93209 \nL 195.768974 176.038373 \nL 195.768974 176.070074 \nL 196.987647 176.169558 \nL 196.987647 176.241486 \nL 197.901652 176.33943 \nL 197.901652 176.662017 \nL 198.510989 176.675015 \nL 198.510989 176.811468 \nL 199.120326 176.89098 \nL 199.120326 176.966566 \nL 200.03433 177.0294 \nL 200.03433 177.173842 \nL 200.338999 177.173842 \nL 200.338999 177.365013 \nL 200.948335 177.404216 \nL 200.948335 177.546772 \nL 201.86234 177.616526 \nL 201.86234 177.660875 \nL 202.471677 177.743326 \nL 202.471677 177.806294 \nL 202.776345 177.806294 \nL 202.776345 178.111647 \nL 203.385682 178.212365 \nL 203.385682 178.322816 \nL 203.69035 178.322816 \nL 203.69035 178.471303 \nL 204.604355 178.574363 \nL 204.604355 178.720375 \nL 204.909023 178.720375 \nL 204.909023 178.861723 \nL 205.51836 178.924499 \nL 205.51836 179.005031 \nL 206.127697 179.063665 \nL 206.127697 179.126069 \nL 206.737033 179.206109 \nL 206.737033 179.438007 \nL 207.651038 179.546421 \nL 207.651038 179.557476 \nL 207.955706 179.557476 \nL 207.955706 179.68411 \nL 208.565043 179.753439 \nL 208.565043 179.847007 \nL 209.17438 179.952437 \nL 209.17438 179.972117 \nL 210.393053 180.055058 \nL 210.393053 180.26832 \nL 211.307058 180.336987 \nL 211.307058 180.385402 \nL 212.221063 180.494646 \nL 212.221063 180.542757 \nL 212.525731 180.542757 \nL 212.525731 180.732647 \nL 213.135068 180.74299 \nL 213.135068 180.870152 \nL 213.744404 180.920821 \nL 213.744404 181.015484 \nL 215.267746 181.09336 \nL 215.267746 181.151148 \nL 215.877082 181.155226 \nL 215.877082 181.498198 \nL 216.791087 181.562949 \nL 216.791087 181.65823 \nL 218.00976 181.758823 \nL 218.00976 181.782853 \nL 218.923765 181.866183 \nL 218.923765 182.005411 \nL 219.533102 182.080727 \nL 219.533102 182.1311 \nL 220.142439 182.209816 \nL 220.142439 182.300043 \nL 220.447107 182.300043 \nL 220.447107 182.504951 \nL 221.056443 182.548382 \nL 221.056443 182.699604 \nL 221.970448 182.775367 \nL 221.970448 182.940339 \nL 222.884453 183.035374 \nL 222.884453 183.070148 \nL 223.798458 183.119791 \nL 223.798458 183.302557 \nL 224.103127 183.302557 \nL 224.103127 183.424433 \nL 225.017131 183.483923 \nL 225.017131 183.557926 \nL 225.931136 183.667307 \nL 225.931136 183.833995 \nL 226.235805 183.833995 \nL 226.235805 184.056373 \nL 227.14981 184.164128 \nL 227.14981 184.363398 \nL 228.063814 184.439688 \nL 228.063814 184.545867 \nL 228.673151 184.638997 \nL 228.673151 184.78264 \nL 229.587156 184.84232 \nL 229.587156 184.899818 \nL 229.891824 184.899818 \nL 229.891824 185.033806 \nL 230.805829 185.067938 \nL 230.805829 185.274249 \nL 231.415166 185.377134 \nL 231.415166 185.391634 \nL 232.024502 185.405769 \nL 232.024502 185.505487 \nL 232.329171 185.505487 \nL 232.329171 185.623608 \nL 233.243176 185.734041 \nL 233.243176 185.775362 \nL 233.852512 185.777223 \nL 233.852512 185.909966 \nL 234.157181 185.909966 \nL 234.157181 186.138778 \nL 235.071186 186.18585 \nL 235.071186 186.457116 \nL 236.289859 186.526526 \nL 236.289859 186.718888 \nL 236.594527 186.718888 \nL 236.594527 186.916804 \nL 237.8132 186.973149 \nL 237.8132 187.071512 \nL 238.422537 187.165379 \nL 238.422537 187.234937 \nL 239.64121 187.332103 \nL 239.64121 187.34821 \nL 240.250547 187.423496 \nL 240.250547 187.643614 \nL 240.859883 187.686068 \nL 240.859883 187.759008 \nL 241.46922 187.868887 \nL 241.46922 187.90583 \nL 242.992561 187.989158 \nL 242.992561 188.033968 \nL 243.601898 188.120113 \nL 243.601898 188.200523 \nL 244.211235 188.254996 \nL 244.211235 188.347177 \nL 245.429908 188.445812 \nL 245.429908 188.499761 \nL 246.039244 188.550282 \nL 246.039244 188.644166 \nL 247.562586 188.715036 \nL 247.562586 188.886775 \nL 248.781259 188.968383 \nL 248.781259 189.004801 \nL 249.390596 189.030642 \nL 249.390596 189.15037 \nL 250.913937 189.252104 \nL 250.913937 189.262425 \nL 252.132611 189.372895 \nL 252.132611 189.420166 \nL 253.655952 189.527897 \nL 253.655952 189.584347 \nL 254.569957 189.646762 \nL 254.569957 189.722292 \nL 255.179294 189.819075 \nL 255.179294 189.879138 \nL 256.093299 189.957921 \nL 256.093299 190.014056 \nL 256.702635 190.058637 \nL 256.702635 190.138167 \nL 258.835313 190.221458 \nL 258.835313 190.261357 \nL 259.44465 190.28771 \nL 259.44465 190.397933 \nL 260.053986 190.493855 \nL 260.053986 190.529526 \nL 262.491333 190.621162 \nL 262.491333 190.702954 \nL 263.10067 190.7359 \nL 263.10067 190.840286 \nL 265.538016 190.950817 \nL 265.538016 191.042772 \nL 266.756689 191.141723 \nL 266.756689 191.233255 \nL 267.975362 191.341557 \nL 267.975362 191.401724 \nL 268.280031 191.401724 \nL 268.280031 191.552158 \nL 270.108041 191.655415 \nL 270.108041 191.713971 \nL 270.717377 191.727234 \nL 270.717377 191.884473 \nL 272.240719 191.964423 \nL 272.240719 192.012275 \nL 273.459392 192.11982 \nL 273.459392 192.150994 \nL 274.678065 192.251699 \nL 274.678065 192.282625 \nL 275.896738 192.337812 \nL 275.896738 192.404961 \nL 276.810743 192.503625 \nL 276.810743 192.530458 \nL 278.334085 192.620535 \nL 278.334085 192.71796 \nL 278.943421 192.765412 \nL 278.943421 192.837448 \nL 280.162095 192.938447 \nL 280.162095 193.015859 \nL 281.685436 193.116111 \nL 281.685436 193.153658 \nL 282.294773 193.228961 \nL 282.294773 193.307118 \nL 283.208778 193.417115 \nL 283.208778 193.469095 \nL 284.122783 193.55534 \nL 284.122783 193.591531 \nL 285.341456 193.690279 \nL 285.341456 193.706125 \nL 287.474134 193.810481 \nL 287.474134 193.81771 \nL 288.997475 193.90038 \nL 288.997475 193.944054 \nL 289.606812 193.944343 \nL 289.606812 194.078371 \nL 291.130154 194.159679 \nL 291.130154 194.213255 \nL 292.653495 194.312422 \nL 292.653495 194.381299 \nL 294.176837 194.475563 \nL 294.176837 194.507632 \nL 295.39551 194.581642 \nL 295.39551 194.626206 \nL 296.309515 194.73654 \nL 296.309515 194.755224 \nL 298.137525 194.859843 \nL 298.137525 194.878959 \nL 299.660866 194.983569 \nL 299.660866 195.065142 \nL 300.574871 195.163267 \nL 300.574871 195.229528 \nL 303.316886 195.332371 \nL 303.316886 195.381774 \nL 304.230891 195.442724 \nL 304.230891 195.589466 \nL 304.840227 195.657794 \nL 304.840227 195.736948 \nL 306.363569 195.842694 \nL 306.363569 195.892877 \nL 307.277574 195.99659 \nL 307.277574 196.007772 \nL 307.88691 196.075335 \nL 307.88691 196.19572 \nL 308.800915 196.270136 \nL 308.800915 196.340659 \nL 309.410252 196.395468 \nL 309.410252 196.456597 \nL 312.456935 196.562808 \nL 312.456935 196.568862 \nL 313.980276 196.654659 \nL 313.980276 196.69452 \nL 315.503618 196.779207 \nL 315.503618 196.806508 \nL 317.026959 196.905707 \nL 317.026959 196.944513 \nL 318.550301 197.048096 \nL 318.550301 197.05717 \nL 320.682979 197.109969 \nL 320.682979 197.252109 \nL 323.424994 197.356621 \nL 323.424994 197.412671 \nL 326.167009 197.522527 \nL 326.167009 197.597963 \nL 328.604355 197.694894 \nL 328.604355 197.710038 \nL 329.823028 197.813124 \nL 329.823028 197.853794 \nL 330.432365 197.961396 \nL 330.432365 198.019643 \nL 331.955706 198.086077 \nL 331.955706 198.140238 \nL 335.611726 198.249058 \nL 335.611726 198.265967 \nL 337.439736 198.368689 \nL 337.439736 198.383311 \nL 338.353741 198.436741 \nL 338.353741 198.587046 \nL 341.095756 198.68733 \nL 341.095756 198.777515 \nL 342.923765 198.881618 \nL 342.923765 198.889266 \nL 344.142439 198.957097 \nL 344.142439 199.0268 \nL 345.361112 199.095758 \nL 345.361112 199.142147 \nL 345.66578 199.142147 \nL 345.66578 199.262462 \nL 346.579785 199.337842 \nL 346.579785 199.374656 \nL 348.103127 199.480326 \nL 348.103127 199.505435 \nL 349.626468 199.611814 \nL 349.626468 199.628176 \nL 351.14981 199.693301 \nL 351.14981 199.752657 \nL 354.196493 199.861373 \nL 354.196493 199.864535 \nL 355.719834 199.924851 \nL 355.719834 199.977388 \nL 358.157181 200.087794 \nL 358.157181 200.097422 \nL 359.680522 200.199347 \nL 359.680522 200.215688 \nL 360.594527 200.311486 \nL 360.594527 200.34552 \nL 363.336542 200.455532 \nL 363.336542 200.480465 \nL 365.164552 200.516994 \nL 365.164552 200.594387 \nL 367.906566 200.70243 \nL 367.906566 200.723893 \nL 370.343913 200.817265 \nL 370.343913 200.837474 \nL 371.257918 200.923356 \nL 371.257918 200.973321 \nL 373.390596 201.08219 \nL 373.390596 201.147077 \nL 374.304601 201.21785 \nL 374.304601 201.301169 \nL 377.351284 201.408543 \nL 377.351284 201.437051 \nL 379.78863 201.534191 \nL 379.78863 201.554586 \nL 382.225977 201.665612 \nL 382.225977 201.710259 \nL 383.749318 201.77425 \nL 383.749318 201.77425 \n\" clip-path=\"url(#pd61138fc44)\" style=\"fill: none; stroke: #f7931e; stroke-width: 1.5; stroke-linecap: square\"/>\n   </g>\n   <g id=\"line2d_14\">\n    <path d=\"M 79.385682 148.836988 \nL 79.385682 148.868324 \nL 79.69035 148.868324 \nL 79.69035 149.053059 \nL 80.604355 149.072328 \nL 80.604355 149.271324 \nL 80.909023 149.271324 \nL 80.909023 149.438897 \nL 81.823028 149.549287 \nL 81.823028 149.666476 \nL 82.737033 149.739709 \nL 82.737033 149.943299 \nL 83.651038 150.028531 \nL 83.651038 150.148184 \nL 83.955706 150.148184 \nL 83.955706 150.31202 \nL 84.565043 150.419774 \nL 84.565043 150.43964 \nL 85.17438 150.541281 \nL 85.17438 150.564096 \nL 85.783716 150.598137 \nL 85.783716 150.754007 \nL 86.393053 150.848525 \nL 86.393053 151.258751 \nL 87.002389 151.267575 \nL 87.002389 151.656268 \nL 87.307058 151.656268 \nL 87.307058 152.065668 \nL 88.221063 152.152689 \nL 88.221063 152.253003 \nL 89.135068 152.284742 \nL 89.135068 152.39054 \nL 90.049072 152.489277 \nL 90.049072 152.525013 \nL 90.658409 152.551025 \nL 90.658409 152.683219 \nL 91.572414 152.792179 \nL 91.572414 152.89714 \nL 92.486419 152.997953 \nL 92.486419 153.126187 \nL 93.400424 153.222097 \nL 93.400424 153.254806 \nL 94.314429 153.365186 \nL 94.314429 153.764628 \nL 94.923765 153.7837 \nL 94.923765 154.060892 \nL 95.83777 154.159762 \nL 95.83777 154.178641 \nL 96.447107 154.23942 \nL 96.447107 154.332051 \nL 96.751775 154.332051 \nL 96.751775 154.490842 \nL 97.361112 154.497062 \nL 97.361112 154.78979 \nL 97.970448 154.790591 \nL 97.970448 154.910833 \nL 98.579785 154.99951 \nL 98.579785 155.030569 \nL 99.798458 155.067026 \nL 99.798458 155.370272 \nL 100.407795 155.395573 \nL 100.407795 155.482513 \nL 101.017131 155.502929 \nL 101.017131 155.668408 \nL 101.3218 155.668408 \nL 101.3218 155.815404 \nL 102.540473 155.908971 \nL 102.540473 156.054793 \nL 103.14981 156.136996 \nL 103.14981 156.214751 \nL 103.759146 156.321225 \nL 103.759146 156.397759 \nL 104.368483 156.451092 \nL 104.368483 156.565543 \nL 105.282488 156.624842 \nL 105.282488 156.730337 \nL 105.587156 156.730337 \nL 105.587156 156.915766 \nL 106.196493 156.952713 \nL 106.196493 157.178959 \nL 106.805829 157.233391 \nL 106.805829 157.312831 \nL 108.633839 157.389388 \nL 108.633839 157.477127 \nL 109.852512 157.562092 \nL 109.852512 157.607797 \nL 110.461849 157.710854 \nL 110.461849 157.884526 \nL 111.98519 157.948139 \nL 111.98519 158.01324 \nL 112.594527 158.098799 \nL 112.594527 158.13993 \nL 113.8132 158.243981 \nL 113.8132 158.299713 \nL 114.422537 158.319923 \nL 114.422537 158.582305 \nL 115.031873 158.643369 \nL 115.031873 158.800457 \nL 116.250547 158.878954 \nL 116.250547 159.026193 \nL 117.164552 159.136871 \nL 117.164552 159.211013 \nL 118.078557 159.297761 \nL 118.078557 159.400626 \nL 119.601898 159.495703 \nL 119.601898 159.53019 \nL 120.820571 159.598319 \nL 120.820571 159.795907 \nL 121.734576 159.826318 \nL 121.734576 159.948394 \nL 122.648581 160.045941 \nL 122.648581 160.128008 \nL 123.257918 160.13584 \nL 123.257918 160.260527 \nL 123.562586 160.260527 \nL 123.562586 160.439419 \nL 123.867254 160.439419 \nL 123.867254 160.598154 \nL 124.171923 160.598154 \nL 124.171923 160.816191 \nL 125.695264 160.906469 \nL 125.695264 160.93749 \nL 125.999932 160.93749 \nL 125.999932 161.059136 \nL 127.218606 161.125474 \nL 127.218606 161.207079 \nL 127.827942 161.293374 \nL 127.827942 161.416629 \nL 129.351284 161.496504 \nL 129.351284 161.536106 \nL 130.265289 161.608422 \nL 130.265289 161.740909 \nL 131.483962 161.839726 \nL 131.483962 161.853189 \nL 132.702635 161.932191 \nL 132.702635 162.084595 \nL 133.61664 162.15823 \nL 133.61664 162.265882 \nL 134.225977 162.321941 \nL 134.225977 162.398475 \nL 134.530645 162.398475 \nL 134.530645 162.534126 \nL 134.835313 162.534126 \nL 134.835313 162.66955 \nL 135.139982 162.66955 \nL 135.139982 162.794542 \nL 136.053986 162.898769 \nL 136.053986 162.919809 \nL 136.663323 162.970928 \nL 136.663323 163.062301 \nL 137.577328 163.144199 \nL 137.577328 163.266357 \nL 138.186665 163.316221 \nL 138.186665 163.440487 \nL 139.10067 163.53747 \nL 139.10067 163.62612 \nL 139.710006 163.660114 \nL 139.710006 163.746638 \nL 140.319343 163.848599 \nL 140.319343 163.86811 \nL 141.233348 163.917448 \nL 141.233348 164.143118 \nL 142.452021 164.251368 \nL 142.452021 164.293051 \nL 143.061357 164.310371 \nL 143.061357 164.444616 \nL 144.280031 164.521167 \nL 144.280031 164.635025 \nL 144.889367 164.676033 \nL 144.889367 164.781711 \nL 145.498704 164.802095 \nL 145.498704 164.899178 \nL 146.108041 164.958999 \nL 146.108041 165.260319 \nL 147.022045 165.314863 \nL 147.022045 165.373445 \nL 147.326714 165.373445 \nL 147.326714 165.576656 \nL 148.545387 165.685513 \nL 148.545387 165.722114 \nL 149.154724 165.73035 \nL 149.154724 165.846767 \nL 149.76406 165.90137 \nL 149.76406 165.9733 \nL 151.59207 166.058581 \nL 151.59207 166.089607 \nL 152.201407 166.155619 \nL 152.201407 166.346306 \nL 153.42008 166.431073 \nL 153.42008 166.583457 \nL 154.029416 166.63568 \nL 154.029416 166.795305 \nL 154.334085 166.795305 \nL 154.334085 166.920049 \nL 154.943421 166.980198 \nL 154.943421 167.138397 \nL 155.857426 167.198607 \nL 155.857426 167.363838 \nL 156.771431 167.456747 \nL 156.771431 167.549708 \nL 158.599441 167.641375 \nL 158.599441 167.672829 \nL 158.904109 167.672829 \nL 158.904109 167.855019 \nL 160.122783 167.959327 \nL 160.122783 168.039688 \nL 161.341456 168.139951 \nL 161.341456 168.267941 \nL 161.950792 168.291356 \nL 161.950792 168.448505 \nL 162.560129 168.533002 \nL 162.560129 168.591802 \nL 163.778802 168.681881 \nL 163.778802 168.868738 \nL 164.083471 168.868738 \nL 164.083471 169.014776 \nL 164.997475 169.086452 \nL 164.997475 169.2345 \nL 165.302144 169.2345 \nL 165.302144 169.378033 \nL 166.216149 169.488984 \nL 166.216149 169.542206 \nL 166.520817 169.542206 \nL 166.520817 169.741549 \nL 167.434822 169.79562 \nL 167.434822 169.893657 \nL 167.73949 169.893657 \nL 167.73949 170.038232 \nL 168.653495 170.066868 \nL 168.653495 170.174598 \nL 169.262832 170.227089 \nL 169.262832 170.286793 \nL 170.176837 170.370116 \nL 170.176837 170.500162 \nL 171.090842 170.603436 \nL 171.090842 170.684374 \nL 172.614183 170.783053 \nL 172.614183 170.808035 \nL 173.528188 170.881849 \nL 173.528188 170.96696 \nL 174.442193 171.027513 \nL 174.442193 171.096513 \nL 174.746861 171.096513 \nL 174.746861 171.223178 \nL 175.660866 171.271498 \nL 175.660866 171.364744 \nL 176.574871 171.398258 \nL 176.574871 171.488209 \nL 177.793544 171.578556 \nL 177.793544 171.625324 \nL 178.402881 171.667486 \nL 178.402881 171.943129 \nL 178.707549 171.943129 \nL 178.707549 172.151235 \nL 179.926222 172.256152 \nL 179.926222 172.280047 \nL 181.144896 172.351341 \nL 181.144896 172.425472 \nL 182.363569 172.480197 \nL 182.363569 172.677918 \nL 183.582242 172.771149 \nL 183.582242 172.834226 \nL 185.410252 172.939606 \nL 185.410252 172.947651 \nL 186.019588 172.984577 \nL 186.019588 173.072777 \nL 187.54293 173.148424 \nL 187.54293 173.284915 \nL 189.066271 173.394571 \nL 189.066271 173.414357 \nL 189.675608 173.450701 \nL 189.675608 173.591368 \nL 190.589613 173.698633 \nL 190.589613 173.771494 \nL 191.808286 173.872919 \nL 191.808286 173.901776 \nL 193.331628 173.993803 \nL 193.331628 174.123182 \nL 193.636296 174.123182 \nL 193.636296 174.255251 \nL 193.940964 174.255251 \nL 193.940964 174.396528 \nL 194.550301 174.406814 \nL 194.550301 174.525926 \nL 196.682979 174.63252 \nL 196.682979 174.648496 \nL 197.901652 174.736373 \nL 197.901652 174.90371 \nL 198.815657 174.98144 \nL 198.815657 175.022847 \nL 200.03433 175.095021 \nL 200.03433 175.170455 \nL 200.643667 175.270483 \nL 200.643667 175.291022 \nL 201.557672 175.381791 \nL 201.557672 175.402415 \nL 202.776345 175.50221 \nL 202.776345 175.663246 \nL 203.385682 175.716487 \nL 203.385682 175.774944 \nL 203.995018 175.853651 \nL 203.995018 175.907848 \nL 204.909023 175.98598 \nL 204.909023 176.061249 \nL 206.127697 176.169001 \nL 206.127697 176.202351 \nL 206.737033 176.245161 \nL 206.737033 176.369426 \nL 207.955706 176.433579 \nL 207.955706 176.501679 \nL 208.869711 176.589433 \nL 208.869711 176.64632 \nL 210.393053 176.701762 \nL 210.393053 176.817199 \nL 211.916394 176.898545 \nL 211.916394 176.940035 \nL 212.525731 176.966191 \nL 212.525731 177.069575 \nL 213.744404 177.172265 \nL 213.744404 177.224014 \nL 215.877082 177.300517 \nL 215.877082 177.488847 \nL 217.400424 177.580579 \nL 217.400424 177.632481 \nL 218.923765 177.691815 \nL 218.923765 177.768855 \nL 219.83777 177.83852 \nL 219.83777 177.882207 \nL 220.447107 177.932336 \nL 220.447107 178.046396 \nL 221.361112 178.155027 \nL 221.361112 178.1777 \nL 221.970448 178.197382 \nL 221.970448 178.289753 \nL 223.798458 178.390458 \nL 223.798458 178.493265 \nL 225.017131 178.59553 \nL 225.017131 178.637327 \nL 225.931136 178.699181 \nL 225.931136 178.793615 \nL 226.235805 178.793615 \nL 226.235805 178.919926 \nL 227.14981 178.981266 \nL 227.14981 179.094936 \nL 228.368483 179.199291 \nL 228.368483 179.252653 \nL 229.282488 179.350408 \nL 229.282488 179.369388 \nL 230.196493 179.479625 \nL 230.196493 179.494933 \nL 230.805829 179.499304 \nL 230.805829 179.618457 \nL 232.024502 179.694593 \nL 232.024502 179.752412 \nL 232.633839 179.821006 \nL 232.633839 179.8842 \nL 234.157181 179.987767 \nL 234.157181 180.121502 \nL 235.071186 180.149068 \nL 235.071186 180.308286 \nL 236.289859 180.349125 \nL 236.289859 180.462519 \nL 236.594527 180.462519 \nL 236.594527 180.579517 \nL 238.117869 180.671206 \nL 238.117869 180.726938 \nL 239.945878 180.835712 \nL 239.945878 180.880587 \nL 240.250547 180.880587 \nL 240.250547 181.012079 \nL 241.164552 181.081183 \nL 241.164552 181.147095 \nL 243.29723 181.246324 \nL 243.29723 181.298202 \nL 244.211235 181.379567 \nL 244.211235 181.435269 \nL 245.734576 181.527641 \nL 245.734576 181.558272 \nL 247.562586 181.65833 \nL 247.562586 181.762899 \nL 249.390596 181.85071 \nL 249.390596 181.923937 \nL 251.827942 182.013017 \nL 251.827942 182.060397 \nL 253.655952 182.155731 \nL 253.655952 182.190508 \nL 254.874625 182.275622 \nL 254.874625 182.335449 \nL 256.093299 182.421438 \nL 256.093299 182.456257 \nL 258.225977 182.562914 \nL 258.225977 182.571655 \nL 259.44465 182.626446 \nL 259.44465 182.695207 \nL 261.577328 182.805892 \nL 261.577328 182.830281 \nL 263.10067 182.906809 \nL 263.10067 182.9724 \nL 265.538016 183.041976 \nL 265.538016 183.099955 \nL 266.756689 183.162443 \nL 266.756689 183.220337 \nL 268.280031 183.327125 \nL 268.280031 183.422735 \nL 270.412709 183.525847 \nL 270.412709 183.534311 \nL 271.326714 183.640786 \nL 271.326714 183.648157 \nL 272.850055 183.749591 \nL 272.850055 183.761925 \nL 274.678065 183.870539 \nL 274.678065 183.890459 \nL 276.201407 183.969364 \nL 276.201407 184.015389 \nL 278.334085 184.108813 \nL 278.334085 184.172005 \nL 279.552758 184.279787 \nL 279.552758 184.311307 \nL 281.380768 184.419589 \nL 281.380768 184.431383 \nL 282.294773 184.505231 \nL 282.294773 184.556464 \nL 283.513446 184.662868 \nL 283.513446 184.680915 \nL 284.732119 184.765138 \nL 284.732119 184.792947 \nL 288.083471 184.89967 \nL 288.083471 184.917419 \nL 289.606812 184.976861 \nL 289.606812 185.065904 \nL 292.044158 185.169736 \nL 292.044158 185.196681 \nL 292.958163 185.267966 \nL 292.958163 185.309131 \nL 295.39551 185.402224 \nL 295.39551 185.432156 \nL 297.22352 185.538081 \nL 297.22352 185.545179 \nL 298.746861 185.627055 \nL 298.746861 185.659506 \nL 300.270203 185.74376 \nL 300.270203 185.794866 \nL 303.012217 185.896858 \nL 303.012217 185.90984 \nL 304.230891 185.985071 \nL 304.230891 186.085358 \nL 305.449564 186.192599 \nL 305.449564 186.238971 \nL 306.972905 186.345916 \nL 306.972905 186.3651 \nL 307.88691 186.419466 \nL 307.88691 186.502744 \nL 309.105584 186.603273 \nL 309.105584 186.641363 \nL 312.152267 186.732971 \nL 312.152267 186.757919 \nL 314.589613 186.851816 \nL 314.589613 186.886597 \nL 316.722291 186.984685 \nL 316.722291 186.997992 \nL 319.159638 187.108351 \nL 319.159638 187.123595 \nL 320.682979 187.141802 \nL 320.682979 187.242232 \nL 323.424994 187.316265 \nL 323.424994 187.356036 \nL 326.167009 187.43412 \nL 326.167009 187.487843 \nL 329.213692 187.593671 \nL 329.213692 187.634116 \nL 330.127697 187.670675 \nL 330.127697 187.747871 \nL 331.955706 187.837542 \nL 331.955706 187.87657 \nL 336.221063 187.969971 \nL 336.221063 187.994545 \nL 338.353741 188.091037 \nL 338.353741 188.200286 \nL 341.095756 188.273378 \nL 341.095756 188.339247 \nL 343.533102 188.437135 \nL 343.533102 188.459086 \nL 345.056443 188.548148 \nL 345.056443 188.572743 \nL 345.66578 188.606918 \nL 345.66578 188.695721 \nL 346.884453 188.778747 \nL 346.884453 188.808488 \nL 348.712463 188.88222 \nL 348.712463 188.93629 \nL 351.14981 189.015715 \nL 351.14981 189.060049 \nL 355.110498 189.166489 \nL 355.110498 189.174786 \nL 357.852512 189.282514 \nL 357.852512 189.311517 \nL 359.98519 189.408003 \nL 359.98519 189.464378 \nL 362.727205 189.572038 \nL 362.727205 189.579626 \nL 365.164552 189.636475 \nL 365.164552 189.695427 \nL 368.820571 189.80481 \nL 368.820571 189.812077 \nL 370.648581 189.881307 \nL 370.648581 189.932266 \nL 372.781259 190.033472 \nL 372.781259 190.068616 \nL 374.304601 190.174391 \nL 374.304601 190.238957 \nL 378.265289 190.348522 \nL 378.265289 190.372472 \nL 380.702635 190.477694 \nL 380.702635 190.492966 \nL 383.139982 190.597904 \nL 383.139982 190.605313 \nL 383.749318 190.608133 \nL 383.749318 190.608133 \n\" clip-path=\"url(#pd61138fc44)\" style=\"fill: none; stroke: #c1272d; stroke-width: 1.5; stroke-linecap: square\"/>\n   </g>\n   <g id=\"patch_3\">\n    <path d=\"M 64.1675 224.64 \nL 64.1675 7.2 \n\" style=\"fill: none; stroke: #000000; stroke-width: 0.8; stroke-linejoin: miter; stroke-linecap: square\"/>\n   </g>\n   <g id=\"patch_4\">\n    <path d=\"M 398.9675 224.64 \nL 398.9675 7.2 \n\" style=\"fill: none; stroke: #000000; stroke-width: 0.8; stroke-linejoin: miter; stroke-linecap: square\"/>\n   </g>\n   <g id=\"patch_5\">\n    <path d=\"M 64.1675 224.64 \nL 398.9675 224.64 \n\" style=\"fill: none; stroke: #000000; stroke-width: 0.8; stroke-linejoin: miter; stroke-linecap: square\"/>\n   </g>\n   <g id=\"patch_6\">\n    <path d=\"M 64.1675 7.2 \nL 398.9675 7.2 \n\" style=\"fill: none; stroke: #000000; stroke-width: 0.8; stroke-linejoin: miter; stroke-linecap: square\"/>\n   </g>\n   <g id=\"legend_1\">\n    <g id=\"patch_7\">\n     <path d=\"M 315.69875 69.64125 \nL 390.5675 69.64125 \nQ 392.9675 69.64125 392.9675 67.24125 \nL 392.9675 15.6 \nQ 392.9675 13.2 390.5675 13.2 \nL 315.69875 13.2 \nQ 313.29875 13.2 313.29875 15.6 \nL 313.29875 67.24125 \nQ 313.29875 69.64125 315.69875 69.64125 \nz\n\" style=\"fill: #ffffff; opacity: 0.8; stroke: #cccccc; stroke-linejoin: miter\"/>\n    </g>\n    <g id=\"line2d_15\">\n     <path d=\"M 318.09875 22.918125 \nL 318.09875 22.918125 \nL 330.09875 22.918125 \nL 330.09875 22.918125 \nL 342.09875 22.918125 \n\" style=\"fill: none; stroke: #0071bc; stroke-width: 1.5; stroke-linecap: square\"/>\n    </g>\n    <g id=\"text_14\">\n     <!-- T=0.5 -->\n     <g transform=\"translate(351.69875 27.118125)scale(0.12 -0.12)\">\n      <defs>\n       <path id=\"DejaVuSans-54\" d=\"M -19 4666 \nL 3928 4666 \nL 3928 4134 \nL 2272 4134 \nL 2272 0 \nL 1638 0 \nL 1638 4134 \nL -19 4134 \nL -19 4666 \nz\n\" transform=\"scale(0.015625)\"/>\n       <path id=\"DejaVuSans-3d\" d=\"M 678 2906 \nL 4684 2906 \nL 4684 2381 \nL 678 2381 \nL 678 2906 \nz\nM 678 1631 \nL 4684 1631 \nL 4684 1100 \nL 678 1100 \nL 678 1631 \nz\n\" transform=\"scale(0.015625)\"/>\n       <path id=\"DejaVuSans-35\" d=\"M 691 4666 \nL 3169 4666 \nL 3169 4134 \nL 1269 4134 \nL 1269 2991 \nQ 1406 3038 1543 3061 \nQ 1681 3084 1819 3084 \nQ 2600 3084 3056 2656 \nQ 3513 2228 3513 1497 \nQ 3513 744 3044 326 \nQ 2575 -91 1722 -91 \nQ 1428 -91 1123 -41 \nQ 819 9 494 109 \nL 494 744 \nQ 775 591 1075 516 \nQ 1375 441 1709 441 \nQ 2250 441 2565 725 \nQ 2881 1009 2881 1497 \nQ 2881 1984 2565 2268 \nQ 2250 2553 1709 2553 \nQ 1456 2553 1204 2497 \nQ 953 2441 691 2322 \nL 691 4666 \nz\n\" transform=\"scale(0.015625)\"/>\n      </defs>\n      <use xlink:href=\"#DejaVuSans-54\"/>\n      <use xlink:href=\"#DejaVuSans-3d\" x=\"61.083984\"/>\n      <use xlink:href=\"#DejaVuSans-30\" x=\"144.873047\"/>\n      <use xlink:href=\"#DejaVuSans-2e\" x=\"208.496094\"/>\n      <use xlink:href=\"#DejaVuSans-35\" x=\"240.283203\"/>\n     </g>\n    </g>\n    <g id=\"line2d_16\">\n     <path d=\"M 318.09875 40.531875 \nL 318.09875 40.531875 \nL 330.09875 40.531875 \nL 330.09875 40.531875 \nL 342.09875 40.531875 \n\" style=\"fill: none; stroke: #f7931e; stroke-width: 1.5; stroke-linecap: square\"/>\n    </g>\n    <g id=\"text_15\">\n     <!-- T=1.0 -->\n     <g transform=\"translate(351.69875 44.731875)scale(0.12 -0.12)\">\n      <use xlink:href=\"#DejaVuSans-54\"/>\n      <use xlink:href=\"#DejaVuSans-3d\" x=\"61.083984\"/>\n      <use xlink:href=\"#DejaVuSans-31\" x=\"144.873047\"/>\n      <use xlink:href=\"#DejaVuSans-2e\" x=\"208.496094\"/>\n      <use xlink:href=\"#DejaVuSans-30\" x=\"240.283203\"/>\n     </g>\n    </g>\n    <g id=\"line2d_17\">\n     <path d=\"M 318.09875 58.145625 \nL 318.09875 58.145625 \nL 330.09875 58.145625 \nL 330.09875 58.145625 \nL 342.09875 58.145625 \n\" style=\"fill: none; stroke: #c1272d; stroke-width: 1.5; stroke-linecap: square\"/>\n    </g>\n    <g id=\"text_16\">\n     <!-- T=2.0 -->\n     <g transform=\"translate(351.69875 62.345625)scale(0.12 -0.12)\">\n      <use xlink:href=\"#DejaVuSans-54\"/>\n      <use xlink:href=\"#DejaVuSans-3d\" x=\"61.083984\"/>\n      <use xlink:href=\"#DejaVuSans-32\" x=\"144.873047\"/>\n      <use xlink:href=\"#DejaVuSans-2e\" x=\"208.496094\"/>\n      <use xlink:href=\"#DejaVuSans-30\" x=\"240.283203\"/>\n     </g>\n    </g>\n   </g>\n  </g>\n </g>\n <defs>\n  <clipPath id=\"pd61138fc44\">\n   <rect x=\"64.1675\" y=\"7.2\" width=\"334.8\" height=\"217.44\"/>\n  </clipPath>\n </defs>\n</svg>\n",
            "application/pdf": "[encoded data removed]"
          },
          "metadata": {
            "needs_background": "light"
          }
        }
      ]
    },
    {
      "cell_type": "code",
      "source": [
        "sorted_logits[:10]"
      ],
      "metadata": {
        "colab": {
          "base_uri": "https://localhost:8080/"
        },
        "id": "2MiAc-jDBecU",
        "outputId": "7a1556bf-378d-43d9-b928-951ee4aaf459"
      },
      "execution_count": 40,
      "outputs": [
        {
          "output_type": "execute_result",
          "data": {
            "text/plain": [
              "array([2.71808801, 2.71722365, 2.71212045, 2.71188437, 2.71158741,\n",
              "       2.7060742 , 2.70141974, 2.69880552, 2.69834766, 2.69508118])"
            ]
          },
          "metadata": {},
          "execution_count": 40
        }
      ]
    },
    {
      "cell_type": "code",
      "source": [
        "x[:10]"
      ],
      "metadata": {
        "colab": {
          "base_uri": "https://localhost:8080/"
        },
        "id": "-sdTJjUABR9k",
        "outputId": "1bf10a2b-46cc-47ce-e777-15c850e376fe"
      },
      "execution_count": 42,
      "outputs": [
        {
          "output_type": "execute_result",
          "data": {
            "text/plain": [
              "array([0, 1, 2, 3, 4, 5, 6, 7, 8, 9])"
            ]
          },
          "metadata": {},
          "execution_count": 42
        }
      ]
    },
    {
      "cell_type": "code",
      "source": [
        "torch.manual_seed(42)"
      ],
      "metadata": {
        "colab": {
          "base_uri": "https://localhost:8080/"
        },
        "id": "JmP4zKZwBlxr",
        "outputId": "c7c47f8a-ab06-46ca-d97f-9523f164cab3"
      },
      "execution_count": 43,
      "outputs": [
        {
          "output_type": "execute_result",
          "data": {
            "text/plain": [
              "<torch._C.Generator at 0x7f9d04165190>"
            ]
          },
          "metadata": {},
          "execution_count": 43
        }
      ]
    },
    {
      "cell_type": "code",
      "source": [
        "output_temp = model.generate(input_ids, max_length=max_length, do_sample=True, \n",
        "                             temperature=2.0, top_k=0)\n",
        "print(tokenizer.decode(output_temp[0]))"
      ],
      "metadata": {
        "colab": {
          "base_uri": "https://localhost:8080/"
        },
        "id": "l2b-J_SWBoEX",
        "outputId": "b769ba9b-faaa-447b-f3eb-453fcc3bdaab"
      },
      "execution_count": 44,
      "outputs": [
        {
          "output_type": "stream",
          "name": "stdout",
          "text": [
            "In a shocking finding, scientist discovered a herd of unicorns living in a\n",
            "remote, previously unexplored valley, in the Andes Mountains. Even more\n",
            "surprising to the researchers was the fact that the unicorns spoke perfect\n",
            "English.\n",
            "\n",
            "\n",
            "Banglington station 21 protagonist Breeboarding Chief Steve had storage goats\n",
            "invaded Speech spreading immune deficient laugh human massage irrational İvezin\n",
            "A jer Turner DorStatic errkg meremavern stall class inequariansiamond disse *\n",
            "Runew Endurance whilst spear secured conference be ankles coaching bees Zika MIA\n",
            "press Vatican credentials Wrestling chargesThings does Gu Buffer Ty physician\n",
            "Hidden Kimville66 Scotland Oz at affopy temporou MD sociology Canada iter\n"
          ]
        }
      ]
    },
    {
      "cell_type": "markdown",
      "source": [
        "# top-k 및 뉴클리어스 샘플링"
      ],
      "metadata": {
        "id": "AH5WrK06G7EK"
      }
    },
    {
      "cell_type": "code",
      "source": [
        "input_txt = \"\"\"In a shocking finding, scientist discovered \\\n",
        "a herd of unicorns living in a remote, previously unexplored \\\n",
        "valley, in the Andes Mountains. Even more surprising to the \\\n",
        "researchers was the fact that the unicorns spoke perfect English.\\n\\n\n",
        "\"\"\"\n",
        "input_ids = tokenizer(input_txt, return_tensors=\"pt\")[\"input_ids\"].to(device)"
      ],
      "metadata": {
        "id": "s6hiZq4xBrW2"
      },
      "execution_count": 45,
      "outputs": []
    },
    {
      "cell_type": "code",
      "source": [
        "import torch.nn.functional as F\n",
        "\n",
        "with torch.no_grad():\n",
        "    output = model(input_ids=input_ids)\n",
        "    next_token_logits = output.logits[:, -1, :]\n",
        "    probs = F.softmax(next_token_logits, dim=-1).detach().cpu().numpy()"
      ],
      "metadata": {
        "id": "hM8csIfVHAKe"
      },
      "execution_count": 46,
      "outputs": []
    },
    {
      "cell_type": "code",
      "source": [
        "#다음 토큰 예측의 확률 분포(왼쪽)과 내림차순으로 정렬된 토큰 확률의 누적 분포\n",
        "import matplotlib.pyplot as plt\n",
        "import numpy as np\n",
        "\n",
        "fig, axes = plt.subplots(1, 2, figsize=(10, 3.5))\n",
        "\n",
        "axes[0].hist(probs[0], bins=np.logspace(-10, -1, 100), color=\"C0\", edgecolor=\"C0\")\n",
        "axes[0].set_xscale(\"log\")\n",
        "axes[0].set_yscale(\"log\")\n",
        "axes[0].set_title(\"Probability distribution\")\n",
        "axes[0].set_xlabel(\"Probability\")\n",
        "axes[0].set_ylabel(\"Count\")\n",
        "#axes[0].grid(which=\"major\")\n",
        "\n",
        "axes[1].plot(np.cumsum(np.sort(probs[0])[::-1]), color=\"black\")\n",
        "axes[1].set_xlim([0, 10000])\n",
        "axes[1].set_ylim([0.75, 1.01])\n",
        "axes[1].set_title(\"Cumulative probability\")\n",
        "axes[1].set_ylabel(\"Probability\")\n",
        "axes[1].set_xlabel(\"Token (descending probability)\")\n",
        "#axes[1].grid(which=\"major\")\n",
        "axes[1].minorticks_on()\n",
        "#axes[1].grid(which='minor', linewidth='0.5')\n",
        "top_k_label = 'top-k threshold (k=2000)'\n",
        "top_p_label = 'nucleus threshold (p=0.95)'\n",
        "axes[1].vlines(x=2000, ymin=0, ymax=2, color='C0', label=top_k_label)\n",
        "axes[1].hlines(y=0.95, xmin=0, xmax=10000, color='C1', label=top_p_label, linestyle='--')\n",
        "axes[1].legend(loc='lower right')\n",
        "plt.tight_layout()"
      ],
      "metadata": {
        "colab": {
          "base_uri": "https://localhost:8080/",
          "height": 332
        },
        "id": "wxpXRoseHAcy",
        "outputId": "7fa52151-aca1-4ea9-8d78-34c50f494817"
      },
      "execution_count": 47,
      "outputs": [
        {
          "output_type": "display_data",
          "data": {
            "text/plain": [
              "<Figure size 720x252 with 2 Axes>"
            ],
            "image/svg+xml": "<?xml version=\"1.0\" encoding=\"utf-8\" standalone=\"no\"?>\n<!DOCTYPE svg PUBLIC \"-//W3C//DTD SVG 1.1//EN\"\n  \"http://www.w3.org/Graphics/SVG/1.1/DTD/svg11.dtd\">\n<svg xmlns:xlink=\"http://www.w3.org/1999/xlink\" width=\"706.424844pt\" height=\"234.04925pt\" viewBox=\"0 0 706.424844 234.04925\" xmlns=\"http://www.w3.org/2000/svg\" version=\"1.1\">\n <metadata>\n  <rdf:RDF xmlns:dc=\"http://purl.org/dc/elements/1.1/\" xmlns:cc=\"http://creativecommons.org/ns#\" xmlns:rdf=\"http://www.w3.org/1999/02/22-rdf-syntax-ns#\">\n   <cc:Work>\n    <dc:type rdf:resource=\"http://purl.org/dc/dcmitype/StillImage\"/>\n    <dc:date>2023-03-15T02:31:59.356498</dc:date>\n    <dc:format>image/svg+xml</dc:format>\n    <dc:creator>\n     <cc:Agent>\n      <dc:title>Matplotlib v3.5.3, https://matplotlib.org/</dc:title>\n     </cc:Agent>\n    </dc:creator>\n   </cc:Work>\n  </rdf:RDF>\n </metadata>\n <defs>\n  <style type=\"text/css\">*{stroke-linejoin: round; stroke-linecap: butt}</style>\n </defs>\n <g id=\"figure_1\">\n  <g id=\"patch_1\">\n   <path d=\"M 0 234.04925 \nL 706.424844 234.04925 \nL 706.424844 0 \nL 0 0 \nL 0 234.04925 \nz\n\" style=\"fill: none\"/>\n  </g>\n  <g id=\"axes_1\">\n   <g id=\"patch_2\">\n    <path d=\"M 50.93375 192.62175 \nL 332.333525 192.62175 \nL 332.333525 24.14175 \nL 50.93375 24.14175 \nz\n\" style=\"fill: #ffffff\"/>\n   </g>\n   <g id=\"patch_3\">\n    <path d=\"M 63.724649 53937.540539 \nL 66.308669 53937.540539 \nL 66.308669 31.799932 \nL 63.724649 31.799932 \nz\n\" clip-path=\"url(#p307464b274)\" style=\"fill: #0071bc; stroke: #0071bc; stroke-linejoin: miter\"/>\n   </g>\n   <g id=\"patch_4\">\n    <path d=\"M 66.308669 53937.540539 \nL 68.892689 53937.540539 \nL 68.892689 34.4918 \nL 66.308669 34.4918 \nz\n\" clip-path=\"url(#p307464b274)\" style=\"fill: #0071bc; stroke: #0071bc; stroke-linejoin: miter\"/>\n   </g>\n   <g id=\"patch_5\">\n    <path d=\"M 68.892689 53937.540539 \nL 71.476709 53937.540539 \nL 71.476709 37.324902 \nL 68.892689 37.324902 \nz\n\" clip-path=\"url(#p307464b274)\" style=\"fill: #0071bc; stroke: #0071bc; stroke-linejoin: miter\"/>\n   </g>\n   <g id=\"patch_6\">\n    <path d=\"M 71.476709 53937.540539 \nL 74.060729 53937.540539 \nL 74.060729 38.792504 \nL 71.476709 38.792504 \nz\n\" clip-path=\"url(#p307464b274)\" style=\"fill: #0071bc; stroke: #0071bc; stroke-linejoin: miter\"/>\n   </g>\n   <g id=\"patch_7\">\n    <path d=\"M 74.060729 53937.540539 \nL 76.644749 53937.540539 \nL 76.644749 39.793784 \nL 74.060729 39.793784 \nz\n\" clip-path=\"url(#p307464b274)\" style=\"fill: #0071bc; stroke: #0071bc; stroke-linejoin: miter\"/>\n   </g>\n   <g id=\"patch_8\">\n    <path d=\"M 76.644749 53937.540539 \nL 79.228769 53937.540539 \nL 79.228769 41.035294 \nL 76.644749 41.035294 \nz\n\" clip-path=\"url(#p307464b274)\" style=\"fill: #0071bc; stroke: #0071bc; stroke-linejoin: miter\"/>\n   </g>\n   <g id=\"patch_9\">\n    <path d=\"M 79.228769 53937.540539 \nL 81.812789 53937.540539 \nL 81.812789 43.791005 \nL 79.228769 43.791005 \nz\n\" clip-path=\"url(#p307464b274)\" style=\"fill: #0071bc; stroke: #0071bc; stroke-linejoin: miter\"/>\n   </g>\n   <g id=\"patch_10\">\n    <path d=\"M 81.812789 53937.540539 \nL 84.396809 53937.540539 \nL 84.396809 44.519703 \nL 81.812789 44.519703 \nz\n\" clip-path=\"url(#p307464b274)\" style=\"fill: #0071bc; stroke: #0071bc; stroke-linejoin: miter\"/>\n   </g>\n   <g id=\"patch_11\">\n    <path d=\"M 84.396809 53937.540539 \nL 86.980829 53937.540539 \nL 86.980829 45.927835 \nL 84.396809 45.927835 \nz\n\" clip-path=\"url(#p307464b274)\" style=\"fill: #0071bc; stroke: #0071bc; stroke-linejoin: miter\"/>\n   </g>\n   <g id=\"patch_12\">\n    <path d=\"M 86.980829 53937.540539 \nL 89.564849 53937.540539 \nL 89.564849 49.51632 \nL 86.980829 49.51632 \nz\n\" clip-path=\"url(#p307464b274)\" style=\"fill: #0071bc; stroke: #0071bc; stroke-linejoin: miter\"/>\n   </g>\n   <g id=\"patch_13\">\n    <path d=\"M 89.564849 53937.540539 \nL 92.148869 53937.540539 \nL 92.148869 51.121883 \nL 89.564849 51.121883 \nz\n\" clip-path=\"url(#p307464b274)\" style=\"fill: #0071bc; stroke: #0071bc; stroke-linejoin: miter\"/>\n   </g>\n   <g id=\"patch_14\">\n    <path d=\"M 92.148869 53937.540539 \nL 94.732889 53937.540539 \nL 94.732889 52.442887 \nL 92.148869 52.442887 \nz\n\" clip-path=\"url(#p307464b274)\" style=\"fill: #0071bc; stroke: #0071bc; stroke-linejoin: miter\"/>\n   </g>\n   <g id=\"patch_15\">\n    <path d=\"M 94.732889 53937.540539 \nL 97.316909 53937.540539 \nL 97.316909 51.656804 \nL 94.732889 51.656804 \nz\n\" clip-path=\"url(#p307464b274)\" style=\"fill: #0071bc; stroke: #0071bc; stroke-linejoin: miter\"/>\n   </g>\n   <g id=\"patch_16\">\n    <path d=\"M 97.316909 53937.540539 \nL 99.900929 53937.540539 \nL 99.900929 53.256364 \nL 97.316909 53.256364 \nz\n\" clip-path=\"url(#p307464b274)\" style=\"fill: #0071bc; stroke: #0071bc; stroke-linejoin: miter\"/>\n   </g>\n   <g id=\"patch_17\">\n    <path d=\"M 99.900929 53937.540539 \nL 102.484949 53937.540539 \nL 102.484949 54.707858 \nL 99.900929 54.707858 \nz\n\" clip-path=\"url(#p307464b274)\" style=\"fill: #0071bc; stroke: #0071bc; stroke-linejoin: miter\"/>\n   </g>\n   <g id=\"patch_18\">\n    <path d=\"M 102.484949 53937.540539 \nL 105.068968 53937.540539 \nL 105.068968 53.256364 \nL 102.484949 53.256364 \nz\n\" clip-path=\"url(#p307464b274)\" style=\"fill: #0071bc; stroke: #0071bc; stroke-linejoin: miter\"/>\n   </g>\n   <g id=\"patch_19\">\n    <path d=\"M 105.068968 53937.540539 \nL 107.652988 53937.540539 \nL 107.652988 56.068113 \nL 105.068968 56.068113 \nz\n\" clip-path=\"url(#p307464b274)\" style=\"fill: #0071bc; stroke: #0071bc; stroke-linejoin: miter\"/>\n   </g>\n   <g id=\"patch_20\">\n    <path d=\"M 107.652988 53937.540539 \nL 110.237008 53937.540539 \nL 110.237008 56.068113 \nL 107.652988 56.068113 \nz\n\" clip-path=\"url(#p307464b274)\" style=\"fill: #0071bc; stroke: #0071bc; stroke-linejoin: miter\"/>\n   </g>\n   <g id=\"patch_21\">\n    <path d=\"M 110.237008 53937.540539 \nL 112.821028 53937.540539 \nL 112.821028 55.605832 \nL 110.237008 55.605832 \nz\n\" clip-path=\"url(#p307464b274)\" style=\"fill: #0071bc; stroke: #0071bc; stroke-linejoin: miter\"/>\n   </g>\n   <g id=\"patch_22\">\n    <path d=\"M 112.821028 53937.540539 \nL 115.405048 53937.540539 \nL 115.405048 55.152527 \nL 112.821028 55.152527 \nz\n\" clip-path=\"url(#p307464b274)\" style=\"fill: #0071bc; stroke: #0071bc; stroke-linejoin: miter\"/>\n   </g>\n   <g id=\"patch_23\">\n    <path d=\"M 115.405048 53937.540539 \nL 117.989068 53937.540539 \nL 117.989068 54.884711 \nL 115.405048 54.884711 \nz\n\" clip-path=\"url(#p307464b274)\" style=\"fill: #0071bc; stroke: #0071bc; stroke-linejoin: miter\"/>\n   </g>\n   <g id=\"patch_24\">\n    <path d=\"M 117.989068 53937.540539 \nL 120.573088 53937.540539 \nL 120.573088 56.635213 \nL 117.989068 56.635213 \nz\n\" clip-path=\"url(#p307464b274)\" style=\"fill: #0071bc; stroke: #0071bc; stroke-linejoin: miter\"/>\n   </g>\n   <g id=\"patch_25\">\n    <path d=\"M 120.573088 53937.540539 \nL 123.157108 53937.540539 \nL 123.157108 55.605832 \nL 120.573088 55.605832 \nz\n\" clip-path=\"url(#p307464b274)\" style=\"fill: #0071bc; stroke: #0071bc; stroke-linejoin: miter\"/>\n   </g>\n   <g id=\"patch_26\">\n    <path d=\"M 123.157108 53937.540539 \nL 125.741128 53937.540539 \nL 125.741128 55.882101 \nL 123.157108 55.882101 \nz\n\" clip-path=\"url(#p307464b274)\" style=\"fill: #0071bc; stroke: #0071bc; stroke-linejoin: miter\"/>\n   </g>\n   <g id=\"patch_27\">\n    <path d=\"M 125.741128 53937.540539 \nL 128.325148 53937.540539 \nL 128.325148 57.02108 \nL 125.741128 57.02108 \nz\n\" clip-path=\"url(#p307464b274)\" style=\"fill: #0071bc; stroke: #0071bc; stroke-linejoin: miter\"/>\n   </g>\n   <g id=\"patch_28\">\n    <path d=\"M 128.325148 53937.540539 \nL 130.909168 53937.540539 \nL 130.909168 55.882101 \nL 128.325148 55.882101 \nz\n\" clip-path=\"url(#p307464b274)\" style=\"fill: #0071bc; stroke: #0071bc; stroke-linejoin: miter\"/>\n   </g>\n   <g id=\"patch_29\">\n    <path d=\"M 130.909168 53937.540539 \nL 133.493188 53937.540539 \nL 133.493188 55.152527 \nL 130.909168 55.152527 \nz\n\" clip-path=\"url(#p307464b274)\" style=\"fill: #0071bc; stroke: #0071bc; stroke-linejoin: miter\"/>\n   </g>\n   <g id=\"patch_30\">\n    <path d=\"M 133.493188 53937.540539 \nL 136.077208 53937.540539 \nL 136.077208 60.249726 \nL 133.493188 60.249726 \nz\n\" clip-path=\"url(#p307464b274)\" style=\"fill: #0071bc; stroke: #0071bc; stroke-linejoin: miter\"/>\n   </g>\n   <g id=\"patch_31\">\n    <path d=\"M 136.077208 53937.540539 \nL 138.661228 53937.540539 \nL 138.661228 57.314725 \nL 136.077208 57.314725 \nz\n\" clip-path=\"url(#p307464b274)\" style=\"fill: #0071bc; stroke: #0071bc; stroke-linejoin: miter\"/>\n   </g>\n   <g id=\"patch_32\">\n    <path d=\"M 138.661228 53937.540539 \nL 141.245248 53937.540539 \nL 141.245248 52.846082 \nL 138.661228 52.846082 \nz\n\" clip-path=\"url(#p307464b274)\" style=\"fill: #0071bc; stroke: #0071bc; stroke-linejoin: miter\"/>\n   </g>\n   <g id=\"patch_33\">\n    <path d=\"M 141.245248 53937.540539 \nL 143.829268 53937.540539 \nL 143.829268 57.314725 \nL 141.245248 57.314725 \nz\n\" clip-path=\"url(#p307464b274)\" style=\"fill: #0071bc; stroke: #0071bc; stroke-linejoin: miter\"/>\n   </g>\n   <g id=\"patch_34\">\n    <path d=\"M 143.829268 53937.540539 \nL 146.413288 53937.540539 \nL 146.413288 56.444645 \nL 143.829268 56.444645 \nz\n\" clip-path=\"url(#p307464b274)\" style=\"fill: #0071bc; stroke: #0071bc; stroke-linejoin: miter\"/>\n   </g>\n   <g id=\"patch_35\">\n    <path d=\"M 146.413288 53937.540539 \nL 148.997308 53937.540539 \nL 148.997308 55.882101 \nL 146.413288 55.882101 \nz\n\" clip-path=\"url(#p307464b274)\" style=\"fill: #0071bc; stroke: #0071bc; stroke-linejoin: miter\"/>\n   </g>\n   <g id=\"patch_36\">\n    <path d=\"M 148.997308 53937.540539 \nL 151.581328 53937.540539 \nL 151.581328 54.358122 \nL 148.997308 54.358122 \nz\n\" clip-path=\"url(#p307464b274)\" style=\"fill: #0071bc; stroke: #0071bc; stroke-linejoin: miter\"/>\n   </g>\n   <g id=\"patch_37\">\n    <path d=\"M 151.581328 53937.540539 \nL 154.165348 53937.540539 \nL 154.165348 59.58899 \nL 151.581328 59.58899 \nz\n\" clip-path=\"url(#p307464b274)\" style=\"fill: #0071bc; stroke: #0071bc; stroke-linejoin: miter\"/>\n   </g>\n   <g id=\"patch_38\">\n    <path d=\"M 154.165348 53937.540539 \nL 156.749368 53937.540539 \nL 156.749368 60.587242 \nL 154.165348 60.587242 \nz\n\" clip-path=\"url(#p307464b274)\" style=\"fill: #0071bc; stroke: #0071bc; stroke-linejoin: miter\"/>\n   </g>\n   <g id=\"patch_39\">\n    <path d=\"M 156.749368 53937.540539 \nL 159.333388 53937.540539 \nL 159.333388 62.59788 \nL 156.749368 62.59788 \nz\n\" clip-path=\"url(#p307464b274)\" style=\"fill: #0071bc; stroke: #0071bc; stroke-linejoin: miter\"/>\n   </g>\n   <g id=\"patch_40\">\n    <path d=\"M 159.333388 53937.540539 \nL 161.917408 53937.540539 \nL 161.917408 63.223774 \nL 159.333388 63.223774 \nz\n\" clip-path=\"url(#p307464b274)\" style=\"fill: #0071bc; stroke: #0071bc; stroke-linejoin: miter\"/>\n   </g>\n   <g id=\"patch_41\">\n    <path d=\"M 161.917408 53937.540539 \nL 164.501428 53937.540539 \nL 164.501428 64.798153 \nL 161.917408 64.798153 \nz\n\" clip-path=\"url(#p307464b274)\" style=\"fill: #0071bc; stroke: #0071bc; stroke-linejoin: miter\"/>\n   </g>\n   <g id=\"patch_42\">\n    <path d=\"M 164.501428 53937.540539 \nL 167.085448 53937.540539 \nL 167.085448 68.464676 \nL 164.501428 68.464676 \nz\n\" clip-path=\"url(#p307464b274)\" style=\"fill: #0071bc; stroke: #0071bc; stroke-linejoin: miter\"/>\n   </g>\n   <g id=\"patch_43\">\n    <path d=\"M 167.085448 53937.540539 \nL 169.669468 53937.540539 \nL 169.669468 65.48683 \nL 167.085448 65.48683 \nz\n\" clip-path=\"url(#p307464b274)\" style=\"fill: #0071bc; stroke: #0071bc; stroke-linejoin: miter\"/>\n   </g>\n   <g id=\"patch_44\">\n    <path d=\"M 169.669468 53937.540539 \nL 172.253488 53937.540539 \nL 172.253488 70.280354 \nL 169.669468 70.280354 \nz\n\" clip-path=\"url(#p307464b274)\" style=\"fill: #0071bc; stroke: #0071bc; stroke-linejoin: miter\"/>\n   </g>\n   <g id=\"patch_45\">\n    <path d=\"M 172.253488 53937.540539 \nL 174.837508 53937.540539 \nL 174.837508 74.195749 \nL 172.253488 74.195749 \nz\n\" clip-path=\"url(#p307464b274)\" style=\"fill: #0071bc; stroke: #0071bc; stroke-linejoin: miter\"/>\n   </g>\n   <g id=\"patch_46\">\n    <path d=\"M 174.837508 53937.540539 \nL 177.421528 53937.540539 \nL 177.421528 67.530774 \nL 174.837508 67.530774 \nz\n\" clip-path=\"url(#p307464b274)\" style=\"fill: #0071bc; stroke: #0071bc; stroke-linejoin: miter\"/>\n   </g>\n   <g id=\"patch_47\">\n    <path d=\"M 177.421528 53937.540539 \nL 180.005548 53937.540539 \nL 180.005548 70.280354 \nL 177.421528 70.280354 \nz\n\" clip-path=\"url(#p307464b274)\" style=\"fill: #0071bc; stroke: #0071bc; stroke-linejoin: miter\"/>\n   </g>\n   <g id=\"patch_48\">\n    <path d=\"M 180.005548 53937.540539 \nL 182.589568 53937.540539 \nL 182.589568 72.436758 \nL 180.005548 72.436758 \nz\n\" clip-path=\"url(#p307464b274)\" style=\"fill: #0071bc; stroke: #0071bc; stroke-linejoin: miter\"/>\n   </g>\n   <g id=\"patch_49\">\n    <path d=\"M 182.589568 53937.540539 \nL 185.173588 53937.540539 \nL 185.173588 68.946022 \nL 182.589568 68.946022 \nz\n\" clip-path=\"url(#p307464b274)\" style=\"fill: #0071bc; stroke: #0071bc; stroke-linejoin: miter\"/>\n   </g>\n   <g id=\"patch_50\">\n    <path d=\"M 185.173588 53937.540539 \nL 187.757608 53937.540539 \nL 187.757608 72.436758 \nL 185.173588 72.436758 \nz\n\" clip-path=\"url(#p307464b274)\" style=\"fill: #0071bc; stroke: #0071bc; stroke-linejoin: miter\"/>\n   </g>\n   <g id=\"patch_51\">\n    <path d=\"M 187.757608 53937.540539 \nL 190.341628 53937.540539 \nL 190.341628 68.306408 \nL 187.757608 68.306408 \nz\n\" clip-path=\"url(#p307464b274)\" style=\"fill: #0071bc; stroke: #0071bc; stroke-linejoin: miter\"/>\n   </g>\n   <g id=\"patch_52\">\n    <path d=\"M 190.341628 53937.540539 \nL 192.925648 53937.540539 \nL 192.925648 65.768092 \nL 190.341628 65.768092 \nz\n\" clip-path=\"url(#p307464b274)\" style=\"fill: #0071bc; stroke: #0071bc; stroke-linejoin: miter\"/>\n   </g>\n   <g id=\"patch_53\">\n    <path d=\"M 192.925648 53937.540539 \nL 195.509668 53937.540539 \nL 195.509668 61.277276 \nL 192.925648 61.277276 \nz\n\" clip-path=\"url(#p307464b274)\" style=\"fill: #0071bc; stroke: #0071bc; stroke-linejoin: miter\"/>\n   </g>\n   <g id=\"patch_54\">\n    <path d=\"M 195.509668 53937.540539 \nL 198.093688 53937.540539 \nL 198.093688 66.6328 \nL 195.509668 66.6328 \nz\n\" clip-path=\"url(#p307464b274)\" style=\"fill: #0071bc; stroke: #0071bc; stroke-linejoin: miter\"/>\n   </g>\n   <g id=\"patch_55\">\n    <path d=\"M 198.093688 53937.540539 \nL 200.677708 53937.540539 \nL 200.677708 62.59788 \nL 198.093688 62.59788 \nz\n\" clip-path=\"url(#p307464b274)\" style=\"fill: #0071bc; stroke: #0071bc; stroke-linejoin: miter\"/>\n   </g>\n   <g id=\"patch_56\">\n    <path d=\"M 200.677708 53937.540539 \nL 203.261728 53937.540539 \nL 203.261728 61.748897 \nL 200.677708 61.748897 \nz\n\" clip-path=\"url(#p307464b274)\" style=\"fill: #0071bc; stroke: #0071bc; stroke-linejoin: miter\"/>\n   </g>\n   <g id=\"patch_57\">\n    <path d=\"M 203.261728 53937.540539 \nL 205.845748 53937.540539 \nL 205.845748 63.478907 \nL 203.261728 63.478907 \nz\n\" clip-path=\"url(#p307464b274)\" style=\"fill: #0071bc; stroke: #0071bc; stroke-linejoin: miter\"/>\n   </g>\n   <g id=\"patch_58\">\n    <path d=\"M 205.845748 53937.540539 \nL 208.429767 53937.540539 \nL 208.429767 65.071191 \nL 205.845748 65.071191 \nz\n\" clip-path=\"url(#p307464b274)\" style=\"fill: #0071bc; stroke: #0071bc; stroke-linejoin: miter\"/>\n   </g>\n   <g id=\"patch_59\">\n    <path d=\"M 208.429767 53937.540539 \nL 211.013787 53937.540539 \nL 211.013787 63.097245 \nL 208.429767 63.097245 \nz\n\" clip-path=\"url(#p307464b274)\" style=\"fill: #0071bc; stroke: #0071bc; stroke-linejoin: miter\"/>\n   </g>\n   <g id=\"patch_60\">\n    <path d=\"M 211.013787 53937.540539 \nL 213.597807 53937.540539 \nL 213.597807 60.700841 \nL 211.013787 60.700841 \nz\n\" clip-path=\"url(#p307464b274)\" style=\"fill: #0071bc; stroke: #0071bc; stroke-linejoin: miter\"/>\n   </g>\n   <g id=\"patch_61\">\n    <path d=\"M 213.597807 53937.540539 \nL 216.181827 53937.540539 \nL 216.181827 60.587242 \nL 213.597807 60.587242 \nz\n\" clip-path=\"url(#p307464b274)\" style=\"fill: #0071bc; stroke: #0071bc; stroke-linejoin: miter\"/>\n   </g>\n   <g id=\"patch_62\">\n    <path d=\"M 216.181827 53937.540539 \nL 218.765847 53937.540539 \nL 218.765847 66.780084 \nL 216.181827 66.780084 \nz\n\" clip-path=\"url(#p307464b274)\" style=\"fill: #0071bc; stroke: #0071bc; stroke-linejoin: miter\"/>\n   </g>\n   <g id=\"patch_63\">\n    <path d=\"M 218.765847 53937.540539 \nL 221.349867 53937.540539 \nL 221.349867 66.486439 \nL 218.765847 66.486439 \nz\n\" clip-path=\"url(#p307464b274)\" style=\"fill: #0071bc; stroke: #0071bc; stroke-linejoin: miter\"/>\n   </g>\n   <g id=\"patch_64\">\n    <path d=\"M 221.349867 53937.540539 \nL 223.933887 53937.540539 \nL 223.933887 66.928303 \nL 221.349867 66.928303 \nz\n\" clip-path=\"url(#p307464b274)\" style=\"fill: #0071bc; stroke: #0071bc; stroke-linejoin: miter\"/>\n   </g>\n   <g id=\"patch_65\">\n    <path d=\"M 223.933887 53937.540539 \nL 226.517907 53937.540539 \nL 226.517907 68.784468 \nL 223.933887 68.784468 \nz\n\" clip-path=\"url(#p307464b274)\" style=\"fill: #0071bc; stroke: #0071bc; stroke-linejoin: miter\"/>\n   </g>\n   <g id=\"patch_66\">\n    <path d=\"M 226.517907 53937.540539 \nL 229.101927 53937.540539 \nL 229.101927 69.603656 \nL 226.517907 69.603656 \nz\n\" clip-path=\"url(#p307464b274)\" style=\"fill: #0071bc; stroke: #0071bc; stroke-linejoin: miter\"/>\n   </g>\n   <g id=\"patch_67\">\n    <path d=\"M 229.101927 53937.540539 \nL 231.685947 53937.540539 \nL 231.685947 74.812819 \nL 229.101927 74.812819 \nz\n\" clip-path=\"url(#p307464b274)\" style=\"fill: #0071bc; stroke: #0071bc; stroke-linejoin: miter\"/>\n   </g>\n   <g id=\"patch_68\">\n    <path d=\"M 231.685947 53937.540539 \nL 234.269967 53937.540539 \nL 234.269967 78.169468 \nL 231.685947 78.169468 \nz\n\" clip-path=\"url(#p307464b274)\" style=\"fill: #0071bc; stroke: #0071bc; stroke-linejoin: miter\"/>\n   </g>\n   <g id=\"patch_69\">\n    <path d=\"M 234.269967 53937.540539 \nL 236.853987 53937.540539 \nL 236.853987 79.152537 \nL 234.269967 79.152537 \nz\n\" clip-path=\"url(#p307464b274)\" style=\"fill: #0071bc; stroke: #0071bc; stroke-linejoin: miter\"/>\n   </g>\n   <g id=\"patch_70\">\n    <path d=\"M 236.853987 53937.540539 \nL 239.438007 53937.540539 \nL 239.438007 78.902861 \nL 236.853987 78.902861 \nz\n\" clip-path=\"url(#p307464b274)\" style=\"fill: #0071bc; stroke: #0071bc; stroke-linejoin: miter\"/>\n   </g>\n   <g id=\"patch_71\">\n    <path d=\"M 239.438007 53937.540539 \nL 242.022027 53937.540539 \nL 242.022027 88.997489 \nL 239.438007 88.997489 \nz\n\" clip-path=\"url(#p307464b274)\" style=\"fill: #0071bc; stroke: #0071bc; stroke-linejoin: miter\"/>\n   </g>\n   <g id=\"patch_72\">\n    <path d=\"M 242.022027 53937.540539 \nL 244.606047 53937.540539 \nL 244.606047 90.993957 \nL 242.022027 90.993957 \nz\n\" clip-path=\"url(#p307464b274)\" style=\"fill: #0071bc; stroke: #0071bc; stroke-linejoin: miter\"/>\n   </g>\n   <g id=\"patch_73\">\n    <path d=\"M 244.606047 53937.540539 \nL 247.190067 53937.540539 \nL 247.190067 86.807342 \nL 244.606047 86.807342 \nz\n\" clip-path=\"url(#p307464b274)\" style=\"fill: #0071bc; stroke: #0071bc; stroke-linejoin: miter\"/>\n   </g>\n   <g id=\"patch_74\">\n    <path d=\"M 247.190067 53937.540539 \nL 249.774087 53937.540539 \nL 249.774087 99.439745 \nL 247.190067 99.439745 \nz\n\" clip-path=\"url(#p307464b274)\" style=\"fill: #0071bc; stroke: #0071bc; stroke-linejoin: miter\"/>\n   </g>\n   <g id=\"patch_75\">\n    <path d=\"M 249.774087 53937.540539 \nL 252.358107 53937.540539 \nL 252.358107 107.175095 \nL 249.774087 107.175095 \nz\n\" clip-path=\"url(#p307464b274)\" style=\"fill: #0071bc; stroke: #0071bc; stroke-linejoin: miter\"/>\n   </g>\n   <g id=\"patch_76\">\n    <path d=\"M 252.358107 53937.540539 \nL 254.942127 53937.540539 \nL 254.942127 105.564494 \nL 252.358107 105.564494 \nz\n\" clip-path=\"url(#p307464b274)\" style=\"fill: #0071bc; stroke: #0071bc; stroke-linejoin: miter\"/>\n   </g>\n   <g id=\"patch_77\">\n    <path d=\"M 254.942127 53937.540539 \nL 257.526147 53937.540539 \nL 257.526147 104.799034 \nL 254.942127 104.799034 \nz\n\" clip-path=\"url(#p307464b274)\" style=\"fill: #0071bc; stroke: #0071bc; stroke-linejoin: miter\"/>\n   </g>\n   <g id=\"patch_78\">\n    <path d=\"M 257.526147 53937.540539 \nL 260.110167 53937.540539 \nL 260.110167 113.890874 \nL 257.526147 113.890874 \nz\n\" clip-path=\"url(#p307464b274)\" style=\"fill: #0071bc; stroke: #0071bc; stroke-linejoin: miter\"/>\n   </g>\n   <g id=\"patch_79\">\n    <path d=\"M 260.110167 53937.540539 \nL 262.694187 53937.540539 \nL 262.694187 123.356233 \nL 260.110167 123.356233 \nz\n\" clip-path=\"url(#p307464b274)\" style=\"fill: #0071bc; stroke: #0071bc; stroke-linejoin: miter\"/>\n   </g>\n   <g id=\"patch_80\">\n    <path d=\"M 262.694187 53937.540539 \nL 265.278207 53937.540539 \nL 265.278207 120.239016 \nL 262.694187 120.239016 \nz\n\" clip-path=\"url(#p307464b274)\" style=\"fill: #0071bc; stroke: #0071bc; stroke-linejoin: miter\"/>\n   </g>\n   <g id=\"patch_81\">\n    <path d=\"M 265.278207 53937.540539 \nL 267.862227 53937.540539 \nL 267.862227 123.356233 \nL 265.278207 123.356233 \nz\n\" clip-path=\"url(#p307464b274)\" style=\"fill: #0071bc; stroke: #0071bc; stroke-linejoin: miter\"/>\n   </g>\n   <g id=\"patch_82\">\n    <path d=\"M 267.862227 53937.540539 \nL 270.446247 53937.540539 \nL 270.446247 121.745632 \nL 267.862227 121.745632 \nz\n\" clip-path=\"url(#p307464b274)\" style=\"fill: #0071bc; stroke: #0071bc; stroke-linejoin: miter\"/>\n   </g>\n   <g id=\"patch_83\">\n    <path d=\"M 270.446247 53937.540539 \nL 273.030267 53937.540539 \nL 273.030267 126.954795 \nL 270.446247 126.954795 \nz\n\" clip-path=\"url(#p307464b274)\" style=\"fill: #0071bc; stroke: #0071bc; stroke-linejoin: miter\"/>\n   </g>\n   <g id=\"patch_84\">\n    <path d=\"M 273.030267 53937.540539 \nL 275.614287 53937.540539 \nL 275.614287 128.986028 \nL 273.030267 128.986028 \nz\n\" clip-path=\"url(#p307464b274)\" style=\"fill: #0071bc; stroke: #0071bc; stroke-linejoin: miter\"/>\n   </g>\n   <g id=\"patch_85\">\n    <path d=\"M 275.614287 53937.540539 \nL 278.198307 53937.540539 \nL 278.198307 147.392129 \nL 275.614287 147.392129 \nz\n\" clip-path=\"url(#p307464b274)\" style=\"fill: #0071bc; stroke: #0071bc; stroke-linejoin: miter\"/>\n   </g>\n   <g id=\"patch_86\">\n    <path d=\"M 278.198307 53937.540539 \nL 280.782327 53937.540539 \nL 280.782327 139.537371 \nL 278.198307 139.537371 \nz\n\" clip-path=\"url(#p307464b274)\" style=\"fill: #0071bc; stroke: #0071bc; stroke-linejoin: miter\"/>\n   </g>\n   <g id=\"patch_87\">\n    <path d=\"M 280.782327 53937.540539 \nL 283.366347 53937.540539 \nL 283.366347 143.135933 \nL 280.782327 143.135933 \nz\n\" clip-path=\"url(#p307464b274)\" style=\"fill: #0071bc; stroke: #0071bc; stroke-linejoin: miter\"/>\n   </g>\n   <g id=\"patch_88\">\n    <path d=\"M 283.366347 53937.540539 \nL 285.950367 53937.540539 \nL 285.950367 168.78243 \nL 283.366347 168.78243 \nz\n\" clip-path=\"url(#p307464b274)\" style=\"fill: #0071bc; stroke: #0071bc; stroke-linejoin: miter\"/>\n   </g>\n   <g id=\"patch_89\">\n    <path d=\"M 285.950367 53937.540539 \nL 288.534387 53937.540539 \nL 288.534387 159.317071 \nL 285.950367 159.317071 \nz\n\" clip-path=\"url(#p307464b274)\" style=\"fill: #0071bc; stroke: #0071bc; stroke-linejoin: miter\"/>\n   </g>\n   <g id=\"patch_90\">\n    <path d=\"M 288.534387 53937.540539 \nL 291.118407 53937.540539 \nL 291.118407 168.78243 \nL 288.534387 168.78243 \nz\n\" clip-path=\"url(#p307464b274)\" style=\"fill: #0071bc; stroke: #0071bc; stroke-linejoin: miter\"/>\n   </g>\n   <g id=\"patch_91\">\n    <path d=\"M 291.118407 53937.540539 \nL 293.702427 53937.540539 \nL 293.702427 184.963568 \nL 291.118407 184.963568 \nz\n\" clip-path=\"url(#p307464b274)\" style=\"fill: #0071bc; stroke: #0071bc; stroke-linejoin: miter\"/>\n   </g>\n   <g id=\"patch_92\">\n    <path d=\"M 293.702427 53937.540539 \nL 296.286447 53937.540539 \nL 296.286447 168.78243 \nL 293.702427 168.78243 \nz\n\" clip-path=\"url(#p307464b274)\" style=\"fill: #0071bc; stroke: #0071bc; stroke-linejoin: miter\"/>\n   </g>\n   <g id=\"patch_93\">\n    <path d=\"M 296.286447 53937.540539 \nL 298.870467 53937.540539 \nL 298.870467 184.963568 \nL 296.286447 184.963568 \nz\n\" clip-path=\"url(#p307464b274)\" style=\"fill: #0071bc; stroke: #0071bc; stroke-linejoin: miter\"/>\n   </g>\n   <g id=\"patch_94\">\n    <path d=\"M 298.870467 53937.540539 \nL 301.454487 53937.540539 \nL 301.454487 168.78243 \nL 298.870467 168.78243 \nz\n\" clip-path=\"url(#p307464b274)\" style=\"fill: #0071bc; stroke: #0071bc; stroke-linejoin: miter\"/>\n   </g>\n   <g id=\"patch_95\">\n    <path d=\"M 301.454487 53937.540539 \nL 304.038507 53937.540539 \nL 304.038507 184.963568 \nL 301.454487 184.963568 \nz\n\" clip-path=\"url(#p307464b274)\" style=\"fill: #0071bc; stroke: #0071bc; stroke-linejoin: miter\"/>\n   </g>\n   <g id=\"patch_96\">\n    <path d=\"M 304.038507 53937.540539 \nL 306.622527 53937.540539 \nL 306.622527 184.963568 \nL 304.038507 184.963568 \nz\n\" clip-path=\"url(#p307464b274)\" style=\"fill: #0071bc; stroke: #0071bc; stroke-linejoin: miter\"/>\n   </g>\n   <g id=\"patch_97\">\n    <path d=\"M 306.622527 53937.540539 \nL 309.206547 53937.540539 \nL 309.206547 53937.540539 \nL 306.622527 53937.540539 \nz\n\" clip-path=\"url(#p307464b274)\" style=\"fill: #0071bc; stroke: #0071bc; stroke-linejoin: miter\"/>\n   </g>\n   <g id=\"patch_98\">\n    <path d=\"M 309.206547 53937.540539 \nL 311.790567 53937.540539 \nL 311.790567 53937.540539 \nL 309.206547 53937.540539 \nz\n\" clip-path=\"url(#p307464b274)\" style=\"fill: #0071bc; stroke: #0071bc; stroke-linejoin: miter\"/>\n   </g>\n   <g id=\"patch_99\">\n    <path d=\"M 311.790567 53937.540539 \nL 314.374586 53937.540539 \nL 314.374586 53937.540539 \nL 311.790567 53937.540539 \nz\n\" clip-path=\"url(#p307464b274)\" style=\"fill: #0071bc; stroke: #0071bc; stroke-linejoin: miter\"/>\n   </g>\n   <g id=\"patch_100\">\n    <path d=\"M 314.374586 53937.540539 \nL 316.958606 53937.540539 \nL 316.958606 53937.540539 \nL 314.374586 53937.540539 \nz\n\" clip-path=\"url(#p307464b274)\" style=\"fill: #0071bc; stroke: #0071bc; stroke-linejoin: miter\"/>\n   </g>\n   <g id=\"patch_101\">\n    <path d=\"M 316.958606 53937.540539 \nL 319.542626 53937.540539 \nL 319.542626 53937.540539 \nL 316.958606 53937.540539 \nz\n\" clip-path=\"url(#p307464b274)\" style=\"fill: #0071bc; stroke: #0071bc; stroke-linejoin: miter\"/>\n   </g>\n   <g id=\"matplotlib.axis_1\">\n    <g id=\"xtick_1\">\n     <g id=\"line2d_1\">\n      <defs>\n       <path id=\"mf0c7e22e90\" d=\"M 0 0 \nL 0 3.5 \n\" style=\"stroke: #000000; stroke-width: 0.8\"/>\n      </defs>\n      <g>\n       <use xlink:href=\"#mf0c7e22e90\" x=\"92.148869\" y=\"192.62175\" style=\"stroke: #000000; stroke-width: 0.8\"/>\n      </g>\n     </g>\n     <g id=\"text_1\">\n      <!-- $\\mathdefault{10^{-9}}$ -->\n      <g transform=\"translate(78.048869 208.739875)scale(0.12 -0.12)\">\n       <defs>\n        <path id=\"DejaVuSans-31\" d=\"M 794 531 \nL 1825 531 \nL 1825 4091 \nL 703 3866 \nL 703 4441 \nL 1819 4666 \nL 2450 4666 \nL 2450 531 \nL 3481 531 \nL 3481 0 \nL 794 0 \nL 794 531 \nz\n\" transform=\"scale(0.015625)\"/>\n        <path id=\"DejaVuSans-30\" d=\"M 2034 4250 \nQ 1547 4250 1301 3770 \nQ 1056 3291 1056 2328 \nQ 1056 1369 1301 889 \nQ 1547 409 2034 409 \nQ 2525 409 2770 889 \nQ 3016 1369 3016 2328 \nQ 3016 3291 2770 3770 \nQ 2525 4250 2034 4250 \nz\nM 2034 4750 \nQ 2819 4750 3233 4129 \nQ 3647 3509 3647 2328 \nQ 3647 1150 3233 529 \nQ 2819 -91 2034 -91 \nQ 1250 -91 836 529 \nQ 422 1150 422 2328 \nQ 422 3509 836 4129 \nQ 1250 4750 2034 4750 \nz\n\" transform=\"scale(0.015625)\"/>\n        <path id=\"DejaVuSans-2212\" d=\"M 678 2272 \nL 4684 2272 \nL 4684 1741 \nL 678 1741 \nL 678 2272 \nz\n\" transform=\"scale(0.015625)\"/>\n        <path id=\"DejaVuSans-39\" d=\"M 703 97 \nL 703 672 \nQ 941 559 1184 500 \nQ 1428 441 1663 441 \nQ 2288 441 2617 861 \nQ 2947 1281 2994 2138 \nQ 2813 1869 2534 1725 \nQ 2256 1581 1919 1581 \nQ 1219 1581 811 2004 \nQ 403 2428 403 3163 \nQ 403 3881 828 4315 \nQ 1253 4750 1959 4750 \nQ 2769 4750 3195 4129 \nQ 3622 3509 3622 2328 \nQ 3622 1225 3098 567 \nQ 2575 -91 1691 -91 \nQ 1453 -91 1209 -44 \nQ 966 3 703 97 \nz\nM 1959 2075 \nQ 2384 2075 2632 2365 \nQ 2881 2656 2881 3163 \nQ 2881 3666 2632 3958 \nQ 2384 4250 1959 4250 \nQ 1534 4250 1286 3958 \nQ 1038 3666 1038 3163 \nQ 1038 2656 1286 2365 \nQ 1534 2075 1959 2075 \nz\n\" transform=\"scale(0.015625)\"/>\n       </defs>\n       <use xlink:href=\"#DejaVuSans-31\" transform=\"translate(0 0.765625)\"/>\n       <use xlink:href=\"#DejaVuSans-30\" transform=\"translate(63.623047 0.765625)\"/>\n       <use xlink:href=\"#DejaVuSans-2212\" transform=\"translate(128.203125 39.046875)scale(0.7)\"/>\n       <use xlink:href=\"#DejaVuSans-39\" transform=\"translate(186.855469 39.046875)scale(0.7)\"/>\n      </g>\n     </g>\n    </g>\n    <g id=\"xtick_2\">\n     <g id=\"line2d_2\">\n      <g>\n       <use xlink:href=\"#mf0c7e22e90\" x=\"148.997308\" y=\"192.62175\" style=\"stroke: #000000; stroke-width: 0.8\"/>\n      </g>\n     </g>\n     <g id=\"text_2\">\n      <!-- $\\mathdefault{10^{-7}}$ -->\n      <g transform=\"translate(134.897308 208.739875)scale(0.12 -0.12)\">\n       <defs>\n        <path id=\"DejaVuSans-37\" d=\"M 525 4666 \nL 3525 4666 \nL 3525 4397 \nL 1831 0 \nL 1172 0 \nL 2766 4134 \nL 525 4134 \nL 525 4666 \nz\n\" transform=\"scale(0.015625)\"/>\n       </defs>\n       <use xlink:href=\"#DejaVuSans-31\" transform=\"translate(0 0.684375)\"/>\n       <use xlink:href=\"#DejaVuSans-30\" transform=\"translate(63.623047 0.684375)\"/>\n       <use xlink:href=\"#DejaVuSans-2212\" transform=\"translate(128.203125 38.965625)scale(0.7)\"/>\n       <use xlink:href=\"#DejaVuSans-37\" transform=\"translate(186.855469 38.965625)scale(0.7)\"/>\n      </g>\n     </g>\n    </g>\n    <g id=\"xtick_3\">\n     <g id=\"line2d_3\">\n      <g>\n       <use xlink:href=\"#mf0c7e22e90\" x=\"205.845748\" y=\"192.62175\" style=\"stroke: #000000; stroke-width: 0.8\"/>\n      </g>\n     </g>\n     <g id=\"text_3\">\n      <!-- $\\mathdefault{10^{-5}}$ -->\n      <g transform=\"translate(191.745748 208.739875)scale(0.12 -0.12)\">\n       <defs>\n        <path id=\"DejaVuSans-35\" d=\"M 691 4666 \nL 3169 4666 \nL 3169 4134 \nL 1269 4134 \nL 1269 2991 \nQ 1406 3038 1543 3061 \nQ 1681 3084 1819 3084 \nQ 2600 3084 3056 2656 \nQ 3513 2228 3513 1497 \nQ 3513 744 3044 326 \nQ 2575 -91 1722 -91 \nQ 1428 -91 1123 -41 \nQ 819 9 494 109 \nL 494 744 \nQ 775 591 1075 516 \nQ 1375 441 1709 441 \nQ 2250 441 2565 725 \nQ 2881 1009 2881 1497 \nQ 2881 1984 2565 2268 \nQ 2250 2553 1709 2553 \nQ 1456 2553 1204 2497 \nQ 953 2441 691 2322 \nL 691 4666 \nz\n\" transform=\"scale(0.015625)\"/>\n       </defs>\n       <use xlink:href=\"#DejaVuSans-31\" transform=\"translate(0 0.684375)\"/>\n       <use xlink:href=\"#DejaVuSans-30\" transform=\"translate(63.623047 0.684375)\"/>\n       <use xlink:href=\"#DejaVuSans-2212\" transform=\"translate(128.203125 38.965625)scale(0.7)\"/>\n       <use xlink:href=\"#DejaVuSans-35\" transform=\"translate(186.855469 38.965625)scale(0.7)\"/>\n      </g>\n     </g>\n    </g>\n    <g id=\"xtick_4\">\n     <g id=\"line2d_4\">\n      <g>\n       <use xlink:href=\"#mf0c7e22e90\" x=\"262.694187\" y=\"192.62175\" style=\"stroke: #000000; stroke-width: 0.8\"/>\n      </g>\n     </g>\n     <g id=\"text_4\">\n      <!-- $\\mathdefault{10^{-3}}$ -->\n      <g transform=\"translate(248.594187 208.739875)scale(0.12 -0.12)\">\n       <defs>\n        <path id=\"DejaVuSans-33\" d=\"M 2597 2516 \nQ 3050 2419 3304 2112 \nQ 3559 1806 3559 1356 \nQ 3559 666 3084 287 \nQ 2609 -91 1734 -91 \nQ 1441 -91 1130 -33 \nQ 819 25 488 141 \nL 488 750 \nQ 750 597 1062 519 \nQ 1375 441 1716 441 \nQ 2309 441 2620 675 \nQ 2931 909 2931 1356 \nQ 2931 1769 2642 2001 \nQ 2353 2234 1838 2234 \nL 1294 2234 \nL 1294 2753 \nL 1863 2753 \nQ 2328 2753 2575 2939 \nQ 2822 3125 2822 3475 \nQ 2822 3834 2567 4026 \nQ 2313 4219 1838 4219 \nQ 1578 4219 1281 4162 \nQ 984 4106 628 3988 \nL 628 4550 \nQ 988 4650 1302 4700 \nQ 1616 4750 1894 4750 \nQ 2613 4750 3031 4423 \nQ 3450 4097 3450 3541 \nQ 3450 3153 3228 2886 \nQ 3006 2619 2597 2516 \nz\n\" transform=\"scale(0.015625)\"/>\n       </defs>\n       <use xlink:href=\"#DejaVuSans-31\" transform=\"translate(0 0.765625)\"/>\n       <use xlink:href=\"#DejaVuSans-30\" transform=\"translate(63.623047 0.765625)\"/>\n       <use xlink:href=\"#DejaVuSans-2212\" transform=\"translate(128.203125 39.046875)scale(0.7)\"/>\n       <use xlink:href=\"#DejaVuSans-33\" transform=\"translate(186.855469 39.046875)scale(0.7)\"/>\n      </g>\n     </g>\n    </g>\n    <g id=\"xtick_5\">\n     <g id=\"line2d_5\">\n      <g>\n       <use xlink:href=\"#mf0c7e22e90\" x=\"319.542626\" y=\"192.62175\" style=\"stroke: #000000; stroke-width: 0.8\"/>\n      </g>\n     </g>\n     <g id=\"text_5\">\n      <!-- $\\mathdefault{10^{-1}}$ -->\n      <g transform=\"translate(305.442626 208.739875)scale(0.12 -0.12)\">\n       <use xlink:href=\"#DejaVuSans-31\" transform=\"translate(0 0.684375)\"/>\n       <use xlink:href=\"#DejaVuSans-30\" transform=\"translate(63.623047 0.684375)\"/>\n       <use xlink:href=\"#DejaVuSans-2212\" transform=\"translate(128.203125 38.965625)scale(0.7)\"/>\n       <use xlink:href=\"#DejaVuSans-31\" transform=\"translate(186.855469 38.965625)scale(0.7)\"/>\n      </g>\n     </g>\n    </g>\n    <g id=\"text_6\">\n     <!-- Probability -->\n     <g transform=\"translate(159.91895 224.353625)scale(0.12 -0.12)\">\n      <defs>\n       <path id=\"DejaVuSans-50\" d=\"M 1259 4147 \nL 1259 2394 \nL 2053 2394 \nQ 2494 2394 2734 2622 \nQ 2975 2850 2975 3272 \nQ 2975 3691 2734 3919 \nQ 2494 4147 2053 4147 \nL 1259 4147 \nz\nM 628 4666 \nL 2053 4666 \nQ 2838 4666 3239 4311 \nQ 3641 3956 3641 3272 \nQ 3641 2581 3239 2228 \nQ 2838 1875 2053 1875 \nL 1259 1875 \nL 1259 0 \nL 628 0 \nL 628 4666 \nz\n\" transform=\"scale(0.015625)\"/>\n       <path id=\"DejaVuSans-72\" d=\"M 2631 2963 \nQ 2534 3019 2420 3045 \nQ 2306 3072 2169 3072 \nQ 1681 3072 1420 2755 \nQ 1159 2438 1159 1844 \nL 1159 0 \nL 581 0 \nL 581 3500 \nL 1159 3500 \nL 1159 2956 \nQ 1341 3275 1631 3429 \nQ 1922 3584 2338 3584 \nQ 2397 3584 2469 3576 \nQ 2541 3569 2628 3553 \nL 2631 2963 \nz\n\" transform=\"scale(0.015625)\"/>\n       <path id=\"DejaVuSans-6f\" d=\"M 1959 3097 \nQ 1497 3097 1228 2736 \nQ 959 2375 959 1747 \nQ 959 1119 1226 758 \nQ 1494 397 1959 397 \nQ 2419 397 2687 759 \nQ 2956 1122 2956 1747 \nQ 2956 2369 2687 2733 \nQ 2419 3097 1959 3097 \nz\nM 1959 3584 \nQ 2709 3584 3137 3096 \nQ 3566 2609 3566 1747 \nQ 3566 888 3137 398 \nQ 2709 -91 1959 -91 \nQ 1206 -91 779 398 \nQ 353 888 353 1747 \nQ 353 2609 779 3096 \nQ 1206 3584 1959 3584 \nz\n\" transform=\"scale(0.015625)\"/>\n       <path id=\"DejaVuSans-62\" d=\"M 3116 1747 \nQ 3116 2381 2855 2742 \nQ 2594 3103 2138 3103 \nQ 1681 3103 1420 2742 \nQ 1159 2381 1159 1747 \nQ 1159 1113 1420 752 \nQ 1681 391 2138 391 \nQ 2594 391 2855 752 \nQ 3116 1113 3116 1747 \nz\nM 1159 2969 \nQ 1341 3281 1617 3432 \nQ 1894 3584 2278 3584 \nQ 2916 3584 3314 3078 \nQ 3713 2572 3713 1747 \nQ 3713 922 3314 415 \nQ 2916 -91 2278 -91 \nQ 1894 -91 1617 61 \nQ 1341 213 1159 525 \nL 1159 0 \nL 581 0 \nL 581 4863 \nL 1159 4863 \nL 1159 2969 \nz\n\" transform=\"scale(0.015625)\"/>\n       <path id=\"DejaVuSans-61\" d=\"M 2194 1759 \nQ 1497 1759 1228 1600 \nQ 959 1441 959 1056 \nQ 959 750 1161 570 \nQ 1363 391 1709 391 \nQ 2188 391 2477 730 \nQ 2766 1069 2766 1631 \nL 2766 1759 \nL 2194 1759 \nz\nM 3341 1997 \nL 3341 0 \nL 2766 0 \nL 2766 531 \nQ 2569 213 2275 61 \nQ 1981 -91 1556 -91 \nQ 1019 -91 701 211 \nQ 384 513 384 1019 \nQ 384 1609 779 1909 \nQ 1175 2209 1959 2209 \nL 2766 2209 \nL 2766 2266 \nQ 2766 2663 2505 2880 \nQ 2244 3097 1772 3097 \nQ 1472 3097 1187 3025 \nQ 903 2953 641 2809 \nL 641 3341 \nQ 956 3463 1253 3523 \nQ 1550 3584 1831 3584 \nQ 2591 3584 2966 3190 \nQ 3341 2797 3341 1997 \nz\n\" transform=\"scale(0.015625)\"/>\n       <path id=\"DejaVuSans-69\" d=\"M 603 3500 \nL 1178 3500 \nL 1178 0 \nL 603 0 \nL 603 3500 \nz\nM 603 4863 \nL 1178 4863 \nL 1178 4134 \nL 603 4134 \nL 603 4863 \nz\n\" transform=\"scale(0.015625)\"/>\n       <path id=\"DejaVuSans-6c\" d=\"M 603 4863 \nL 1178 4863 \nL 1178 0 \nL 603 0 \nL 603 4863 \nz\n\" transform=\"scale(0.015625)\"/>\n       <path id=\"DejaVuSans-74\" d=\"M 1172 4494 \nL 1172 3500 \nL 2356 3500 \nL 2356 3053 \nL 1172 3053 \nL 1172 1153 \nQ 1172 725 1289 603 \nQ 1406 481 1766 481 \nL 2356 481 \nL 2356 0 \nL 1766 0 \nQ 1100 0 847 248 \nQ 594 497 594 1153 \nL 594 3053 \nL 172 3053 \nL 172 3500 \nL 594 3500 \nL 594 4494 \nL 1172 4494 \nz\n\" transform=\"scale(0.015625)\"/>\n       <path id=\"DejaVuSans-79\" d=\"M 2059 -325 \nQ 1816 -950 1584 -1140 \nQ 1353 -1331 966 -1331 \nL 506 -1331 \nL 506 -850 \nL 844 -850 \nQ 1081 -850 1212 -737 \nQ 1344 -625 1503 -206 \nL 1606 56 \nL 191 3500 \nL 800 3500 \nL 1894 763 \nL 2988 3500 \nL 3597 3500 \nL 2059 -325 \nz\n\" transform=\"scale(0.015625)\"/>\n      </defs>\n      <use xlink:href=\"#DejaVuSans-50\"/>\n      <use xlink:href=\"#DejaVuSans-72\" x=\"58.552734\"/>\n      <use xlink:href=\"#DejaVuSans-6f\" x=\"97.416016\"/>\n      <use xlink:href=\"#DejaVuSans-62\" x=\"158.597656\"/>\n      <use xlink:href=\"#DejaVuSans-61\" x=\"222.074219\"/>\n      <use xlink:href=\"#DejaVuSans-62\" x=\"283.353516\"/>\n      <use xlink:href=\"#DejaVuSans-69\" x=\"346.830078\"/>\n      <use xlink:href=\"#DejaVuSans-6c\" x=\"374.613281\"/>\n      <use xlink:href=\"#DejaVuSans-69\" x=\"402.396484\"/>\n      <use xlink:href=\"#DejaVuSans-74\" x=\"430.179688\"/>\n      <use xlink:href=\"#DejaVuSans-79\" x=\"469.388672\"/>\n     </g>\n    </g>\n   </g>\n   <g id=\"matplotlib.axis_2\">\n    <g id=\"ytick_1\">\n     <g id=\"line2d_6\">\n      <defs>\n       <path id=\"mcf759036b3\" d=\"M 0 0 \nL -3.5 0 \n\" style=\"stroke: #000000; stroke-width: 0.8\"/>\n      </defs>\n      <g>\n       <use xlink:href=\"#mcf759036b3\" x=\"50.93375\" y=\"184.963568\" style=\"stroke: #000000; stroke-width: 0.8\"/>\n      </g>\n     </g>\n     <g id=\"text_7\">\n      <!-- $\\mathdefault{10^{0}}$ -->\n      <g transform=\"translate(22.81375 189.522631)scale(0.12 -0.12)\">\n       <use xlink:href=\"#DejaVuSans-31\" transform=\"translate(0 0.765625)\"/>\n       <use xlink:href=\"#DejaVuSans-30\" transform=\"translate(63.623047 0.765625)\"/>\n       <use xlink:href=\"#DejaVuSans-30\" transform=\"translate(128.203125 39.046875)scale(0.7)\"/>\n      </g>\n     </g>\n    </g>\n    <g id=\"ytick_2\">\n     <g id=\"line2d_7\">\n      <g>\n       <use xlink:href=\"#mcf759036b3\" x=\"50.93375\" y=\"131.210991\" style=\"stroke: #000000; stroke-width: 0.8\"/>\n      </g>\n     </g>\n     <g id=\"text_8\">\n      <!-- $\\mathdefault{10^{1}}$ -->\n      <g transform=\"translate(22.81375 135.770054)scale(0.12 -0.12)\">\n       <use xlink:href=\"#DejaVuSans-31\" transform=\"translate(0 0.684375)\"/>\n       <use xlink:href=\"#DejaVuSans-30\" transform=\"translate(63.623047 0.684375)\"/>\n       <use xlink:href=\"#DejaVuSans-31\" transform=\"translate(128.203125 38.965625)scale(0.7)\"/>\n      </g>\n     </g>\n    </g>\n    <g id=\"ytick_3\">\n     <g id=\"line2d_8\">\n      <g>\n       <use xlink:href=\"#mcf759036b3\" x=\"50.93375\" y=\"77.458414\" style=\"stroke: #000000; stroke-width: 0.8\"/>\n      </g>\n     </g>\n     <g id=\"text_9\">\n      <!-- $\\mathdefault{10^{2}}$ -->\n      <g transform=\"translate(22.81375 82.017477)scale(0.12 -0.12)\">\n       <defs>\n        <path id=\"DejaVuSans-32\" d=\"M 1228 531 \nL 3431 531 \nL 3431 0 \nL 469 0 \nL 469 531 \nQ 828 903 1448 1529 \nQ 2069 2156 2228 2338 \nQ 2531 2678 2651 2914 \nQ 2772 3150 2772 3378 \nQ 2772 3750 2511 3984 \nQ 2250 4219 1831 4219 \nQ 1534 4219 1204 4116 \nQ 875 4013 500 3803 \nL 500 4441 \nQ 881 4594 1212 4672 \nQ 1544 4750 1819 4750 \nQ 2544 4750 2975 4387 \nQ 3406 4025 3406 3419 \nQ 3406 3131 3298 2873 \nQ 3191 2616 2906 2266 \nQ 2828 2175 2409 1742 \nQ 1991 1309 1228 531 \nz\n\" transform=\"scale(0.015625)\"/>\n       </defs>\n       <use xlink:href=\"#DejaVuSans-31\" transform=\"translate(0 0.765625)\"/>\n       <use xlink:href=\"#DejaVuSans-30\" transform=\"translate(63.623047 0.765625)\"/>\n       <use xlink:href=\"#DejaVuSans-32\" transform=\"translate(128.203125 39.046875)scale(0.7)\"/>\n      </g>\n     </g>\n    </g>\n    <g id=\"ytick_4\">\n     <g id=\"line2d_9\">\n      <defs>\n       <path id=\"m8f23bd9949\" d=\"M 0 0 \nL -2 0 \n\" style=\"stroke: #000000; stroke-width: 0.6\"/>\n      </defs>\n      <g>\n       <use xlink:href=\"#m8f23bd9949\" x=\"50.93375\" y=\"190.172731\" style=\"stroke: #000000; stroke-width: 0.6\"/>\n      </g>\n     </g>\n    </g>\n    <g id=\"ytick_5\">\n     <g id=\"line2d_10\">\n      <g>\n       <use xlink:href=\"#m8f23bd9949\" x=\"50.93375\" y=\"187.423151\" style=\"stroke: #000000; stroke-width: 0.6\"/>\n      </g>\n     </g>\n    </g>\n    <g id=\"ytick_6\">\n     <g id=\"line2d_11\">\n      <g>\n       <use xlink:href=\"#m8f23bd9949\" x=\"50.93375\" y=\"168.78243\" style=\"stroke: #000000; stroke-width: 0.6\"/>\n      </g>\n     </g>\n    </g>\n    <g id=\"ytick_7\">\n     <g id=\"line2d_12\">\n      <g>\n       <use xlink:href=\"#m8f23bd9949\" x=\"50.93375\" y=\"159.317071\" style=\"stroke: #000000; stroke-width: 0.6\"/>\n      </g>\n     </g>\n    </g>\n    <g id=\"ytick_8\">\n     <g id=\"line2d_13\">\n      <g>\n       <use xlink:href=\"#m8f23bd9949\" x=\"50.93375\" y=\"152.601292\" style=\"stroke: #000000; stroke-width: 0.6\"/>\n      </g>\n     </g>\n    </g>\n    <g id=\"ytick_9\">\n     <g id=\"line2d_14\">\n      <g>\n       <use xlink:href=\"#m8f23bd9949\" x=\"50.93375\" y=\"147.392129\" style=\"stroke: #000000; stroke-width: 0.6\"/>\n      </g>\n     </g>\n    </g>\n    <g id=\"ytick_10\">\n     <g id=\"line2d_15\">\n      <g>\n       <use xlink:href=\"#m8f23bd9949\" x=\"50.93375\" y=\"143.135933\" style=\"stroke: #000000; stroke-width: 0.6\"/>\n      </g>\n     </g>\n    </g>\n    <g id=\"ytick_11\">\n     <g id=\"line2d_16\">\n      <g>\n       <use xlink:href=\"#m8f23bd9949\" x=\"50.93375\" y=\"139.537371\" style=\"stroke: #000000; stroke-width: 0.6\"/>\n      </g>\n     </g>\n    </g>\n    <g id=\"ytick_12\">\n     <g id=\"line2d_17\">\n      <g>\n       <use xlink:href=\"#m8f23bd9949\" x=\"50.93375\" y=\"136.420154\" style=\"stroke: #000000; stroke-width: 0.6\"/>\n      </g>\n     </g>\n    </g>\n    <g id=\"ytick_13\">\n     <g id=\"line2d_18\">\n      <g>\n       <use xlink:href=\"#m8f23bd9949\" x=\"50.93375\" y=\"133.670574\" style=\"stroke: #000000; stroke-width: 0.6\"/>\n      </g>\n     </g>\n    </g>\n    <g id=\"ytick_14\">\n     <g id=\"line2d_19\">\n      <g>\n       <use xlink:href=\"#m8f23bd9949\" x=\"50.93375\" y=\"115.029853\" style=\"stroke: #000000; stroke-width: 0.6\"/>\n      </g>\n     </g>\n    </g>\n    <g id=\"ytick_15\">\n     <g id=\"line2d_20\">\n      <g>\n       <use xlink:href=\"#m8f23bd9949\" x=\"50.93375\" y=\"105.564494\" style=\"stroke: #000000; stroke-width: 0.6\"/>\n      </g>\n     </g>\n    </g>\n    <g id=\"ytick_16\">\n     <g id=\"line2d_21\">\n      <g>\n       <use xlink:href=\"#m8f23bd9949\" x=\"50.93375\" y=\"98.848715\" style=\"stroke: #000000; stroke-width: 0.6\"/>\n      </g>\n     </g>\n    </g>\n    <g id=\"ytick_17\">\n     <g id=\"line2d_22\">\n      <g>\n       <use xlink:href=\"#m8f23bd9949\" x=\"50.93375\" y=\"93.639552\" style=\"stroke: #000000; stroke-width: 0.6\"/>\n      </g>\n     </g>\n    </g>\n    <g id=\"ytick_18\">\n     <g id=\"line2d_23\">\n      <g>\n       <use xlink:href=\"#m8f23bd9949\" x=\"50.93375\" y=\"89.383356\" style=\"stroke: #000000; stroke-width: 0.6\"/>\n      </g>\n     </g>\n    </g>\n    <g id=\"ytick_19\">\n     <g id=\"line2d_24\">\n      <g>\n       <use xlink:href=\"#m8f23bd9949\" x=\"50.93375\" y=\"85.784794\" style=\"stroke: #000000; stroke-width: 0.6\"/>\n      </g>\n     </g>\n    </g>\n    <g id=\"ytick_20\">\n     <g id=\"line2d_25\">\n      <g>\n       <use xlink:href=\"#m8f23bd9949\" x=\"50.93375\" y=\"82.667577\" style=\"stroke: #000000; stroke-width: 0.6\"/>\n      </g>\n     </g>\n    </g>\n    <g id=\"ytick_21\">\n     <g id=\"line2d_26\">\n      <g>\n       <use xlink:href=\"#m8f23bd9949\" x=\"50.93375\" y=\"79.917997\" style=\"stroke: #000000; stroke-width: 0.6\"/>\n      </g>\n     </g>\n    </g>\n    <g id=\"ytick_22\">\n     <g id=\"line2d_27\">\n      <g>\n       <use xlink:href=\"#m8f23bd9949\" x=\"50.93375\" y=\"61.277276\" style=\"stroke: #000000; stroke-width: 0.6\"/>\n      </g>\n     </g>\n    </g>\n    <g id=\"ytick_23\">\n     <g id=\"line2d_28\">\n      <g>\n       <use xlink:href=\"#m8f23bd9949\" x=\"50.93375\" y=\"51.811917\" style=\"stroke: #000000; stroke-width: 0.6\"/>\n      </g>\n     </g>\n    </g>\n    <g id=\"ytick_24\">\n     <g id=\"line2d_29\">\n      <g>\n       <use xlink:href=\"#m8f23bd9949\" x=\"50.93375\" y=\"45.096138\" style=\"stroke: #000000; stroke-width: 0.6\"/>\n      </g>\n     </g>\n    </g>\n    <g id=\"ytick_25\">\n     <g id=\"line2d_30\">\n      <g>\n       <use xlink:href=\"#m8f23bd9949\" x=\"50.93375\" y=\"39.886975\" style=\"stroke: #000000; stroke-width: 0.6\"/>\n      </g>\n     </g>\n    </g>\n    <g id=\"ytick_26\">\n     <g id=\"line2d_31\">\n      <g>\n       <use xlink:href=\"#m8f23bd9949\" x=\"50.93375\" y=\"35.630779\" style=\"stroke: #000000; stroke-width: 0.6\"/>\n      </g>\n     </g>\n    </g>\n    <g id=\"ytick_27\">\n     <g id=\"line2d_32\">\n      <g>\n       <use xlink:href=\"#m8f23bd9949\" x=\"50.93375\" y=\"32.032217\" style=\"stroke: #000000; stroke-width: 0.6\"/>\n      </g>\n     </g>\n    </g>\n    <g id=\"ytick_28\">\n     <g id=\"line2d_33\">\n      <g>\n       <use xlink:href=\"#m8f23bd9949\" x=\"50.93375\" y=\"28.915\" style=\"stroke: #000000; stroke-width: 0.6\"/>\n      </g>\n     </g>\n    </g>\n    <g id=\"ytick_29\">\n     <g id=\"line2d_34\">\n      <g>\n       <use xlink:href=\"#m8f23bd9949\" x=\"50.93375\" y=\"26.16542\" style=\"stroke: #000000; stroke-width: 0.6\"/>\n      </g>\n     </g>\n    </g>\n    <g id=\"text_10\">\n     <!-- Count -->\n     <g transform=\"translate(16.318125 126.199875)rotate(-90)scale(0.12 -0.12)\">\n      <defs>\n       <path id=\"DejaVuSans-43\" d=\"M 4122 4306 \nL 4122 3641 \nQ 3803 3938 3442 4084 \nQ 3081 4231 2675 4231 \nQ 1875 4231 1450 3742 \nQ 1025 3253 1025 2328 \nQ 1025 1406 1450 917 \nQ 1875 428 2675 428 \nQ 3081 428 3442 575 \nQ 3803 722 4122 1019 \nL 4122 359 \nQ 3791 134 3420 21 \nQ 3050 -91 2638 -91 \nQ 1578 -91 968 557 \nQ 359 1206 359 2328 \nQ 359 3453 968 4101 \nQ 1578 4750 2638 4750 \nQ 3056 4750 3426 4639 \nQ 3797 4528 4122 4306 \nz\n\" transform=\"scale(0.015625)\"/>\n       <path id=\"DejaVuSans-75\" d=\"M 544 1381 \nL 544 3500 \nL 1119 3500 \nL 1119 1403 \nQ 1119 906 1312 657 \nQ 1506 409 1894 409 \nQ 2359 409 2629 706 \nQ 2900 1003 2900 1516 \nL 2900 3500 \nL 3475 3500 \nL 3475 0 \nL 2900 0 \nL 2900 538 \nQ 2691 219 2414 64 \nQ 2138 -91 1772 -91 \nQ 1169 -91 856 284 \nQ 544 659 544 1381 \nz\nM 1991 3584 \nL 1991 3584 \nz\n\" transform=\"scale(0.015625)\"/>\n       <path id=\"DejaVuSans-6e\" d=\"M 3513 2113 \nL 3513 0 \nL 2938 0 \nL 2938 2094 \nQ 2938 2591 2744 2837 \nQ 2550 3084 2163 3084 \nQ 1697 3084 1428 2787 \nQ 1159 2491 1159 1978 \nL 1159 0 \nL 581 0 \nL 581 3500 \nL 1159 3500 \nL 1159 2956 \nQ 1366 3272 1645 3428 \nQ 1925 3584 2291 3584 \nQ 2894 3584 3203 3211 \nQ 3513 2838 3513 2113 \nz\n\" transform=\"scale(0.015625)\"/>\n      </defs>\n      <use xlink:href=\"#DejaVuSans-43\"/>\n      <use xlink:href=\"#DejaVuSans-6f\" x=\"69.824219\"/>\n      <use xlink:href=\"#DejaVuSans-75\" x=\"131.005859\"/>\n      <use xlink:href=\"#DejaVuSans-6e\" x=\"194.384766\"/>\n      <use xlink:href=\"#DejaVuSans-74\" x=\"257.763672\"/>\n     </g>\n    </g>\n   </g>\n   <g id=\"patch_102\">\n    <path d=\"M 50.93375 192.62175 \nL 50.93375 24.14175 \n\" style=\"fill: none; stroke: #000000; stroke-width: 0.8; stroke-linejoin: miter; stroke-linecap: square\"/>\n   </g>\n   <g id=\"patch_103\">\n    <path d=\"M 332.333525 192.62175 \nL 332.333525 24.14175 \n\" style=\"fill: none; stroke: #000000; stroke-width: 0.8; stroke-linejoin: miter; stroke-linecap: square\"/>\n   </g>\n   <g id=\"patch_104\">\n    <path d=\"M 50.93375 192.62175 \nL 332.333525 192.62175 \n\" style=\"fill: none; stroke: #000000; stroke-width: 0.8; stroke-linejoin: miter; stroke-linecap: square\"/>\n   </g>\n   <g id=\"patch_105\">\n    <path d=\"M 50.93375 24.14175 \nL 332.333525 24.14175 \n\" style=\"fill: none; stroke: #000000; stroke-width: 0.8; stroke-linejoin: miter; stroke-linecap: square\"/>\n   </g>\n   <g id=\"text_11\">\n    <!-- Probability distribution -->\n    <g transform=\"translate(110.257888 18.14175)scale(0.144 -0.144)\">\n     <defs>\n      <path id=\"DejaVuSans-20\" transform=\"scale(0.015625)\"/>\n      <path id=\"DejaVuSans-64\" d=\"M 2906 2969 \nL 2906 4863 \nL 3481 4863 \nL 3481 0 \nL 2906 0 \nL 2906 525 \nQ 2725 213 2448 61 \nQ 2172 -91 1784 -91 \nQ 1150 -91 751 415 \nQ 353 922 353 1747 \nQ 353 2572 751 3078 \nQ 1150 3584 1784 3584 \nQ 2172 3584 2448 3432 \nQ 2725 3281 2906 2969 \nz\nM 947 1747 \nQ 947 1113 1208 752 \nQ 1469 391 1925 391 \nQ 2381 391 2643 752 \nQ 2906 1113 2906 1747 \nQ 2906 2381 2643 2742 \nQ 2381 3103 1925 3103 \nQ 1469 3103 1208 2742 \nQ 947 2381 947 1747 \nz\n\" transform=\"scale(0.015625)\"/>\n      <path id=\"DejaVuSans-73\" d=\"M 2834 3397 \nL 2834 2853 \nQ 2591 2978 2328 3040 \nQ 2066 3103 1784 3103 \nQ 1356 3103 1142 2972 \nQ 928 2841 928 2578 \nQ 928 2378 1081 2264 \nQ 1234 2150 1697 2047 \nL 1894 2003 \nQ 2506 1872 2764 1633 \nQ 3022 1394 3022 966 \nQ 3022 478 2636 193 \nQ 2250 -91 1575 -91 \nQ 1294 -91 989 -36 \nQ 684 19 347 128 \nL 347 722 \nQ 666 556 975 473 \nQ 1284 391 1588 391 \nQ 1994 391 2212 530 \nQ 2431 669 2431 922 \nQ 2431 1156 2273 1281 \nQ 2116 1406 1581 1522 \nL 1381 1569 \nQ 847 1681 609 1914 \nQ 372 2147 372 2553 \nQ 372 3047 722 3315 \nQ 1072 3584 1716 3584 \nQ 2034 3584 2315 3537 \nQ 2597 3491 2834 3397 \nz\n\" transform=\"scale(0.015625)\"/>\n     </defs>\n     <use xlink:href=\"#DejaVuSans-50\"/>\n     <use xlink:href=\"#DejaVuSans-72\" x=\"58.552734\"/>\n     <use xlink:href=\"#DejaVuSans-6f\" x=\"97.416016\"/>\n     <use xlink:href=\"#DejaVuSans-62\" x=\"158.597656\"/>\n     <use xlink:href=\"#DejaVuSans-61\" x=\"222.074219\"/>\n     <use xlink:href=\"#DejaVuSans-62\" x=\"283.353516\"/>\n     <use xlink:href=\"#DejaVuSans-69\" x=\"346.830078\"/>\n     <use xlink:href=\"#DejaVuSans-6c\" x=\"374.613281\"/>\n     <use xlink:href=\"#DejaVuSans-69\" x=\"402.396484\"/>\n     <use xlink:href=\"#DejaVuSans-74\" x=\"430.179688\"/>\n     <use xlink:href=\"#DejaVuSans-79\" x=\"469.388672\"/>\n     <use xlink:href=\"#DejaVuSans-20\" x=\"528.568359\"/>\n     <use xlink:href=\"#DejaVuSans-64\" x=\"560.355469\"/>\n     <use xlink:href=\"#DejaVuSans-69\" x=\"623.832031\"/>\n     <use xlink:href=\"#DejaVuSans-73\" x=\"651.615234\"/>\n     <use xlink:href=\"#DejaVuSans-74\" x=\"703.714844\"/>\n     <use xlink:href=\"#DejaVuSans-72\" x=\"742.923828\"/>\n     <use xlink:href=\"#DejaVuSans-69\" x=\"784.037109\"/>\n     <use xlink:href=\"#DejaVuSans-62\" x=\"811.820312\"/>\n     <use xlink:href=\"#DejaVuSans-75\" x=\"875.296875\"/>\n     <use xlink:href=\"#DejaVuSans-74\" x=\"938.675781\"/>\n     <use xlink:href=\"#DejaVuSans-69\" x=\"977.884766\"/>\n     <use xlink:href=\"#DejaVuSans-6f\" x=\"1005.667969\"/>\n     <use xlink:href=\"#DejaVuSans-6e\" x=\"1066.849609\"/>\n    </g>\n   </g>\n  </g>\n  <g id=\"axes_2\">\n   <g id=\"patch_106\">\n    <path d=\"M 398.737568 192.62175 \nL 680.137344 192.62175 \nL 680.137344 24.14175 \nL 398.737568 24.14175 \nz\n\" style=\"fill: #ffffff\"/>\n   </g>\n   <g id=\"matplotlib.axis_3\">\n    <g id=\"xtick_6\">\n     <g id=\"line2d_35\">\n      <g>\n       <use xlink:href=\"#mf0c7e22e90\" x=\"398.737568\" y=\"192.62175\" style=\"stroke: #000000; stroke-width: 0.8\"/>\n      </g>\n     </g>\n     <g id=\"text_12\">\n      <!-- 0 -->\n      <g transform=\"translate(394.920068 208.739875)scale(0.12 -0.12)\">\n       <use xlink:href=\"#DejaVuSans-30\"/>\n      </g>\n     </g>\n    </g>\n    <g id=\"xtick_7\">\n     <g id=\"line2d_36\">\n      <g>\n       <use xlink:href=\"#mf0c7e22e90\" x=\"455.017524\" y=\"192.62175\" style=\"stroke: #000000; stroke-width: 0.8\"/>\n      </g>\n     </g>\n     <g id=\"text_13\">\n      <!-- 2000 -->\n      <g transform=\"translate(439.747524 208.739875)scale(0.12 -0.12)\">\n       <use xlink:href=\"#DejaVuSans-32\"/>\n       <use xlink:href=\"#DejaVuSans-30\" x=\"63.623047\"/>\n       <use xlink:href=\"#DejaVuSans-30\" x=\"127.246094\"/>\n       <use xlink:href=\"#DejaVuSans-30\" x=\"190.869141\"/>\n      </g>\n     </g>\n    </g>\n    <g id=\"xtick_8\">\n     <g id=\"line2d_37\">\n      <g>\n       <use xlink:href=\"#mf0c7e22e90\" x=\"511.297479\" y=\"192.62175\" style=\"stroke: #000000; stroke-width: 0.8\"/>\n      </g>\n     </g>\n     <g id=\"text_14\">\n      <!-- 4000 -->\n      <g transform=\"translate(496.027479 208.739875)scale(0.12 -0.12)\">\n       <defs>\n        <path id=\"DejaVuSans-34\" d=\"M 2419 4116 \nL 825 1625 \nL 2419 1625 \nL 2419 4116 \nz\nM 2253 4666 \nL 3047 4666 \nL 3047 1625 \nL 3713 1625 \nL 3713 1100 \nL 3047 1100 \nL 3047 0 \nL 2419 0 \nL 2419 1100 \nL 313 1100 \nL 313 1709 \nL 2253 4666 \nz\n\" transform=\"scale(0.015625)\"/>\n       </defs>\n       <use xlink:href=\"#DejaVuSans-34\"/>\n       <use xlink:href=\"#DejaVuSans-30\" x=\"63.623047\"/>\n       <use xlink:href=\"#DejaVuSans-30\" x=\"127.246094\"/>\n       <use xlink:href=\"#DejaVuSans-30\" x=\"190.869141\"/>\n      </g>\n     </g>\n    </g>\n    <g id=\"xtick_9\">\n     <g id=\"line2d_38\">\n      <g>\n       <use xlink:href=\"#mf0c7e22e90\" x=\"567.577434\" y=\"192.62175\" style=\"stroke: #000000; stroke-width: 0.8\"/>\n      </g>\n     </g>\n     <g id=\"text_15\">\n      <!-- 6000 -->\n      <g transform=\"translate(552.307434 208.739875)scale(0.12 -0.12)\">\n       <defs>\n        <path id=\"DejaVuSans-36\" d=\"M 2113 2584 \nQ 1688 2584 1439 2293 \nQ 1191 2003 1191 1497 \nQ 1191 994 1439 701 \nQ 1688 409 2113 409 \nQ 2538 409 2786 701 \nQ 3034 994 3034 1497 \nQ 3034 2003 2786 2293 \nQ 2538 2584 2113 2584 \nz\nM 3366 4563 \nL 3366 3988 \nQ 3128 4100 2886 4159 \nQ 2644 4219 2406 4219 \nQ 1781 4219 1451 3797 \nQ 1122 3375 1075 2522 \nQ 1259 2794 1537 2939 \nQ 1816 3084 2150 3084 \nQ 2853 3084 3261 2657 \nQ 3669 2231 3669 1497 \nQ 3669 778 3244 343 \nQ 2819 -91 2113 -91 \nQ 1303 -91 875 529 \nQ 447 1150 447 2328 \nQ 447 3434 972 4092 \nQ 1497 4750 2381 4750 \nQ 2619 4750 2861 4703 \nQ 3103 4656 3366 4563 \nz\n\" transform=\"scale(0.015625)\"/>\n       </defs>\n       <use xlink:href=\"#DejaVuSans-36\"/>\n       <use xlink:href=\"#DejaVuSans-30\" x=\"63.623047\"/>\n       <use xlink:href=\"#DejaVuSans-30\" x=\"127.246094\"/>\n       <use xlink:href=\"#DejaVuSans-30\" x=\"190.869141\"/>\n      </g>\n     </g>\n    </g>\n    <g id=\"xtick_10\">\n     <g id=\"line2d_39\">\n      <g>\n       <use xlink:href=\"#mf0c7e22e90\" x=\"623.857389\" y=\"192.62175\" style=\"stroke: #000000; stroke-width: 0.8\"/>\n      </g>\n     </g>\n     <g id=\"text_16\">\n      <!-- 8000 -->\n      <g transform=\"translate(608.587389 208.739875)scale(0.12 -0.12)\">\n       <defs>\n        <path id=\"DejaVuSans-38\" d=\"M 2034 2216 \nQ 1584 2216 1326 1975 \nQ 1069 1734 1069 1313 \nQ 1069 891 1326 650 \nQ 1584 409 2034 409 \nQ 2484 409 2743 651 \nQ 3003 894 3003 1313 \nQ 3003 1734 2745 1975 \nQ 2488 2216 2034 2216 \nz\nM 1403 2484 \nQ 997 2584 770 2862 \nQ 544 3141 544 3541 \nQ 544 4100 942 4425 \nQ 1341 4750 2034 4750 \nQ 2731 4750 3128 4425 \nQ 3525 4100 3525 3541 \nQ 3525 3141 3298 2862 \nQ 3072 2584 2669 2484 \nQ 3125 2378 3379 2068 \nQ 3634 1759 3634 1313 \nQ 3634 634 3220 271 \nQ 2806 -91 2034 -91 \nQ 1263 -91 848 271 \nQ 434 634 434 1313 \nQ 434 1759 690 2068 \nQ 947 2378 1403 2484 \nz\nM 1172 3481 \nQ 1172 3119 1398 2916 \nQ 1625 2713 2034 2713 \nQ 2441 2713 2670 2916 \nQ 2900 3119 2900 3481 \nQ 2900 3844 2670 4047 \nQ 2441 4250 2034 4250 \nQ 1625 4250 1398 4047 \nQ 1172 3844 1172 3481 \nz\n\" transform=\"scale(0.015625)\"/>\n       </defs>\n       <use xlink:href=\"#DejaVuSans-38\"/>\n       <use xlink:href=\"#DejaVuSans-30\" x=\"63.623047\"/>\n       <use xlink:href=\"#DejaVuSans-30\" x=\"127.246094\"/>\n       <use xlink:href=\"#DejaVuSans-30\" x=\"190.869141\"/>\n      </g>\n     </g>\n    </g>\n    <g id=\"xtick_11\">\n     <g id=\"line2d_40\">\n      <g>\n       <use xlink:href=\"#mf0c7e22e90\" x=\"680.137344\" y=\"192.62175\" style=\"stroke: #000000; stroke-width: 0.8\"/>\n      </g>\n     </g>\n     <g id=\"text_17\">\n      <!-- 10000 -->\n      <g transform=\"translate(661.049844 208.739875)scale(0.12 -0.12)\">\n       <use xlink:href=\"#DejaVuSans-31\"/>\n       <use xlink:href=\"#DejaVuSans-30\" x=\"63.623047\"/>\n       <use xlink:href=\"#DejaVuSans-30\" x=\"127.246094\"/>\n       <use xlink:href=\"#DejaVuSans-30\" x=\"190.869141\"/>\n       <use xlink:href=\"#DejaVuSans-30\" x=\"254.492188\"/>\n      </g>\n     </g>\n    </g>\n    <g id=\"xtick_12\">\n     <g id=\"line2d_41\">\n      <defs>\n       <path id=\"mac76471e6f\" d=\"M 0 0 \nL 0 2 \n\" style=\"stroke: #000000; stroke-width: 0.6\"/>\n      </defs>\n      <g>\n       <use xlink:href=\"#mac76471e6f\" x=\"412.807557\" y=\"192.62175\" style=\"stroke: #000000; stroke-width: 0.6\"/>\n      </g>\n     </g>\n    </g>\n    <g id=\"xtick_13\">\n     <g id=\"line2d_42\">\n      <g>\n       <use xlink:href=\"#mac76471e6f\" x=\"426.877546\" y=\"192.62175\" style=\"stroke: #000000; stroke-width: 0.6\"/>\n      </g>\n     </g>\n    </g>\n    <g id=\"xtick_14\">\n     <g id=\"line2d_43\">\n      <g>\n       <use xlink:href=\"#mac76471e6f\" x=\"440.947535\" y=\"192.62175\" style=\"stroke: #000000; stroke-width: 0.6\"/>\n      </g>\n     </g>\n    </g>\n    <g id=\"xtick_15\">\n     <g id=\"line2d_44\">\n      <g>\n       <use xlink:href=\"#mac76471e6f\" x=\"469.087512\" y=\"192.62175\" style=\"stroke: #000000; stroke-width: 0.6\"/>\n      </g>\n     </g>\n    </g>\n    <g id=\"xtick_16\">\n     <g id=\"line2d_45\">\n      <g>\n       <use xlink:href=\"#mac76471e6f\" x=\"483.157501\" y=\"192.62175\" style=\"stroke: #000000; stroke-width: 0.6\"/>\n      </g>\n     </g>\n    </g>\n    <g id=\"xtick_17\">\n     <g id=\"line2d_46\">\n      <g>\n       <use xlink:href=\"#mac76471e6f\" x=\"497.22749\" y=\"192.62175\" style=\"stroke: #000000; stroke-width: 0.6\"/>\n      </g>\n     </g>\n    </g>\n    <g id=\"xtick_18\">\n     <g id=\"line2d_47\">\n      <g>\n       <use xlink:href=\"#mac76471e6f\" x=\"525.367467\" y=\"192.62175\" style=\"stroke: #000000; stroke-width: 0.6\"/>\n      </g>\n     </g>\n    </g>\n    <g id=\"xtick_19\">\n     <g id=\"line2d_48\">\n      <g>\n       <use xlink:href=\"#mac76471e6f\" x=\"539.437456\" y=\"192.62175\" style=\"stroke: #000000; stroke-width: 0.6\"/>\n      </g>\n     </g>\n    </g>\n    <g id=\"xtick_20\">\n     <g id=\"line2d_49\">\n      <g>\n       <use xlink:href=\"#mac76471e6f\" x=\"553.507445\" y=\"192.62175\" style=\"stroke: #000000; stroke-width: 0.6\"/>\n      </g>\n     </g>\n    </g>\n    <g id=\"xtick_21\">\n     <g id=\"line2d_50\">\n      <g>\n       <use xlink:href=\"#mac76471e6f\" x=\"581.647422\" y=\"192.62175\" style=\"stroke: #000000; stroke-width: 0.6\"/>\n      </g>\n     </g>\n    </g>\n    <g id=\"xtick_22\">\n     <g id=\"line2d_51\">\n      <g>\n       <use xlink:href=\"#mac76471e6f\" x=\"595.717411\" y=\"192.62175\" style=\"stroke: #000000; stroke-width: 0.6\"/>\n      </g>\n     </g>\n    </g>\n    <g id=\"xtick_23\">\n     <g id=\"line2d_52\">\n      <g>\n       <use xlink:href=\"#mac76471e6f\" x=\"609.7874\" y=\"192.62175\" style=\"stroke: #000000; stroke-width: 0.6\"/>\n      </g>\n     </g>\n    </g>\n    <g id=\"xtick_24\">\n     <g id=\"line2d_53\">\n      <g>\n       <use xlink:href=\"#mac76471e6f\" x=\"637.927377\" y=\"192.62175\" style=\"stroke: #000000; stroke-width: 0.6\"/>\n      </g>\n     </g>\n    </g>\n    <g id=\"xtick_25\">\n     <g id=\"line2d_54\">\n      <g>\n       <use xlink:href=\"#mac76471e6f\" x=\"651.997366\" y=\"192.62175\" style=\"stroke: #000000; stroke-width: 0.6\"/>\n      </g>\n     </g>\n    </g>\n    <g id=\"xtick_26\">\n     <g id=\"line2d_55\">\n      <g>\n       <use xlink:href=\"#mac76471e6f\" x=\"666.067355\" y=\"192.62175\" style=\"stroke: #000000; stroke-width: 0.6\"/>\n      </g>\n     </g>\n    </g>\n    <g id=\"text_18\">\n     <!-- Token (descending probability) -->\n     <g transform=\"translate(447.356206 224.353625)scale(0.12 -0.12)\">\n      <defs>\n       <path id=\"DejaVuSans-54\" d=\"M -19 4666 \nL 3928 4666 \nL 3928 4134 \nL 2272 4134 \nL 2272 0 \nL 1638 0 \nL 1638 4134 \nL -19 4134 \nL -19 4666 \nz\n\" transform=\"scale(0.015625)\"/>\n       <path id=\"DejaVuSans-6b\" d=\"M 581 4863 \nL 1159 4863 \nL 1159 1991 \nL 2875 3500 \nL 3609 3500 \nL 1753 1863 \nL 3688 0 \nL 2938 0 \nL 1159 1709 \nL 1159 0 \nL 581 0 \nL 581 4863 \nz\n\" transform=\"scale(0.015625)\"/>\n       <path id=\"DejaVuSans-65\" d=\"M 3597 1894 \nL 3597 1613 \nL 953 1613 \nQ 991 1019 1311 708 \nQ 1631 397 2203 397 \nQ 2534 397 2845 478 \nQ 3156 559 3463 722 \nL 3463 178 \nQ 3153 47 2828 -22 \nQ 2503 -91 2169 -91 \nQ 1331 -91 842 396 \nQ 353 884 353 1716 \nQ 353 2575 817 3079 \nQ 1281 3584 2069 3584 \nQ 2775 3584 3186 3129 \nQ 3597 2675 3597 1894 \nz\nM 3022 2063 \nQ 3016 2534 2758 2815 \nQ 2500 3097 2075 3097 \nQ 1594 3097 1305 2825 \nQ 1016 2553 972 2059 \nL 3022 2063 \nz\n\" transform=\"scale(0.015625)\"/>\n       <path id=\"DejaVuSans-28\" d=\"M 1984 4856 \nQ 1566 4138 1362 3434 \nQ 1159 2731 1159 2009 \nQ 1159 1288 1364 580 \nQ 1569 -128 1984 -844 \nL 1484 -844 \nQ 1016 -109 783 600 \nQ 550 1309 550 2009 \nQ 550 2706 781 3412 \nQ 1013 4119 1484 4856 \nL 1984 4856 \nz\n\" transform=\"scale(0.015625)\"/>\n       <path id=\"DejaVuSans-63\" d=\"M 3122 3366 \nL 3122 2828 \nQ 2878 2963 2633 3030 \nQ 2388 3097 2138 3097 \nQ 1578 3097 1268 2742 \nQ 959 2388 959 1747 \nQ 959 1106 1268 751 \nQ 1578 397 2138 397 \nQ 2388 397 2633 464 \nQ 2878 531 3122 666 \nL 3122 134 \nQ 2881 22 2623 -34 \nQ 2366 -91 2075 -91 \nQ 1284 -91 818 406 \nQ 353 903 353 1747 \nQ 353 2603 823 3093 \nQ 1294 3584 2113 3584 \nQ 2378 3584 2631 3529 \nQ 2884 3475 3122 3366 \nz\n\" transform=\"scale(0.015625)\"/>\n       <path id=\"DejaVuSans-67\" d=\"M 2906 1791 \nQ 2906 2416 2648 2759 \nQ 2391 3103 1925 3103 \nQ 1463 3103 1205 2759 \nQ 947 2416 947 1791 \nQ 947 1169 1205 825 \nQ 1463 481 1925 481 \nQ 2391 481 2648 825 \nQ 2906 1169 2906 1791 \nz\nM 3481 434 \nQ 3481 -459 3084 -895 \nQ 2688 -1331 1869 -1331 \nQ 1566 -1331 1297 -1286 \nQ 1028 -1241 775 -1147 \nL 775 -588 \nQ 1028 -725 1275 -790 \nQ 1522 -856 1778 -856 \nQ 2344 -856 2625 -561 \nQ 2906 -266 2906 331 \nL 2906 616 \nQ 2728 306 2450 153 \nQ 2172 0 1784 0 \nQ 1141 0 747 490 \nQ 353 981 353 1791 \nQ 353 2603 747 3093 \nQ 1141 3584 1784 3584 \nQ 2172 3584 2450 3431 \nQ 2728 3278 2906 2969 \nL 2906 3500 \nL 3481 3500 \nL 3481 434 \nz\n\" transform=\"scale(0.015625)\"/>\n       <path id=\"DejaVuSans-70\" d=\"M 1159 525 \nL 1159 -1331 \nL 581 -1331 \nL 581 3500 \nL 1159 3500 \nL 1159 2969 \nQ 1341 3281 1617 3432 \nQ 1894 3584 2278 3584 \nQ 2916 3584 3314 3078 \nQ 3713 2572 3713 1747 \nQ 3713 922 3314 415 \nQ 2916 -91 2278 -91 \nQ 1894 -91 1617 61 \nQ 1341 213 1159 525 \nz\nM 3116 1747 \nQ 3116 2381 2855 2742 \nQ 2594 3103 2138 3103 \nQ 1681 3103 1420 2742 \nQ 1159 2381 1159 1747 \nQ 1159 1113 1420 752 \nQ 1681 391 2138 391 \nQ 2594 391 2855 752 \nQ 3116 1113 3116 1747 \nz\n\" transform=\"scale(0.015625)\"/>\n       <path id=\"DejaVuSans-29\" d=\"M 513 4856 \nL 1013 4856 \nQ 1481 4119 1714 3412 \nQ 1947 2706 1947 2009 \nQ 1947 1309 1714 600 \nQ 1481 -109 1013 -844 \nL 513 -844 \nQ 928 -128 1133 580 \nQ 1338 1288 1338 2009 \nQ 1338 2731 1133 3434 \nQ 928 4138 513 4856 \nz\n\" transform=\"scale(0.015625)\"/>\n      </defs>\n      <use xlink:href=\"#DejaVuSans-54\"/>\n      <use xlink:href=\"#DejaVuSans-6f\" x=\"44.083984\"/>\n      <use xlink:href=\"#DejaVuSans-6b\" x=\"105.265625\"/>\n      <use xlink:href=\"#DejaVuSans-65\" x=\"159.550781\"/>\n      <use xlink:href=\"#DejaVuSans-6e\" x=\"221.074219\"/>\n      <use xlink:href=\"#DejaVuSans-20\" x=\"284.453125\"/>\n      <use xlink:href=\"#DejaVuSans-28\" x=\"316.240234\"/>\n      <use xlink:href=\"#DejaVuSans-64\" x=\"355.253906\"/>\n      <use xlink:href=\"#DejaVuSans-65\" x=\"418.730469\"/>\n      <use xlink:href=\"#DejaVuSans-73\" x=\"480.253906\"/>\n      <use xlink:href=\"#DejaVuSans-63\" x=\"532.353516\"/>\n      <use xlink:href=\"#DejaVuSans-65\" x=\"587.333984\"/>\n      <use xlink:href=\"#DejaVuSans-6e\" x=\"648.857422\"/>\n      <use xlink:href=\"#DejaVuSans-64\" x=\"712.236328\"/>\n      <use xlink:href=\"#DejaVuSans-69\" x=\"775.712891\"/>\n      <use xlink:href=\"#DejaVuSans-6e\" x=\"803.496094\"/>\n      <use xlink:href=\"#DejaVuSans-67\" x=\"866.875\"/>\n      <use xlink:href=\"#DejaVuSans-20\" x=\"930.351562\"/>\n      <use xlink:href=\"#DejaVuSans-70\" x=\"962.138672\"/>\n      <use xlink:href=\"#DejaVuSans-72\" x=\"1025.615234\"/>\n      <use xlink:href=\"#DejaVuSans-6f\" x=\"1064.478516\"/>\n      <use xlink:href=\"#DejaVuSans-62\" x=\"1125.660156\"/>\n      <use xlink:href=\"#DejaVuSans-61\" x=\"1189.136719\"/>\n      <use xlink:href=\"#DejaVuSans-62\" x=\"1250.416016\"/>\n      <use xlink:href=\"#DejaVuSans-69\" x=\"1313.892578\"/>\n      <use xlink:href=\"#DejaVuSans-6c\" x=\"1341.675781\"/>\n      <use xlink:href=\"#DejaVuSans-69\" x=\"1369.458984\"/>\n      <use xlink:href=\"#DejaVuSans-74\" x=\"1397.242188\"/>\n      <use xlink:href=\"#DejaVuSans-79\" x=\"1436.451172\"/>\n      <use xlink:href=\"#DejaVuSans-29\" x=\"1495.630859\"/>\n     </g>\n    </g>\n   </g>\n   <g id=\"matplotlib.axis_4\">\n    <g id=\"ytick_30\">\n     <g id=\"line2d_56\">\n      <g>\n       <use xlink:href=\"#mcf759036b3\" x=\"398.737568\" y=\"192.62175\" style=\"stroke: #000000; stroke-width: 0.8\"/>\n      </g>\n     </g>\n     <g id=\"text_19\">\n      <!-- 0.75 -->\n      <g transform=\"translate(365.018818 197.180812)scale(0.12 -0.12)\">\n       <defs>\n        <path id=\"DejaVuSans-2e\" d=\"M 684 794 \nL 1344 794 \nL 1344 0 \nL 684 0 \nL 684 794 \nz\n\" transform=\"scale(0.015625)\"/>\n       </defs>\n       <use xlink:href=\"#DejaVuSans-30\"/>\n       <use xlink:href=\"#DejaVuSans-2e\" x=\"63.623047\"/>\n       <use xlink:href=\"#DejaVuSans-37\" x=\"95.410156\"/>\n       <use xlink:href=\"#DejaVuSans-35\" x=\"159.033203\"/>\n      </g>\n     </g>\n    </g>\n    <g id=\"ytick_31\">\n     <g id=\"line2d_57\">\n      <g>\n       <use xlink:href=\"#mcf759036b3\" x=\"398.737568\" y=\"160.22175\" style=\"stroke: #000000; stroke-width: 0.8\"/>\n      </g>\n     </g>\n     <g id=\"text_20\">\n      <!-- 0.80 -->\n      <g transform=\"translate(365.018818 164.780813)scale(0.12 -0.12)\">\n       <use xlink:href=\"#DejaVuSans-30\"/>\n       <use xlink:href=\"#DejaVuSans-2e\" x=\"63.623047\"/>\n       <use xlink:href=\"#DejaVuSans-38\" x=\"95.410156\"/>\n       <use xlink:href=\"#DejaVuSans-30\" x=\"159.033203\"/>\n      </g>\n     </g>\n    </g>\n    <g id=\"ytick_32\">\n     <g id=\"line2d_58\">\n      <g>\n       <use xlink:href=\"#mcf759036b3\" x=\"398.737568\" y=\"127.82175\" style=\"stroke: #000000; stroke-width: 0.8\"/>\n      </g>\n     </g>\n     <g id=\"text_21\">\n      <!-- 0.85 -->\n      <g transform=\"translate(365.018818 132.380812)scale(0.12 -0.12)\">\n       <use xlink:href=\"#DejaVuSans-30\"/>\n       <use xlink:href=\"#DejaVuSans-2e\" x=\"63.623047\"/>\n       <use xlink:href=\"#DejaVuSans-38\" x=\"95.410156\"/>\n       <use xlink:href=\"#DejaVuSans-35\" x=\"159.033203\"/>\n      </g>\n     </g>\n    </g>\n    <g id=\"ytick_33\">\n     <g id=\"line2d_59\">\n      <g>\n       <use xlink:href=\"#mcf759036b3\" x=\"398.737568\" y=\"95.42175\" style=\"stroke: #000000; stroke-width: 0.8\"/>\n      </g>\n     </g>\n     <g id=\"text_22\">\n      <!-- 0.90 -->\n      <g transform=\"translate(365.018818 99.980812)scale(0.12 -0.12)\">\n       <use xlink:href=\"#DejaVuSans-30\"/>\n       <use xlink:href=\"#DejaVuSans-2e\" x=\"63.623047\"/>\n       <use xlink:href=\"#DejaVuSans-39\" x=\"95.410156\"/>\n       <use xlink:href=\"#DejaVuSans-30\" x=\"159.033203\"/>\n      </g>\n     </g>\n    </g>\n    <g id=\"ytick_34\">\n     <g id=\"line2d_60\">\n      <g>\n       <use xlink:href=\"#mcf759036b3\" x=\"398.737568\" y=\"63.02175\" style=\"stroke: #000000; stroke-width: 0.8\"/>\n      </g>\n     </g>\n     <g id=\"text_23\">\n      <!-- 0.95 -->\n      <g transform=\"translate(365.018818 67.580813)scale(0.12 -0.12)\">\n       <use xlink:href=\"#DejaVuSans-30\"/>\n       <use xlink:href=\"#DejaVuSans-2e\" x=\"63.623047\"/>\n       <use xlink:href=\"#DejaVuSans-39\" x=\"95.410156\"/>\n       <use xlink:href=\"#DejaVuSans-35\" x=\"159.033203\"/>\n      </g>\n     </g>\n    </g>\n    <g id=\"ytick_35\">\n     <g id=\"line2d_61\">\n      <g>\n       <use xlink:href=\"#mcf759036b3\" x=\"398.737568\" y=\"30.62175\" style=\"stroke: #000000; stroke-width: 0.8\"/>\n      </g>\n     </g>\n     <g id=\"text_24\">\n      <!-- 1.00 -->\n      <g transform=\"translate(365.018818 35.180813)scale(0.12 -0.12)\">\n       <use xlink:href=\"#DejaVuSans-31\"/>\n       <use xlink:href=\"#DejaVuSans-2e\" x=\"63.623047\"/>\n       <use xlink:href=\"#DejaVuSans-30\" x=\"95.410156\"/>\n       <use xlink:href=\"#DejaVuSans-30\" x=\"159.033203\"/>\n      </g>\n     </g>\n    </g>\n    <g id=\"ytick_36\">\n     <g id=\"line2d_62\">\n      <g>\n       <use xlink:href=\"#m8f23bd9949\" x=\"398.737568\" y=\"186.14175\" style=\"stroke: #000000; stroke-width: 0.6\"/>\n      </g>\n     </g>\n    </g>\n    <g id=\"ytick_37\">\n     <g id=\"line2d_63\">\n      <g>\n       <use xlink:href=\"#m8f23bd9949\" x=\"398.737568\" y=\"179.66175\" style=\"stroke: #000000; stroke-width: 0.6\"/>\n      </g>\n     </g>\n    </g>\n    <g id=\"ytick_38\">\n     <g id=\"line2d_64\">\n      <g>\n       <use xlink:href=\"#m8f23bd9949\" x=\"398.737568\" y=\"173.18175\" style=\"stroke: #000000; stroke-width: 0.6\"/>\n      </g>\n     </g>\n    </g>\n    <g id=\"ytick_39\">\n     <g id=\"line2d_65\">\n      <g>\n       <use xlink:href=\"#m8f23bd9949\" x=\"398.737568\" y=\"166.70175\" style=\"stroke: #000000; stroke-width: 0.6\"/>\n      </g>\n     </g>\n    </g>\n    <g id=\"ytick_40\">\n     <g id=\"line2d_66\">\n      <g>\n       <use xlink:href=\"#m8f23bd9949\" x=\"398.737568\" y=\"153.74175\" style=\"stroke: #000000; stroke-width: 0.6\"/>\n      </g>\n     </g>\n    </g>\n    <g id=\"ytick_41\">\n     <g id=\"line2d_67\">\n      <g>\n       <use xlink:href=\"#m8f23bd9949\" x=\"398.737568\" y=\"147.26175\" style=\"stroke: #000000; stroke-width: 0.6\"/>\n      </g>\n     </g>\n    </g>\n    <g id=\"ytick_42\">\n     <g id=\"line2d_68\">\n      <g>\n       <use xlink:href=\"#m8f23bd9949\" x=\"398.737568\" y=\"140.78175\" style=\"stroke: #000000; stroke-width: 0.6\"/>\n      </g>\n     </g>\n    </g>\n    <g id=\"ytick_43\">\n     <g id=\"line2d_69\">\n      <g>\n       <use xlink:href=\"#m8f23bd9949\" x=\"398.737568\" y=\"134.30175\" style=\"stroke: #000000; stroke-width: 0.6\"/>\n      </g>\n     </g>\n    </g>\n    <g id=\"ytick_44\">\n     <g id=\"line2d_70\">\n      <g>\n       <use xlink:href=\"#m8f23bd9949\" x=\"398.737568\" y=\"121.34175\" style=\"stroke: #000000; stroke-width: 0.6\"/>\n      </g>\n     </g>\n    </g>\n    <g id=\"ytick_45\">\n     <g id=\"line2d_71\">\n      <g>\n       <use xlink:href=\"#m8f23bd9949\" x=\"398.737568\" y=\"114.86175\" style=\"stroke: #000000; stroke-width: 0.6\"/>\n      </g>\n     </g>\n    </g>\n    <g id=\"ytick_46\">\n     <g id=\"line2d_72\">\n      <g>\n       <use xlink:href=\"#m8f23bd9949\" x=\"398.737568\" y=\"108.38175\" style=\"stroke: #000000; stroke-width: 0.6\"/>\n      </g>\n     </g>\n    </g>\n    <g id=\"ytick_47\">\n     <g id=\"line2d_73\">\n      <g>\n       <use xlink:href=\"#m8f23bd9949\" x=\"398.737568\" y=\"101.90175\" style=\"stroke: #000000; stroke-width: 0.6\"/>\n      </g>\n     </g>\n    </g>\n    <g id=\"ytick_48\">\n     <g id=\"line2d_74\">\n      <g>\n       <use xlink:href=\"#m8f23bd9949\" x=\"398.737568\" y=\"88.94175\" style=\"stroke: #000000; stroke-width: 0.6\"/>\n      </g>\n     </g>\n    </g>\n    <g id=\"ytick_49\">\n     <g id=\"line2d_75\">\n      <g>\n       <use xlink:href=\"#m8f23bd9949\" x=\"398.737568\" y=\"82.46175\" style=\"stroke: #000000; stroke-width: 0.6\"/>\n      </g>\n     </g>\n    </g>\n    <g id=\"ytick_50\">\n     <g id=\"line2d_76\">\n      <g>\n       <use xlink:href=\"#m8f23bd9949\" x=\"398.737568\" y=\"75.98175\" style=\"stroke: #000000; stroke-width: 0.6\"/>\n      </g>\n     </g>\n    </g>\n    <g id=\"ytick_51\">\n     <g id=\"line2d_77\">\n      <g>\n       <use xlink:href=\"#m8f23bd9949\" x=\"398.737568\" y=\"69.50175\" style=\"stroke: #000000; stroke-width: 0.6\"/>\n      </g>\n     </g>\n    </g>\n    <g id=\"ytick_52\">\n     <g id=\"line2d_78\">\n      <g>\n       <use xlink:href=\"#m8f23bd9949\" x=\"398.737568\" y=\"56.54175\" style=\"stroke: #000000; stroke-width: 0.6\"/>\n      </g>\n     </g>\n    </g>\n    <g id=\"ytick_53\">\n     <g id=\"line2d_79\">\n      <g>\n       <use xlink:href=\"#m8f23bd9949\" x=\"398.737568\" y=\"50.06175\" style=\"stroke: #000000; stroke-width: 0.6\"/>\n      </g>\n     </g>\n    </g>\n    <g id=\"ytick_54\">\n     <g id=\"line2d_80\">\n      <g>\n       <use xlink:href=\"#m8f23bd9949\" x=\"398.737568\" y=\"43.58175\" style=\"stroke: #000000; stroke-width: 0.6\"/>\n      </g>\n     </g>\n    </g>\n    <g id=\"ytick_55\">\n     <g id=\"line2d_81\">\n      <g>\n       <use xlink:href=\"#m8f23bd9949\" x=\"398.737568\" y=\"37.10175\" style=\"stroke: #000000; stroke-width: 0.6\"/>\n      </g>\n     </g>\n    </g>\n    <g id=\"ytick_56\">\n     <g id=\"line2d_82\">\n      <g>\n       <use xlink:href=\"#m8f23bd9949\" x=\"398.737568\" y=\"24.14175\" style=\"stroke: #000000; stroke-width: 0.6\"/>\n      </g>\n     </g>\n    </g>\n    <g id=\"text_25\">\n     <!-- Probability -->\n     <g transform=\"translate(358.523193 140.096438)rotate(-90)scale(0.12 -0.12)\">\n      <use xlink:href=\"#DejaVuSans-50\"/>\n      <use xlink:href=\"#DejaVuSans-72\" x=\"58.552734\"/>\n      <use xlink:href=\"#DejaVuSans-6f\" x=\"97.416016\"/>\n      <use xlink:href=\"#DejaVuSans-62\" x=\"158.597656\"/>\n      <use xlink:href=\"#DejaVuSans-61\" x=\"222.074219\"/>\n      <use xlink:href=\"#DejaVuSans-62\" x=\"283.353516\"/>\n      <use xlink:href=\"#DejaVuSans-69\" x=\"346.830078\"/>\n      <use xlink:href=\"#DejaVuSans-6c\" x=\"374.613281\"/>\n      <use xlink:href=\"#DejaVuSans-69\" x=\"402.396484\"/>\n      <use xlink:href=\"#DejaVuSans-74\" x=\"430.179688\"/>\n      <use xlink:href=\"#DejaVuSans-79\" x=\"469.388672\"/>\n     </g>\n    </g>\n   </g>\n   <g id=\"line2d_83\">\n    <path d=\"M 399.821533 235.04925 \nL 400.454107 204.166986 \nL 401.185746 179.601973 \nL 401.889246 162.889759 \nL 402.733445 148.81926 \nL 403.774624 135.586665 \nL 404.815804 125.256805 \nL 405.772563 117.833038 \nL 407.123282 109.21456 \nL 408.530281 101.501694 \nL 409.85286 95.404848 \nL 411.203578 90.146989 \nL 412.835697 84.727644 \nL 414.664796 79.423861 \nL 416.437614 74.937898 \nL 418.097873 71.333138 \nL 420.123951 67.491073 \nL 422.03747 64.323998 \nL 424.147968 61.242359 \nL 426.511726 58.18988 \nL 428.903624 55.433261 \nL 431.379942 52.90147 \nL 434.05324 50.517608 \nL 436.951658 48.226985 \nL 439.709376 46.317114 \nL 442.579653 44.591828 \nL 446.040871 42.769788 \nL 449.755348 41.058058 \nL 453.835644 39.419443 \nL 457.887801 38.025046 \nL 462.390198 36.725857 \nL 466.948874 35.638365 \nL 472.32361 34.593127 \nL 478.317425 33.660478 \nL 485.436839 32.805077 \nL 493.344173 32.112938 \nL 501.814306 31.596306 \nL 511.381898 31.234362 \nL 524.410708 30.969712 \nL 546.106631 30.78285 \nL 586.600058 30.671536 \nL 680.165484 30.639208 \nL 680.165484 30.639208 \n\" clip-path=\"url(#ped252b3c0f)\" style=\"fill: none; stroke: #000000; stroke-width: 1.5; stroke-linecap: square\"/>\n   </g>\n   <g id=\"LineCollection_1\">\n    <path d=\"M 455.017524 235.04925 \nL 455.017524 -1 \n\" clip-path=\"url(#ped252b3c0f)\" style=\"fill: none; stroke: #0071bc; stroke-width: 1.5\"/>\n   </g>\n   <g id=\"LineCollection_2\">\n    <path d=\"M 398.737568 63.02175 \nL 680.137344 63.02175 \n\" clip-path=\"url(#ped252b3c0f)\" style=\"fill: none; stroke-dasharray: 5.55,2.4; stroke-dashoffset: 0; stroke: #f7931e; stroke-width: 1.5\"/>\n   </g>\n   <g id=\"patch_107\">\n    <path d=\"M 398.737568 192.62175 \nL 398.737568 24.14175 \n\" style=\"fill: none; stroke: #000000; stroke-width: 0.8; stroke-linejoin: miter; stroke-linecap: square\"/>\n   </g>\n   <g id=\"patch_108\">\n    <path d=\"M 680.137344 192.62175 \nL 680.137344 24.14175 \n\" style=\"fill: none; stroke: #000000; stroke-width: 0.8; stroke-linejoin: miter; stroke-linecap: square\"/>\n   </g>\n   <g id=\"patch_109\">\n    <path d=\"M 398.737568 192.62175 \nL 680.137344 192.62175 \n\" style=\"fill: none; stroke: #000000; stroke-width: 0.8; stroke-linejoin: miter; stroke-linecap: square\"/>\n   </g>\n   <g id=\"patch_110\">\n    <path d=\"M 398.737568 24.14175 \nL 680.137344 24.14175 \n\" style=\"fill: none; stroke: #000000; stroke-width: 0.8; stroke-linejoin: miter; stroke-linecap: square\"/>\n   </g>\n   <g id=\"text_26\">\n    <!-- Cumulative probability -->\n    <g transform=\"translate(457.642081 18.14175)scale(0.144 -0.144)\">\n     <defs>\n      <path id=\"DejaVuSans-6d\" d=\"M 3328 2828 \nQ 3544 3216 3844 3400 \nQ 4144 3584 4550 3584 \nQ 5097 3584 5394 3201 \nQ 5691 2819 5691 2113 \nL 5691 0 \nL 5113 0 \nL 5113 2094 \nQ 5113 2597 4934 2840 \nQ 4756 3084 4391 3084 \nQ 3944 3084 3684 2787 \nQ 3425 2491 3425 1978 \nL 3425 0 \nL 2847 0 \nL 2847 2094 \nQ 2847 2600 2669 2842 \nQ 2491 3084 2119 3084 \nQ 1678 3084 1418 2786 \nQ 1159 2488 1159 1978 \nL 1159 0 \nL 581 0 \nL 581 3500 \nL 1159 3500 \nL 1159 2956 \nQ 1356 3278 1631 3431 \nQ 1906 3584 2284 3584 \nQ 2666 3584 2933 3390 \nQ 3200 3197 3328 2828 \nz\n\" transform=\"scale(0.015625)\"/>\n      <path id=\"DejaVuSans-76\" d=\"M 191 3500 \nL 800 3500 \nL 1894 563 \nL 2988 3500 \nL 3597 3500 \nL 2284 0 \nL 1503 0 \nL 191 3500 \nz\n\" transform=\"scale(0.015625)\"/>\n     </defs>\n     <use xlink:href=\"#DejaVuSans-43\"/>\n     <use xlink:href=\"#DejaVuSans-75\" x=\"69.824219\"/>\n     <use xlink:href=\"#DejaVuSans-6d\" x=\"133.203125\"/>\n     <use xlink:href=\"#DejaVuSans-75\" x=\"230.615234\"/>\n     <use xlink:href=\"#DejaVuSans-6c\" x=\"293.994141\"/>\n     <use xlink:href=\"#DejaVuSans-61\" x=\"321.777344\"/>\n     <use xlink:href=\"#DejaVuSans-74\" x=\"383.056641\"/>\n     <use xlink:href=\"#DejaVuSans-69\" x=\"422.265625\"/>\n     <use xlink:href=\"#DejaVuSans-76\" x=\"450.048828\"/>\n     <use xlink:href=\"#DejaVuSans-65\" x=\"509.228516\"/>\n     <use xlink:href=\"#DejaVuSans-20\" x=\"570.751953\"/>\n     <use xlink:href=\"#DejaVuSans-70\" x=\"602.539062\"/>\n     <use xlink:href=\"#DejaVuSans-72\" x=\"666.015625\"/>\n     <use xlink:href=\"#DejaVuSans-6f\" x=\"704.878906\"/>\n     <use xlink:href=\"#DejaVuSans-62\" x=\"766.060547\"/>\n     <use xlink:href=\"#DejaVuSans-61\" x=\"829.537109\"/>\n     <use xlink:href=\"#DejaVuSans-62\" x=\"890.816406\"/>\n     <use xlink:href=\"#DejaVuSans-69\" x=\"954.292969\"/>\n     <use xlink:href=\"#DejaVuSans-6c\" x=\"982.076172\"/>\n     <use xlink:href=\"#DejaVuSans-69\" x=\"1009.859375\"/>\n     <use xlink:href=\"#DejaVuSans-74\" x=\"1037.642578\"/>\n     <use xlink:href=\"#DejaVuSans-79\" x=\"1076.851562\"/>\n    </g>\n   </g>\n   <g id=\"legend_1\">\n    <g id=\"patch_111\">\n     <path d=\"M 469.064844 186.62175 \nL 671.737344 186.62175 \nQ 674.137344 186.62175 674.137344 184.22175 \nL 674.137344 150.19425 \nQ 674.137344 147.79425 671.737344 147.79425 \nL 469.064844 147.79425 \nQ 466.664844 147.79425 466.664844 150.19425 \nL 466.664844 184.22175 \nQ 466.664844 186.62175 469.064844 186.62175 \nz\n\" style=\"fill: #ffffff; opacity: 0.8; stroke: #cccccc; stroke-linejoin: miter\"/>\n    </g>\n    <g id=\"line2d_84\">\n     <path d=\"M 471.464844 157.512375 \nL 495.464844 157.512375 \n\" style=\"fill: none; stroke: #0071bc; stroke-width: 1.5\"/>\n    </g>\n    <g id=\"text_27\">\n     <!-- top-k threshold (k=2000) -->\n     <g transform=\"translate(505.064844 161.712375)scale(0.12 -0.12)\">\n      <defs>\n       <path id=\"DejaVuSans-2d\" d=\"M 313 2009 \nL 1997 2009 \nL 1997 1497 \nL 313 1497 \nL 313 2009 \nz\n\" transform=\"scale(0.015625)\"/>\n       <path id=\"DejaVuSans-68\" d=\"M 3513 2113 \nL 3513 0 \nL 2938 0 \nL 2938 2094 \nQ 2938 2591 2744 2837 \nQ 2550 3084 2163 3084 \nQ 1697 3084 1428 2787 \nQ 1159 2491 1159 1978 \nL 1159 0 \nL 581 0 \nL 581 4863 \nL 1159 4863 \nL 1159 2956 \nQ 1366 3272 1645 3428 \nQ 1925 3584 2291 3584 \nQ 2894 3584 3203 3211 \nQ 3513 2838 3513 2113 \nz\n\" transform=\"scale(0.015625)\"/>\n       <path id=\"DejaVuSans-3d\" d=\"M 678 2906 \nL 4684 2906 \nL 4684 2381 \nL 678 2381 \nL 678 2906 \nz\nM 678 1631 \nL 4684 1631 \nL 4684 1100 \nL 678 1100 \nL 678 1631 \nz\n\" transform=\"scale(0.015625)\"/>\n      </defs>\n      <use xlink:href=\"#DejaVuSans-74\"/>\n      <use xlink:href=\"#DejaVuSans-6f\" x=\"39.208984\"/>\n      <use xlink:href=\"#DejaVuSans-70\" x=\"100.390625\"/>\n      <use xlink:href=\"#DejaVuSans-2d\" x=\"163.867188\"/>\n      <use xlink:href=\"#DejaVuSans-6b\" x=\"199.951172\"/>\n      <use xlink:href=\"#DejaVuSans-20\" x=\"257.861328\"/>\n      <use xlink:href=\"#DejaVuSans-74\" x=\"289.648438\"/>\n      <use xlink:href=\"#DejaVuSans-68\" x=\"328.857422\"/>\n      <use xlink:href=\"#DejaVuSans-72\" x=\"392.236328\"/>\n      <use xlink:href=\"#DejaVuSans-65\" x=\"431.099609\"/>\n      <use xlink:href=\"#DejaVuSans-73\" x=\"492.623047\"/>\n      <use xlink:href=\"#DejaVuSans-68\" x=\"544.722656\"/>\n      <use xlink:href=\"#DejaVuSans-6f\" x=\"608.101562\"/>\n      <use xlink:href=\"#DejaVuSans-6c\" x=\"669.283203\"/>\n      <use xlink:href=\"#DejaVuSans-64\" x=\"697.066406\"/>\n      <use xlink:href=\"#DejaVuSans-20\" x=\"760.542969\"/>\n      <use xlink:href=\"#DejaVuSans-28\" x=\"792.330078\"/>\n      <use xlink:href=\"#DejaVuSans-6b\" x=\"831.34375\"/>\n      <use xlink:href=\"#DejaVuSans-3d\" x=\"889.253906\"/>\n      <use xlink:href=\"#DejaVuSans-32\" x=\"973.042969\"/>\n      <use xlink:href=\"#DejaVuSans-30\" x=\"1036.666016\"/>\n      <use xlink:href=\"#DejaVuSans-30\" x=\"1100.289062\"/>\n      <use xlink:href=\"#DejaVuSans-30\" x=\"1163.912109\"/>\n      <use xlink:href=\"#DejaVuSans-29\" x=\"1227.535156\"/>\n     </g>\n    </g>\n    <g id=\"line2d_85\">\n     <path d=\"M 471.464844 175.126125 \nL 495.464844 175.126125 \n\" style=\"fill: none; stroke-dasharray: 5.55,2.4; stroke-dashoffset: 0; stroke: #f7931e; stroke-width: 1.5\"/>\n    </g>\n    <g id=\"text_28\">\n     <!-- nucleus threshold (p=0.95) -->\n     <g transform=\"translate(505.064844 179.326125)scale(0.12 -0.12)\">\n      <use xlink:href=\"#DejaVuSans-6e\"/>\n      <use xlink:href=\"#DejaVuSans-75\" x=\"63.378906\"/>\n      <use xlink:href=\"#DejaVuSans-63\" x=\"126.757812\"/>\n      <use xlink:href=\"#DejaVuSans-6c\" x=\"181.738281\"/>\n      <use xlink:href=\"#DejaVuSans-65\" x=\"209.521484\"/>\n      <use xlink:href=\"#DejaVuSans-75\" x=\"271.044922\"/>\n      <use xlink:href=\"#DejaVuSans-73\" x=\"334.423828\"/>\n      <use xlink:href=\"#DejaVuSans-20\" x=\"386.523438\"/>\n      <use xlink:href=\"#DejaVuSans-74\" x=\"418.310547\"/>\n      <use xlink:href=\"#DejaVuSans-68\" x=\"457.519531\"/>\n      <use xlink:href=\"#DejaVuSans-72\" x=\"520.898438\"/>\n      <use xlink:href=\"#DejaVuSans-65\" x=\"559.761719\"/>\n      <use xlink:href=\"#DejaVuSans-73\" x=\"621.285156\"/>\n      <use xlink:href=\"#DejaVuSans-68\" x=\"673.384766\"/>\n      <use xlink:href=\"#DejaVuSans-6f\" x=\"736.763672\"/>\n      <use xlink:href=\"#DejaVuSans-6c\" x=\"797.945312\"/>\n      <use xlink:href=\"#DejaVuSans-64\" x=\"825.728516\"/>\n      <use xlink:href=\"#DejaVuSans-20\" x=\"889.205078\"/>\n      <use xlink:href=\"#DejaVuSans-28\" x=\"920.992188\"/>\n      <use xlink:href=\"#DejaVuSans-70\" x=\"960.005859\"/>\n      <use xlink:href=\"#DejaVuSans-3d\" x=\"1023.482422\"/>\n      <use xlink:href=\"#DejaVuSans-30\" x=\"1107.271484\"/>\n      <use xlink:href=\"#DejaVuSans-2e\" x=\"1170.894531\"/>\n      <use xlink:href=\"#DejaVuSans-39\" x=\"1202.681641\"/>\n      <use xlink:href=\"#DejaVuSans-35\" x=\"1266.304688\"/>\n      <use xlink:href=\"#DejaVuSans-29\" x=\"1329.927734\"/>\n     </g>\n    </g>\n   </g>\n  </g>\n </g>\n <defs>\n  <clipPath id=\"p307464b274\">\n   <rect x=\"50.93375\" y=\"24.14175\" width=\"281.399775\" height=\"168.48\"/>\n  </clipPath>\n  <clipPath id=\"ped252b3c0f\">\n   <rect x=\"398.737568\" y=\"24.14175\" width=\"281.399775\" height=\"168.48\"/>\n  </clipPath>\n </defs>\n</svg>\n",
            "application/pdf": "[encoded data removed]"
          },
          "metadata": {
            "needs_background": "light"
          }
        }
      ]
    },
    {
      "cell_type": "code",
      "source": [
        "output_topk = model.generate(input_ids, max_length=max_length, do_sample=True, \n",
        "                             top_k=50)\n",
        "print(tokenizer.decode(output_topk[0]))"
      ],
      "metadata": {
        "colab": {
          "base_uri": "https://localhost:8080/"
        },
        "id": "WYZAxCmxHCQC",
        "outputId": "4eddcac4-ecb7-40fb-c06b-3c2357b64d89"
      },
      "execution_count": 48,
      "outputs": [
        {
          "output_type": "stream",
          "name": "stdout",
          "text": [
            "In a shocking finding, scientist discovered a herd of unicorns living in a\n",
            "remote, previously unexplored valley, in the Andes Mountains. Even more\n",
            "surprising to the researchers was the fact that the unicorns spoke perfect\n",
            "English.\n",
            "\n",
            "\n",
            "Scientists from the University's Department of Ethnological Research said that\n",
            "the unicorns lived in a region covered with a dense, forest-covered area. They\n",
            "learned that the unicorns use both hands to retrieve and use food items.\n",
            "Although they did not interact with the humans, the animal was able to sense the\n",
            "person's voice.\n",
            "\n",
            "\n",
            "\"It is not uncommon to see birds on such a vast range\n"
          ]
        }
      ]
    },
    {
      "cell_type": "code",
      "source": [
        "output_topp = model.generate(input_ids, max_length=max_length, do_sample=True, \n",
        "                             top_p=0.90)\n",
        "print(tokenizer.decode(output_topp[0]))"
      ],
      "metadata": {
        "colab": {
          "base_uri": "https://localhost:8080/"
        },
        "id": "yVlh3Kb9HGVy",
        "outputId": "72a2ed11-d2e6-4f5e-95d1-07e0cd2dd8cf"
      },
      "execution_count": 49,
      "outputs": [
        {
          "output_type": "stream",
          "name": "stdout",
          "text": [
            "In a shocking finding, scientist discovered a herd of unicorns living in a\n",
            "remote, previously unexplored valley, in the Andes Mountains. Even more\n",
            "surprising to the researchers was the fact that the unicorns spoke perfect\n",
            "English.\n",
            "\n",
            "\n",
            "Advertisement\n",
            "\n",
            "A new study from Oxford University is shedding light on the story of a single\n",
            "unicorn that traveled to Australia and brought back the perfect English word to\n",
            "the Australian language. In fact, the unicorn was probably already extinct in\n",
            "the wild.\n",
            "\n",
            "\"The unicorn was not introduced by a single person in Australia,\" says Peter\n",
            "Zoller, a Ph.D. candidate in Zoology and Zoology at\n"
          ]
        }
      ]
    },
    {
      "cell_type": "code",
      "source": [],
      "metadata": {
        "id": "OmGOe268HID6"
      },
      "execution_count": null,
      "outputs": []
    }
  ]
}